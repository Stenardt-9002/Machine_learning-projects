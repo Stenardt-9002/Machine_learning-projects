{
  "nbformat": 4,
  "nbformat_minor": 0,
  "metadata": {
    "colab": {
      "name": "textgensample2.ipynb",
      "provenance": []
    },
    "kernelspec": {
      "name": "python3",
      "display_name": "Python 3"
    },
    "accelerator": "GPU"
  },
  "cells": [
    {
      "cell_type": "code",
      "metadata": {
        "id": "KrmBW8LejwU5",
        "colab_type": "code",
        "colab": {
          "base_uri": "https://localhost:8080/",
          "height": 139
        },
        "outputId": "25d0d3c0-6265-4a2c-d8ba-56a4f159fd42"
      },
      "source": [
        "%tensorflow_version 2.x  # this line is not required unless you are in a notebook\n",
        "from keras.preprocessing import sequence\n",
        "import keras\n",
        "import tensorflow as tf\n",
        "import os\n",
        "import numpy as np"
      ],
      "execution_count": 6,
      "outputs": [
        {
          "output_type": "stream",
          "text": [
            "`%tensorflow_version` only switches the major version: 1.x or 2.x.\n",
            "You set: `2.x  # this line is not required unless you are in a notebook`. This will be interpreted as: `2.x`.\n",
            "\n",
            "\n",
            "TensorFlow 2.x selected.\n"
          ],
          "name": "stdout"
        },
        {
          "output_type": "stream",
          "text": [
            "Using TensorFlow backend.\n"
          ],
          "name": "stderr"
        }
      ]
    },
    {
      "cell_type": "code",
      "metadata": {
        "id": "3jrQUS__jy06",
        "colab_type": "code",
        "colab": {
          "resources": {
            "http://localhost:8080/nbextensions/google.colab/files.js": {
              "data": "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",
              "ok": true,
              "headers": [
                [
                  "content-type",
                  "application/javascript"
                ]
              ],
              "status": 200,
              "status_text": ""
            }
          },
          "base_uri": "https://localhost:8080/",
          "height": 72
        },
        "outputId": "2337599a-b1d1-48d6-c60d-abd7ef7366d4"
      },
      "source": [
        "from google.colab import files\n",
        "path_to_file = list(files.upload().keys())[0]"
      ],
      "execution_count": 3,
      "outputs": [
        {
          "output_type": "display_data",
          "data": {
            "text/html": [
              "\n",
              "     <input type=\"file\" id=\"files-58e3d67e-f861-4c12-8423-21dbd88bb782\" name=\"files[]\" multiple disabled\n",
              "        style=\"border:none\" />\n",
              "     <output id=\"result-58e3d67e-f861-4c12-8423-21dbd88bb782\">\n",
              "      Upload widget is only available when the cell has been executed in the\n",
              "      current browser session. Please rerun this cell to enable.\n",
              "      </output>\n",
              "      <script src=\"/nbextensions/google.colab/files.js\"></script> "
            ],
            "text/plain": [
              "<IPython.core.display.HTML object>"
            ]
          },
          "metadata": {
            "tags": []
          }
        },
        {
          "output_type": "stream",
          "text": [
            "Saving important.txt to important (1).txt\n"
          ],
          "name": "stdout"
        }
      ]
    },
    {
      "cell_type": "code",
      "metadata": {
        "id": "RideilwRj6QU",
        "colab_type": "code",
        "colab": {
          "base_uri": "https://localhost:8080/",
          "height": 34
        },
        "outputId": "cf33628c-c009-4c4b-8685-c402d474a8de"
      },
      "source": [
        "# Read, then decode for py2 compat.\n",
        "text = open(path_to_file, 'rb').read().decode(encoding='utf-8')\n",
        "# length of text is the number of characters in it\n",
        "print ('Length of text: {} characters'.format(len(text)))"
      ],
      "execution_count": 4,
      "outputs": [
        {
          "output_type": "stream",
          "text": [
            "Length of text: 2721861 characters\n"
          ],
          "name": "stdout"
        }
      ]
    },
    {
      "cell_type": "code",
      "metadata": {
        "id": "JXTNGHBqj6TD",
        "colab_type": "code",
        "colab": {}
      },
      "source": [
        "vocab = sorted(set(text))\n",
        "# Creating a mapping from unique characters to indices\n",
        "char2idx = {u:i for i, u in enumerate(vocab)}\n",
        "idx2char = np.array(vocab)\n",
        "\n",
        "def text_to_int(text):\n",
        "  return np.array([char2idx[c] for c in text])\n",
        "\n",
        "text_as_int = text_to_int(text)"
      ],
      "execution_count": 7,
      "outputs": []
    },
    {
      "cell_type": "code",
      "metadata": {
        "id": "Vqh48394j6Y0",
        "colab_type": "code",
        "colab": {}
      },
      "source": [
        "seq_length = 150  # length of sequence for a training example\n",
        "examples_per_epoch = len(text)//(seq_length+1)\n",
        "\n",
        "# Create training examples / targets\n",
        "char_dataset = tf.data.Dataset.from_tensor_slices(text_as_int)"
      ],
      "execution_count": 8,
      "outputs": []
    },
    {
      "cell_type": "code",
      "metadata": {
        "id": "yoJAEDIMj6bU",
        "colab_type": "code",
        "colab": {}
      },
      "source": [
        "sequences = char_dataset.batch(seq_length+1, drop_remainder=True)"
      ],
      "execution_count": 9,
      "outputs": []
    },
    {
      "cell_type": "code",
      "metadata": {
        "id": "FSZuJrnyj6g2",
        "colab_type": "code",
        "colab": {}
      },
      "source": [
        "def split_input_target(chunk):  # for the example: hello\n",
        "    input_text = chunk[:-1]  # hell\n",
        "    target_text = chunk[1:]  # ello\n",
        "    return input_text, target_text  # hell, ello\n",
        "\n",
        "dataset = sequences.map(split_input_target)  # we use map to apply the above function to "
      ],
      "execution_count": 10,
      "outputs": []
    },
    {
      "cell_type": "code",
      "metadata": {
        "id": "CAKN3EVsj6jj",
        "colab_type": "code",
        "colab": {}
      },
      "source": [
        "BATCH_SIZE = 64\n",
        "VOCAB_SIZE = len(vocab)  # vocab is number of unique characters\n",
        "EMBEDDING_DIM = 256\n",
        "RNN_UNITS = 1024\n",
        "\n",
        "# Buffer size to shuffle the dataset\n",
        "# (TF data is designed to work with possibly infinite sequences,\n",
        "# so it doesn't attempt to shuffle the entire sequence in memory. Instead,\n",
        "# it maintains a buffer in which it shuffles elements).\n",
        "BUFFER_SIZE = 10000\n",
        "\n",
        "data = dataset.shuffle(BUFFER_SIZE).batch(BATCH_SIZE, drop_remainder=True)"
      ],
      "execution_count": 11,
      "outputs": []
    },
    {
      "cell_type": "code",
      "metadata": {
        "id": "8lnEAkr1j6mL",
        "colab_type": "code",
        "colab": {
          "base_uri": "https://localhost:8080/",
          "height": 255
        },
        "outputId": "6c3566b5-b68a-4915-ad3e-fd9e9c2515b9"
      },
      "source": [
        "def build_model(vocab_size, embedding_dim, rnn_units, batch_size):\n",
        "  model = tf.keras.Sequential([\n",
        "    tf.keras.layers.Embedding(vocab_size, embedding_dim,\n",
        "                              batch_input_shape=[batch_size, None]),\n",
        "    tf.keras.layers.LSTM(rnn_units,\n",
        "                        return_sequences=True,\n",
        "                        stateful=True,\n",
        "                        recurrent_initializer='glorot_uniform'),\n",
        "    tf.keras.layers.Dense(vocab_size)\n",
        "  ])\n",
        "  return model\n",
        "\n",
        "model = build_model(VOCAB_SIZE,EMBEDDING_DIM, RNN_UNITS, BATCH_SIZE)\n",
        "model.summary()"
      ],
      "execution_count": 12,
      "outputs": [
        {
          "output_type": "stream",
          "text": [
            "Model: \"sequential\"\n",
            "_________________________________________________________________\n",
            "Layer (type)                 Output Shape              Param #   \n",
            "=================================================================\n",
            "embedding (Embedding)        (64, None, 256)           22528     \n",
            "_________________________________________________________________\n",
            "lstm (LSTM)                  (64, None, 1024)          5246976   \n",
            "_________________________________________________________________\n",
            "dense (Dense)                (64, None, 88)            90200     \n",
            "=================================================================\n",
            "Total params: 5,359,704\n",
            "Trainable params: 5,359,704\n",
            "Non-trainable params: 0\n",
            "_________________________________________________________________\n"
          ],
          "name": "stdout"
        }
      ]
    },
    {
      "cell_type": "code",
      "metadata": {
        "id": "UT-m04QEj6ob",
        "colab_type": "code",
        "colab": {
          "base_uri": "https://localhost:8080/",
          "height": 34
        },
        "outputId": "b5f89287-0331-4685-9763-2d41ca01427a"
      },
      "source": [
        "for input_example_batch, target_example_batch in data.take(1):\n",
        "  example_batch_predictions = model(input_example_batch)  # ask our model for a prediction on our first batch of training data (64 entries)\n",
        "  print(example_batch_predictions.shape, \"# (batch_size, sequence_length, vocab_size)\")  #"
      ],
      "execution_count": 13,
      "outputs": [
        {
          "output_type": "stream",
          "text": [
            "(64, 50, 88) # (batch_size, sequence_length, vocab_size)\n"
          ],
          "name": "stdout"
        }
      ]
    },
    {
      "cell_type": "code",
      "metadata": {
        "id": "w94jVwikj6q1",
        "colab_type": "code",
        "colab": {}
      },
      "source": [
        "def losts(labels, logits):\n",
        "  return tf.keras.losses.sparse_categorical_crossentropy(labels, logits, from_logits=True)"
      ],
      "execution_count": 14,
      "outputs": []
    },
    {
      "cell_type": "code",
      "metadata": {
        "id": "4rmBPmLcj74c",
        "colab_type": "code",
        "colab": {}
      },
      "source": [
        "model.compile(optimizer='adam', loss=losts)"
      ],
      "execution_count": 15,
      "outputs": []
    },
    {
      "cell_type": "code",
      "metadata": {
        "id": "zXrSzuGcj77N",
        "colab_type": "code",
        "colab": {}
      },
      "source": [
        "# Directory where the checkpoints will be saved\n",
        "checkpoint_dir = './training_checkpoints'\n",
        "# Name of the checkpoint files\n",
        "checkpoint_prefix = os.path.join(checkpoint_dir, \"ckpt\")\n",
        "\n",
        "checkpoint_callback=tf.keras.callbacks.ModelCheckpoint(\n",
        "    filepath=checkpoint_prefix,\n",
        "    save_weights_only=True)"
      ],
      "execution_count": 16,
      "outputs": []
    },
    {
      "cell_type": "code",
      "metadata": {
        "id": "iaeCD0hNj8AU",
        "colab_type": "code",
        "colab": {
          "base_uri": "https://localhost:8080/",
          "height": 1000
        },
        "outputId": "f6aa60b2-4dcc-49d9-d17d-99551fb6664f"
      },
      "source": [
        "import time\n",
        "x = time.time()\n",
        "history = model.fit(data, epochs=1981, callbacks=[checkpoint_callback])\n",
        "answer = time.time()-x"
      ],
      "execution_count": null,
      "outputs": [
        {
          "output_type": "stream",
          "text": [
            "Epoch 1/1981\n",
            "833/833 [==============================] - 75s 89ms/step - loss: 2.0896\n",
            "Epoch 2/1981\n",
            "833/833 [==============================] - 74s 89ms/step - loss: 1.5591\n",
            "Epoch 3/1981\n",
            "833/833 [==============================] - 74s 89ms/step - loss: 1.4298\n",
            "Epoch 4/1981\n",
            "833/833 [==============================] - 74s 89ms/step - loss: 1.3672\n",
            "Epoch 5/1981\n",
            "833/833 [==============================] - 74s 89ms/step - loss: 1.3234\n",
            "Epoch 6/1981\n",
            "833/833 [==============================] - 74s 88ms/step - loss: 1.2881\n",
            "Epoch 7/1981\n",
            "833/833 [==============================] - 74s 88ms/step - loss: 1.2564\n",
            "Epoch 8/1981\n",
            "833/833 [==============================] - 74s 88ms/step - loss: 1.2262\n",
            "Epoch 9/1981\n",
            "833/833 [==============================] - 74s 88ms/step - loss: 1.1973\n",
            "Epoch 10/1981\n",
            "833/833 [==============================] - 73s 88ms/step - loss: 1.1674\n",
            "Epoch 11/1981\n",
            "833/833 [==============================] - 74s 89ms/step - loss: 1.1393\n",
            "Epoch 12/1981\n",
            "833/833 [==============================] - 74s 88ms/step - loss: 1.1111\n",
            "Epoch 13/1981\n",
            "833/833 [==============================] - 74s 88ms/step - loss: 1.0839\n",
            "Epoch 14/1981\n",
            "833/833 [==============================] - 74s 88ms/step - loss: 1.0575\n",
            "Epoch 15/1981\n",
            "833/833 [==============================] - 73s 88ms/step - loss: 1.0327\n",
            "Epoch 16/1981\n",
            "833/833 [==============================] - 73s 88ms/step - loss: 1.0090\n",
            "Epoch 17/1981\n",
            "833/833 [==============================] - 74s 89ms/step - loss: 0.9860\n",
            "Epoch 18/1981\n",
            "833/833 [==============================] - 74s 89ms/step - loss: 0.9664\n",
            "Epoch 19/1981\n",
            "833/833 [==============================] - 74s 89ms/step - loss: 0.9476\n",
            "Epoch 20/1981\n",
            "833/833 [==============================] - 74s 88ms/step - loss: 0.9295\n",
            "Epoch 21/1981\n",
            "833/833 [==============================] - 74s 88ms/step - loss: 0.9136\n",
            "Epoch 22/1981\n",
            "833/833 [==============================] - 74s 89ms/step - loss: 0.8994\n",
            "Epoch 23/1981\n",
            "833/833 [==============================] - 74s 88ms/step - loss: 0.8848\n",
            "Epoch 24/1981\n",
            "833/833 [==============================] - 74s 88ms/step - loss: 0.8730\n",
            "Epoch 25/1981\n",
            "833/833 [==============================] - 73s 88ms/step - loss: 0.8623\n",
            "Epoch 26/1981\n",
            "833/833 [==============================] - 73s 88ms/step - loss: 0.8515\n",
            "Epoch 27/1981\n",
            "833/833 [==============================] - 74s 89ms/step - loss: 0.8437\n",
            "Epoch 28/1981\n",
            "833/833 [==============================] - 74s 89ms/step - loss: 0.8345\n",
            "Epoch 29/1981\n",
            "833/833 [==============================] - 74s 89ms/step - loss: 0.8264\n",
            "Epoch 30/1981\n",
            "833/833 [==============================] - 74s 88ms/step - loss: 0.8196\n",
            "Epoch 31/1981\n",
            "833/833 [==============================] - 74s 88ms/step - loss: 0.8137\n",
            "Epoch 32/1981\n",
            "833/833 [==============================] - 74s 89ms/step - loss: 0.8071\n",
            "Epoch 33/1981\n",
            "833/833 [==============================] - 74s 88ms/step - loss: 0.8022\n",
            "Epoch 34/1981\n",
            "833/833 [==============================] - 74s 89ms/step - loss: 0.7973\n",
            "Epoch 35/1981\n",
            "833/833 [==============================] - 74s 89ms/step - loss: 0.7917\n",
            "Epoch 36/1981\n",
            "833/833 [==============================] - 74s 89ms/step - loss: 0.7886\n",
            "Epoch 37/1981\n",
            "833/833 [==============================] - 74s 89ms/step - loss: 0.7829\n",
            "Epoch 38/1981\n",
            "833/833 [==============================] - 74s 89ms/step - loss: 0.7806\n",
            "Epoch 39/1981\n",
            "833/833 [==============================] - 74s 88ms/step - loss: 0.7774\n",
            "Epoch 40/1981\n",
            "833/833 [==============================] - 74s 88ms/step - loss: 0.7741\n",
            "Epoch 41/1981\n",
            "833/833 [==============================] - 74s 88ms/step - loss: 0.7712\n",
            "Epoch 42/1981\n",
            "833/833 [==============================] - 74s 89ms/step - loss: 0.7686\n",
            "Epoch 43/1981\n",
            "833/833 [==============================] - 74s 88ms/step - loss: 0.7664\n",
            "Epoch 44/1981\n",
            "833/833 [==============================] - 74s 88ms/step - loss: 0.7632\n",
            "Epoch 45/1981\n",
            "833/833 [==============================] - 74s 88ms/step - loss: 0.7617\n",
            "Epoch 46/1981\n",
            "833/833 [==============================] - 74s 88ms/step - loss: 0.7586\n",
            "Epoch 47/1981\n",
            "833/833 [==============================] - 73s 88ms/step - loss: 0.7571\n",
            "Epoch 48/1981\n",
            "833/833 [==============================] - 73s 88ms/step - loss: 0.7555\n",
            "Epoch 49/1981\n",
            "833/833 [==============================] - 73s 88ms/step - loss: 0.7537\n",
            "Epoch 50/1981\n",
            "833/833 [==============================] - 74s 88ms/step - loss: 0.7522\n",
            "Epoch 51/1981\n",
            "833/833 [==============================] - 73s 88ms/step - loss: 0.7518\n",
            "Epoch 52/1981\n",
            "833/833 [==============================] - 73s 88ms/step - loss: 0.7495\n",
            "Epoch 53/1981\n",
            "833/833 [==============================] - 73s 88ms/step - loss: 0.7499\n",
            "Epoch 54/1981\n",
            "833/833 [==============================] - 73s 88ms/step - loss: 0.7470\n",
            "Epoch 55/1981\n",
            "833/833 [==============================] - 73s 88ms/step - loss: 0.7449\n",
            "Epoch 56/1981\n",
            "833/833 [==============================] - 73s 88ms/step - loss: 0.7451\n",
            "Epoch 57/1981\n",
            "833/833 [==============================] - 73s 88ms/step - loss: 0.7438\n",
            "Epoch 58/1981\n",
            "833/833 [==============================] - 73s 88ms/step - loss: 0.7438\n",
            "Epoch 59/1981\n",
            "833/833 [==============================] - 73s 88ms/step - loss: 0.7426\n",
            "Epoch 60/1981\n",
            "833/833 [==============================] - 73s 88ms/step - loss: 0.7417\n",
            "Epoch 61/1981\n",
            "833/833 [==============================] - 73s 88ms/step - loss: 0.7410\n",
            "Epoch 62/1981\n",
            "833/833 [==============================] - 73s 88ms/step - loss: 0.7400\n",
            "Epoch 63/1981\n",
            "833/833 [==============================] - 74s 88ms/step - loss: 0.7396\n",
            "Epoch 64/1981\n",
            "833/833 [==============================] - 74s 88ms/step - loss: 0.7381\n",
            "Epoch 65/1981\n",
            "833/833 [==============================] - 74s 89ms/step - loss: 0.7383\n",
            "Epoch 66/1981\n",
            "833/833 [==============================] - 74s 88ms/step - loss: 0.7371\n",
            "Epoch 67/1981\n",
            "833/833 [==============================] - 74s 89ms/step - loss: 0.7372\n",
            "Epoch 68/1981\n",
            "833/833 [==============================] - 74s 89ms/step - loss: 0.7379\n",
            "Epoch 69/1981\n",
            "833/833 [==============================] - 75s 90ms/step - loss: 0.7371\n",
            "Epoch 70/1981\n",
            "833/833 [==============================] - 74s 89ms/step - loss: 0.7367\n",
            "Epoch 71/1981\n",
            "833/833 [==============================] - 74s 89ms/step - loss: 0.7365\n",
            "Epoch 72/1981\n",
            "833/833 [==============================] - 74s 88ms/step - loss: 0.7361\n",
            "Epoch 73/1981\n",
            "833/833 [==============================] - 73s 88ms/step - loss: 0.7358\n",
            "Epoch 74/1981\n",
            "833/833 [==============================] - 73s 88ms/step - loss: 0.7362\n",
            "Epoch 75/1981\n",
            "833/833 [==============================] - 74s 88ms/step - loss: 0.7356\n",
            "Epoch 76/1981\n",
            "833/833 [==============================] - 73s 88ms/step - loss: 0.7349\n",
            "Epoch 77/1981\n",
            "833/833 [==============================] - 74s 88ms/step - loss: 0.7357\n",
            "Epoch 78/1981\n",
            "833/833 [==============================] - 74s 89ms/step - loss: 0.7351\n",
            "Epoch 79/1981\n",
            "833/833 [==============================] - 74s 89ms/step - loss: 0.7348\n",
            "Epoch 80/1981\n",
            "833/833 [==============================] - 74s 89ms/step - loss: 0.7353\n",
            "Epoch 81/1981\n",
            "833/833 [==============================] - 74s 89ms/step - loss: 0.7360\n",
            "Epoch 82/1981\n",
            "833/833 [==============================] - 74s 89ms/step - loss: 0.7353\n",
            "Epoch 83/1981\n",
            "833/833 [==============================] - 74s 89ms/step - loss: 0.7358\n",
            "Epoch 84/1981\n",
            "833/833 [==============================] - 76s 91ms/step - loss: 0.7354\n",
            "Epoch 85/1981\n",
            "833/833 [==============================] - 75s 91ms/step - loss: 0.7368\n",
            "Epoch 86/1981\n",
            "833/833 [==============================] - 75s 90ms/step - loss: 0.7357\n",
            "Epoch 87/1981\n",
            "833/833 [==============================] - 75s 90ms/step - loss: 0.7367\n",
            "Epoch 88/1981\n",
            "833/833 [==============================] - 75s 91ms/step - loss: 0.7351\n",
            "Epoch 89/1981\n",
            "833/833 [==============================] - 76s 91ms/step - loss: 0.7363\n",
            "Epoch 90/1981\n",
            "833/833 [==============================] - 75s 91ms/step - loss: 0.7357\n",
            "Epoch 91/1981\n",
            "833/833 [==============================] - 75s 90ms/step - loss: 0.7374\n",
            "Epoch 92/1981\n",
            "833/833 [==============================] - 75s 90ms/step - loss: 0.7389\n",
            "Epoch 93/1981\n",
            "833/833 [==============================] - 75s 91ms/step - loss: 0.7380\n",
            "Epoch 94/1981\n",
            "833/833 [==============================] - 76s 91ms/step - loss: 0.7384\n",
            "Epoch 95/1981\n",
            "833/833 [==============================] - 76s 91ms/step - loss: 0.7396\n",
            "Epoch 96/1981\n",
            "833/833 [==============================] - 75s 91ms/step - loss: 0.7384\n",
            "Epoch 97/1981\n",
            "833/833 [==============================] - 75s 91ms/step - loss: 0.7395\n",
            "Epoch 98/1981\n",
            "833/833 [==============================] - 75s 90ms/step - loss: 0.7402\n",
            "Epoch 99/1981\n",
            "833/833 [==============================] - 76s 91ms/step - loss: 0.7431\n",
            "Epoch 100/1981\n",
            "833/833 [==============================] - 75s 91ms/step - loss: 0.7427\n",
            "Epoch 101/1981\n",
            "833/833 [==============================] - 76s 91ms/step - loss: 0.7418\n",
            "Epoch 102/1981\n",
            "833/833 [==============================] - 76s 91ms/step - loss: 0.7429\n",
            "Epoch 103/1981\n",
            "833/833 [==============================] - 75s 90ms/step - loss: 0.7437\n",
            "Epoch 104/1981\n",
            "833/833 [==============================] - 76s 91ms/step - loss: 0.7456\n",
            "Epoch 105/1981\n",
            "833/833 [==============================] - 75s 90ms/step - loss: 0.7448\n",
            "Epoch 106/1981\n",
            "833/833 [==============================] - 75s 91ms/step - loss: 0.7459\n",
            "Epoch 107/1981\n",
            "833/833 [==============================] - 75s 91ms/step - loss: 0.7466\n",
            "Epoch 108/1981\n",
            "833/833 [==============================] - 76s 91ms/step - loss: 0.7460\n",
            "Epoch 109/1981\n",
            "833/833 [==============================] - 76s 91ms/step - loss: 0.7464\n",
            "Epoch 110/1981\n",
            "833/833 [==============================] - 76s 92ms/step - loss: 0.7501\n",
            "Epoch 111/1981\n",
            "833/833 [==============================] - 76s 91ms/step - loss: 0.7500\n",
            "Epoch 112/1981\n",
            "833/833 [==============================] - 76s 91ms/step - loss: 0.7499\n",
            "Epoch 113/1981\n",
            "833/833 [==============================] - 76s 91ms/step - loss: 0.7510\n",
            "Epoch 114/1981\n",
            "833/833 [==============================] - 76s 91ms/step - loss: 0.7518\n",
            "Epoch 115/1981\n",
            "833/833 [==============================] - 76s 91ms/step - loss: 0.7530\n",
            "Epoch 116/1981\n",
            "833/833 [==============================] - 76s 91ms/step - loss: 0.7542\n",
            "Epoch 117/1981\n",
            "833/833 [==============================] - 76s 91ms/step - loss: 0.7536\n",
            "Epoch 118/1981\n",
            "833/833 [==============================] - 76s 91ms/step - loss: 0.7544\n",
            "Epoch 119/1981\n",
            "833/833 [==============================] - 76s 92ms/step - loss: 0.7573\n",
            "Epoch 120/1981\n",
            "833/833 [==============================] - 76s 91ms/step - loss: 0.7581\n",
            "Epoch 121/1981\n",
            "833/833 [==============================] - 76s 91ms/step - loss: 0.7587\n",
            "Epoch 122/1981\n",
            "833/833 [==============================] - 76s 91ms/step - loss: 0.7589\n",
            "Epoch 123/1981\n",
            "833/833 [==============================] - 76s 91ms/step - loss: 0.7620\n",
            "Epoch 124/1981\n",
            "833/833 [==============================] - 76s 91ms/step - loss: 0.7618\n",
            "Epoch 125/1981\n",
            "833/833 [==============================] - 76s 91ms/step - loss: 0.7640\n",
            "Epoch 126/1981\n",
            "833/833 [==============================] - 76s 91ms/step - loss: 0.7663\n",
            "Epoch 127/1981\n",
            "833/833 [==============================] - 76s 92ms/step - loss: 0.7666\n",
            "Epoch 128/1981\n",
            "833/833 [==============================] - 76s 91ms/step - loss: 0.7694\n",
            "Epoch 129/1981\n",
            "833/833 [==============================] - 76s 91ms/step - loss: 0.7700\n",
            "Epoch 130/1981\n",
            "833/833 [==============================] - 76s 91ms/step - loss: 0.7701\n",
            "Epoch 131/1981\n",
            "833/833 [==============================] - 76s 91ms/step - loss: 0.7730\n",
            "Epoch 132/1981\n",
            "833/833 [==============================] - 76s 91ms/step - loss: 0.7748\n",
            "Epoch 133/1981\n",
            "833/833 [==============================] - 76s 91ms/step - loss: 0.7792\n",
            "Epoch 134/1981\n",
            "833/833 [==============================] - 76s 91ms/step - loss: 0.7780\n",
            "Epoch 135/1981\n",
            "833/833 [==============================] - 76s 91ms/step - loss: 0.7813\n",
            "Epoch 136/1981\n",
            "833/833 [==============================] - 77s 92ms/step - loss: 0.7818\n",
            "Epoch 137/1981\n",
            "833/833 [==============================] - 76s 91ms/step - loss: 0.7821\n",
            "Epoch 138/1981\n",
            "833/833 [==============================] - 76s 91ms/step - loss: 0.7868\n",
            "Epoch 139/1981\n",
            "833/833 [==============================] - 76s 91ms/step - loss: 0.7869\n",
            "Epoch 140/1981\n",
            "833/833 [==============================] - 75s 90ms/step - loss: 0.7917\n",
            "Epoch 141/1981\n",
            "833/833 [==============================] - 75s 91ms/step - loss: 0.7908\n",
            "Epoch 142/1981\n",
            "833/833 [==============================] - 76s 91ms/step - loss: 0.7933\n",
            "Epoch 143/1981\n",
            "833/833 [==============================] - 76s 91ms/step - loss: 0.7937\n",
            "Epoch 144/1981\n",
            "833/833 [==============================] - 76s 92ms/step - loss: 0.7988\n",
            "Epoch 145/1981\n",
            "833/833 [==============================] - 76s 92ms/step - loss: 0.7987\n",
            "Epoch 146/1981\n",
            "833/833 [==============================] - 76s 91ms/step - loss: 0.8016\n",
            "Epoch 147/1981\n",
            "833/833 [==============================] - 76s 91ms/step - loss: 0.8046\n",
            "Epoch 148/1981\n",
            "833/833 [==============================] - 76s 91ms/step - loss: 0.8041\n",
            "Epoch 149/1981\n",
            "833/833 [==============================] - 75s 91ms/step - loss: 0.8107\n",
            "Epoch 150/1981\n",
            "833/833 [==============================] - 75s 91ms/step - loss: 0.8112\n",
            "Epoch 151/1981\n",
            "833/833 [==============================] - 75s 90ms/step - loss: 0.8141\n",
            "Epoch 152/1981\n",
            "833/833 [==============================] - 75s 90ms/step - loss: 0.8182\n",
            "Epoch 153/1981\n",
            "833/833 [==============================] - 76s 91ms/step - loss: 0.8190\n",
            "Epoch 154/1981\n",
            "833/833 [==============================] - 76s 91ms/step - loss: 0.8208\n",
            "Epoch 155/1981\n",
            "833/833 [==============================] - 76s 91ms/step - loss: 0.8236\n",
            "Epoch 156/1981\n",
            "833/833 [==============================] - 75s 91ms/step - loss: 0.8271\n",
            "Epoch 157/1981\n",
            "833/833 [==============================] - 75s 90ms/step - loss: 0.8310\n",
            "Epoch 158/1981\n",
            "833/833 [==============================] - 75s 89ms/step - loss: 0.8337\n",
            "Epoch 159/1981\n",
            "833/833 [==============================] - 74s 89ms/step - loss: 0.8346\n",
            "Epoch 160/1981\n",
            "833/833 [==============================] - 74s 89ms/step - loss: 0.8391\n",
            "Epoch 161/1981\n",
            "833/833 [==============================] - 74s 89ms/step - loss: 0.8451\n",
            "Epoch 162/1981\n",
            "833/833 [==============================] - 74s 89ms/step - loss: 0.8468\n",
            "Epoch 163/1981\n",
            "833/833 [==============================] - 74s 89ms/step - loss: 0.8496\n",
            "Epoch 164/1981\n",
            "833/833 [==============================] - 74s 89ms/step - loss: 0.8509\n",
            "Epoch 165/1981\n",
            "833/833 [==============================] - 74s 89ms/step - loss: 0.8567\n",
            "Epoch 166/1981\n",
            "833/833 [==============================] - 74s 89ms/step - loss: 0.8631\n",
            "Epoch 167/1981\n",
            "833/833 [==============================] - 75s 90ms/step - loss: 0.8700\n",
            "Epoch 168/1981\n",
            "833/833 [==============================] - 74s 89ms/step - loss: 0.8701\n",
            "Epoch 169/1981\n",
            "833/833 [==============================] - 74s 89ms/step - loss: 0.8721\n",
            "Epoch 170/1981\n",
            "833/833 [==============================] - 74s 89ms/step - loss: 0.8770\n",
            "Epoch 171/1981\n",
            "833/833 [==============================] - 74s 89ms/step - loss: 0.8799\n",
            "Epoch 172/1981\n",
            "833/833 [==============================] - 74s 89ms/step - loss: 0.8845\n",
            "Epoch 173/1981\n",
            "833/833 [==============================] - 74s 89ms/step - loss: 0.8927\n",
            "Epoch 174/1981\n",
            "833/833 [==============================] - 74s 89ms/step - loss: 0.8953\n",
            "Epoch 175/1981\n",
            "833/833 [==============================] - 74s 89ms/step - loss: 0.9000\n",
            "Epoch 176/1981\n",
            "833/833 [==============================] - 74s 89ms/step - loss: 0.9086\n",
            "Epoch 177/1981\n",
            "833/833 [==============================] - 74s 89ms/step - loss: 0.9099\n",
            "Epoch 178/1981\n",
            "833/833 [==============================] - 74s 89ms/step - loss: 0.9182\n",
            "Epoch 179/1981\n",
            "833/833 [==============================] - 73s 88ms/step - loss: 0.9261\n",
            "Epoch 180/1981\n",
            "833/833 [==============================] - 73s 88ms/step - loss: 0.9277\n",
            "Epoch 181/1981\n",
            "833/833 [==============================] - 73s 88ms/step - loss: 0.9328\n",
            "Epoch 182/1981\n",
            "833/833 [==============================] - 73s 88ms/step - loss: 0.9417\n",
            "Epoch 183/1981\n",
            "833/833 [==============================] - 73s 88ms/step - loss: 0.9498\n",
            "Epoch 184/1981\n",
            "833/833 [==============================] - 73s 88ms/step - loss: 0.9525\n",
            "Epoch 185/1981\n",
            "833/833 [==============================] - 73s 88ms/step - loss: 0.9556\n",
            "Epoch 186/1981\n",
            "833/833 [==============================] - 73s 88ms/step - loss: 0.9627\n",
            "Epoch 187/1981\n",
            "833/833 [==============================] - 74s 89ms/step - loss: 0.9666\n",
            "Epoch 188/1981\n",
            "833/833 [==============================] - 74s 89ms/step - loss: 0.9742\n",
            "Epoch 189/1981\n",
            "833/833 [==============================] - 73s 88ms/step - loss: 0.9828\n",
            "Epoch 190/1981\n",
            "833/833 [==============================] - 73s 88ms/step - loss: 0.9914\n",
            "Epoch 191/1981\n",
            "833/833 [==============================] - 73s 88ms/step - loss: 0.9984\n",
            "Epoch 192/1981\n",
            "833/833 [==============================] - 75s 90ms/step - loss: 1.0057\n",
            "Epoch 193/1981\n",
            "833/833 [==============================] - 75s 90ms/step - loss: 1.0102\n",
            "Epoch 194/1981\n",
            "833/833 [==============================] - 74s 89ms/step - loss: 1.0118\n",
            "Epoch 195/1981\n",
            "833/833 [==============================] - 74s 89ms/step - loss: 1.0206\n",
            "Epoch 196/1981\n",
            "833/833 [==============================] - 74s 89ms/step - loss: 1.0274\n",
            "Epoch 197/1981\n",
            "833/833 [==============================] - 74s 89ms/step - loss: 1.0357\n",
            "Epoch 198/1981\n",
            "833/833 [==============================] - 74s 89ms/step - loss: 1.0447\n",
            "Epoch 199/1981\n",
            "833/833 [==============================] - 74s 89ms/step - loss: 1.0521\n",
            "Epoch 200/1981\n",
            "833/833 [==============================] - 74s 89ms/step - loss: 1.0572\n",
            "Epoch 201/1981\n",
            "833/833 [==============================] - 74s 89ms/step - loss: 1.0652\n",
            "Epoch 202/1981\n",
            "833/833 [==============================] - 74s 89ms/step - loss: 1.0724\n",
            "Epoch 203/1981\n",
            "833/833 [==============================] - 73s 88ms/step - loss: 1.0788\n",
            "Epoch 204/1981\n",
            "833/833 [==============================] - 73s 88ms/step - loss: 1.0824\n",
            "Epoch 205/1981\n",
            "833/833 [==============================] - 73s 88ms/step - loss: 1.0917\n",
            "Epoch 206/1981\n",
            "833/833 [==============================] - 73s 88ms/step - loss: 1.1001\n",
            "Epoch 207/1981\n",
            "833/833 [==============================] - 73s 88ms/step - loss: 1.1014\n",
            "Epoch 208/1981\n",
            "833/833 [==============================] - 73s 88ms/step - loss: 1.1081\n",
            "Epoch 209/1981\n",
            "833/833 [==============================] - 73s 88ms/step - loss: 1.1154\n",
            "Epoch 210/1981\n",
            "833/833 [==============================] - 73s 88ms/step - loss: 1.1179\n",
            "Epoch 211/1981\n",
            "833/833 [==============================] - 73s 88ms/step - loss: 1.1272\n",
            "Epoch 212/1981\n",
            "833/833 [==============================] - 73s 88ms/step - loss: 1.1324\n",
            "Epoch 213/1981\n",
            "833/833 [==============================] - 73s 88ms/step - loss: 1.1410\n",
            "Epoch 214/1981\n",
            "833/833 [==============================] - 75s 90ms/step - loss: 1.1450\n",
            "Epoch 215/1981\n",
            "833/833 [==============================] - 75s 90ms/step - loss: 1.1575\n",
            "Epoch 216/1981\n",
            "833/833 [==============================] - 75s 90ms/step - loss: 1.1609\n",
            "Epoch 217/1981\n",
            "833/833 [==============================] - 75s 90ms/step - loss: 1.1608\n",
            "Epoch 218/1981\n",
            "833/833 [==============================] - 75s 90ms/step - loss: 1.1627\n",
            "Epoch 219/1981\n",
            "833/833 [==============================] - 75s 90ms/step - loss: 1.1728\n",
            "Epoch 220/1981\n",
            "833/833 [==============================] - 75s 90ms/step - loss: 1.1802\n",
            "Epoch 221/1981\n",
            "833/833 [==============================] - 75s 89ms/step - loss: 1.1859\n",
            "Epoch 222/1981\n",
            "833/833 [==============================] - 75s 90ms/step - loss: 1.1900\n",
            "Epoch 223/1981\n",
            "833/833 [==============================] - 75s 90ms/step - loss: 1.1972\n",
            "Epoch 224/1981\n",
            "833/833 [==============================] - 75s 90ms/step - loss: 1.1965\n",
            "Epoch 225/1981\n",
            "833/833 [==============================] - 75s 90ms/step - loss: 1.2002\n",
            "Epoch 226/1981\n",
            "833/833 [==============================] - 75s 90ms/step - loss: 1.1996\n",
            "Epoch 227/1981\n",
            "833/833 [==============================] - 75s 90ms/step - loss: 1.2140\n",
            "Epoch 228/1981\n",
            "833/833 [==============================] - 75s 90ms/step - loss: 1.2140\n",
            "Epoch 229/1981\n",
            "833/833 [==============================] - 75s 90ms/step - loss: 1.2107\n",
            "Epoch 230/1981\n",
            "833/833 [==============================] - 76s 91ms/step - loss: 1.2138\n",
            "Epoch 231/1981\n",
            "833/833 [==============================] - 76s 91ms/step - loss: 1.2237\n",
            "Epoch 232/1981\n",
            "833/833 [==============================] - 75s 90ms/step - loss: 1.2275\n",
            "Epoch 233/1981\n",
            "833/833 [==============================] - 75s 90ms/step - loss: 1.2226\n",
            "Epoch 234/1981\n",
            "833/833 [==============================] - 75s 89ms/step - loss: 1.2254\n",
            "Epoch 235/1981\n",
            "833/833 [==============================] - 75s 89ms/step - loss: 1.2323\n",
            "Epoch 236/1981\n",
            "833/833 [==============================] - 75s 90ms/step - loss: 1.2325\n",
            "Epoch 237/1981\n",
            "833/833 [==============================] - 74s 89ms/step - loss: 1.2376\n",
            "Epoch 238/1981\n",
            "833/833 [==============================] - 75s 90ms/step - loss: 1.2448\n",
            "Epoch 239/1981\n",
            "833/833 [==============================] - 75s 90ms/step - loss: 1.2555\n",
            "Epoch 240/1981\n",
            "833/833 [==============================] - 75s 90ms/step - loss: 1.2564\n",
            "Epoch 241/1981\n",
            "833/833 [==============================] - 75s 90ms/step - loss: 1.2511\n",
            "Epoch 242/1981\n",
            "833/833 [==============================] - 75s 90ms/step - loss: 1.2513\n",
            "Epoch 243/1981\n",
            "833/833 [==============================] - 75s 89ms/step - loss: 1.2650\n",
            "Epoch 244/1981\n",
            "833/833 [==============================] - 75s 90ms/step - loss: 1.2703\n",
            "Epoch 245/1981\n",
            "833/833 [==============================] - 75s 90ms/step - loss: 1.2682\n",
            "Epoch 246/1981\n",
            "833/833 [==============================] - 75s 90ms/step - loss: 1.2710\n",
            "Epoch 247/1981\n",
            "833/833 [==============================] - 75s 90ms/step - loss: 1.2759\n",
            "Epoch 248/1981\n",
            "833/833 [==============================] - 75s 91ms/step - loss: 1.2749\n",
            "Epoch 249/1981\n",
            "833/833 [==============================] - 75s 90ms/step - loss: 1.2784\n",
            "Epoch 250/1981\n",
            "833/833 [==============================] - 75s 90ms/step - loss: 1.2776\n",
            "Epoch 251/1981\n",
            "833/833 [==============================] - 75s 90ms/step - loss: 1.2790\n",
            "Epoch 252/1981\n",
            "833/833 [==============================] - 75s 90ms/step - loss: 1.2851\n",
            "Epoch 253/1981\n",
            "833/833 [==============================] - 74s 89ms/step - loss: 1.2897\n",
            "Epoch 254/1981\n",
            "833/833 [==============================] - 74s 89ms/step - loss: 1.2931\n",
            "Epoch 255/1981\n",
            "833/833 [==============================] - 75s 90ms/step - loss: 1.2984\n",
            "Epoch 256/1981\n",
            "833/833 [==============================] - 75s 90ms/step - loss: 1.2936\n",
            "Epoch 257/1981\n",
            "833/833 [==============================] - 75s 90ms/step - loss: 1.2941\n",
            "Epoch 258/1981\n",
            "833/833 [==============================] - 75s 90ms/step - loss: 1.2986\n",
            "Epoch 259/1981\n",
            "833/833 [==============================] - 75s 90ms/step - loss: 1.2965\n",
            "Epoch 260/1981\n",
            "833/833 [==============================] - 75s 90ms/step - loss: 1.2982\n",
            "Epoch 261/1981\n",
            "833/833 [==============================] - 75s 90ms/step - loss: 1.2944\n",
            "Epoch 262/1981\n",
            "833/833 [==============================] - 76s 91ms/step - loss: 1.3017\n",
            "Epoch 263/1981\n",
            "833/833 [==============================] - 76s 91ms/step - loss: 1.3035\n",
            "Epoch 264/1981\n",
            "833/833 [==============================] - 75s 90ms/step - loss: 1.3046\n",
            "Epoch 265/1981\n",
            "833/833 [==============================] - 74s 89ms/step - loss: 1.3085\n",
            "Epoch 266/1981\n",
            "833/833 [==============================] - 74s 89ms/step - loss: 1.3064\n",
            "Epoch 267/1981\n",
            "833/833 [==============================] - 74s 89ms/step - loss: 1.3050\n",
            "Epoch 268/1981\n",
            "833/833 [==============================] - 75s 90ms/step - loss: 1.3074\n",
            "Epoch 269/1981\n",
            "833/833 [==============================] - 74s 89ms/step - loss: 1.3108\n",
            "Epoch 270/1981\n",
            "833/833 [==============================] - 75s 89ms/step - loss: 1.3121\n",
            "Epoch 271/1981\n",
            "833/833 [==============================] - 75s 89ms/step - loss: 1.3173\n",
            "Epoch 272/1981\n",
            "833/833 [==============================] - 74s 89ms/step - loss: 1.3166\n",
            "Epoch 273/1981\n",
            "833/833 [==============================] - 74s 89ms/step - loss: 1.3184\n",
            "Epoch 274/1981\n",
            "833/833 [==============================] - 74s 89ms/step - loss: 1.3212\n",
            "Epoch 275/1981\n",
            "833/833 [==============================] - 74s 89ms/step - loss: 1.3237\n",
            "Epoch 276/1981\n",
            "833/833 [==============================] - 74s 89ms/step - loss: 1.3207\n",
            "Epoch 277/1981\n",
            "833/833 [==============================] - 74s 89ms/step - loss: 1.3231\n",
            "Epoch 278/1981\n",
            "833/833 [==============================] - 74s 89ms/step - loss: 1.3181\n",
            "Epoch 279/1981\n",
            "833/833 [==============================] - 75s 90ms/step - loss: 1.3220\n",
            "Epoch 280/1981\n",
            "833/833 [==============================] - 75s 90ms/step - loss: 1.3240\n",
            "Epoch 281/1981\n",
            "833/833 [==============================] - 76s 91ms/step - loss: 1.3219\n",
            "Epoch 282/1981\n",
            "833/833 [==============================] - 75s 90ms/step - loss: 1.3239\n",
            "Epoch 283/1981\n",
            "833/833 [==============================] - 75s 90ms/step - loss: 1.3150\n",
            "Epoch 284/1981\n",
            "833/833 [==============================] - 75s 90ms/step - loss: 1.3175\n",
            "Epoch 285/1981\n",
            "833/833 [==============================] - 75s 89ms/step - loss: 1.3225\n",
            "Epoch 286/1981\n",
            "833/833 [==============================] - 74s 89ms/step - loss: 1.3388\n",
            "Epoch 287/1981\n",
            "833/833 [==============================] - 75s 89ms/step - loss: 1.3447\n",
            "Epoch 288/1981\n",
            "833/833 [==============================] - 75s 90ms/step - loss: 1.3371\n",
            "Epoch 289/1981\n",
            "833/833 [==============================] - 75s 90ms/step - loss: 1.3334\n",
            "Epoch 290/1981\n",
            "833/833 [==============================] - 75s 90ms/step - loss: 1.3264\n",
            "Epoch 291/1981\n",
            "833/833 [==============================] - 75s 90ms/step - loss: 1.3288\n",
            "Epoch 292/1981\n",
            "833/833 [==============================] - 75s 90ms/step - loss: 1.3334\n",
            "Epoch 293/1981\n",
            "833/833 [==============================] - 76s 91ms/step - loss: 1.3372\n",
            "Epoch 294/1981\n",
            "833/833 [==============================] - 75s 90ms/step - loss: 1.3337\n",
            "Epoch 295/1981\n",
            "833/833 [==============================] - 75s 90ms/step - loss: 1.3327\n",
            "Epoch 296/1981\n",
            "833/833 [==============================] - 74s 89ms/step - loss: 1.3349\n",
            "Epoch 297/1981\n",
            "833/833 [==============================] - 75s 90ms/step - loss: 1.3378\n",
            "Epoch 298/1981\n",
            "833/833 [==============================] - 74s 89ms/step - loss: 1.3407\n",
            "Epoch 299/1981\n",
            "833/833 [==============================] - 74s 89ms/step - loss: 1.3448\n",
            "Epoch 300/1981\n",
            "833/833 [==============================] - 74s 89ms/step - loss: 1.3500\n",
            "Epoch 301/1981\n",
            "833/833 [==============================] - 75s 89ms/step - loss: 1.3476\n",
            "Epoch 302/1981\n",
            "833/833 [==============================] - 74s 89ms/step - loss: 1.3466\n",
            "Epoch 303/1981\n",
            "833/833 [==============================] - 74s 89ms/step - loss: 1.3465\n",
            "Epoch 304/1981\n",
            "833/833 [==============================] - 74s 89ms/step - loss: 1.3470\n",
            "Epoch 305/1981\n",
            "833/833 [==============================] - 75s 90ms/step - loss: 1.3433\n",
            "Epoch 306/1981\n",
            "833/833 [==============================] - 74s 89ms/step - loss: 1.3397\n",
            "Epoch 307/1981\n",
            "833/833 [==============================] - 74s 89ms/step - loss: 1.3413\n",
            "Epoch 308/1981\n",
            "833/833 [==============================] - 75s 90ms/step - loss: 1.3428\n",
            "Epoch 309/1981\n",
            "833/833 [==============================] - 75s 90ms/step - loss: 1.3446\n",
            "Epoch 310/1981\n",
            "833/833 [==============================] - 75s 90ms/step - loss: 1.3442\n",
            "Epoch 311/1981\n",
            "833/833 [==============================] - 75s 90ms/step - loss: 1.3466\n",
            "Epoch 312/1981\n",
            "833/833 [==============================] - 75s 90ms/step - loss: 1.3500\n",
            "Epoch 313/1981\n",
            "833/833 [==============================] - 74s 89ms/step - loss: 1.3498\n",
            "Epoch 314/1981\n",
            "833/833 [==============================] - 74s 89ms/step - loss: 1.3470\n",
            "Epoch 315/1981\n",
            "833/833 [==============================] - 74s 89ms/step - loss: 1.3489\n",
            "Epoch 316/1981\n",
            "833/833 [==============================] - 74s 89ms/step - loss: 1.3477\n",
            "Epoch 317/1981\n",
            "833/833 [==============================] - 75s 90ms/step - loss: 1.3482\n",
            "Epoch 318/1981\n",
            "833/833 [==============================] - 75s 90ms/step - loss: 1.3520\n",
            "Epoch 319/1981\n",
            "833/833 [==============================] - 75s 90ms/step - loss: 1.3550\n",
            "Epoch 320/1981\n",
            "833/833 [==============================] - 75s 90ms/step - loss: 1.3545\n",
            "Epoch 321/1981\n",
            "833/833 [==============================] - 75s 90ms/step - loss: 1.3520\n",
            "Epoch 322/1981\n",
            "833/833 [==============================] - 75s 90ms/step - loss: 1.3544\n",
            "Epoch 323/1981\n",
            "833/833 [==============================] - 76s 91ms/step - loss: 1.3526\n",
            "Epoch 324/1981\n",
            "833/833 [==============================] - 75s 90ms/step - loss: 1.3570\n",
            "Epoch 325/1981\n",
            "833/833 [==============================] - 75s 90ms/step - loss: 1.3578\n",
            "Epoch 326/1981\n",
            "833/833 [==============================] - 75s 90ms/step - loss: 1.3524\n",
            "Epoch 327/1981\n",
            "833/833 [==============================] - 75s 90ms/step - loss: 1.3521\n",
            "Epoch 328/1981\n",
            "833/833 [==============================] - 75s 89ms/step - loss: 1.3539\n",
            "Epoch 329/1981\n",
            "833/833 [==============================] - 75s 90ms/step - loss: 1.3578\n",
            "Epoch 330/1981\n",
            "833/833 [==============================] - 75s 90ms/step - loss: 1.3602\n",
            "Epoch 331/1981\n",
            "833/833 [==============================] - 74s 89ms/step - loss: 1.3642\n",
            "Epoch 332/1981\n",
            "833/833 [==============================] - 74s 89ms/step - loss: 1.3617\n",
            "Epoch 333/1981\n",
            "833/833 [==============================] - 74s 89ms/step - loss: 1.3579\n",
            "Epoch 334/1981\n",
            "833/833 [==============================] - 75s 90ms/step - loss: 1.3534\n",
            "Epoch 335/1981\n",
            "833/833 [==============================] - 74s 89ms/step - loss: 1.3556\n",
            "Epoch 336/1981\n",
            "833/833 [==============================] - 74s 89ms/step - loss: 1.3626\n",
            "Epoch 337/1981\n",
            "833/833 [==============================] - 74s 89ms/step - loss: 1.3645\n",
            "Epoch 338/1981\n",
            "833/833 [==============================] - 74s 89ms/step - loss: 1.3674\n",
            "Epoch 339/1981\n",
            "833/833 [==============================] - 74s 89ms/step - loss: 1.3672\n",
            "Epoch 340/1981\n",
            "833/833 [==============================] - 75s 90ms/step - loss: 1.3640\n",
            "Epoch 341/1981\n",
            "833/833 [==============================] - 75s 90ms/step - loss: 1.3622\n",
            "Epoch 342/1981\n",
            "833/833 [==============================] - 75s 90ms/step - loss: 1.3624\n",
            "Epoch 343/1981\n",
            "833/833 [==============================] - 75s 90ms/step - loss: 1.3655\n",
            "Epoch 344/1981\n",
            "833/833 [==============================] - 75s 90ms/step - loss: 1.3696\n",
            "Epoch 345/1981\n",
            "833/833 [==============================] - 75s 90ms/step - loss: 1.3736\n",
            "Epoch 346/1981\n",
            "833/833 [==============================] - 74s 89ms/step - loss: 1.3785\n",
            "Epoch 347/1981\n",
            "833/833 [==============================] - 74s 89ms/step - loss: 1.3786\n",
            "Epoch 348/1981\n",
            "833/833 [==============================] - 74s 89ms/step - loss: 1.3769\n",
            "Epoch 349/1981\n",
            "833/833 [==============================] - 74s 89ms/step - loss: 1.3718\n",
            "Epoch 350/1981\n",
            "833/833 [==============================] - 74s 89ms/step - loss: 1.3685\n",
            "Epoch 351/1981\n",
            "833/833 [==============================] - 75s 90ms/step - loss: 1.3654\n",
            "Epoch 352/1981\n",
            "833/833 [==============================] - 75s 90ms/step - loss: 1.3646\n",
            "Epoch 353/1981\n",
            "833/833 [==============================] - 75s 90ms/step - loss: 1.3641\n",
            "Epoch 354/1981\n",
            "833/833 [==============================] - 75s 90ms/step - loss: 1.3634\n",
            "Epoch 355/1981\n",
            "833/833 [==============================] - 76s 91ms/step - loss: 1.3593\n",
            "Epoch 356/1981\n",
            "833/833 [==============================] - 75s 90ms/step - loss: 1.3568\n",
            "Epoch 357/1981\n",
            "833/833 [==============================] - 74s 89ms/step - loss: 1.3539\n",
            "Epoch 358/1981\n",
            "833/833 [==============================] - 74s 89ms/step - loss: 1.3524\n",
            "Epoch 359/1981\n",
            "833/833 [==============================] - 74s 89ms/step - loss: 1.3510\n",
            "Epoch 360/1981\n",
            "833/833 [==============================] - 74s 89ms/step - loss: 1.3584\n",
            "Epoch 361/1981\n",
            "833/833 [==============================] - 74s 89ms/step - loss: 1.3601\n",
            "Epoch 362/1981\n",
            "833/833 [==============================] - 74s 89ms/step - loss: 1.3618\n",
            "Epoch 363/1981\n",
            "833/833 [==============================] - 75s 90ms/step - loss: 1.3638\n",
            "Epoch 364/1981\n",
            "833/833 [==============================] - 74s 89ms/step - loss: 1.3622\n",
            "Epoch 365/1981\n",
            "833/833 [==============================] - 74s 89ms/step - loss: 1.3594\n",
            "Epoch 366/1981\n",
            "833/833 [==============================] - 74s 89ms/step - loss: 1.3604\n",
            "Epoch 367/1981\n",
            "833/833 [==============================] - 74s 89ms/step - loss: 1.3627\n",
            "Epoch 368/1981\n",
            "833/833 [==============================] - 74s 89ms/step - loss: 1.3669\n",
            "Epoch 369/1981\n",
            "833/833 [==============================] - 74s 89ms/step - loss: 1.3662\n",
            "Epoch 370/1981\n",
            "833/833 [==============================] - 74s 89ms/step - loss: 1.3629\n",
            "Epoch 371/1981\n",
            "833/833 [==============================] - 74s 89ms/step - loss: 1.3632\n",
            "Epoch 372/1981\n",
            "833/833 [==============================] - 75s 90ms/step - loss: 1.3663\n",
            "Epoch 373/1981\n",
            "833/833 [==============================] - 75s 90ms/step - loss: 1.3674\n",
            "Epoch 374/1981\n",
            "833/833 [==============================] - 75s 91ms/step - loss: 1.3618\n",
            "Epoch 375/1981\n",
            "833/833 [==============================] - 75s 90ms/step - loss: 1.3593\n",
            "Epoch 376/1981\n",
            "833/833 [==============================] - 75s 90ms/step - loss: 1.3603\n",
            "Epoch 377/1981\n",
            "833/833 [==============================] - 75s 90ms/step - loss: 1.3616\n",
            "Epoch 378/1981\n",
            "833/833 [==============================] - 75s 90ms/step - loss: 1.3654\n",
            "Epoch 379/1981\n",
            "833/833 [==============================] - 75s 89ms/step - loss: 1.3664\n",
            "Epoch 380/1981\n",
            "833/833 [==============================] - 74s 89ms/step - loss: 1.3638\n",
            "Epoch 381/1981\n",
            "833/833 [==============================] - 75s 90ms/step - loss: 1.3606\n",
            "Epoch 382/1981\n",
            "833/833 [==============================] - 75s 90ms/step - loss: 1.3632\n",
            "Epoch 383/1981\n",
            "833/833 [==============================] - 75s 90ms/step - loss: 1.3653\n",
            "Epoch 384/1981\n",
            "833/833 [==============================] - 75s 90ms/step - loss: 1.3711\n",
            "Epoch 385/1981\n",
            "833/833 [==============================] - 75s 90ms/step - loss: 1.3836\n",
            "Epoch 386/1981\n",
            "833/833 [==============================] - 75s 90ms/step - loss: 1.3835\n",
            "Epoch 387/1981\n",
            "833/833 [==============================] - 76s 91ms/step - loss: 1.3813\n",
            "Epoch 388/1981\n",
            "833/833 [==============================] - 76s 91ms/step - loss: 1.3839\n",
            "Epoch 389/1981\n",
            "833/833 [==============================] - 75s 90ms/step - loss: 1.3816\n",
            "Epoch 390/1981\n",
            "833/833 [==============================] - 75s 90ms/step - loss: 1.3776\n",
            "Epoch 391/1981\n",
            "833/833 [==============================] - 75s 90ms/step - loss: 1.3810\n",
            "Epoch 392/1981\n",
            "833/833 [==============================] - 75s 90ms/step - loss: 1.3879\n",
            "Epoch 393/1981\n",
            "833/833 [==============================] - 75s 90ms/step - loss: 1.3874\n",
            "Epoch 394/1981\n",
            "833/833 [==============================] - 75s 90ms/step - loss: 1.3861\n",
            "Epoch 395/1981\n",
            "833/833 [==============================] - 74s 89ms/step - loss: 1.3851\n",
            "Epoch 396/1981\n",
            "833/833 [==============================] - 75s 90ms/step - loss: 1.3913\n",
            "Epoch 397/1981\n",
            "833/833 [==============================] - 75s 89ms/step - loss: 1.3908\n",
            "Epoch 398/1981\n",
            "833/833 [==============================] - 74s 89ms/step - loss: 1.3874\n",
            "Epoch 399/1981\n",
            "833/833 [==============================] - 74s 89ms/step - loss: 1.3879\n",
            "Epoch 400/1981\n",
            "833/833 [==============================] - 74s 89ms/step - loss: 1.3906\n",
            "Epoch 401/1981\n",
            "833/833 [==============================] - 75s 90ms/step - loss: 1.3944\n",
            "Epoch 402/1981\n",
            "833/833 [==============================] - 75s 90ms/step - loss: 1.4000\n",
            "Epoch 403/1981\n",
            "833/833 [==============================] - 75s 90ms/step - loss: 1.3982\n",
            "Epoch 404/1981\n",
            "833/833 [==============================] - 75s 91ms/step - loss: 1.3980\n",
            "Epoch 405/1981\n",
            "833/833 [==============================] - 75s 90ms/step - loss: 1.3975\n",
            "Epoch 406/1981\n",
            "833/833 [==============================] - 75s 90ms/step - loss: 1.4018\n",
            "Epoch 407/1981\n",
            "833/833 [==============================] - 75s 90ms/step - loss: 1.4037\n",
            "Epoch 408/1981\n",
            "833/833 [==============================] - 75s 90ms/step - loss: 1.4028\n",
            "Epoch 409/1981\n",
            "833/833 [==============================] - 74s 89ms/step - loss: 1.3997\n",
            "Epoch 410/1981\n",
            "833/833 [==============================] - 74s 89ms/step - loss: 1.4021\n",
            "Epoch 411/1981\n",
            "833/833 [==============================] - 74s 89ms/step - loss: 1.4121\n",
            "Epoch 412/1981\n",
            "833/833 [==============================] - 74s 89ms/step - loss: 1.4174\n",
            "Epoch 413/1981\n",
            "833/833 [==============================] - 74s 89ms/step - loss: 1.4198\n",
            "Epoch 414/1981\n",
            "833/833 [==============================] - 75s 90ms/step - loss: 1.4197\n",
            "Epoch 415/1981\n",
            "833/833 [==============================] - 75s 90ms/step - loss: 1.4147\n",
            "Epoch 416/1981\n",
            "833/833 [==============================] - 75s 90ms/step - loss: 1.4134\n",
            "Epoch 417/1981\n",
            "833/833 [==============================] - 74s 89ms/step - loss: 1.4161\n",
            "Epoch 418/1981\n",
            "833/833 [==============================] - 75s 90ms/step - loss: 1.4150\n",
            "Epoch 419/1981\n",
            "833/833 [==============================] - 75s 91ms/step - loss: 1.4188\n",
            "Epoch 420/1981\n",
            "833/833 [==============================] - 76s 91ms/step - loss: 1.4275\n",
            "Epoch 421/1981\n",
            "833/833 [==============================] - 75s 90ms/step - loss: 1.4336\n",
            "Epoch 422/1981\n",
            "833/833 [==============================] - 75s 90ms/step - loss: 1.4344\n",
            "Epoch 423/1981\n",
            "833/833 [==============================] - 75s 90ms/step - loss: 1.4360\n",
            "Epoch 424/1981\n",
            "833/833 [==============================] - 75s 90ms/step - loss: 1.4366\n",
            "Epoch 425/1981\n",
            "833/833 [==============================] - 74s 89ms/step - loss: 1.4372\n",
            "Epoch 426/1981\n",
            "833/833 [==============================] - 74s 89ms/step - loss: 1.4368\n",
            "Epoch 427/1981\n",
            "833/833 [==============================] - 74s 89ms/step - loss: 1.4374\n",
            "Epoch 428/1981\n",
            "833/833 [==============================] - 74s 89ms/step - loss: 1.4415\n",
            "Epoch 429/1981\n",
            "833/833 [==============================] - 74s 89ms/step - loss: 1.4421\n",
            "Epoch 430/1981\n",
            "833/833 [==============================] - 74s 89ms/step - loss: 1.4481\n",
            "Epoch 431/1981\n",
            "833/833 [==============================] - 74s 89ms/step - loss: 1.4534\n",
            "Epoch 432/1981\n",
            "833/833 [==============================] - 74s 89ms/step - loss: 1.4543\n",
            "Epoch 433/1981\n",
            "833/833 [==============================] - 74s 89ms/step - loss: 1.4555\n",
            "Epoch 434/1981\n",
            "833/833 [==============================] - 74s 89ms/step - loss: 1.4523\n",
            "Epoch 435/1981\n",
            "833/833 [==============================] - 74s 89ms/step - loss: 1.4486\n",
            "Epoch 436/1981\n",
            "833/833 [==============================] - 75s 90ms/step - loss: 1.4461\n",
            "Epoch 437/1981\n",
            "833/833 [==============================] - 75s 90ms/step - loss: 1.4435\n",
            "Epoch 438/1981\n",
            "833/833 [==============================] - 75s 90ms/step - loss: 1.4444\n",
            "Epoch 439/1981\n",
            "833/833 [==============================] - 75s 90ms/step - loss: 1.4407\n",
            "Epoch 440/1981\n",
            "833/833 [==============================] - 75s 90ms/step - loss: 1.4461\n",
            "Epoch 441/1981\n",
            "833/833 [==============================] - 75s 90ms/step - loss: 1.4437\n",
            "Epoch 442/1981\n",
            "833/833 [==============================] - 74s 89ms/step - loss: 1.4429\n",
            "Epoch 443/1981\n",
            "833/833 [==============================] - 74s 89ms/step - loss: 1.4425\n",
            "Epoch 444/1981\n",
            "833/833 [==============================] - 74s 89ms/step - loss: 1.4392\n",
            "Epoch 445/1981\n",
            "833/833 [==============================] - 74s 89ms/step - loss: 1.4351\n",
            "Epoch 446/1981\n",
            "833/833 [==============================] - 75s 89ms/step - loss: 1.4332\n",
            "Epoch 447/1981\n",
            "833/833 [==============================] - 75s 90ms/step - loss: 1.4309\n",
            "Epoch 448/1981\n",
            "833/833 [==============================] - 75s 90ms/step - loss: 1.4304\n",
            "Epoch 449/1981\n",
            "833/833 [==============================] - 75s 90ms/step - loss: 1.4267\n",
            "Epoch 450/1981\n",
            "833/833 [==============================] - 75s 90ms/step - loss: 1.4273\n",
            "Epoch 451/1981\n",
            "833/833 [==============================] - 75s 91ms/step - loss: 1.4251\n",
            "Epoch 452/1981\n",
            "833/833 [==============================] - 75s 91ms/step - loss: 1.4216\n",
            "Epoch 453/1981\n",
            "833/833 [==============================] - 75s 89ms/step - loss: 1.4159\n",
            "Epoch 454/1981\n",
            "833/833 [==============================] - 74s 89ms/step - loss: 1.4142\n",
            "Epoch 455/1981\n",
            "833/833 [==============================] - 74s 89ms/step - loss: 1.4146\n",
            "Epoch 456/1981\n",
            "833/833 [==============================] - 74s 89ms/step - loss: 1.4122\n",
            "Epoch 457/1981\n",
            "833/833 [==============================] - 74s 89ms/step - loss: 1.4134\n",
            "Epoch 458/1981\n",
            "833/833 [==============================] - 74s 89ms/step - loss: 1.4116\n",
            "Epoch 459/1981\n",
            "833/833 [==============================] - 74s 89ms/step - loss: 1.4096\n",
            "Epoch 460/1981\n",
            "833/833 [==============================] - 74s 89ms/step - loss: 1.4088\n",
            "Epoch 461/1981\n",
            "833/833 [==============================] - 74s 89ms/step - loss: 1.4043\n",
            "Epoch 462/1981\n",
            "833/833 [==============================] - 74s 89ms/step - loss: 1.4035\n",
            "Epoch 463/1981\n",
            "833/833 [==============================] - 74s 89ms/step - loss: 1.4073\n",
            "Epoch 464/1981\n",
            "833/833 [==============================] - 74s 89ms/step - loss: 1.4066\n",
            "Epoch 465/1981\n",
            "833/833 [==============================] - 74s 89ms/step - loss: 1.4034\n",
            "Epoch 466/1981\n",
            "833/833 [==============================] - 74s 89ms/step - loss: 1.4017\n",
            "Epoch 467/1981\n",
            "833/833 [==============================] - 74s 89ms/step - loss: 1.3990\n",
            "Epoch 468/1981\n",
            "833/833 [==============================] - 75s 90ms/step - loss: 1.3983\n",
            "Epoch 469/1981\n",
            "833/833 [==============================] - 75s 90ms/step - loss: 1.4049\n",
            "Epoch 470/1981\n",
            "833/833 [==============================] - 75s 90ms/step - loss: 1.4026\n",
            "Epoch 471/1981\n",
            "833/833 [==============================] - 75s 90ms/step - loss: 1.4019\n",
            "Epoch 472/1981\n",
            "833/833 [==============================] - 75s 90ms/step - loss: 1.3974\n",
            "Epoch 473/1981\n",
            "833/833 [==============================] - 75s 90ms/step - loss: 1.3926\n",
            "Epoch 474/1981\n",
            "833/833 [==============================] - 74s 89ms/step - loss: 1.3922\n",
            "Epoch 475/1981\n",
            "833/833 [==============================] - 74s 89ms/step - loss: 1.3913\n",
            "Epoch 476/1981\n",
            "833/833 [==============================] - 74s 89ms/step - loss: 1.3964\n",
            "Epoch 477/1981\n",
            "320/833 [==========>...................] - ETA: 45s - loss: 1.4112"
          ],
          "name": "stdout"
        }
      ]
    },
    {
      "cell_type": "code",
      "metadata": {
        "id": "fETlS84xp_e3",
        "colab_type": "code",
        "colab": {
          "base_uri": "https://localhost:8080/",
          "height": 34
        },
        "outputId": "826b8627-70ae-4d5c-c9c4-56f1c82c38ed"
      },
      "source": [
        "cd \"sample_data/\""
      ],
      "execution_count": null,
      "outputs": [
        {
          "output_type": "stream",
          "text": [
            "/content/sample_data\n"
          ],
          "name": "stdout"
        }
      ]
    },
    {
      "cell_type": "code",
      "metadata": {
        "id": "nQkN9rcVp_jL",
        "colab_type": "code",
        "colab": {
          "base_uri": "https://localhost:8080/",
          "height": 68
        },
        "outputId": "05d7434e-771e-47d8-cd36-77ae6167558c"
      },
      "source": [
        "ls"
      ],
      "execution_count": null,
      "outputs": [
        {
          "output_type": "stream",
          "text": [
            "\u001b[0m\u001b[01;32manscombe.json\u001b[0m*                mnist_test.csv\n",
            "california_housing_test.csv   mnist_train_small.csv\n",
            "california_housing_train.csv  \u001b[01;32mREADME.md\u001b[0m*\n"
          ],
          "name": "stdout"
        }
      ]
    },
    {
      "cell_type": "code",
      "metadata": {
        "id": "3zrvPGXJp_or",
        "colab_type": "code",
        "colab": {}
      },
      "source": [
        "model = build_model(VOCAB_SIZE, EMBEDDING_DIM, RNN_UNITS, batch_size=1)"
      ],
      "execution_count": null,
      "outputs": []
    },
    {
      "cell_type": "code",
      "metadata": {
        "id": "MvwNBIn4p_sk",
        "colab_type": "code",
        "colab": {}
      },
      "source": [
        "model.load_weights(tf.train.latest_checkpoint(checkpoint_dir))\n",
        "model.build(tf.TensorShape([1, None]))"
      ],
      "execution_count": null,
      "outputs": []
    },
    {
      "cell_type": "code",
      "metadata": {
        "id": "u6M683kAp_yF",
        "colab_type": "code",
        "colab": {}
      },
      "source": [
        ""
      ],
      "execution_count": null,
      "outputs": []
    },
    {
      "cell_type": "code",
      "metadata": {
        "id": "Esik5askp_09",
        "colab_type": "code",
        "colab": {}
      },
      "source": [
        ""
      ],
      "execution_count": null,
      "outputs": []
    },
    {
      "cell_type": "code",
      "metadata": {
        "id": "czoaEAzAp_3Y",
        "colab_type": "code",
        "colab": {}
      },
      "source": [
        ""
      ],
      "execution_count": null,
      "outputs": []
    },
    {
      "cell_type": "code",
      "metadata": {
        "id": "jjl8OJK1p_59",
        "colab_type": "code",
        "colab": {}
      },
      "source": [
        ""
      ],
      "execution_count": null,
      "outputs": []
    },
    {
      "cell_type": "code",
      "metadata": {
        "id": "yA629ooBp_8I",
        "colab_type": "code",
        "colab": {}
      },
      "source": [
        ""
      ],
      "execution_count": null,
      "outputs": []
    },
    {
      "cell_type": "code",
      "metadata": {
        "id": "iZF-oz-Jp__D",
        "colab_type": "code",
        "colab": {}
      },
      "source": [
        ""
      ],
      "execution_count": null,
      "outputs": []
    },
    {
      "cell_type": "code",
      "metadata": {
        "id": "OWaVXXjRj8C8",
        "colab_type": "code",
        "colab": {}
      },
      "source": [
        ""
      ],
      "execution_count": null,
      "outputs": []
    },
    {
      "cell_type": "code",
      "metadata": {
        "id": "aYBkzqJqj8Ft",
        "colab_type": "code",
        "colab": {}
      },
      "source": [
        "model = build_model(VOCAB_SIZE, EMBEDDING_DIM, RNN_UNITS, batch_size=1)"
      ],
      "execution_count": null,
      "outputs": []
    },
    {
      "cell_type": "code",
      "metadata": {
        "id": "_tA0Rqxvj8Id",
        "colab_type": "code",
        "colab": {}
      },
      "source": [
        "model.load_weights(tf.train.latest_checkpoint(checkpoint_dir))\n",
        "model.build(tf.TensorShape([1, None]))"
      ],
      "execution_count": null,
      "outputs": []
    },
    {
      "cell_type": "code",
      "metadata": {
        "id": "8SqNfzOflXbl",
        "colab_type": "code",
        "colab": {}
      },
      "source": [
        "def generate_text(model, start_string):\n",
        "  # Evaluation step (generating text using the learned model)\n",
        "\n",
        "  # Number of characters to generate\n",
        "  num_generate = 200\n",
        "\n",
        "  # Converting our start string to numbers (vectorizing)\n",
        "  input_eval = [char2idx[s] for s in start_string]\n",
        "  input_eval = tf.expand_dims(input_eval, 0)\n",
        "\n",
        "  # Empty string to store our results\n",
        "  text_generated = []\n",
        "\n",
        "  # Low temperatures results in more predictable text.\n",
        "  # Higher temperatures results in more surprising text.\n",
        "  # Experiment to find the best setting.\n",
        "  temperature = 1.0\n",
        "\n",
        "  # Here batch size == 1\n",
        "  model.reset_states()\n",
        "  for i in range(num_generate):\n",
        "      predictions = model(input_eval)\n",
        "      # remove the batch dimension\n",
        "    \n",
        "      predictions = tf.squeeze(predictions, 0)\n",
        "\n",
        "      # using a categorical distribution to predict the character returned by the model\n",
        "      predictions = predictions / temperature\n",
        "      predicted_id = tf.random.categorical(predictions, num_samples=1)[-1,0].numpy()\n",
        "\n",
        "      # We pass the predicted character as the next input to the model\n",
        "      # along with the previous hidden state\n",
        "      input_eval = tf.expand_dims([predicted_id], 0)\n",
        "\n",
        "      text_generated.append(idx2char[predicted_id])\n",
        "\n",
        "  return (start_string + ''.join(text_generated))"
      ],
      "execution_count": null,
      "outputs": []
    },
    {
      "cell_type": "code",
      "metadata": {
        "id": "S8BuPhz9lXeK",
        "colab_type": "code",
        "colab": {
          "base_uri": "https://localhost:8080/",
          "height": 85
        },
        "outputId": "ecb25988-94f3-4373-8861-e2fe09b5fde8"
      },
      "source": [
        "inp = input(\"Type a starting string: \")\n",
        "print(generate_text(model, inp))"
      ],
      "execution_count": null,
      "outputs": [
        {
          "output_type": "stream",
          "text": [
            "Type a starting string: today is a good day\n",
            "today is a good day become too smart. CAUTION: Male dogs may respond to the Country Store.\n",
            "\"Don't worry, Arjun. He'll this is a real dog!\" \n",
            "The couple had gotten the dogs should be courageous, especially a large dog l\n"
          ],
          "name": "stdout"
        }
      ]
    },
    {
      "cell_type": "code",
      "metadata": {
        "id": "40aOlD4BlXhH",
        "colab_type": "code",
        "colab": {}
      },
      "source": [
        ""
      ],
      "execution_count": null,
      "outputs": []
    },
    {
      "cell_type": "code",
      "metadata": {
        "id": "mh_LZ1o-lXjs",
        "colab_type": "code",
        "colab": {}
      },
      "source": [
        ""
      ],
      "execution_count": null,
      "outputs": []
    },
    {
      "cell_type": "code",
      "metadata": {
        "id": "FXk6ijnXj8LL",
        "colab_type": "code",
        "colab": {}
      },
      "source": [
        ""
      ],
      "execution_count": null,
      "outputs": []
    },
    {
      "cell_type": "code",
      "metadata": {
        "id": "zJ2j_pFij8Nu",
        "colab_type": "code",
        "colab": {}
      },
      "source": [
        ""
      ],
      "execution_count": null,
      "outputs": []
    },
    {
      "cell_type": "code",
      "metadata": {
        "id": "cb_jo70_j8QV",
        "colab_type": "code",
        "colab": {}
      },
      "source": [
        ""
      ],
      "execution_count": null,
      "outputs": []
    },
    {
      "cell_type": "code",
      "metadata": {
        "id": "2iqxEtgGj8S9",
        "colab_type": "code",
        "colab": {}
      },
      "source": [
        ""
      ],
      "execution_count": null,
      "outputs": []
    },
    {
      "cell_type": "code",
      "metadata": {
        "id": "UAbV6oU9j8Vu",
        "colab_type": "code",
        "colab": {}
      },
      "source": [
        ""
      ],
      "execution_count": null,
      "outputs": []
    },
    {
      "cell_type": "code",
      "metadata": {
        "id": "KnomQIEFj8YB",
        "colab_type": "code",
        "colab": {}
      },
      "source": [
        ""
      ],
      "execution_count": null,
      "outputs": []
    },
    {
      "cell_type": "code",
      "metadata": {
        "id": "hRrZYcC5j8ag",
        "colab_type": "code",
        "colab": {}
      },
      "source": [
        ""
      ],
      "execution_count": null,
      "outputs": []
    },
    {
      "cell_type": "code",
      "metadata": {
        "id": "KTSgo5cBj8dE",
        "colab_type": "code",
        "colab": {}
      },
      "source": [
        ""
      ],
      "execution_count": null,
      "outputs": []
    },
    {
      "cell_type": "code",
      "metadata": {
        "id": "LE4cWoDrj8fl",
        "colab_type": "code",
        "colab": {}
      },
      "source": [
        ""
      ],
      "execution_count": null,
      "outputs": []
    },
    {
      "cell_type": "code",
      "metadata": {
        "id": "_YIwDHz5j8iP",
        "colab_type": "code",
        "colab": {}
      },
      "source": [
        ""
      ],
      "execution_count": null,
      "outputs": []
    },
    {
      "cell_type": "code",
      "metadata": {
        "id": "GuLzvAz5j8kl",
        "colab_type": "code",
        "colab": {}
      },
      "source": [
        ""
      ],
      "execution_count": null,
      "outputs": []
    },
    {
      "cell_type": "code",
      "metadata": {
        "id": "dibrVIdYj8nD",
        "colab_type": "code",
        "colab": {}
      },
      "source": [
        ""
      ],
      "execution_count": null,
      "outputs": []
    },
    {
      "cell_type": "code",
      "metadata": {
        "id": "k2pJaK0_j8pZ",
        "colab_type": "code",
        "colab": {}
      },
      "source": [
        ""
      ],
      "execution_count": null,
      "outputs": []
    },
    {
      "cell_type": "code",
      "metadata": {
        "id": "scmIU_Hsj8r1",
        "colab_type": "code",
        "colab": {}
      },
      "source": [
        ""
      ],
      "execution_count": null,
      "outputs": []
    },
    {
      "cell_type": "code",
      "metadata": {
        "id": "wK2ZVZQuj8uN",
        "colab_type": "code",
        "colab": {}
      },
      "source": [
        ""
      ],
      "execution_count": null,
      "outputs": []
    },
    {
      "cell_type": "code",
      "metadata": {
        "id": "TZUI9ZM9j8wz",
        "colab_type": "code",
        "colab": {}
      },
      "source": [
        ""
      ],
      "execution_count": null,
      "outputs": []
    },
    {
      "cell_type": "code",
      "metadata": {
        "id": "L0d7hzqPj8zD",
        "colab_type": "code",
        "colab": {}
      },
      "source": [
        ""
      ],
      "execution_count": null,
      "outputs": []
    },
    {
      "cell_type": "code",
      "metadata": {
        "id": "dCvYEweMj81h",
        "colab_type": "code",
        "colab": {}
      },
      "source": [
        ""
      ],
      "execution_count": null,
      "outputs": []
    },
    {
      "cell_type": "code",
      "metadata": {
        "id": "CVcxn6Zpj832",
        "colab_type": "code",
        "colab": {}
      },
      "source": [
        ""
      ],
      "execution_count": null,
      "outputs": []
    },
    {
      "cell_type": "code",
      "metadata": {
        "id": "bNqCW6Ocj86K",
        "colab_type": "code",
        "colab": {}
      },
      "source": [
        ""
      ],
      "execution_count": null,
      "outputs": []
    },
    {
      "cell_type": "code",
      "metadata": {
        "id": "hoo4RJjZj88p",
        "colab_type": "code",
        "colab": {}
      },
      "source": [
        ""
      ],
      "execution_count": null,
      "outputs": []
    },
    {
      "cell_type": "code",
      "metadata": {
        "id": "c5qKRTEWj8-r",
        "colab_type": "code",
        "colab": {}
      },
      "source": [
        ""
      ],
      "execution_count": null,
      "outputs": []
    },
    {
      "cell_type": "code",
      "metadata": {
        "id": "hjWFbszEj9BF",
        "colab_type": "code",
        "colab": {}
      },
      "source": [
        ""
      ],
      "execution_count": null,
      "outputs": []
    },
    {
      "cell_type": "code",
      "metadata": {
        "id": "ZiRg3RZzj9Dk",
        "colab_type": "code",
        "colab": {}
      },
      "source": [
        ""
      ],
      "execution_count": null,
      "outputs": []
    },
    {
      "cell_type": "code",
      "metadata": {
        "id": "U5S5ouIjj9Ft",
        "colab_type": "code",
        "colab": {}
      },
      "source": [
        ""
      ],
      "execution_count": null,
      "outputs": []
    },
    {
      "cell_type": "code",
      "metadata": {
        "id": "mpMusPP2j9IO",
        "colab_type": "code",
        "colab": {}
      },
      "source": [
        ""
      ],
      "execution_count": null,
      "outputs": []
    },
    {
      "cell_type": "code",
      "metadata": {
        "id": "KhkfoHRCj9Kd",
        "colab_type": "code",
        "colab": {}
      },
      "source": [
        ""
      ],
      "execution_count": null,
      "outputs": []
    },
    {
      "cell_type": "code",
      "metadata": {
        "id": "xYWNdTNgj9Ms",
        "colab_type": "code",
        "colab": {}
      },
      "source": [
        ""
      ],
      "execution_count": null,
      "outputs": []
    },
    {
      "cell_type": "code",
      "metadata": {
        "id": "iMar4bfmj9O_",
        "colab_type": "code",
        "colab": {}
      },
      "source": [
        ""
      ],
      "execution_count": null,
      "outputs": []
    },
    {
      "cell_type": "code",
      "metadata": {
        "id": "aGXnjvEpj9Rd",
        "colab_type": "code",
        "colab": {}
      },
      "source": [
        ""
      ],
      "execution_count": null,
      "outputs": []
    },
    {
      "cell_type": "code",
      "metadata": {
        "id": "5HJL4F2Fj9Tq",
        "colab_type": "code",
        "colab": {}
      },
      "source": [
        ""
      ],
      "execution_count": null,
      "outputs": []
    },
    {
      "cell_type": "code",
      "metadata": {
        "id": "3ztQoDgFj9VU",
        "colab_type": "code",
        "colab": {}
      },
      "source": [
        ""
      ],
      "execution_count": null,
      "outputs": []
    },
    {
      "cell_type": "code",
      "metadata": {
        "id": "g2vR6qtpj9Z_",
        "colab_type": "code",
        "colab": {}
      },
      "source": [
        ""
      ],
      "execution_count": null,
      "outputs": []
    }
  ]
}