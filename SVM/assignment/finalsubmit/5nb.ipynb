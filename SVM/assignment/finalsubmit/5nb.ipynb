{
 "cells": [
  {
   "cell_type": "code",
   "execution_count": 1,
   "metadata": {},
   "outputs": [],
   "source": [
    "Q5 = '''Compute the perceptron and MSE procedure for the dataset, with learning rate of 0.1 and initial weight vector\n",
    "[0.1, 0.1, 0.1]. For MSE procedure, with the margin [1; 1; 1; 1; 1; 1; 1; 1]T\n",
    "x1 x2 !\n",
    "1 6 0\n",
    "7 2 0\n",
    "8 9 0\n",
    "9 9 0\n",
    "2 1 1\n",
    "2 2 1\n",
    "2 4 1\n",
    "7 1 1\n",
    "'''"
   ]
  },
  {
   "cell_type": "markdown",
   "metadata": {},
   "source": [
    "<h2>Perceptron Class</h2>"
   ]
  },
  {
   "cell_type": "code",
   "execution_count": 5,
   "metadata": {},
   "outputs": [],
   "source": [
    "import matplotlib.pyplot as plt \n",
    "from matplotlib import style\n",
    "import numpy as np \n",
    "\n",
    "\n",
    "style.use('ggplot')\n",
    "\n",
    "\n",
    "\n",
    "\n",
    "def flatten(seq):\n",
    "  for el in seq:\n",
    "    if isinstance(el, list):\n",
    "      yield from flatten(el)\n",
    "    else:\n",
    "      yield el\n",
    "\n",
    "\n",
    "\n",
    "\n",
    "\n",
    "\n",
    "class PerceptronManual(object):\n",
    "    def __init__(self,traindata,initialweight=None,random1 = True,*args):\n",
    "\n",
    "#         self.colors = {1:'r',-1:'b'}\n",
    "        intial_weight = initialweight\n",
    "        self.nptraindata = np.array(traindata)\n",
    "        if initialweight == None:\n",
    "            self.weights = [intial_weight for i in range(len(traindata[0]))]\n",
    "        else:\n",
    "            self.weights = initialweight\n",
    "            pass\n",
    "        self.traindata = traindata\n",
    "        if random1 == False:\n",
    "            self.weights = [random.randint(1,100) for i in range(len(traindata[0]))]\n",
    "#             self.a = args[0]\n",
    "#             self.b = args[1]\n",
    "#             print(self.a)\n",
    "#             print(self.b)\n",
    "\n",
    "        #visualise\n",
    "       \n",
    "            \n",
    "        \n",
    "        \n",
    "        pass\n",
    "\n",
    "    \n",
    "    def initdraw(self,data1):\n",
    "        get_label = np.unique([i[-1] for i in data1])\n",
    "        self.colors= {}\n",
    "        if len(get_label)!=2:\n",
    "            self.visualise = None#if two categories\n",
    "        else:\n",
    "            self.colors[get_label[0]] = 'r'\n",
    "            self.colors[get_label[1]] = 'b'\n",
    "            \n",
    "            pass \n",
    "        if self.visualise is not None:\n",
    "            xaxis = list(self.nptraindata[:,0])\n",
    "            yaxis = list(self.nptraindata[:,1])\n",
    "            label1 = list(self.nptraindata[:,2])\n",
    "#             if data1:\n",
    "#             print(xaxis)\n",
    "#             print(yaxis)\n",
    "#             print(self.colors)\n",
    "            for ivar in range(len(label1)):\n",
    "                self.ax.scatter(xaxis[ivar],yaxis[ivar],s = 200,marker = '*', c = self.colors[label1[ivar]])\n",
    "                pass\n",
    "            \n",
    "        pass \n",
    "        \n",
    "\n",
    "    def predict(self,data1,weightstemp):\n",
    "        activation  = weightstemp[0]\n",
    "        for i in range(len(data1)-1):\n",
    "            activation += weightstemp[i+1]*data1[i]\n",
    "\n",
    "               \n",
    "            \n",
    "            \n",
    "        return 1.0 if activation>=0 else 0.0\n",
    "        pass \n",
    "\n",
    "        \n",
    "    def train_weights(self,l_rate,n_epoch):#tain data,learning data,epochs\n",
    "#         intial_weight = 0.0\n",
    "#         weights = [intial_weight for i in range(len(train[0]))]\n",
    "        self.iteration = 0\n",
    "        for epocvar in range(n_epoch):\n",
    "            sum_error_var =  0.0\n",
    "            for row in self.traindata:\n",
    "                prediction = self.predict(row,self.weights)\n",
    "                error_pre = row[-1]-prediction\n",
    "                sum_error_var+=error_pre**2\n",
    "                self.weights[0] = self.weights[0] + l_rate*error_pre\n",
    "                for ivar in range(len(row)-1):\n",
    "                    self.weights[ivar+1] = self.weights[ivar+1] +(l_rate*error_pre*row[ivar])\n",
    "\n",
    "            if sum_error_var!=0:\n",
    "                self.iteration+=1\n",
    "                pass\n",
    "            print(\"->Epoch = {:d},learning_rate = {:.3f},error = {:.3f}\".format(epocvar,l_rate,sum_error_var))\n",
    "            print(\"Weights \",self.weights)\n",
    "        return self.weights \n",
    "        \n",
    "    def done(self,weightstemp):\n",
    "        self.visualise = None\n",
    "        if len(self.traindata[0])==3:\n",
    "            self.visualise = True\n",
    "            self.fig = plt.figure()\n",
    "            self.ax = self.fig.add_subplot(1,1,1)\n",
    "            self.initdraw(self.traindata)\n",
    "         #plt line\n",
    "        data1 = self.traindata\n",
    "        if self.visualise is not None and len(weightstemp)==3:\n",
    "            max_feature_value = (max(flatten(data1)))*1.1\n",
    "            min_feature_value = (min(flatten(data1)))*0.9\n",
    "            def hyperplane(x,w,b,v):\n",
    "                return (-w[0]*x-b+v) / w[1]\n",
    "            zer1 = hyperplane(min_feature_value,weightstemp[1:],weightstemp[0],0)\n",
    "            zer2 = hyperplane(max_feature_value,weightstemp[1:],weightstemp[0],0)\n",
    "            self.ax.plot([min_feature_value,max_feature_value],[zer1,zer2])\n",
    "            plt.show()\n",
    "            pass"
   ]
  },
  {
   "cell_type": "code",
   "execution_count": 6,
   "metadata": {},
   "outputs": [],
   "source": [
    "learning_rate = 0.1\n",
    "initialweightvec = [0.1,0.1,0.1]"
   ]
  },
  {
   "cell_type": "code",
   "execution_count": 7,
   "metadata": {},
   "outputs": [],
   "source": [
    "datasetforq5 = [[1.0,6.0,0],[7.0,2.0,0],[8.0,9.0,0],[9.0,9.0,0]\n",
    "               ,[2.0,1.0,1],[2.0,2.0,1],[2.0,4.0,1],[7.0,1.0,1]]"
   ]
  },
  {
   "cell_type": "code",
   "execution_count": 9,
   "metadata": {},
   "outputs": [],
   "source": [
    "#object for perceptron\n",
    "obkect = PerceptronManual(datasetforq5,initialweightvec)"
   ]
  },
  {
   "cell_type": "code",
   "execution_count": 11,
   "metadata": {},
   "outputs": [
    {
     "name": "stdout",
     "output_type": "stream",
     "text": [
      "->Epoch = 0,learning_rate = 0.100,error = 3.000\n",
      "Weights  [2.400000000000001, 0.09999999999999976, -0.20000000000000073]\n",
      "->Epoch = 1,learning_rate = 0.100,error = 5.000\n",
      "Weights  [2.500000000000001, -0.1000000000000002, -0.3000000000000008]\n",
      "->Epoch = 2,learning_rate = 0.100,error = 2.000\n",
      "Weights  [2.500000000000001, -1.942890293094024e-16, -0.5000000000000009]\n",
      "->Epoch = 3,learning_rate = 0.100,error = 3.000\n",
      "Weights  [2.600000000000001, -0.3000000000000002, -0.10000000000000087]\n",
      "->Epoch = 4,learning_rate = 0.100,error = 2.000\n",
      "Weights  [2.600000000000001, -0.20000000000000023, -0.30000000000000093]\n",
      "->Epoch = 5,learning_rate = 0.100,error = 2.000\n",
      "Weights  [2.600000000000001, -0.10000000000000026, -0.500000000000001]\n",
      "->Epoch = 6,learning_rate = 0.100,error = 4.000\n",
      "Weights  [2.800000000000001, 0.29999999999999977, -1.0824674490095276e-15]\n",
      "->Epoch = 7,learning_rate = 0.100,error = 4.000\n",
      "Weights  [2.800000000000001, -0.10000000000000031, -0.20000000000000118]\n",
      "->Epoch = 8,learning_rate = 0.100,error = 2.000\n",
      "Weights  [2.800000000000001, -3.0531133177191805e-16, -0.40000000000000124]\n",
      "->Epoch = 9,learning_rate = 0.100,error = 2.000\n",
      "Weights  [2.800000000000001, 0.0999999999999997, -0.6000000000000013]\n",
      "->Epoch = 10,learning_rate = 0.100,error = 3.000\n",
      "Weights  [2.9000000000000012, -0.2000000000000003, -0.2000000000000014]\n",
      "->Epoch = 11,learning_rate = 0.100,error = 2.000\n",
      "Weights  [2.9000000000000012, -0.10000000000000026, -0.40000000000000147]\n",
      "->Epoch = 12,learning_rate = 0.100,error = 2.000\n",
      "Weights  [2.9000000000000012, -2.498001805406602e-16, -0.6000000000000015]\n",
      "->Epoch = 13,learning_rate = 0.100,error = 3.000\n",
      "Weights  [3.0000000000000013, -0.3000000000000002, -0.20000000000000162]\n",
      "->Epoch = 14,learning_rate = 0.100,error = 2.000\n",
      "Weights  [3.0000000000000013, -0.20000000000000023, -0.4000000000000017]\n",
      "->Epoch = 15,learning_rate = 0.100,error = 2.000\n",
      "Weights  [3.0000000000000013, -0.10000000000000026, -0.6000000000000018]\n",
      "->Epoch = 16,learning_rate = 0.100,error = 3.000\n",
      "Weights  [3.1000000000000014, -0.4000000000000003, -0.20000000000000184]\n",
      "->Epoch = 17,learning_rate = 0.100,error = 2.000\n",
      "Weights  [3.1000000000000014, -0.3000000000000003, -0.4000000000000019]\n",
      "->Epoch = 18,learning_rate = 0.100,error = 2.000\n",
      "Weights  [3.1000000000000014, -0.20000000000000034, -0.600000000000002]\n",
      "->Epoch = 19,learning_rate = 0.100,error = 4.000\n",
      "Weights  [3.3000000000000016, 0.19999999999999962, -0.10000000000000206]\n",
      "->Epoch = 20,learning_rate = 0.100,error = 4.000\n",
      "Weights  [3.3000000000000016, 0.29999999999999966, -0.40000000000000213]\n",
      "->Epoch = 21,learning_rate = 0.100,error = 4.000\n",
      "Weights  [3.3000000000000016, -0.10000000000000042, -0.6000000000000022]\n",
      "->Epoch = 22,learning_rate = 0.100,error = 3.000\n",
      "Weights  [3.4000000000000017, -0.4000000000000005, -0.2000000000000023]\n",
      "->Epoch = 23,learning_rate = 0.100,error = 2.000\n",
      "Weights  [3.4000000000000017, -0.30000000000000054, -0.40000000000000235]\n",
      "->Epoch = 24,learning_rate = 0.100,error = 2.000\n",
      "Weights  [3.4000000000000017, -0.20000000000000057, -0.6000000000000024]\n",
      "->Epoch = 25,learning_rate = 0.100,error = 4.000\n",
      "Weights  [3.600000000000002, 0.1999999999999994, -0.1000000000000025]\n",
      "->Epoch = 26,learning_rate = 0.100,error = 3.000\n",
      "Weights  [3.5000000000000018, -0.40000000000000063, -0.5000000000000026]\n",
      "->Epoch = 27,learning_rate = 0.100,error = 2.000\n",
      "Weights  [3.5000000000000018, -0.30000000000000066, -0.7000000000000027]\n",
      "->Epoch = 28,learning_rate = 0.100,error = 0.000\n",
      "Weights  [3.5000000000000018, -0.30000000000000066, -0.7000000000000027]\n",
      "->Epoch = 29,learning_rate = 0.100,error = 0.000\n",
      "Weights  [3.5000000000000018, -0.30000000000000066, -0.7000000000000027]\n",
      "->Epoch = 30,learning_rate = 0.100,error = 0.000\n",
      "Weights  [3.5000000000000018, -0.30000000000000066, -0.7000000000000027]\n",
      "->Epoch = 31,learning_rate = 0.100,error = 0.000\n",
      "Weights  [3.5000000000000018, -0.30000000000000066, -0.7000000000000027]\n",
      "->Epoch = 32,learning_rate = 0.100,error = 0.000\n",
      "Weights  [3.5000000000000018, -0.30000000000000066, -0.7000000000000027]\n",
      "->Epoch = 33,learning_rate = 0.100,error = 0.000\n",
      "Weights  [3.5000000000000018, -0.30000000000000066, -0.7000000000000027]\n"
     ]
    }
   ],
   "source": [
    "#training\n",
    "finalweights = obkect.train_weights(learning_rate,34)#learning rate , epochs"
   ]
  },
  {
   "cell_type": "code",
   "execution_count": 12,
   "metadata": {},
   "outputs": [
    {
     "data": {
      "image/png": "[encoded data removed]",
      "text/plain": [
       "<Figure size 432x288 with 1 Axes>"
      ]
     },
     "metadata": {},
     "output_type": "display_data"
    }
   ],
   "source": [
    "obkect.done(finalweights)#draw only if 2 classes"
   ]
  },
  {
   "cell_type": "code",
   "execution_count": 13,
   "metadata": {},
   "outputs": [
    {
     "name": "stdout",
     "output_type": "stream",
     "text": [
      "The number of iterations taken for convergence    28\n"
     ]
    }
   ],
   "source": [
    "print(\"The number of iterations taken for convergence   \",obkect.iteration)"
   ]
  },
  {
   "cell_type": "code",
   "execution_count": 14,
   "metadata": {},
   "outputs": [
    {
     "name": "stdout",
     "output_type": "stream",
     "text": [
      "Expected=0, Predicted=0\n",
      "Expected=0, Predicted=0\n",
      "Expected=0, Predicted=0\n",
      "Expected=0, Predicted=0\n",
      "Expected=1, Predicted=1\n",
      "Expected=1, Predicted=1\n",
      "Expected=1, Predicted=1\n",
      "Expected=1, Predicted=1\n"
     ]
    }
   ],
   "source": [
    "for row in datasetforq5:\n",
    "    prediction = obkect.predict(row, finalweights)\n",
    "    print(\"Expected=%d, Predicted=%d\" % (row[-1], prediction))"
   ]
  },
  {
   "cell_type": "code",
   "execution_count": null,
   "metadata": {},
   "outputs": [],
   "source": []
  },
  {
   "cell_type": "code",
   "execution_count": null,
   "metadata": {},
   "outputs": [],
   "source": []
  },
  {
   "cell_type": "code",
   "execution_count": null,
   "metadata": {},
   "outputs": [],
   "source": []
  },
  {
   "cell_type": "code",
   "execution_count": null,
   "metadata": {},
   "outputs": [],
   "source": []
  },
  {
   "cell_type": "code",
   "execution_count": null,
   "metadata": {},
   "outputs": [],
   "source": []
  },
  {
   "cell_type": "code",
   "execution_count": null,
   "metadata": {},
   "outputs": [],
   "source": []
  },
  {
   "cell_type": "code",
   "execution_count": null,
   "metadata": {},
   "outputs": [],
   "source": []
  },
  {
   "cell_type": "code",
   "execution_count": null,
   "metadata": {},
   "outputs": [],
   "source": []
  },
  {
   "cell_type": "code",
   "execution_count": null,
   "metadata": {},
   "outputs": [],
   "source": []
  },
  {
   "cell_type": "code",
   "execution_count": null,
   "metadata": {},
   "outputs": [],
   "source": []
  },
  {
   "cell_type": "code",
   "execution_count": null,
   "metadata": {},
   "outputs": [],
   "source": []
  },
  {
   "cell_type": "code",
   "execution_count": null,
   "metadata": {},
   "outputs": [],
   "source": []
  },
  {
   "cell_type": "code",
   "execution_count": null,
   "metadata": {},
   "outputs": [],
   "source": []
  },
  {
   "cell_type": "code",
   "execution_count": null,
   "metadata": {},
   "outputs": [],
   "source": []
  },
  {
   "cell_type": "code",
   "execution_count": null,
   "metadata": {},
   "outputs": [],
   "source": []
  },
  {
   "cell_type": "code",
   "execution_count": null,
   "metadata": {},
   "outputs": [],
   "source": []
  },
  {
   "cell_type": "code",
   "execution_count": null,
   "metadata": {},
   "outputs": [],
   "source": []
  },
  {
   "cell_type": "code",
   "execution_count": null,
   "metadata": {},
   "outputs": [],
   "source": []
  },
  {
   "cell_type": "code",
   "execution_count": null,
   "metadata": {},
   "outputs": [],
   "source": []
  },
  {
   "cell_type": "code",
   "execution_count": null,
   "metadata": {},
   "outputs": [],
   "source": []
  },
  {
   "cell_type": "code",
   "execution_count": null,
   "metadata": {},
   "outputs": [],
   "source": []
  },
  {
   "cell_type": "code",
   "execution_count": null,
   "metadata": {},
   "outputs": [],
   "source": []
  },
  {
   "cell_type": "code",
   "execution_count": null,
   "metadata": {},
   "outputs": [],
   "source": []
  },
  {
   "cell_type": "code",
   "execution_count": null,
   "metadata": {},
   "outputs": [],
   "source": []
  },
  {
   "cell_type": "code",
   "execution_count": null,
   "metadata": {},
   "outputs": [],
   "source": []
  },
  {
   "cell_type": "code",
   "execution_count": null,
   "metadata": {},
   "outputs": [],
   "source": []
  },
  {
   "cell_type": "code",
   "execution_count": null,
   "metadata": {},
   "outputs": [],
   "source": []
  },
  {
   "cell_type": "code",
   "execution_count": null,
   "metadata": {},
   "outputs": [],
   "source": []
  },
  {
   "cell_type": "code",
   "execution_count": null,
   "metadata": {},
   "outputs": [],
   "source": []
  },
  {
   "cell_type": "code",
   "execution_count": null,
   "metadata": {},
   "outputs": [],
   "source": []
  },
  {
   "cell_type": "code",
   "execution_count": null,
   "metadata": {},
   "outputs": [],
   "source": []
  },
  {
   "cell_type": "code",
   "execution_count": null,
   "metadata": {},
   "outputs": [],
   "source": []
  },
  {
   "cell_type": "code",
   "execution_count": null,
   "metadata": {},
   "outputs": [],
   "source": []
  },
  {
   "cell_type": "code",
   "execution_count": null,
   "metadata": {},
   "outputs": [],
   "source": []
  },
  {
   "cell_type": "code",
   "execution_count": null,
   "metadata": {},
   "outputs": [],
   "source": []
  },
  {
   "cell_type": "code",
   "execution_count": null,
   "metadata": {},
   "outputs": [],
   "source": []
  },
  {
   "cell_type": "code",
   "execution_count": null,
   "metadata": {},
   "outputs": [],
   "source": []
  },
  {
   "cell_type": "code",
   "execution_count": null,
   "metadata": {},
   "outputs": [],
   "source": []
  },
  {
   "cell_type": "code",
   "execution_count": null,
   "metadata": {},
   "outputs": [],
   "source": []
  },
  {
   "cell_type": "code",
   "execution_count": null,
   "metadata": {},
   "outputs": [],
   "source": []
  },
  {
   "cell_type": "code",
   "execution_count": null,
   "metadata": {},
   "outputs": [],
   "source": []
  },
  {
   "cell_type": "code",
   "execution_count": null,
   "metadata": {},
   "outputs": [],
   "source": []
  },
  {
   "cell_type": "code",
   "execution_count": null,
   "metadata": {},
   "outputs": [],
   "source": []
  },
  {
   "cell_type": "code",
   "execution_count": null,
   "metadata": {},
   "outputs": [],
   "source": []
  },
  {
   "cell_type": "code",
   "execution_count": null,
   "metadata": {},
   "outputs": [],
   "source": []
  },
  {
   "cell_type": "code",
   "execution_count": null,
   "metadata": {},
   "outputs": [],
   "source": []
  },
  {
   "cell_type": "code",
   "execution_count": null,
   "metadata": {},
   "outputs": [],
   "source": []
  },
  {
   "cell_type": "code",
   "execution_count": null,
   "metadata": {},
   "outputs": [],
   "source": []
  },
  {
   "cell_type": "code",
   "execution_count": null,
   "metadata": {},
   "outputs": [],
   "source": []
  },
  {
   "cell_type": "code",
   "execution_count": null,
   "metadata": {},
   "outputs": [],
   "source": []
  },
  {
   "cell_type": "code",
   "execution_count": null,
   "metadata": {},
   "outputs": [],
   "source": []
  },
  {
   "cell_type": "code",
   "execution_count": null,
   "metadata": {},
   "outputs": [],
   "source": []
  },
  {
   "cell_type": "code",
   "execution_count": null,
   "metadata": {},
   "outputs": [],
   "source": []
  },
  {
   "cell_type": "code",
   "execution_count": null,
   "metadata": {},
   "outputs": [],
   "source": []
  },
  {
   "cell_type": "code",
   "execution_count": null,
   "metadata": {},
   "outputs": [],
   "source": []
  },
  {
   "cell_type": "code",
   "execution_count": null,
   "metadata": {},
   "outputs": [],
   "source": []
  },
  {
   "cell_type": "code",
   "execution_count": null,
   "metadata": {},
   "outputs": [],
   "source": []
  },
  {
   "cell_type": "code",
   "execution_count": null,
   "metadata": {},
   "outputs": [],
   "source": []
  },
  {
   "cell_type": "code",
   "execution_count": null,
   "metadata": {},
   "outputs": [],
   "source": []
  },
  {
   "cell_type": "code",
   "execution_count": null,
   "metadata": {},
   "outputs": [],
   "source": []
  },
  {
   "cell_type": "code",
   "execution_count": null,
   "metadata": {},
   "outputs": [],
   "source": []
  },
  {
   "cell_type": "code",
   "execution_count": null,
   "metadata": {},
   "outputs": [],
   "source": []
  },
  {
   "cell_type": "code",
   "execution_count": null,
   "metadata": {},
   "outputs": [],
   "source": []
  },
  {
   "cell_type": "code",
   "execution_count": null,
   "metadata": {},
   "outputs": [],
   "source": []
  },
  {
   "cell_type": "code",
   "execution_count": null,
   "metadata": {},
   "outputs": [],
   "source": []
  },
  {
   "cell_type": "code",
   "execution_count": null,
   "metadata": {},
   "outputs": [],
   "source": []
  },
  {
   "cell_type": "code",
   "execution_count": null,
   "metadata": {},
   "outputs": [],
   "source": []
  },
  {
   "cell_type": "code",
   "execution_count": null,
   "metadata": {},
   "outputs": [],
   "source": []
  },
  {
   "cell_type": "code",
   "execution_count": null,
   "metadata": {},
   "outputs": [],
   "source": []
  },
  {
   "cell_type": "code",
   "execution_count": null,
   "metadata": {},
   "outputs": [],
   "source": []
  },
  {
   "cell_type": "code",
   "execution_count": null,
   "metadata": {},
   "outputs": [],
   "source": []
  },
  {
   "cell_type": "code",
   "execution_count": null,
   "metadata": {},
   "outputs": [],
   "source": []
  },
  {
   "cell_type": "code",
   "execution_count": null,
   "metadata": {},
   "outputs": [],
   "source": []
  },
  {
   "cell_type": "code",
   "execution_count": null,
   "metadata": {},
   "outputs": [],
   "source": []
  },
  {
   "cell_type": "code",
   "execution_count": null,
   "metadata": {},
   "outputs": [],
   "source": []
  },
  {
   "cell_type": "code",
   "execution_count": null,
   "metadata": {},
   "outputs": [],
   "source": []
  },
  {
   "cell_type": "code",
   "execution_count": null,
   "metadata": {},
   "outputs": [],
   "source": []
  },
  {
   "cell_type": "code",
   "execution_count": null,
   "metadata": {},
   "outputs": [],
   "source": []
  },
  {
   "cell_type": "code",
   "execution_count": null,
   "metadata": {},
   "outputs": [],
   "source": []
  },
  {
   "cell_type": "code",
   "execution_count": null,
   "metadata": {},
   "outputs": [],
   "source": []
  },
  {
   "cell_type": "code",
   "execution_count": null,
   "metadata": {},
   "outputs": [],
   "source": []
  },
  {
   "cell_type": "code",
   "execution_count": null,
   "metadata": {},
   "outputs": [],
   "source": []
  },
  {
   "cell_type": "code",
   "execution_count": null,
   "metadata": {},
   "outputs": [],
   "source": []
  },
  {
   "cell_type": "code",
   "execution_count": null,
   "metadata": {},
   "outputs": [],
   "source": []
  },
  {
   "cell_type": "code",
   "execution_count": null,
   "metadata": {},
   "outputs": [],
   "source": []
  },
  {
   "cell_type": "code",
   "execution_count": null,
   "metadata": {},
   "outputs": [],
   "source": []
  },
  {
   "cell_type": "code",
   "execution_count": null,
   "metadata": {},
   "outputs": [],
   "source": []
  },
  {
   "cell_type": "code",
   "execution_count": null,
   "metadata": {},
   "outputs": [],
   "source": []
  },
  {
   "cell_type": "code",
   "execution_count": null,
   "metadata": {},
   "outputs": [],
   "source": []
  },
  {
   "cell_type": "code",
   "execution_count": null,
   "metadata": {},
   "outputs": [],
   "source": []
  },
  {
   "cell_type": "code",
   "execution_count": null,
   "metadata": {},
   "outputs": [],
   "source": []
  },
  {
   "cell_type": "code",
   "execution_count": null,
   "metadata": {},
   "outputs": [],
   "source": []
  },
  {
   "cell_type": "code",
   "execution_count": null,
   "metadata": {},
   "outputs": [],
   "source": []
  },
  {
   "cell_type": "code",
   "execution_count": null,
   "metadata": {},
   "outputs": [],
   "source": []
  },
  {
   "cell_type": "code",
   "execution_count": null,
   "metadata": {},
   "outputs": [],
   "source": []
  },
  {
   "cell_type": "code",
   "execution_count": null,
   "metadata": {},
   "outputs": [],
   "source": []
  },
  {
   "cell_type": "code",
   "execution_count": null,
   "metadata": {},
   "outputs": [],
   "source": []
  },
  {
   "cell_type": "code",
   "execution_count": null,
   "metadata": {},
   "outputs": [],
   "source": []
  },
  {
   "cell_type": "code",
   "execution_count": null,
   "metadata": {},
   "outputs": [],
   "source": []
  },
  {
   "cell_type": "code",
   "execution_count": null,
   "metadata": {},
   "outputs": [],
   "source": []
  },
  {
   "cell_type": "code",
   "execution_count": null,
   "metadata": {},
   "outputs": [],
   "source": []
  },
  {
   "cell_type": "code",
   "execution_count": null,
   "metadata": {},
   "outputs": [],
   "source": []
  },
  {
   "cell_type": "code",
   "execution_count": null,
   "metadata": {},
   "outputs": [],
   "source": []
  },
  {
   "cell_type": "code",
   "execution_count": null,
   "metadata": {},
   "outputs": [],
   "source": []
  },
  {
   "cell_type": "code",
   "execution_count": null,
   "metadata": {},
   "outputs": [],
   "source": []
  },
  {
   "cell_type": "code",
   "execution_count": null,
   "metadata": {},
   "outputs": [],
   "source": []
  },
  {
   "cell_type": "code",
   "execution_count": null,
   "metadata": {},
   "outputs": [],
   "source": []
  },
  {
   "cell_type": "code",
   "execution_count": null,
   "metadata": {},
   "outputs": [],
   "source": []
  },
  {
   "cell_type": "code",
   "execution_count": null,
   "metadata": {},
   "outputs": [],
   "source": []
  }
 ],
 "metadata": {
  "kernelspec": {
   "display_name": "Python 3",
   "language": "python",
   "name": "python3"
  },
  "language_info": {
   "codemirror_mode": {
    "name": "ipython",
    "version": 3
   },
   "file_extension": ".py",
   "mimetype": "text/x-python",
   "name": "python",
   "nbconvert_exporter": "python",
   "pygments_lexer": "ipython3",
   "version": "3.7.7"
  }
 },
 "nbformat": 4,
 "nbformat_minor": 4
}
