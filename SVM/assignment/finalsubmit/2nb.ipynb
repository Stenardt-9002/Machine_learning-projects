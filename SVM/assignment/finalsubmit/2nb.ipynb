{
 "cells": [
  {
   "cell_type": "code",
   "execution_count": 4,
   "metadata": {},
   "outputs": [],
   "source": [
    "Q2 = '''Train a single perceptron and SVM to learn the two classes in the following table.\n",
    "x1 x2 !\n",
    "2 2 1\n",
    "-1 -3 0\n",
    "-1 2 1\n",
    "0 -1 0\n",
    "1 3 1\n",
    "-1 -2 0\n",
    "1 -2 0\n",
    "-1 -1 1\n",
    "where x1 and x2 are the inputs and ! is the target class. Assume that all the weights of the perceptron are\n",
    "initialized as 0 with learning rate 0.01 and 0.5 separately. Also, tabulate the number of iterations required to\n",
    "converge the perception algorithm with these two learning rates.'''"
   ]
  },
  {
   "cell_type": "markdown",
   "metadata": {},
   "source": [
    "<h1>S.V.M.</h1>"
   ]
  },
  {
   "cell_type": "code",
   "execution_count": 7,
   "metadata": {},
   "outputs": [],
   "source": [
    "import matplotlib.pyplot as plt \n",
    "from matplotlib import style\n",
    "import numpy as np \n",
    "from sklearn import svm\n",
    "\n",
    "\n",
    "\n",
    "\n",
    "\n",
    "\n",
    "\n",
    "style.use('ggplot')\n",
    "class SVM:\n",
    "    def __init__(self,visualise = True):\n",
    "        # super().__init__()\n",
    "        self.visualise = visualise \n",
    "        self.colors = {1:'r',-1:'b'}\n",
    "        if self.visualise:\n",
    "            self.fig = plt.figure()\n",
    "            self.ax = self.fig.add_subplot(1,1,1)\n",
    "        self.w = None \n",
    "        self.b = None\n",
    "        self.count1 = 0\n",
    "\n",
    "\n",
    "    def fit(self,data):\n",
    "        self.data = data  \n",
    "        # save all magnitudeas as key and fin the minimum one \n",
    "        opt_dict = {}\n",
    "\n",
    "        transofrm = [[1,1],\n",
    "                        [-1,1],\n",
    "                        [-1,-1],\n",
    "                        [1,-1] ]\n",
    "        all_data = []\n",
    "        for yi in self.data:\n",
    "        # for yi in range(len(self.data)):\n",
    "            for featureset in self.data[yi]:\n",
    "                for feature in featureset:\n",
    "                    all_data.append(feature)\n",
    "            \n",
    "        # print(all_data)\n",
    "\n",
    "        self.max_feature_value = max(all_data)\n",
    "        self.min_feature_value = min(all_data)\n",
    "        all_data = None\n",
    "\n",
    "        step_sizes = [self.max_feature_value * 0.1,\n",
    "                      self.max_feature_value * 0.01,\n",
    "                      # point of expense:\n",
    "                      self.max_feature_value * 0.001,\n",
    "                      ]\n",
    "\n",
    "                        \n",
    "        #extremely expensive\n",
    "        b_range_multiple = 5\n",
    "        # b_range_multiple = 2\n",
    "\n",
    "\n",
    "        b_multiple = 5\n",
    "\n",
    "        latest_optimum = self.max_feature_value * 10\n",
    "\n",
    "        for step in step_sizes :\n",
    "            w = np.array([latest_optimum,latest_optimum])\n",
    "            #we can do this\n",
    "            optimised = False \n",
    "\n",
    "\n",
    "            while not optimised:\n",
    "                for b in np.arange(-1*(self.max_feature_value*b_range_multiple),\n",
    "                                   self.max_feature_value*b_range_multiple,\n",
    "                                   step*b_multiple):\n",
    "                    for transformation in transofrm:\n",
    "                        w_t = w*transformation\n",
    "                        found_option = True\n",
    "                        # weakest link in the SVM fundamentally\n",
    "                        # SMO attempts to fix this a bit\n",
    "                        # yi(xi.w+b) >= 1\n",
    "                        # \n",
    "                        # #### add a break here later..\n",
    "                        for i in self.data:\n",
    "                            for xi in self.data[i]:\n",
    "                                yi=i\n",
    "                                self.count1+=1\n",
    "                                if not yi*(np.dot(w_t,xi)+b) >= 1:\n",
    "                                    found_option = False\n",
    "                                    #print(xi,':',yi*(np.dot(w_t,xi)+b))\n",
    "                                    \n",
    "                        if found_option:\n",
    "                            opt_dict[np.linalg.norm(w_t)] = [w_t,b]\n",
    "\n",
    "                if w[0] < 0:\n",
    "                    optimised = True\n",
    "                else:\n",
    "                    w = w - step\n",
    "\n",
    "\n",
    "            norms = sorted([n for n in opt_dict])\n",
    "\n",
    "            opt_choice = opt_dict[norms[0]]\n",
    "\n",
    "            self.w = opt_choice[0]\n",
    "            self.b = opt_choice[1]\n",
    "            latest_optimum = opt_choice[0][0]+step*2\n",
    "\n",
    "    \n",
    "\n",
    "\n",
    "    def predict(self,features):\n",
    "        classification = np.sign(np.dot(np.array(features),self.w)+self.b)\n",
    "        if classification!=0 and self.visualise:\n",
    "            self.ax.scatter(features[0],features[1],s = 200,marker = '*', c = self.colors[classification])\n",
    "\n",
    "        return classification\n",
    "\n",
    "    def visualifucse(self,data_dick1):\n",
    "        [[self.ax.scatter(x[0],x[1],s= 100,color = self.colors[i]) for x in data_dick1[i]] for i in data_dick1]\n",
    "\n",
    "        # v = x.w+b \n",
    "        # psv = 1 \n",
    "        # nsv = -1\n",
    "        def hyperplane(x,w,b,v):\n",
    "            return (-w[0]*x-b+v) / w[1]\n",
    "\n",
    "        datarange = (self.min_feature_value*0.9 , self.max_feature_value*1.1)\n",
    "\n",
    "        hyp_x_min = datarange[0]\n",
    "        hyp_x_max = datarange[1]\n",
    "\n",
    "\n",
    "        #postive support vector\n",
    "        psv1 = hyperplane(hyp_x_min,self.w,self.b,1)\n",
    "        psv2 = hyperplane(hyp_x_max,self.w,self.b,1)\n",
    "        self.ax.plot([hyp_x_min,hyp_x_max],[psv1,psv2],\"k\")\n",
    "\n",
    "\n",
    "        #negative support vector\n",
    "        nsv1 = hyperplane(hyp_x_min,self.w,self.b,-1)\n",
    "        nsv2 = hyperplane(hyp_x_max,self.w,self.b,-1)\n",
    "        self.ax.plot([hyp_x_min,hyp_x_max],[nsv1,nsv2],\"k\")\n",
    "\n",
    "\n",
    "        zer1 = hyperplane(hyp_x_min,self.w,self.b,0)\n",
    "        zer2 = hyperplane(hyp_x_max,self.w,self.b,0)\n",
    "        self.ax.plot([hyp_x_min,hyp_x_max],[zer1,zer2])\n",
    "\n",
    "\n",
    "        plt.show()\n",
    "\n"
   ]
  },
  {
   "cell_type": "markdown",
   "metadata": {},
   "source": [
    "<h3>Run S.V.M object </h3>"
   ]
  },
  {
   "cell_type": "code",
   "execution_count": 8,
   "metadata": {},
   "outputs": [
    {
     "data": {
      "image/png": "[encoded data removed]",
      "text/plain": [
       "<Figure size 432x288 with 1 Axes>"
      ]
     },
     "metadata": {},
     "output_type": "display_data"
    }
   ],
   "source": [
    "# data_di1 = { -1:np.array([[1,0],[0,0],[0,1]]),\n",
    "#                 1:np.array([[1,1]])\n",
    "\n",
    "\n",
    "# }\n",
    "\n",
    "data_di1 = { -1:np.array([[-1,-3],[0,-1],[-1,-2],[1,-2]]),\n",
    "                1:np.array([[2,2],[-1,2],[1,3],[-1,-1]])\n",
    "}\n",
    "\n",
    "\n",
    "svmobj = SVM()\n",
    "svmobj.fit(data_di1)\n",
    "svmobj.visualifucse(data_di1)\n",
    "\n",
    "\n"
   ]
  },
  {
   "cell_type": "code",
   "execution_count": 3,
   "metadata": {},
   "outputs": [
    {
     "data": {
      "text/plain": [
       "SVC(kernel='linear')"
      ]
     },
     "execution_count": 3,
     "metadata": {},
     "output_type": "execute_result"
    }
   ],
   "source": [
    "#Just running default SVM to compare result\n",
    "\n",
    "X = [[-1,-3],[0,-1],[-1,-2],[1,-2],[2,2],[-1,2],[1,3],[-1,-1]]\n",
    "y = [0,0,0,0 ,1,1,1,1]\n",
    "clf = svm.SVC(kernel = 'linear')\n",
    "clf.fit(X, y)"
   ]
  },
  {
   "cell_type": "code",
   "execution_count": 4,
   "metadata": {},
   "outputs": [
    {
     "data": {
      "text/plain": [
       "array([1, 2, 4, 7])"
      ]
     },
     "execution_count": 4,
     "metadata": {},
     "output_type": "execute_result"
    }
   ],
   "source": [
    "clf.support_"
   ]
  },
  {
   "cell_type": "code",
   "execution_count": 5,
   "metadata": {},
   "outputs": [
    {
     "data": {
      "text/plain": [
       "array([[-0.4,  0.8]])"
      ]
     },
     "execution_count": 5,
     "metadata": {},
     "output_type": "execute_result"
    }
   ],
   "source": [
    "clf.coef_"
   ]
  },
  {
   "cell_type": "code",
   "execution_count": 9,
   "metadata": {},
   "outputs": [
    {
     "data": {
      "text/plain": [
       "array([-2.04,  2.04])"
      ]
     },
     "execution_count": 9,
     "metadata": {},
     "output_type": "execute_result"
    }
   ],
   "source": [
    "svmobj.w"
   ]
  },
  {
   "cell_type": "code",
   "execution_count": 10,
   "metadata": {},
   "outputs": [
    {
     "data": {
      "text/plain": [
       "135040"
      ]
     },
     "execution_count": 10,
     "metadata": {},
     "output_type": "execute_result"
    }
   ],
   "source": [
    "svmobj.count1"
   ]
  },
  {
   "cell_type": "code",
   "execution_count": null,
   "metadata": {},
   "outputs": [],
   "source": []
  },
  {
   "cell_type": "code",
   "execution_count": null,
   "metadata": {},
   "outputs": [],
   "source": []
  },
  {
   "cell_type": "code",
   "execution_count": null,
   "metadata": {},
   "outputs": [],
   "source": [
    "# Initial Weight = 0\n",
    "learning rate = 0.01\n",
    "learning rate = 0.5\n"
   ]
  },
  {
   "cell_type": "code",
   "execution_count": null,
   "metadata": {},
   "outputs": [],
   "source": []
  },
  {
   "cell_type": "markdown",
   "metadata": {},
   "source": [
    "<h1>Perceptron</h1>"
   ]
  },
  {
   "cell_type": "code",
   "execution_count": null,
   "metadata": {},
   "outputs": [],
   "source": [
    "#perceptron class"
   ]
  },
  {
   "cell_type": "code",
   "execution_count": 16,
   "metadata": {},
   "outputs": [],
   "source": [
    "import matplotlib.pyplot as plt \n",
    "from matplotlib import style\n",
    "import numpy as np \n",
    "\n",
    "\n",
    "style.use('ggplot')\n",
    "\n",
    "\n",
    "\n",
    "\n",
    "def flatten(seq):\n",
    "  for el in seq:\n",
    "    if isinstance(el, list):\n",
    "      yield from flatten(el)\n",
    "    else:\n",
    "      yield el\n",
    "\n",
    "\n",
    "\n",
    "\n",
    "\n",
    "\n",
    "class PerceptronManual(object):\n",
    "    def __init__(self,traindata,random1 = True,*args):\n",
    "\n",
    "#         self.colors = {1:'r',-1:'b'}\n",
    "        intial_weight = 0.0\n",
    "        self.nptraindata = np.array(traindata)\n",
    "        self.weights = [intial_weight for i in range(len(traindata[0]))]\n",
    "        self.traindata = traindata\n",
    "        if random1 == False:\n",
    "            self.weights = [random.randint(1,100) for i in range(len(traindata[0]))]\n",
    "#             self.a = args[0]\n",
    "#             self.b = args[1]\n",
    "#             print(self.a)\n",
    "#             print(self.b)\n",
    "\n",
    "        #visualise\n",
    "       \n",
    "            \n",
    "        \n",
    "        \n",
    "        pass\n",
    "\n",
    "    \n",
    "    def initdraw(self,data1):\n",
    "        get_label = np.unique([i[-1] for i in data1])\n",
    "        self.colors= {}\n",
    "        if len(get_label)!=2:\n",
    "            self.visualise = None#if two categories\n",
    "        else:\n",
    "            self.colors[get_label[0]] = 'r'\n",
    "            self.colors[get_label[1]] = 'b'\n",
    "            \n",
    "            pass \n",
    "        if self.visualise is not None:\n",
    "            xaxis = list(self.nptraindata[:,0])\n",
    "            yaxis = list(self.nptraindata[:,1])\n",
    "            label1 = list(self.nptraindata[:,2])\n",
    "#             if data1:\n",
    "#             print(xaxis)\n",
    "#             print(yaxis)\n",
    "#             print(self.colors)\n",
    "            for ivar in range(len(label1)):\n",
    "                self.ax.scatter(xaxis[ivar],yaxis[ivar],s = 200,marker = '*', c = self.colors[label1[ivar]])\n",
    "                pass\n",
    "            \n",
    "        pass \n",
    "        \n",
    "\n",
    "    def predict(self,data1,weightstemp):\n",
    "        activation  = weightstemp[0]\n",
    "        for i in range(len(data1)-1):\n",
    "            activation += weightstemp[i+1]*data1[i]\n",
    "\n",
    "               \n",
    "            \n",
    "            \n",
    "        return 1.0 if activation>=0 else 0.0\n",
    "        pass \n",
    "\n",
    "        \n",
    "    def train_weights(self,l_rate,n_epoch):#tain data,learning data,epochs\n",
    "#         intial_weight = 0.0\n",
    "#         weights = [intial_weight for i in range(len(train[0]))]\n",
    "        self.iteration = 0\n",
    "        for epocvar in range(n_epoch):\n",
    "            sum_error_var =  0.0\n",
    "            for row in self.traindata:\n",
    "                prediction = self.predict(row,self.weights)\n",
    "                error_pre = row[-1]-prediction\n",
    "                sum_error_var+=error_pre**2\n",
    "                self.weights[0] = self.weights[0] + l_rate*error_pre\n",
    "                for ivar in range(len(row)-1):\n",
    "                    self.weights[ivar+1] = self.weights[ivar+1] +(l_rate*error_pre*row[ivar])\n",
    "\n",
    "            if sum_error_var!=0:\n",
    "                self.iteration+=1\n",
    "                pass\n",
    "            print(\"->Epoch = {:d},learning_rate = {:.3f},error = {:.3f}\".format(epocvar,l_rate,sum_error_var))\n",
    "            print(\"Weights \",self.weights)\n",
    "        return self.weights \n",
    "        \n",
    "    def done(self,weightstemp):\n",
    "        self.visualise = None\n",
    "        if len(self.traindata[0])==3:\n",
    "            self.visualise = True\n",
    "            self.fig = plt.figure()\n",
    "            self.ax = self.fig.add_subplot(1,1,1)\n",
    "            self.initdraw(self.traindata)\n",
    "         #plt line\n",
    "        data1 = self.traindata\n",
    "        if self.visualise is not None and len(weightstemp)==3:\n",
    "            max_feature_value = (max(flatten(data1)))*1.1\n",
    "            min_feature_value = (min(flatten(data1)))*0.9\n",
    "            def hyperplane(x,w,b,v):\n",
    "                return (-w[0]*x-b+v) / w[1]\n",
    "            zer1 = hyperplane(min_feature_value,weightstemp[1:],weightstemp[0],0)\n",
    "            zer2 = hyperplane(max_feature_value,weightstemp[1:],weightstemp[0],0)\n",
    "            self.ax.plot([min_feature_value,max_feature_value],[zer1,zer2])\n",
    "            plt.show()\n",
    "            pass"
   ]
  },
  {
   "cell_type": "code",
   "execution_count": null,
   "metadata": {},
   "outputs": [],
   "source": []
  },
  {
   "cell_type": "code",
   "execution_count": 17,
   "metadata": {},
   "outputs": [],
   "source": [
    "#data given in sheet\n",
    "datasetforq2 = [[2.0,2.0,1],[-1.0,-3.0,0],[-1.0,2.0,1],[0.0,-1.0,0],\n",
    "                   [1.0,3.0,1],[-1.0,-2.0,0],[1.0,-2.0,0],[-1.0,-1.0,1]]"
   ]
  },
  {
   "cell_type": "code",
   "execution_count": 19,
   "metadata": {},
   "outputs": [],
   "source": [
    "# Learning Rate = 0.01"
   ]
  },
  {
   "cell_type": "code",
   "execution_count": 18,
   "metadata": {},
   "outputs": [
    {
     "name": "stdout",
     "output_type": "stream",
     "text": [
      "->Epoch = 0,learning_rate = 0.010,error = 2.000\n",
      "Weights  [0.0, 0.0, 0.019999999999999997]\n",
      "->Epoch = 1,learning_rate = 0.010,error = 1.000\n",
      "Weights  [0.01, -0.01, 0.009999999999999997]\n",
      "->Epoch = 2,learning_rate = 0.010,error = 2.000\n",
      "Weights  [0.01, -0.02, 0.009999999999999997]\n",
      "->Epoch = 3,learning_rate = 0.010,error = 2.000\n",
      "Weights  [0.03, -0.01, 0.019999999999999997]\n",
      "->Epoch = 4,learning_rate = 0.010,error = 1.000\n",
      "Weights  [0.019999999999999997, -0.01, 0.03]\n",
      "->Epoch = 5,learning_rate = 0.010,error = 0.000\n",
      "Weights  [0.019999999999999997, -0.01, 0.03]\n",
      "->Epoch = 6,learning_rate = 0.010,error = 0.000\n",
      "Weights  [0.019999999999999997, -0.01, 0.03]\n",
      "->Epoch = 7,learning_rate = 0.010,error = 0.000\n",
      "Weights  [0.019999999999999997, -0.01, 0.03]\n",
      "->Epoch = 8,learning_rate = 0.010,error = 0.000\n",
      "Weights  [0.019999999999999997, -0.01, 0.03]\n",
      "->Epoch = 9,learning_rate = 0.010,error = 0.000\n",
      "Weights  [0.019999999999999997, -0.01, 0.03]\n",
      "->Epoch = 10,learning_rate = 0.010,error = 0.000\n",
      "Weights  [0.019999999999999997, -0.01, 0.03]\n",
      "->Epoch = 11,learning_rate = 0.010,error = 0.000\n",
      "Weights  [0.019999999999999997, -0.01, 0.03]\n"
     ]
    }
   ],
   "source": [
    "#running perceptron class\n",
    "obkect = PerceptronManual(datasetforq2)\n",
    "#training\n",
    "finalweights = obkect.train_weights(0.01,12)#learning rate 0.01 epochs = 12"
   ]
  },
  {
   "cell_type": "code",
   "execution_count": 20,
   "metadata": {},
   "outputs": [
    {
     "data": {
      "image/png": "[encoded data removed]",
      "text/plain": [
       "<Figure size 432x288 with 1 Axes>"
      ]
     },
     "metadata": {},
     "output_type": "display_data"
    }
   ],
   "source": [
    "obkect.done(finalweights)#draw only if 2 classes"
   ]
  },
  {
   "cell_type": "code",
   "execution_count": 21,
   "metadata": {},
   "outputs": [
    {
     "name": "stdout",
     "output_type": "stream",
     "text": [
      "The number of iterations taken for convergence    5\n"
     ]
    }
   ],
   "source": [
    "#number of iteration taken\n",
    "print(\"The number of iterations taken for convergence   \",obkect.iteration)"
   ]
  },
  {
   "cell_type": "code",
   "execution_count": 22,
   "metadata": {},
   "outputs": [
    {
     "name": "stdout",
     "output_type": "stream",
     "text": [
      "Expected=1, Predicted=1\n",
      "Expected=0, Predicted=0\n",
      "Expected=1, Predicted=1\n",
      "Expected=0, Predicted=0\n",
      "Expected=1, Predicted=1\n",
      "Expected=0, Predicted=0\n",
      "Expected=0, Predicted=0\n",
      "Expected=1, Predicted=1\n"
     ]
    }
   ],
   "source": [
    "#Comparing result on train data\n",
    "for row in datasetforq2:\n",
    "    prediction = obkect.predict(row, finalweights)\n",
    "    print(\"Expected=%d, Predicted=%d\" % (row[-1], prediction))"
   ]
  },
  {
   "cell_type": "code",
   "execution_count": null,
   "metadata": {},
   "outputs": [],
   "source": []
  },
  {
   "cell_type": "code",
   "execution_count": null,
   "metadata": {},
   "outputs": [],
   "source": []
  },
  {
   "cell_type": "code",
   "execution_count": 23,
   "metadata": {},
   "outputs": [
    {
     "name": "stdout",
     "output_type": "stream",
     "text": [
      "->Epoch = 0,learning_rate = 0.500,error = 2.000\n",
      "Weights  [0.0, 0.0, 1.0]\n",
      "->Epoch = 1,learning_rate = 0.500,error = 1.000\n",
      "Weights  [0.5, -0.5, 0.5]\n",
      "->Epoch = 2,learning_rate = 0.500,error = 2.000\n",
      "Weights  [0.5, -1.0, 0.5]\n",
      "->Epoch = 3,learning_rate = 0.500,error = 2.000\n",
      "Weights  [1.5, -0.5, 1.0]\n",
      "->Epoch = 4,learning_rate = 0.500,error = 1.000\n",
      "Weights  [1.0, -0.5, 1.5]\n",
      "->Epoch = 5,learning_rate = 0.500,error = 0.000\n",
      "Weights  [1.0, -0.5, 1.5]\n",
      "->Epoch = 6,learning_rate = 0.500,error = 0.000\n",
      "Weights  [1.0, -0.5, 1.5]\n",
      "->Epoch = 7,learning_rate = 0.500,error = 0.000\n",
      "Weights  [1.0, -0.5, 1.5]\n",
      "->Epoch = 8,learning_rate = 0.500,error = 0.000\n",
      "Weights  [1.0, -0.5, 1.5]\n",
      "->Epoch = 9,learning_rate = 0.500,error = 0.000\n",
      "Weights  [1.0, -0.5, 1.5]\n",
      "->Epoch = 10,learning_rate = 0.500,error = 0.000\n",
      "Weights  [1.0, -0.5, 1.5]\n",
      "->Epoch = 11,learning_rate = 0.500,error = 0.000\n",
      "Weights  [1.0, -0.5, 1.5]\n",
      "->Epoch = 12,learning_rate = 0.500,error = 0.000\n",
      "Weights  [1.0, -0.5, 1.5]\n",
      "->Epoch = 13,learning_rate = 0.500,error = 0.000\n",
      "Weights  [1.0, -0.5, 1.5]\n",
      "->Epoch = 14,learning_rate = 0.500,error = 0.000\n",
      "Weights  [1.0, -0.5, 1.5]\n",
      "->Epoch = 15,learning_rate = 0.500,error = 0.000\n",
      "Weights  [1.0, -0.5, 1.5]\n",
      "->Epoch = 16,learning_rate = 0.500,error = 0.000\n",
      "Weights  [1.0, -0.5, 1.5]\n",
      "->Epoch = 17,learning_rate = 0.500,error = 0.000\n",
      "Weights  [1.0, -0.5, 1.5]\n",
      "->Epoch = 18,learning_rate = 0.500,error = 0.000\n",
      "Weights  [1.0, -0.5, 1.5]\n",
      "->Epoch = 19,learning_rate = 0.500,error = 0.000\n",
      "Weights  [1.0, -0.5, 1.5]\n",
      "->Epoch = 20,learning_rate = 0.500,error = 0.000\n",
      "Weights  [1.0, -0.5, 1.5]\n",
      "->Epoch = 21,learning_rate = 0.500,error = 0.000\n",
      "Weights  [1.0, -0.5, 1.5]\n",
      "->Epoch = 22,learning_rate = 0.500,error = 0.000\n",
      "Weights  [1.0, -0.5, 1.5]\n",
      "->Epoch = 23,learning_rate = 0.500,error = 0.000\n",
      "Weights  [1.0, -0.5, 1.5]\n"
     ]
    }
   ],
   "source": [
    "# Learning Rate = 0.5\n",
    "\n",
    "\n",
    "#running perceptron class\n",
    "obkect = PerceptronManual(datasetforq2)\n",
    "#training\n",
    "finalweights = obkect.train_weights(0.5,24)#learning rate 0.5 epochs = 24"
   ]
  },
  {
   "cell_type": "code",
   "execution_count": 24,
   "metadata": {},
   "outputs": [
    {
     "data": {
      "image/png": "[encoded data removed]",
      "text/plain": [
       "<Figure size 432x288 with 1 Axes>"
      ]
     },
     "metadata": {},
     "output_type": "display_data"
    }
   ],
   "source": [
    "obkect.done(finalweights)#draw only if 2 classes"
   ]
  },
  {
   "cell_type": "code",
   "execution_count": 25,
   "metadata": {},
   "outputs": [
    {
     "name": "stdout",
     "output_type": "stream",
     "text": [
      "The number of iterations taken for convergence    5\n"
     ]
    }
   ],
   "source": [
    "#number of iteration taken\n",
    "print(\"The number of iterations taken for convergence   \",obkect.iteration)"
   ]
  },
  {
   "cell_type": "code",
   "execution_count": 26,
   "metadata": {},
   "outputs": [
    {
     "name": "stdout",
     "output_type": "stream",
     "text": [
      "Expected=1, Predicted=1\n",
      "Expected=0, Predicted=0\n",
      "Expected=1, Predicted=1\n",
      "Expected=0, Predicted=0\n",
      "Expected=1, Predicted=1\n",
      "Expected=0, Predicted=0\n",
      "Expected=0, Predicted=0\n",
      "Expected=1, Predicted=1\n"
     ]
    }
   ],
   "source": [
    "#Comparing result on train data\n",
    "for row in datasetforq2:\n",
    "    prediction = obkect.predict(row, finalweights)\n",
    "    print(\"Expected=%d, Predicted=%d\" % (row[-1], prediction))"
   ]
  },
  {
   "cell_type": "code",
   "execution_count": null,
   "metadata": {},
   "outputs": [],
   "source": []
  },
  {
   "cell_type": "code",
   "execution_count": null,
   "metadata": {},
   "outputs": [],
   "source": []
  },
  {
   "cell_type": "code",
   "execution_count": null,
   "metadata": {},
   "outputs": [],
   "source": []
  },
  {
   "cell_type": "code",
   "execution_count": null,
   "metadata": {},
   "outputs": [],
   "source": []
  },
  {
   "cell_type": "code",
   "execution_count": null,
   "metadata": {},
   "outputs": [],
   "source": []
  },
  {
   "cell_type": "code",
   "execution_count": null,
   "metadata": {},
   "outputs": [],
   "source": []
  },
  {
   "cell_type": "code",
   "execution_count": null,
   "metadata": {},
   "outputs": [],
   "source": []
  },
  {
   "cell_type": "code",
   "execution_count": null,
   "metadata": {},
   "outputs": [],
   "source": []
  },
  {
   "cell_type": "code",
   "execution_count": null,
   "metadata": {},
   "outputs": [],
   "source": []
  },
  {
   "cell_type": "code",
   "execution_count": null,
   "metadata": {},
   "outputs": [],
   "source": []
  },
  {
   "cell_type": "code",
   "execution_count": null,
   "metadata": {},
   "outputs": [],
   "source": []
  },
  {
   "cell_type": "code",
   "execution_count": null,
   "metadata": {},
   "outputs": [],
   "source": []
  },
  {
   "cell_type": "code",
   "execution_count": null,
   "metadata": {},
   "outputs": [],
   "source": []
  },
  {
   "cell_type": "code",
   "execution_count": null,
   "metadata": {},
   "outputs": [],
   "source": []
  },
  {
   "cell_type": "code",
   "execution_count": null,
   "metadata": {},
   "outputs": [],
   "source": []
  },
  {
   "cell_type": "code",
   "execution_count": null,
   "metadata": {},
   "outputs": [],
   "source": []
  },
  {
   "cell_type": "code",
   "execution_count": null,
   "metadata": {},
   "outputs": [],
   "source": []
  },
  {
   "cell_type": "code",
   "execution_count": null,
   "metadata": {},
   "outputs": [],
   "source": []
  },
  {
   "cell_type": "code",
   "execution_count": null,
   "metadata": {},
   "outputs": [],
   "source": []
  },
  {
   "cell_type": "code",
   "execution_count": null,
   "metadata": {},
   "outputs": [],
   "source": []
  },
  {
   "cell_type": "code",
   "execution_count": null,
   "metadata": {},
   "outputs": [],
   "source": []
  },
  {
   "cell_type": "code",
   "execution_count": null,
   "metadata": {},
   "outputs": [],
   "source": []
  },
  {
   "cell_type": "code",
   "execution_count": null,
   "metadata": {},
   "outputs": [],
   "source": []
  },
  {
   "cell_type": "code",
   "execution_count": null,
   "metadata": {},
   "outputs": [],
   "source": []
  },
  {
   "cell_type": "code",
   "execution_count": null,
   "metadata": {},
   "outputs": [],
   "source": []
  },
  {
   "cell_type": "code",
   "execution_count": null,
   "metadata": {},
   "outputs": [],
   "source": []
  },
  {
   "cell_type": "code",
   "execution_count": null,
   "metadata": {},
   "outputs": [],
   "source": []
  },
  {
   "cell_type": "code",
   "execution_count": null,
   "metadata": {},
   "outputs": [],
   "source": []
  },
  {
   "cell_type": "code",
   "execution_count": null,
   "metadata": {},
   "outputs": [],
   "source": []
  },
  {
   "cell_type": "code",
   "execution_count": null,
   "metadata": {},
   "outputs": [],
   "source": []
  },
  {
   "cell_type": "code",
   "execution_count": null,
   "metadata": {},
   "outputs": [],
   "source": []
  },
  {
   "cell_type": "code",
   "execution_count": null,
   "metadata": {},
   "outputs": [],
   "source": []
  },
  {
   "cell_type": "code",
   "execution_count": null,
   "metadata": {},
   "outputs": [],
   "source": []
  },
  {
   "cell_type": "code",
   "execution_count": null,
   "metadata": {},
   "outputs": [],
   "source": []
  },
  {
   "cell_type": "code",
   "execution_count": null,
   "metadata": {},
   "outputs": [],
   "source": []
  },
  {
   "cell_type": "code",
   "execution_count": null,
   "metadata": {},
   "outputs": [],
   "source": []
  },
  {
   "cell_type": "code",
   "execution_count": null,
   "metadata": {},
   "outputs": [],
   "source": []
  }
 ],
 "metadata": {
  "kernelspec": {
   "display_name": "Python 3",
   "language": "python",
   "name": "python3"
  },
  "language_info": {
   "codemirror_mode": {
    "name": "ipython",
    "version": 3
   },
   "file_extension": ".py",
   "mimetype": "text/x-python",
   "name": "python",
   "nbconvert_exporter": "python",
   "pygments_lexer": "ipython3",
   "version": "3.7.7"
  }
 },
 "nbformat": 4,
 "nbformat_minor": 4
}
