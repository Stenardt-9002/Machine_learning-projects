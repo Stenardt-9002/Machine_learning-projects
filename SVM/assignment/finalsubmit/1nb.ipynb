{
 "cells": [
  {
   "cell_type": "code",
   "execution_count": 1,
   "metadata": {},
   "outputs": [],
   "source": [
    "Q1 = '''Train a single perceptron and SVM to learn an AND gate with two inputs x1 and x2. Assume that all the\n",
    "weights of the perceptron are initialized as 0. Show the calulation for each step and also draw the decision\n",
    "boundary for each updation.'''"
   ]
  },
  {
   "cell_type": "code",
   "execution_count": null,
   "metadata": {},
   "outputs": [],
   "source": []
  },
  {
   "cell_type": "markdown",
   "metadata": {},
   "source": [
    "<h1> S.V.M class</h1>"
   ]
  },
  {
   "cell_type": "code",
   "execution_count": null,
   "metadata": {},
   "outputs": [],
   "source": []
  },
  {
   "cell_type": "code",
   "execution_count": null,
   "metadata": {},
   "outputs": [],
   "source": []
  },
  {
   "cell_type": "code",
   "execution_count": 2,
   "metadata": {},
   "outputs": [],
   "source": [
    "import matplotlib.pyplot as plt \n",
    "from matplotlib import style\n",
    "import numpy as np \n",
    "from sklearn import svm\n",
    "\n",
    "\n",
    "\n",
    "\n",
    "\n",
    "\n",
    "\n",
    "style.use('ggplot')\n",
    "class SVM:\n",
    "    def __init__(self,visualise = True):\n",
    "        # super().__init__()\n",
    "        self.visualise = visualise \n",
    "        self.colors = {1:'r',-1:'b'}\n",
    "        if self.visualise:\n",
    "            self.fig = plt.figure()\n",
    "            self.ax = self.fig.add_subplot(1,1,1)\n",
    "        self.w = None \n",
    "        self.b = None\n",
    "\n",
    "\n",
    "    def fit(self,data):\n",
    "        self.data = data  \n",
    "        # save all magnitudeas as key and fin the minimum one \n",
    "        opt_dict = {}\n",
    "\n",
    "        transofrm = [[1,1],\n",
    "                        [-1,1],\n",
    "                        [-1,-1],\n",
    "                        [1,-1] ]\n",
    "        all_data = []\n",
    "        for yi in self.data:\n",
    "        # for yi in range(len(self.data)):\n",
    "            for featureset in self.data[yi]:\n",
    "                for feature in featureset:\n",
    "                    all_data.append(feature)\n",
    "            \n",
    "        # print(all_data)\n",
    "\n",
    "        self.max_feature_value = max(all_data)\n",
    "        self.min_feature_value = min(all_data)\n",
    "        all_data = None\n",
    "\n",
    "        step_sizes = [self.max_feature_value * 0.1,\n",
    "                      self.max_feature_value * 0.01,\n",
    "                      # point of expense:\n",
    "                      self.max_feature_value * 0.001,\n",
    "                      ]\n",
    "\n",
    "                        \n",
    "        #extremely expensive\n",
    "        b_range_multiple = 5\n",
    "        # b_range_multiple = 2\n",
    "\n",
    "\n",
    "        b_multiple = 5\n",
    "\n",
    "        latest_optimum = self.max_feature_value * 10\n",
    "\n",
    "        for step in step_sizes :\n",
    "            w = np.array([latest_optimum,latest_optimum])\n",
    "            #we can do this\n",
    "            optimised = False \n",
    "\n",
    "\n",
    "            while not optimised:\n",
    "                for b in np.arange(-1*(self.max_feature_value*b_range_multiple),\n",
    "                                   self.max_feature_value*b_range_multiple,\n",
    "                                   step*b_multiple):\n",
    "                    for transformation in transofrm:\n",
    "                        w_t = w*transformation\n",
    "                        found_option = True\n",
    "                        # weakest link in the SVM fundamentally\n",
    "                        # SMO attempts to fix this a bit\n",
    "                        # yi(xi.w+b) >= 1\n",
    "                        # \n",
    "                        # #### add a break here later..\n",
    "                        for i in self.data:\n",
    "                            for xi in self.data[i]:\n",
    "                                yi=i\n",
    "                                if not yi*(np.dot(w_t,xi)+b) >= 1:\n",
    "                                    found_option = False\n",
    "                                    #print(xi,':',yi*(np.dot(w_t,xi)+b))\n",
    "                                    \n",
    "                        if found_option:\n",
    "                            opt_dict[np.linalg.norm(w_t)] = [w_t,b]\n",
    "\n",
    "                if w[0] < 0:\n",
    "                    optimised = True\n",
    "                    \n",
    "                else:\n",
    "                    w = w - step\n",
    "\n",
    "\n",
    "            norms = sorted([n for n in opt_dict])\n",
    "\n",
    "            opt_choice = opt_dict[norms[0]]\n",
    "\n",
    "            self.w = opt_choice[0]\n",
    "            self.b = opt_choice[1]\n",
    "            latest_optimum = opt_choice[0][0]+step*2\n",
    "            \n",
    "\n",
    "    \n",
    "\n",
    "\n",
    "    def predict(self,features):\n",
    "        classification = np.sign(np.dot(np.array(features),self.w)+self.b)\n",
    "        if classification!=0 and self.visualise:\n",
    "            self.ax.scatter(features[0],features[1],s = 200,marker = '*', c = self.colors[classification])\n",
    "\n",
    "        return classification\n",
    "\n",
    "    def visualifucse(self,data_dick1):\n",
    "        [[self.ax.scatter(x[0],x[1],s= 100,color = self.colors[i]) for x in data_dick1[i]] for i in data_dick1]\n",
    "\n",
    "        # v = x.w+b \n",
    "        # psv = 1 \n",
    "        # nsv = -1\n",
    "        def hyperplane(x,w,b,v):\n",
    "            return (-w[0]*x-b+v) / w[1]\n",
    "\n",
    "        datarange = (self.min_feature_value*0.9 , self.max_feature_value*1.1)\n",
    "\n",
    "        hyp_x_min = datarange[0]\n",
    "        hyp_x_max = datarange[1]\n",
    "\n",
    "\n",
    "        #postive support vector\n",
    "        psv1 = hyperplane(hyp_x_min,self.w,self.b,1)\n",
    "        psv2 = hyperplane(hyp_x_max,self.w,self.b,1)\n",
    "        self.ax.plot([hyp_x_min,hyp_x_max],[psv1,psv2],\"k\")\n",
    "\n",
    "\n",
    "        #negative support vector\n",
    "        nsv1 = hyperplane(hyp_x_min,self.w,self.b,-1)\n",
    "        nsv2 = hyperplane(hyp_x_max,self.w,self.b,-1)\n",
    "        self.ax.plot([hyp_x_min,hyp_x_max],[nsv1,nsv2],\"k\")\n",
    "\n",
    "\n",
    "        zer1 = hyperplane(hyp_x_min,self.w,self.b,0)\n",
    "        zer2 = hyperplane(hyp_x_max,self.w,self.b,0)\n",
    "        self.ax.plot([hyp_x_min,hyp_x_max],[zer1,zer2])\n",
    "\n",
    "\n",
    "        plt.show()\n",
    "\n",
    "\n",
    "# data_dict = {-1:np.array([[1,7],\n",
    "#                           [2,8],\n",
    "#                           [3,8],]),\n",
    "             \n",
    "#              1:np.array([[5,1],\n",
    "#                          [6,-1],\n",
    "#                          [7,3],])}\n",
    "\n",
    "\n",
    "data_di1 = { -1:np.array([[1,0],[0,0],[0,1]]),\n",
    "                1:np.array([[1,1]])\n",
    "\n",
    "\n",
    "}\n",
    "\n",
    "\n",
    "# svmobj = SVM()\n",
    "# svmobj.fit(data_di1)\n",
    "# svmobj.visualifucse(data_di1)\n",
    "\n",
    "\n"
   ]
  },
  {
   "cell_type": "code",
   "execution_count": null,
   "metadata": {},
   "outputs": [],
   "source": []
  },
  {
   "cell_type": "markdown",
   "metadata": {},
   "source": [
    "<h3>Running S.V.M. object</h3>"
   ]
  },
  {
   "cell_type": "code",
   "execution_count": null,
   "metadata": {},
   "outputs": [],
   "source": [
    "\n",
    "svmobj = SVM()\n",
    "svmobj.fit(data_di1)\n",
    "svmobj.visualifucse(data_di1)"
   ]
  },
  {
   "cell_type": "code",
   "execution_count": null,
   "metadata": {},
   "outputs": [],
   "source": []
  },
  {
   "cell_type": "code",
   "execution_count": null,
   "metadata": {},
   "outputs": [],
   "source": [
    "from sklearn import svm\n",
    "#just matching the result"
   ]
  },
  {
   "cell_type": "code",
   "execution_count": null,
   "metadata": {},
   "outputs": [],
   "source": [
    "X = [[0, 0], [0, 1], [1, 0], [1, 1]]\n",
    "y = [0,0,0, 1]\n",
    "clf = svm.SVC(kernel = 'linear')\n",
    "clf.fit(X, y)"
   ]
  },
  {
   "cell_type": "code",
   "execution_count": null,
   "metadata": {},
   "outputs": [],
   "source": [
    "clf.support_"
   ]
  },
  {
   "cell_type": "code",
   "execution_count": null,
   "metadata": {},
   "outputs": [],
   "source": [
    "clf.coef_"
   ]
  },
  {
   "cell_type": "code",
   "execution_count": null,
   "metadata": {},
   "outputs": [],
   "source": [
    "svmobj.w"
   ]
  },
  {
   "cell_type": "code",
   "execution_count": null,
   "metadata": {},
   "outputs": [],
   "source": [
    "clf.intercept_"
   ]
  },
  {
   "cell_type": "code",
   "execution_count": null,
   "metadata": {},
   "outputs": [],
   "source": [
    "svmobj.b"
   ]
  },
  {
   "cell_type": "code",
   "execution_count": null,
   "metadata": {},
   "outputs": [],
   "source": []
  },
  {
   "cell_type": "code",
   "execution_count": null,
   "metadata": {},
   "outputs": [],
   "source": []
  },
  {
   "cell_type": "code",
   "execution_count": null,
   "metadata": {},
   "outputs": [],
   "source": []
  },
  {
   "cell_type": "code",
   "execution_count": null,
   "metadata": {},
   "outputs": [],
   "source": []
  },
  {
   "cell_type": "code",
   "execution_count": null,
   "metadata": {},
   "outputs": [],
   "source": []
  },
  {
   "cell_type": "code",
   "execution_count": null,
   "metadata": {},
   "outputs": [],
   "source": []
  },
  {
   "cell_type": "code",
   "execution_count": null,
   "metadata": {},
   "outputs": [],
   "source": []
  },
  {
   "cell_type": "code",
   "execution_count": null,
   "metadata": {},
   "outputs": [],
   "source": []
  },
  {
   "cell_type": "code",
   "execution_count": null,
   "metadata": {},
   "outputs": [],
   "source": []
  },
  {
   "cell_type": "code",
   "execution_count": null,
   "metadata": {},
   "outputs": [],
   "source": []
  },
  {
   "cell_type": "code",
   "execution_count": null,
   "metadata": {},
   "outputs": [],
   "source": []
  },
  {
   "cell_type": "code",
   "execution_count": null,
   "metadata": {},
   "outputs": [],
   "source": []
  },
  {
   "cell_type": "code",
   "execution_count": null,
   "metadata": {},
   "outputs": [],
   "source": []
  },
  {
   "cell_type": "code",
   "execution_count": null,
   "metadata": {},
   "outputs": [],
   "source": []
  },
  {
   "cell_type": "code",
   "execution_count": null,
   "metadata": {},
   "outputs": [],
   "source": [
    "########PERCEPTRON#######"
   ]
  },
  {
   "cell_type": "code",
   "execution_count": null,
   "metadata": {},
   "outputs": [],
   "source": []
  },
  {
   "cell_type": "markdown",
   "metadata": {},
   "source": [
    "<h1>\n",
    "THIS IMPLEMENTATION USES a(k+1 ) = a(k)-n(k)*∂Jr(a)<br>\n",
    "gradient calcualtion is required a(k)-n(k)*∂Jr(a)<br>\n",
    "learning rate is kept = 0.01\n",
    "</h1>\n",
    "\n"
   ]
  },
  {
   "cell_type": "code",
   "execution_count": null,
   "metadata": {},
   "outputs": [],
   "source": []
  },
  {
   "cell_type": "markdown",
   "metadata": {},
   "source": [
    "<h1>\n",
    " Jr = (1/2)(sum(ay-b)^2)/(|y|^2)\n",
    "    </h1>"
   ]
  },
  {
   "cell_type": "code",
   "execution_count": null,
   "metadata": {},
   "outputs": [],
   "source": []
  },
  {
   "cell_type": "code",
   "execution_count": null,
   "metadata": {},
   "outputs": [],
   "source": []
  },
  {
   "cell_type": "code",
   "execution_count": null,
   "metadata": {},
   "outputs": [],
   "source": []
  },
  {
   "cell_type": "markdown",
   "metadata": {},
   "source": [
    "<h1>\n",
    "ALL IMPLEMENTATION OF GRADIENT DESCENT IS THROUGH M.S.E (Minumum Square Error)\n",
    "</h1>"
   ]
  },
  {
   "cell_type": "code",
   "execution_count": null,
   "metadata": {},
   "outputs": [],
   "source": []
  },
  {
   "cell_type": "code",
   "execution_count": null,
   "metadata": {},
   "outputs": [],
   "source": []
  },
  {
   "cell_type": "code",
   "execution_count": null,
   "metadata": {},
   "outputs": [],
   "source": []
  },
  {
   "cell_type": "code",
   "execution_count": null,
   "metadata": {},
   "outputs": [],
   "source": []
  },
  {
   "cell_type": "code",
   "execution_count": null,
   "metadata": {},
   "outputs": [],
   "source": []
  },
  {
   "cell_type": "code",
   "execution_count": null,
   "metadata": {},
   "outputs": [],
   "source": [
    "a1_1 = np.array([[1,2],[3,4],[5,6]])"
   ]
  },
  {
   "cell_type": "code",
   "execution_count": null,
   "metadata": {},
   "outputs": [],
   "source": [
    "a2_1 = np.array([[1,2,3],[4,5,6]])"
   ]
  },
  {
   "cell_type": "code",
   "execution_count": null,
   "metadata": {},
   "outputs": [],
   "source": [
    "a1_1.shape"
   ]
  },
  {
   "cell_type": "code",
   "execution_count": null,
   "metadata": {},
   "outputs": [],
   "source": [
    "a2_1.shape"
   ]
  },
  {
   "cell_type": "code",
   "execution_count": null,
   "metadata": {},
   "outputs": [],
   "source": [
    "np.dot(a2_1,a1_1)"
   ]
  },
  {
   "cell_type": "code",
   "execution_count": null,
   "metadata": {},
   "outputs": [],
   "source": []
  },
  {
   "cell_type": "code",
   "execution_count": null,
   "metadata": {},
   "outputs": [],
   "source": []
  },
  {
   "cell_type": "markdown",
   "metadata": {},
   "source": [
    "<h1>Perceptron</h1>"
   ]
  },
  {
   "cell_type": "code",
   "execution_count": null,
   "metadata": {},
   "outputs": [],
   "source": []
  },
  {
   "cell_type": "code",
   "execution_count": null,
   "metadata": {},
   "outputs": [],
   "source": []
  },
  {
   "cell_type": "code",
   "execution_count": null,
   "metadata": {},
   "outputs": [],
   "source": [
    "import random"
   ]
  },
  {
   "cell_type": "code",
   "execution_count": null,
   "metadata": {},
   "outputs": [],
   "source": [
    "# def visualifucse(self,data_dick1):\n",
    "#     [[self.ax.scatter(x[0],x[1],s= 100,color = self.colors[i]) for x in data_dick1[i]] for i in data_dick1]\n",
    "\n",
    "#     # v = x.w+b \n",
    "#     # psv = 1 \n",
    "#     # nsv = -1\n",
    "#     def hyperplane(x,w,b,v):\n",
    "#         return (-w[0]*x-b+v) / w[1]\n",
    "\n",
    "#     datarange = (self.min_feature_value*0.9 , self.max_feature_value*1.1)\n",
    "\n",
    "#     hyp_x_min = datarange[0]\n",
    "#     hyp_x_max = datarange[1]\n",
    "\n",
    "\n",
    "#     #postive support vector\n",
    "#     psv1 = hyperplane(hyp_x_min,self.w,self.b,1)\n",
    "#     psv2 = hyperplane(hyp_x_max,self.w,self.b,1)\n",
    "#     self.ax.plot([hyp_x_min,hyp_x_max],[psv1,psv2],\"k\")\n",
    "\n",
    "\n",
    "#     #negative support vector\n",
    "#     nsv1 = hyperplane(hyp_x_min,self.w,self.b,-1)\n",
    "#     nsv2 = hyperplane(hyp_x_max,self.w,self.b,-1)\n",
    "#     self.ax.plot([hyp_x_min,hyp_x_max],[nsv1,nsv2],\"k\")\n",
    "\n",
    "\n",
    "#     zer1 = hyperplane(hyp_x_min,self.w,self.b,0)\n",
    "#     zer2 = hyperplane(hyp_x_max,self.w,self.b,0)\n",
    "#     self.ax.plot([hyp_x_min,hyp_x_max],[zer1,zer2])\n",
    "\n",
    "\n",
    "#     plt.show()\n"
   ]
  },
  {
   "cell_type": "code",
   "execution_count": null,
   "metadata": {},
   "outputs": [],
   "source": []
  },
  {
   "cell_type": "code",
   "execution_count": null,
   "metadata": {},
   "outputs": [],
   "source": [
    "#used for creatinf single dimension array from multidim\n",
    "def flatten(seq):\n",
    "  for el in seq:\n",
    "    if isinstance(el, list):\n",
    "      yield from flatten(el)\n",
    "    else:\n",
    "      yield el"
   ]
  },
  {
   "cell_type": "code",
   "execution_count": null,
   "metadata": {},
   "outputs": [],
   "source": []
  },
  {
   "cell_type": "code",
   "execution_count": null,
   "metadata": {},
   "outputs": [],
   "source": [
    "import matplotlib.pyplot as plt \n",
    "from matplotlib import style\n",
    "import numpy as np \n",
    "\n",
    "\n",
    "style.use('ggplot')\n",
    "\n",
    "class PerceptronManual(object):\n",
    "    def __init__(self,traindata,random1 = True,*args):\n",
    "\n",
    "#         self.colors = {1:'r',-1:'b'}\n",
    "        intial_weight = 0.0\n",
    "        self.nptraindata = np.array(traindata)\n",
    "        self.weights = [intial_weight for i in range(len(traindata[0]))]\n",
    "        self.traindata = traindata\n",
    "        if random1 == False:\n",
    "            self.weights = [random.randint(1,100) for i in range(len(traindata[0]))]\n",
    "#             self.a = args[0]\n",
    "#             self.b = args[1]\n",
    "#             print(self.a)\n",
    "#             print(self.b)\n",
    "\n",
    "        #visualise\n",
    "       \n",
    "            \n",
    "        \n",
    "        \n",
    "        pass\n",
    "\n",
    "    \n",
    "    def initdraw(self,data1):\n",
    "        get_label = np.unique([i[-1] for i in data1])\n",
    "        self.colors= {}\n",
    "        if len(get_label)!=2:\n",
    "            self.visualise = None#if two categories\n",
    "        else:\n",
    "            self.colors[get_label[0]] = 'r'\n",
    "            self.colors[get_label[1]] = 'b'\n",
    "            \n",
    "            pass \n",
    "        if self.visualise is not None:\n",
    "            xaxis = list(self.nptraindata[:,0])\n",
    "            yaxis = list(self.nptraindata[:,1])\n",
    "            label1 = list(self.nptraindata[:,2])\n",
    "#             if data1:\n",
    "#             print(xaxis)\n",
    "#             print(yaxis)\n",
    "#             print(self.colors)\n",
    "            for ivar in range(len(label1)):\n",
    "                self.ax.scatter(xaxis[ivar],yaxis[ivar],s = 200,marker = '*', c = self.colors[label1[ivar]])\n",
    "                pass\n",
    "            \n",
    "        pass \n",
    "        \n",
    "\n",
    "    def predict(self,data1,weightstemp):\n",
    "        activation  = weightstemp[0]\n",
    "        for i in range(len(data1)-1):\n",
    "            activation += weightstemp[i+1]*data1[i]\n",
    "\n",
    "               \n",
    "            \n",
    "            \n",
    "        return 1.0 if activation>=0 else 0.0\n",
    "        pass \n",
    "\n",
    "        \n",
    "    def train_weights(self,l_rate,n_epoch):#tain data,learning data,epochs\n",
    "#         intial_weight = 0.0\n",
    "#         weights = [intial_weight for i in range(len(train[0]))]\n",
    "        for epocvar in range(n_epoch):\n",
    "            sum_error_var =  0.0\n",
    "            for row in self.traindata:\n",
    "                prediction = self.predict(row,self.weights)\n",
    "                error_pre = row[-1]-prediction\n",
    "                sum_error_var+=error_pre**2\n",
    "                self.weights[0] = self.weights[0] + l_rate*error_pre\n",
    "                for ivar in range(len(row)-1):\n",
    "                    self.weights[ivar+1] = self.weights[ivar+1] +(l_rate*error_pre*row[ivar])\n",
    "\n",
    "\n",
    "            print(\"->Epoch = {:d},learning_rate = {:.3f},error = {:.3f}\".format(epocvar,l_rate,sum_error_var))\n",
    "            print(\"Weights \",self.weights)\n",
    "        return self.weights \n",
    "        \n",
    "    def done(self,weightstemp):\n",
    "        self.visualise = None\n",
    "        if len(self.traindata[0])==3:\n",
    "            self.visualise = True\n",
    "            self.fig = plt.figure()\n",
    "            self.ax = self.fig.add_subplot(1,1,1)\n",
    "            self.initdraw(self.traindata)\n",
    "         #plt line\n",
    "        data1 = self.traindata\n",
    "        if self.visualise is not None and len(weightstemp)==3:\n",
    "            max_feature_value = (max(flatten(data1)))*1.1\n",
    "            min_feature_value = (min(flatten(data1)))*0.9\n",
    "            def hyperplane(x,w,b,v):\n",
    "                return (-w[0]*x-b+v) / w[1]\n",
    "            zer1 = hyperplane(min_feature_value,weightstemp[1:],weightstemp[0],0)\n",
    "            zer2 = hyperplane(max_feature_value,weightstemp[1:],weightstemp[0],0)\n",
    "            self.ax.plot([min_feature_value,max_feature_value],[zer1,zer2])\n",
    "            plt.show()\n",
    "            pass"
   ]
  },
  {
   "cell_type": "code",
   "execution_count": null,
   "metadata": {},
   "outputs": [],
   "source": [
    "datasetforand = [[0.0,0.0,0],[1.0,0.0,0],[0.0,1.0,0],[1.0,1.0,1]]"
   ]
  },
  {
   "cell_type": "code",
   "execution_count": null,
   "metadata": {},
   "outputs": [],
   "source": [
    "# object of perceptron\n",
    "obkect = PerceptronManual(datasetforand)\n"
   ]
  },
  {
   "cell_type": "code",
   "execution_count": null,
   "metadata": {},
   "outputs": [],
   "source": [
    "#training\n",
    "finalweights = obkect.train_weights(0.01,12)"
   ]
  },
  {
   "cell_type": "code",
   "execution_count": null,
   "metadata": {},
   "outputs": [],
   "source": [
    "obkect.done(obkect.weights)"
   ]
  },
  {
   "cell_type": "code",
   "execution_count": null,
   "metadata": {},
   "outputs": [],
   "source": []
  },
  {
   "cell_type": "code",
   "execution_count": null,
   "metadata": {},
   "outputs": [],
   "source": []
  },
  {
   "cell_type": "code",
   "execution_count": null,
   "metadata": {},
   "outputs": [],
   "source": [
    "#comparision\n",
    "for row in datasetforand:\n",
    "    prediction = obkect.predict(row, finalweights)\n",
    "    print(\"Expected=%d, Predicted=%d\" % (row[-1], prediction))"
   ]
  },
  {
   "cell_type": "code",
   "execution_count": null,
   "metadata": {},
   "outputs": [],
   "source": []
  },
  {
   "cell_type": "code",
   "execution_count": null,
   "metadata": {},
   "outputs": [],
   "source": []
  },
  {
   "cell_type": "code",
   "execution_count": null,
   "metadata": {},
   "outputs": [],
   "source": []
  },
  {
   "cell_type": "code",
   "execution_count": null,
   "metadata": {},
   "outputs": [],
   "source": []
  },
  {
   "cell_type": "code",
   "execution_count": null,
   "metadata": {},
   "outputs": [],
   "source": []
  },
  {
   "cell_type": "code",
   "execution_count": null,
   "metadata": {},
   "outputs": [],
   "source": []
  },
  {
   "cell_type": "code",
   "execution_count": null,
   "metadata": {},
   "outputs": [],
   "source": []
  },
  {
   "cell_type": "code",
   "execution_count": null,
   "metadata": {},
   "outputs": [],
   "source": []
  },
  {
   "cell_type": "code",
   "execution_count": null,
   "metadata": {},
   "outputs": [],
   "source": []
  },
  {
   "cell_type": "code",
   "execution_count": null,
   "metadata": {},
   "outputs": [],
   "source": []
  },
  {
   "cell_type": "code",
   "execution_count": null,
   "metadata": {},
   "outputs": [],
   "source": []
  },
  {
   "cell_type": "code",
   "execution_count": null,
   "metadata": {},
   "outputs": [],
   "source": []
  },
  {
   "cell_type": "code",
   "execution_count": null,
   "metadata": {},
   "outputs": [],
   "source": []
  },
  {
   "cell_type": "code",
   "execution_count": null,
   "metadata": {},
   "outputs": [],
   "source": []
  },
  {
   "cell_type": "code",
   "execution_count": null,
   "metadata": {},
   "outputs": [],
   "source": []
  },
  {
   "cell_type": "code",
   "execution_count": null,
   "metadata": {},
   "outputs": [],
   "source": []
  },
  {
   "cell_type": "code",
   "execution_count": null,
   "metadata": {},
   "outputs": [],
   "source": []
  },
  {
   "cell_type": "code",
   "execution_count": null,
   "metadata": {},
   "outputs": [],
   "source": []
  },
  {
   "cell_type": "code",
   "execution_count": null,
   "metadata": {},
   "outputs": [],
   "source": []
  },
  {
   "cell_type": "code",
   "execution_count": null,
   "metadata": {},
   "outputs": [],
   "source": []
  },
  {
   "cell_type": "code",
   "execution_count": null,
   "metadata": {},
   "outputs": [],
   "source": []
  },
  {
   "cell_type": "code",
   "execution_count": null,
   "metadata": {},
   "outputs": [],
   "source": []
  },
  {
   "cell_type": "code",
   "execution_count": null,
   "metadata": {},
   "outputs": [],
   "source": []
  },
  {
   "cell_type": "code",
   "execution_count": null,
   "metadata": {},
   "outputs": [],
   "source": []
  },
  {
   "cell_type": "code",
   "execution_count": null,
   "metadata": {},
   "outputs": [],
   "source": []
  },
  {
   "cell_type": "code",
   "execution_count": null,
   "metadata": {},
   "outputs": [],
   "source": []
  },
  {
   "cell_type": "code",
   "execution_count": null,
   "metadata": {},
   "outputs": [],
   "source": []
  },
  {
   "cell_type": "code",
   "execution_count": null,
   "metadata": {},
   "outputs": [],
   "source": []
  },
  {
   "cell_type": "code",
   "execution_count": null,
   "metadata": {},
   "outputs": [],
   "source": []
  },
  {
   "cell_type": "code",
   "execution_count": null,
   "metadata": {},
   "outputs": [],
   "source": []
  },
  {
   "cell_type": "code",
   "execution_count": null,
   "metadata": {},
   "outputs": [],
   "source": []
  },
  {
   "cell_type": "code",
   "execution_count": null,
   "metadata": {},
   "outputs": [],
   "source": []
  },
  {
   "cell_type": "code",
   "execution_count": null,
   "metadata": {},
   "outputs": [],
   "source": []
  },
  {
   "cell_type": "code",
   "execution_count": null,
   "metadata": {},
   "outputs": [],
   "source": []
  },
  {
   "cell_type": "code",
   "execution_count": null,
   "metadata": {},
   "outputs": [],
   "source": []
  },
  {
   "cell_type": "code",
   "execution_count": null,
   "metadata": {},
   "outputs": [],
   "source": []
  },
  {
   "cell_type": "code",
   "execution_count": null,
   "metadata": {},
   "outputs": [],
   "source": []
  },
  {
   "cell_type": "code",
   "execution_count": null,
   "metadata": {},
   "outputs": [],
   "source": []
  },
  {
   "cell_type": "code",
   "execution_count": null,
   "metadata": {},
   "outputs": [],
   "source": []
  },
  {
   "cell_type": "code",
   "execution_count": null,
   "metadata": {},
   "outputs": [],
   "source": []
  },
  {
   "cell_type": "code",
   "execution_count": null,
   "metadata": {},
   "outputs": [],
   "source": []
  },
  {
   "cell_type": "code",
   "execution_count": null,
   "metadata": {},
   "outputs": [],
   "source": []
  },
  {
   "cell_type": "code",
   "execution_count": null,
   "metadata": {},
   "outputs": [],
   "source": []
  },
  {
   "cell_type": "code",
   "execution_count": null,
   "metadata": {},
   "outputs": [],
   "source": []
  },
  {
   "cell_type": "code",
   "execution_count": null,
   "metadata": {},
   "outputs": [],
   "source": []
  },
  {
   "cell_type": "code",
   "execution_count": null,
   "metadata": {},
   "outputs": [],
   "source": []
  },
  {
   "cell_type": "code",
   "execution_count": null,
   "metadata": {},
   "outputs": [],
   "source": []
  }
 ],
 "metadata": {
  "kernelspec": {
   "display_name": "Python 3",
   "language": "python",
   "name": "python3"
  },
  "language_info": {
   "codemirror_mode": {
    "name": "ipython",
    "version": 3
   },
   "file_extension": ".py",
   "mimetype": "text/x-python",
   "name": "python",
   "nbconvert_exporter": "python",
   "pygments_lexer": "ipython3",
   "version": "3.7.7"
  }
 },
 "nbformat": 4,
 "nbformat_minor": 4
}
