{
 "cells": [
  {
   "cell_type": "code",
   "execution_count": 4,
   "metadata": {},
   "outputs": [],
   "source": [
    "from sklearn import datasets\n",
    "irosdata = datasets.load_iris()"
   ]
  },
  {
   "cell_type": "code",
   "execution_count": 5,
   "metadata": {},
   "outputs": [
    {
     "data": {
      "text/plain": [
       "'sepal length (cm)'"
      ]
     },
     "execution_count": 5,
     "metadata": {},
     "output_type": "execute_result"
    }
   ],
   "source": [
    "irosdata[\"feature_names\"][0]"
   ]
  },
  {
   "cell_type": "code",
   "execution_count": 6,
   "metadata": {},
   "outputs": [
    {
     "data": {
      "text/plain": [
       "array([0, 0, 0, 0, 0, 0, 0, 0, 0, 0, 0, 0, 0, 0, 0, 0, 0, 0, 0, 0, 0, 0,\n",
       "       0, 0, 0, 0, 0, 0, 0, 0, 0, 0, 0, 0, 0, 0, 0, 0, 0, 0, 0, 0, 0, 0,\n",
       "       0, 0, 0, 0, 0, 0, 1, 1, 1, 1, 1, 1, 1, 1, 1, 1, 1, 1, 1, 1, 1, 1,\n",
       "       1, 1, 1, 1, 1, 1, 1, 1, 1, 1, 1, 1, 1, 1, 1, 1, 1, 1, 1, 1, 1, 1,\n",
       "       1, 1, 1, 1, 1, 1, 1, 1, 1, 1, 1, 1, 2, 2, 2, 2, 2, 2, 2, 2, 2, 2,\n",
       "       2, 2, 2, 2, 2, 2, 2, 2, 2, 2, 2, 2, 2, 2, 2, 2, 2, 2, 2, 2, 2, 2,\n",
       "       2, 2, 2, 2, 2, 2, 2, 2, 2, 2, 2, 2, 2, 2, 2, 2, 2, 2])"
      ]
     },
     "execution_count": 6,
     "metadata": {},
     "output_type": "execute_result"
    }
   ],
   "source": [
    "irosdata.target"
   ]
  },
  {
   "cell_type": "code",
   "execution_count": 73,
   "metadata": {},
   "outputs": [
    {
     "data": {
      "text/plain": [
       "array(['setosa', 'versicolor', 'virginica'], dtype='<U10')"
      ]
     },
     "execution_count": 73,
     "metadata": {},
     "output_type": "execute_result"
    }
   ],
   "source": [
    "irosdata['target_names']#index 2 = 'virgininca'"
   ]
  },
  {
   "cell_type": "code",
   "execution_count": 80,
   "metadata": {},
   "outputs": [],
   "source": [
    "valueofidex = np.where(irosdata['target_names']=='virginica')"
   ]
  },
  {
   "cell_type": "code",
   "execution_count": 82,
   "metadata": {},
   "outputs": [
    {
     "data": {
      "text/plain": [
       "array([2], dtype=int64)"
      ]
     },
     "execution_count": 82,
     "metadata": {},
     "output_type": "execute_result"
    }
   ],
   "source": [
    "valueofidex[0]\n"
   ]
  },
  {
   "cell_type": "code",
   "execution_count": 75,
   "metadata": {},
   "outputs": [
    {
     "ename": "AttributeError",
     "evalue": "'numpy.ndarray' object has no attribute 'index'",
     "output_type": "error",
     "traceback": [
      "\u001b[1;31m---------------------------------------------------------------------------\u001b[0m",
      "\u001b[1;31mAttributeError\u001b[0m                            Traceback (most recent call last)",
      "\u001b[1;32m<ipython-input-75-567ead81da5d>\u001b[0m in \u001b[0;36m<module>\u001b[1;34m\u001b[0m\n\u001b[1;32m----> 1\u001b[1;33m \u001b[0mirosdata\u001b[0m\u001b[1;33m.\u001b[0m\u001b[0mtarget_names\u001b[0m\u001b[1;33m.\u001b[0m\u001b[0mindex\u001b[0m\u001b[1;33m(\u001b[0m\u001b[1;34m'virginica'\u001b[0m\u001b[1;33m)\u001b[0m\u001b[1;33m\u001b[0m\u001b[1;33m\u001b[0m\u001b[0m\n\u001b[0m",
      "\u001b[1;31mAttributeError\u001b[0m: 'numpy.ndarray' object has no attribute 'index'"
     ]
    }
   ],
   "source": [
    "irosdata.target_names.index('virginica')"
   ]
  },
  {
   "cell_type": "code",
   "execution_count": null,
   "metadata": {},
   "outputs": [],
   "source": []
  },
  {
   "cell_type": "code",
   "execution_count": 42,
   "metadata": {},
   "outputs": [],
   "source": [
    "result_dex = np.where(irosdata.target==2)#remove"
   ]
  },
  {
   "cell_type": "code",
   "execution_count": null,
   "metadata": {},
   "outputs": [],
   "source": []
  },
  {
   "cell_type": "code",
   "execution_count": 46,
   "metadata": {},
   "outputs": [
    {
     "data": {
      "text/plain": [
       "array([0, 0, 0, 0, 0, 0, 0, 0, 0, 0, 0, 0, 0, 0, 0, 0, 0, 0, 0, 0, 0, 0,\n",
       "       0, 0, 0, 0, 0, 0, 0, 0, 0, 0, 0, 0, 0, 0, 0, 0, 0, 0, 0, 0, 0, 0,\n",
       "       0, 0, 0, 0, 0, 0, 1, 1, 1, 1, 1, 1, 1, 1, 1, 1, 1, 1, 1, 1, 1, 1,\n",
       "       1, 1, 1, 1, 1, 1, 1, 1, 1, 1, 1, 1, 1, 1, 1, 1, 1, 1, 1, 1, 1, 1,\n",
       "       1, 1, 1, 1, 1, 1, 1, 1, 1, 1, 1, 1])"
      ]
     },
     "execution_count": 46,
     "metadata": {},
     "output_type": "execute_result"
    }
   ],
   "source": [
    "x1 = irosdata.target\n",
    "x2 = np.delete(x1,result_dex)\n",
    "x2"
   ]
  },
  {
   "cell_type": "code",
   "execution_count": 47,
   "metadata": {},
   "outputs": [
    {
     "data": {
      "text/plain": [
       "array([1.4, 3.5, 1.4, 3. , 1.3, 3.2, 1.5, 3.1, 1.4, 3.6, 1.7, 3.9, 1.4,\n",
       "       3.4, 1.5, 3.4, 1.4, 2.9, 1.5, 3.1, 1.5, 3.7, 1.6, 3.4, 1.4, 3. ,\n",
       "       1.1, 3. , 1.2, 4. , 1.5, 4.4, 1.3, 3.9, 1.4, 3.5, 1.7, 3.8, 1.5,\n",
       "       3.8, 1.7, 3.4, 1.5, 3.7, 1. , 3.6, 1.7, 3.3, 1.9, 3.4, 1.6, 3. ,\n",
       "       1.6, 3.4, 1.5, 3.5, 1.4, 3.4, 1.6, 3.2, 1.6, 3.1, 1.5, 3.4, 1.5,\n",
       "       4.1, 1.4, 4.2, 1.5, 3.1, 1.2, 3.2, 1.3, 3.5, 1.4, 3.6, 1.3, 3. ,\n",
       "       1.5, 3.4, 1.3, 3.5, 1.3, 2.3, 1.3, 3.2, 1.6, 3.5, 1.9, 3.8, 1.4,\n",
       "       3. , 1.6, 3.8, 1.4, 3.2, 1.5, 3.7, 1.4, 3.3, 4.4, 3. , 4.8, 2.8,\n",
       "       5. , 3. , 4.5, 2.9, 3.5, 2.6, 3.8, 2.4, 3.7, 2.4, 3.9, 2.7, 5.1,\n",
       "       2.7, 4.5, 3. , 4.5, 3.4, 4.7, 3.1, 4.4, 2.3, 4.1, 3. , 4. , 2.5,\n",
       "       4.4, 2.6, 4.6, 3. , 4. , 2.6, 3.3, 2.3, 4.2, 2.7, 4.2, 3. , 4.2,\n",
       "       2.9, 4.3, 2.9, 3. , 2.5, 4.1, 2.8, 6. , 3.3, 5.1, 2.7, 5.9, 3. ,\n",
       "       5.6, 2.9, 5.8, 3. , 6.6, 3. , 4.5, 2.5, 6.3, 2.9, 5.8, 2.5, 6.1,\n",
       "       3.6, 5.1, 3.2, 5.3, 2.7, 5.5, 3. , 5. , 2.5, 5.1, 2.8, 5.3, 3.2,\n",
       "       5.5, 3. , 6.7, 3.8, 6.9, 2.6, 5. , 2.2, 5.7, 3.2, 4.9, 2.8, 6.7,\n",
       "       2.8, 4.9, 2.7, 5.7, 3.3, 6. , 3.2, 4.8, 2.8, 4.9, 3. , 5.6, 2.8,\n",
       "       5.8, 3. , 6.1, 2.8, 6.4, 3.8, 5.6, 2.8, 5.1, 2.8, 5.6, 2.6, 6.1,\n",
       "       3. , 5.6, 3.4, 5.5, 3.1, 4.8, 3. , 5.4, 3.1, 5.6, 3.1, 5.1, 3.1,\n",
       "       5.1, 2.7, 5.9, 3.2, 5.7, 3.3, 5.2, 3. , 5. , 2.5, 5.2, 3. , 5.4,\n",
       "       3.4, 5.1, 3. ])"
      ]
     },
     "execution_count": 47,
     "metadata": {},
     "output_type": "execute_result"
    }
   ],
   "source": [
    "bothdata = np.delete(bothdata,result_dex)\n"
   ]
  },
  {
   "cell_type": "code",
   "execution_count": null,
   "metadata": {},
   "outputs": [],
   "source": []
  },
  {
   "cell_type": "code",
   "execution_count": null,
   "metadata": {},
   "outputs": [],
   "source": []
  },
  {
   "cell_type": "code",
   "execution_count": null,
   "metadata": {},
   "outputs": [],
   "source": []
  },
  {
   "cell_type": "code",
   "execution_count": 48,
   "metadata": {},
   "outputs": [
    {
     "data": {
      "text/plain": [
       "array([0, 0, 0, 0, 0, 0, 0, 0, 0, 0, 0, 0, 0, 0, 0, 0, 0, 0, 0, 0, 0, 0,\n",
       "       0, 0, 0, 0, 0, 0, 0, 0, 0, 0, 0, 0, 0, 0, 0, 0, 0, 0, 0, 0, 0, 0,\n",
       "       0, 0, 0, 0, 0, 0, 1, 1, 1, 1, 1, 1, 1, 1, 1, 1, 1, 1, 1, 1, 1, 1,\n",
       "       1, 1, 1, 1, 1, 1, 1, 1, 1, 1, 1, 1, 1, 1, 1, 1, 1, 1, 1, 1, 1, 1,\n",
       "       1, 1, 1, 1, 1, 1, 1, 1, 1, 1, 1, 1, 2, 2, 2, 2, 2, 2, 2, 2, 2, 2,\n",
       "       2, 2, 2, 2, 2, 2, 2, 2, 2, 2, 2, 2, 2, 2, 2, 2, 2, 2, 2, 2, 2, 2,\n",
       "       2, 2, 2, 2, 2, 2, 2, 2, 2, 2, 2, 2, 2, 2, 2, 2, 2, 2])"
      ]
     },
     "execution_count": 48,
     "metadata": {},
     "output_type": "execute_result"
    }
   ],
   "source": [
    "x1"
   ]
  },
  {
   "cell_type": "code",
   "execution_count": null,
   "metadata": {},
   "outputs": [],
   "source": []
  },
  {
   "cell_type": "code",
   "execution_count": 49,
   "metadata": {},
   "outputs": [
    {
     "data": {
      "text/plain": [
       "(array([100, 101, 102, 103, 104, 105, 106, 107, 108, 109, 110, 111, 112,\n",
       "        113, 114, 115, 116, 117, 118, 119, 120, 121, 122, 123, 124, 125,\n",
       "        126, 127, 128, 129, 130, 131, 132, 133, 134, 135, 136, 137, 138,\n",
       "        139, 140, 141, 142, 143, 144, 145, 146, 147, 148, 149], dtype=int64),)"
      ]
     },
     "execution_count": 49,
     "metadata": {},
     "output_type": "execute_result"
    }
   ],
   "source": [
    "result_dex"
   ]
  },
  {
   "cell_type": "code",
   "execution_count": 50,
   "metadata": {},
   "outputs": [],
   "source": [
    "petallenidex = irosdata.feature_names.index('petal length (cm)')"
   ]
  },
  {
   "cell_type": "code",
   "execution_count": 51,
   "metadata": {},
   "outputs": [],
   "source": [
    "sepawididex = irosdata.feature_names.index('sepal width (cm)')"
   ]
  },
  {
   "cell_type": "code",
   "execution_count": 52,
   "metadata": {},
   "outputs": [],
   "source": [
    "bothdata = irosdata.data[:, [petallenidex,sepawididex] ]"
   ]
  },
  {
   "cell_type": "code",
   "execution_count": 53,
   "metadata": {},
   "outputs": [
    {
     "data": {
      "text/plain": [
       "[[1.4, 3.5],\n",
       " [1.4, 3.0],\n",
       " [1.3, 3.2],\n",
       " [1.5, 3.1],\n",
       " [1.4, 3.6],\n",
       " [1.7, 3.9],\n",
       " [1.4, 3.4],\n",
       " [1.5, 3.4],\n",
       " [1.4, 2.9],\n",
       " [1.5, 3.1],\n",
       " [1.5, 3.7],\n",
       " [1.6, 3.4],\n",
       " [1.4, 3.0],\n",
       " [1.1, 3.0],\n",
       " [1.2, 4.0],\n",
       " [1.5, 4.4],\n",
       " [1.3, 3.9],\n",
       " [1.4, 3.5],\n",
       " [1.7, 3.8],\n",
       " [1.5, 3.8],\n",
       " [1.7, 3.4],\n",
       " [1.5, 3.7],\n",
       " [1.0, 3.6],\n",
       " [1.7, 3.3],\n",
       " [1.9, 3.4],\n",
       " [1.6, 3.0],\n",
       " [1.6, 3.4],\n",
       " [1.5, 3.5],\n",
       " [1.4, 3.4],\n",
       " [1.6, 3.2],\n",
       " [1.6, 3.1],\n",
       " [1.5, 3.4],\n",
       " [1.5, 4.1],\n",
       " [1.4, 4.2],\n",
       " [1.5, 3.1],\n",
       " [1.2, 3.2],\n",
       " [1.3, 3.5],\n",
       " [1.4, 3.6],\n",
       " [1.3, 3.0],\n",
       " [1.5, 3.4],\n",
       " [1.3, 3.5],\n",
       " [1.3, 2.3],\n",
       " [1.3, 3.2],\n",
       " [1.6, 3.5],\n",
       " [1.9, 3.8],\n",
       " [1.4, 3.0],\n",
       " [1.6, 3.8],\n",
       " [1.4, 3.2],\n",
       " [1.5, 3.7],\n",
       " [1.4, 3.3],\n",
       " [4.7, 3.2],\n",
       " [4.5, 3.2],\n",
       " [4.9, 3.1],\n",
       " [4.0, 2.3],\n",
       " [4.6, 2.8],\n",
       " [4.5, 2.8],\n",
       " [4.7, 3.3],\n",
       " [3.3, 2.4],\n",
       " [4.6, 2.9],\n",
       " [3.9, 2.7],\n",
       " [3.5, 2.0],\n",
       " [4.2, 3.0],\n",
       " [4.0, 2.2],\n",
       " [4.7, 2.9],\n",
       " [3.6, 2.9],\n",
       " [4.4, 3.1],\n",
       " [4.5, 3.0],\n",
       " [4.1, 2.7],\n",
       " [4.5, 2.2],\n",
       " [3.9, 2.5],\n",
       " [4.8, 3.2],\n",
       " [4.0, 2.8],\n",
       " [4.9, 2.5],\n",
       " [4.7, 2.8],\n",
       " [4.3, 2.9],\n",
       " [4.4, 3.0],\n",
       " [4.8, 2.8],\n",
       " [5.0, 3.0],\n",
       " [4.5, 2.9],\n",
       " [3.5, 2.6],\n",
       " [3.8, 2.4],\n",
       " [3.7, 2.4],\n",
       " [3.9, 2.7],\n",
       " [5.1, 2.7],\n",
       " [4.5, 3.0],\n",
       " [4.5, 3.4],\n",
       " [4.7, 3.1],\n",
       " [4.4, 2.3],\n",
       " [4.1, 3.0],\n",
       " [4.0, 2.5],\n",
       " [4.4, 2.6],\n",
       " [4.6, 3.0],\n",
       " [4.0, 2.6],\n",
       " [3.3, 2.3],\n",
       " [4.2, 2.7],\n",
       " [4.2, 3.0],\n",
       " [4.2, 2.9],\n",
       " [4.3, 2.9],\n",
       " [3.0, 2.5],\n",
       " [4.1, 2.8],\n",
       " [6.0, 3.3],\n",
       " [5.1, 2.7],\n",
       " [5.9, 3.0],\n",
       " [5.6, 2.9],\n",
       " [5.8, 3.0],\n",
       " [6.6, 3.0],\n",
       " [4.5, 2.5],\n",
       " [6.3, 2.9],\n",
       " [5.8, 2.5],\n",
       " [6.1, 3.6],\n",
       " [5.1, 3.2],\n",
       " [5.3, 2.7],\n",
       " [5.5, 3.0],\n",
       " [5.0, 2.5],\n",
       " [5.1, 2.8],\n",
       " [5.3, 3.2],\n",
       " [5.5, 3.0],\n",
       " [6.7, 3.8],\n",
       " [6.9, 2.6],\n",
       " [5.0, 2.2],\n",
       " [5.7, 3.2],\n",
       " [4.9, 2.8],\n",
       " [6.7, 2.8],\n",
       " [4.9, 2.7],\n",
       " [5.7, 3.3],\n",
       " [6.0, 3.2],\n",
       " [4.8, 2.8],\n",
       " [4.9, 3.0],\n",
       " [5.6, 2.8],\n",
       " [5.8, 3.0],\n",
       " [6.1, 2.8],\n",
       " [6.4, 3.8],\n",
       " [5.6, 2.8],\n",
       " [5.1, 2.8],\n",
       " [5.6, 2.6],\n",
       " [6.1, 3.0],\n",
       " [5.6, 3.4],\n",
       " [5.5, 3.1],\n",
       " [4.8, 3.0],\n",
       " [5.4, 3.1],\n",
       " [5.6, 3.1],\n",
       " [5.1, 3.1],\n",
       " [5.1, 2.7],\n",
       " [5.9, 3.2],\n",
       " [5.7, 3.3],\n",
       " [5.2, 3.0],\n",
       " [5.0, 2.5],\n",
       " [5.2, 3.0],\n",
       " [5.4, 3.4],\n",
       " [5.1, 3.0]]"
      ]
     },
     "execution_count": 53,
     "metadata": {},
     "output_type": "execute_result"
    }
   ],
   "source": [
    "# bothdata = np.array(bothdata)\n",
    "# firstdata = list(bothdata[:,[0]])\n",
    "# seconddata = list(bothdata[:,[0]])\n",
    "\n",
    "\n",
    "# firstdata = bothdata[:,[0]].tolist()\n",
    "# seconddata = bothdata[:,[1]].tolist()\n",
    "\n",
    "\n",
    "\n",
    "# bothdata = list(bothdata)\n",
    "bothdata = bothdata.tolist()\n",
    "bothdata"
   ]
  },
  {
   "cell_type": "code",
   "execution_count": 54,
   "metadata": {},
   "outputs": [
    {
     "data": {
      "text/plain": [
       "[0,\n",
       " 0,\n",
       " 0,\n",
       " 0,\n",
       " 0,\n",
       " 0,\n",
       " 0,\n",
       " 0,\n",
       " 0,\n",
       " 0,\n",
       " 0,\n",
       " 0,\n",
       " 0,\n",
       " 0,\n",
       " 0,\n",
       " 0,\n",
       " 0,\n",
       " 0,\n",
       " 0,\n",
       " 0,\n",
       " 0,\n",
       " 0,\n",
       " 0,\n",
       " 0,\n",
       " 0,\n",
       " 0,\n",
       " 0,\n",
       " 0,\n",
       " 0,\n",
       " 0,\n",
       " 0,\n",
       " 0,\n",
       " 0,\n",
       " 0,\n",
       " 0,\n",
       " 0,\n",
       " 0,\n",
       " 0,\n",
       " 0,\n",
       " 0,\n",
       " 0,\n",
       " 0,\n",
       " 0,\n",
       " 0,\n",
       " 0,\n",
       " 0,\n",
       " 0,\n",
       " 0,\n",
       " 0,\n",
       " 0,\n",
       " 1,\n",
       " 1,\n",
       " 1,\n",
       " 1,\n",
       " 1,\n",
       " 1,\n",
       " 1,\n",
       " 1,\n",
       " 1,\n",
       " 1,\n",
       " 1,\n",
       " 1,\n",
       " 1,\n",
       " 1,\n",
       " 1,\n",
       " 1,\n",
       " 1,\n",
       " 1,\n",
       " 1,\n",
       " 1,\n",
       " 1,\n",
       " 1,\n",
       " 1,\n",
       " 1,\n",
       " 1,\n",
       " 1,\n",
       " 1,\n",
       " 1,\n",
       " 1,\n",
       " 1,\n",
       " 1,\n",
       " 1,\n",
       " 1,\n",
       " 1,\n",
       " 1,\n",
       " 1,\n",
       " 1,\n",
       " 1,\n",
       " 1,\n",
       " 1,\n",
       " 1,\n",
       " 1,\n",
       " 1,\n",
       " 1,\n",
       " 1,\n",
       " 1,\n",
       " 1,\n",
       " 1,\n",
       " 1,\n",
       " 1,\n",
       " 2,\n",
       " 2,\n",
       " 2,\n",
       " 2,\n",
       " 2,\n",
       " 2,\n",
       " 2,\n",
       " 2,\n",
       " 2,\n",
       " 2,\n",
       " 2,\n",
       " 2,\n",
       " 2,\n",
       " 2,\n",
       " 2,\n",
       " 2,\n",
       " 2,\n",
       " 2,\n",
       " 2,\n",
       " 2,\n",
       " 2,\n",
       " 2,\n",
       " 2,\n",
       " 2,\n",
       " 2,\n",
       " 2,\n",
       " 2,\n",
       " 2,\n",
       " 2,\n",
       " 2,\n",
       " 2,\n",
       " 2,\n",
       " 2,\n",
       " 2,\n",
       " 2,\n",
       " 2,\n",
       " 2,\n",
       " 2,\n",
       " 2,\n",
       " 2,\n",
       " 2,\n",
       " 2,\n",
       " 2,\n",
       " 2,\n",
       " 2,\n",
       " 2,\n",
       " 2,\n",
       " 2,\n",
       " 2,\n",
       " 2]"
      ]
     },
     "execution_count": 54,
     "metadata": {},
     "output_type": "execute_result"
    }
   ],
   "source": [
    "target_label = list(irosdata['target'])\n",
    "target_label"
   ]
  },
  {
   "cell_type": "code",
   "execution_count": null,
   "metadata": {},
   "outputs": [],
   "source": []
  },
  {
   "cell_type": "code",
   "execution_count": 41,
   "metadata": {},
   "outputs": [
    {
     "data": {
      "text/plain": [
       "[[1.4, 3.5, 0.0],\n",
       " [1.4, 3.0, 0.0],\n",
       " [1.3, 3.2, 0.0],\n",
       " [1.5, 3.1, 0.0],\n",
       " [1.4, 3.6, 0.0],\n",
       " [1.7, 3.9, 0.0],\n",
       " [1.4, 3.4, 0.0],\n",
       " [1.5, 3.4, 0.0],\n",
       " [1.4, 2.9, 0.0],\n",
       " [1.5, 3.1, 0.0],\n",
       " [1.5, 3.7, 0.0],\n",
       " [1.6, 3.4, 0.0],\n",
       " [1.4, 3.0, 0.0],\n",
       " [1.1, 3.0, 0.0],\n",
       " [1.2, 4.0, 0.0],\n",
       " [1.5, 4.4, 0.0],\n",
       " [1.3, 3.9, 0.0],\n",
       " [1.4, 3.5, 0.0],\n",
       " [1.7, 3.8, 0.0],\n",
       " [1.5, 3.8, 0.0],\n",
       " [1.7, 3.4, 0.0],\n",
       " [1.5, 3.7, 0.0],\n",
       " [1.0, 3.6, 0.0],\n",
       " [1.7, 3.3, 0.0],\n",
       " [1.9, 3.4, 0.0],\n",
       " [1.6, 3.0, 0.0],\n",
       " [1.6, 3.4, 0.0],\n",
       " [1.5, 3.5, 0.0],\n",
       " [1.4, 3.4, 0.0],\n",
       " [1.6, 3.2, 0.0],\n",
       " [1.6, 3.1, 0.0],\n",
       " [1.5, 3.4, 0.0],\n",
       " [1.5, 4.1, 0.0],\n",
       " [1.4, 4.2, 0.0],\n",
       " [1.5, 3.1, 0.0],\n",
       " [1.2, 3.2, 0.0],\n",
       " [1.3, 3.5, 0.0],\n",
       " [1.4, 3.6, 0.0],\n",
       " [1.3, 3.0, 0.0],\n",
       " [1.5, 3.4, 0.0],\n",
       " [1.3, 3.5, 0.0],\n",
       " [1.3, 2.3, 0.0],\n",
       " [1.3, 3.2, 0.0],\n",
       " [1.6, 3.5, 0.0],\n",
       " [1.9, 3.8, 0.0],\n",
       " [1.4, 3.0, 0.0],\n",
       " [1.6, 3.8, 0.0],\n",
       " [1.4, 3.2, 0.0],\n",
       " [1.5, 3.7, 0.0],\n",
       " [1.4, 3.3, 0.0],\n",
       " [4.7, 3.2, 1.0],\n",
       " [4.5, 3.2, 1.0],\n",
       " [4.9, 3.1, 1.0],\n",
       " [4.0, 2.3, 1.0],\n",
       " [4.6, 2.8, 1.0],\n",
       " [4.5, 2.8, 1.0],\n",
       " [4.7, 3.3, 1.0],\n",
       " [3.3, 2.4, 1.0],\n",
       " [4.6, 2.9, 1.0],\n",
       " [3.9, 2.7, 1.0],\n",
       " [3.5, 2.0, 1.0],\n",
       " [4.2, 3.0, 1.0],\n",
       " [4.0, 2.2, 1.0],\n",
       " [4.7, 2.9, 1.0],\n",
       " [3.6, 2.9, 1.0],\n",
       " [4.4, 3.1, 1.0],\n",
       " [4.5, 3.0, 1.0],\n",
       " [4.1, 2.7, 1.0],\n",
       " [4.5, 2.2, 1.0],\n",
       " [3.9, 2.5, 1.0],\n",
       " [4.8, 3.2, 1.0],\n",
       " [4.0, 2.8, 1.0],\n",
       " [4.9, 2.5, 1.0],\n",
       " [4.7, 2.8, 1.0],\n",
       " [4.3, 2.9, 1.0],\n",
       " [4.4, 3.0, 1.0],\n",
       " [4.8, 2.8, 1.0],\n",
       " [5.0, 3.0, 1.0],\n",
       " [4.5, 2.9, 1.0],\n",
       " [3.5, 2.6, 1.0],\n",
       " [3.8, 2.4, 1.0],\n",
       " [3.7, 2.4, 1.0],\n",
       " [3.9, 2.7, 1.0],\n",
       " [5.1, 2.7, 1.0],\n",
       " [4.5, 3.0, 1.0],\n",
       " [4.5, 3.4, 1.0],\n",
       " [4.7, 3.1, 1.0],\n",
       " [4.4, 2.3, 1.0],\n",
       " [4.1, 3.0, 1.0],\n",
       " [4.0, 2.5, 1.0],\n",
       " [4.4, 2.6, 1.0],\n",
       " [4.6, 3.0, 1.0],\n",
       " [4.0, 2.6, 1.0],\n",
       " [3.3, 2.3, 1.0],\n",
       " [4.2, 2.7, 1.0],\n",
       " [4.2, 3.0, 1.0],\n",
       " [4.2, 2.9, 1.0],\n",
       " [4.3, 2.9, 1.0],\n",
       " [3.0, 2.5, 1.0],\n",
       " [4.1, 2.8, 1.0],\n",
       " [6.0, 3.3, 2.0],\n",
       " [5.1, 2.7, 2.0],\n",
       " [5.9, 3.0, 2.0],\n",
       " [5.6, 2.9, 2.0],\n",
       " [5.8, 3.0, 2.0],\n",
       " [6.6, 3.0, 2.0],\n",
       " [4.5, 2.5, 2.0],\n",
       " [6.3, 2.9, 2.0],\n",
       " [5.8, 2.5, 2.0],\n",
       " [6.1, 3.6, 2.0],\n",
       " [5.1, 3.2, 2.0],\n",
       " [5.3, 2.7, 2.0],\n",
       " [5.5, 3.0, 2.0],\n",
       " [5.0, 2.5, 2.0],\n",
       " [5.1, 2.8, 2.0],\n",
       " [5.3, 3.2, 2.0],\n",
       " [5.5, 3.0, 2.0],\n",
       " [6.7, 3.8, 2.0],\n",
       " [6.9, 2.6, 2.0],\n",
       " [5.0, 2.2, 2.0],\n",
       " [5.7, 3.2, 2.0],\n",
       " [4.9, 2.8, 2.0],\n",
       " [6.7, 2.8, 2.0],\n",
       " [4.9, 2.7, 2.0],\n",
       " [5.7, 3.3, 2.0],\n",
       " [6.0, 3.2, 2.0],\n",
       " [4.8, 2.8, 2.0],\n",
       " [4.9, 3.0, 2.0],\n",
       " [5.6, 2.8, 2.0],\n",
       " [5.8, 3.0, 2.0],\n",
       " [6.1, 2.8, 2.0],\n",
       " [6.4, 3.8, 2.0],\n",
       " [5.6, 2.8, 2.0],\n",
       " [5.1, 2.8, 2.0],\n",
       " [5.6, 2.6, 2.0],\n",
       " [6.1, 3.0, 2.0],\n",
       " [5.6, 3.4, 2.0],\n",
       " [5.5, 3.1, 2.0],\n",
       " [4.8, 3.0, 2.0],\n",
       " [5.4, 3.1, 2.0],\n",
       " [5.6, 3.1, 2.0],\n",
       " [5.1, 3.1, 2.0],\n",
       " [5.1, 2.7, 2.0],\n",
       " [5.9, 3.2, 2.0],\n",
       " [5.7, 3.3, 2.0],\n",
       " [5.2, 3.0, 2.0],\n",
       " [5.0, 2.5, 2.0],\n",
       " [5.2, 3.0, 2.0],\n",
       " [5.4, 3.4, 2.0],\n",
       " [5.1, 3.0, 2.0]]"
      ]
     },
     "execution_count": 41,
     "metadata": {},
     "output_type": "execute_result"
    }
   ],
   "source": [
    "# dataset_comb = list(zip(bothdata,target_label))\n",
    "dataset_comb = np.column_stack((bothdata,target_label))\n",
    "dataset_comb = dataset_comb.tolist()\n",
    "dataset_comb\n"
   ]
  },
  {
   "cell_type": "code",
   "execution_count": null,
   "metadata": {},
   "outputs": [],
   "source": []
  },
  {
   "cell_type": "code",
   "execution_count": 16,
   "metadata": {},
   "outputs": [
    {
     "data": {
      "text/plain": [
       "array(['setosa', 'versicolor', 'virginica'], dtype='<U10')"
      ]
     },
     "execution_count": 16,
     "metadata": {},
     "output_type": "execute_result"
    }
   ],
   "source": [
    "irosdata['target_names']#index 2 = 'virgininca'"
   ]
  },
  {
   "cell_type": "code",
   "execution_count": 17,
   "metadata": {},
   "outputs": [
    {
     "data": {
      "text/plain": [
       "array([3.5, 1.4])"
      ]
     },
     "execution_count": 17,
     "metadata": {},
     "output_type": "execute_result"
    }
   ],
   "source": [
    "x1 = irosdata.data[0, 1:3]\n",
    "x1"
   ]
  },
  {
   "cell_type": "markdown",
   "metadata": {},
   "source": [
    "<h3>CLASSIFICATION only between setosa and versicolor</h3>"
   ]
  },
  {
   "cell_type": "code",
   "execution_count": 19,
   "metadata": {},
   "outputs": [],
   "source": [
    "import numpy as np"
   ]
  },
  {
   "cell_type": "code",
   "execution_count": 63,
   "metadata": {},
   "outputs": [],
   "source": [
    "bothdata\n",
    "botdata = np.array(bothdata)"
   ]
  },
  {
   "cell_type": "code",
   "execution_count": 67,
   "metadata": {},
   "outputs": [
    {
     "data": {
      "text/plain": [
       "array([1.4, 3.5])"
      ]
     },
     "execution_count": 67,
     "metadata": {},
     "output_type": "execute_result"
    }
   ],
   "source": [
    "botdata[0]"
   ]
  },
  {
   "cell_type": "code",
   "execution_count": 62,
   "metadata": {},
   "outputs": [
    {
     "data": {
      "text/plain": [
       "(array([100, 101, 102, 103, 104, 105, 106, 107, 108, 109, 110, 111, 112,\n",
       "        113, 114, 115, 116, 117, 118, 119, 120, 121, 122, 123, 124, 125,\n",
       "        126, 127, 128, 129, 130, 131, 132, 133, 134, 135, 136, 137, 138,\n",
       "        139, 140, 141, 142, 143, 144, 145, 146, 147, 148, 149], dtype=int64),)"
      ]
     },
     "execution_count": 62,
     "metadata": {},
     "output_type": "execute_result"
    }
   ],
   "source": [
    "result_dex\n"
   ]
  },
  {
   "cell_type": "code",
   "execution_count": 71,
   "metadata": {},
   "outputs": [
    {
     "data": {
      "text/plain": [
       "array([[1.4, 3.5],\n",
       "       [1.4, 3. ],\n",
       "       [1.3, 3.2],\n",
       "       [1.5, 3.1],\n",
       "       [1.4, 3.6],\n",
       "       [1.7, 3.9],\n",
       "       [1.4, 3.4],\n",
       "       [1.5, 3.4],\n",
       "       [1.4, 2.9],\n",
       "       [1.5, 3.1],\n",
       "       [1.5, 3.7],\n",
       "       [1.6, 3.4],\n",
       "       [1.4, 3. ],\n",
       "       [1.1, 3. ],\n",
       "       [1.2, 4. ],\n",
       "       [1.5, 4.4],\n",
       "       [1.3, 3.9],\n",
       "       [1.4, 3.5],\n",
       "       [1.7, 3.8],\n",
       "       [1.5, 3.8],\n",
       "       [1.7, 3.4],\n",
       "       [1.5, 3.7],\n",
       "       [1. , 3.6],\n",
       "       [1.7, 3.3],\n",
       "       [1.9, 3.4],\n",
       "       [1.6, 3. ],\n",
       "       [1.6, 3.4],\n",
       "       [1.5, 3.5],\n",
       "       [1.4, 3.4],\n",
       "       [1.6, 3.2],\n",
       "       [1.6, 3.1],\n",
       "       [1.5, 3.4],\n",
       "       [1.5, 4.1],\n",
       "       [1.4, 4.2],\n",
       "       [1.5, 3.1],\n",
       "       [1.2, 3.2],\n",
       "       [1.3, 3.5],\n",
       "       [1.4, 3.6],\n",
       "       [1.3, 3. ],\n",
       "       [1.5, 3.4],\n",
       "       [1.3, 3.5],\n",
       "       [1.3, 2.3],\n",
       "       [1.3, 3.2],\n",
       "       [1.6, 3.5],\n",
       "       [1.9, 3.8],\n",
       "       [1.4, 3. ],\n",
       "       [1.6, 3.8],\n",
       "       [1.4, 3.2],\n",
       "       [1.5, 3.7],\n",
       "       [1.4, 3.3],\n",
       "       [4.7, 3.2],\n",
       "       [4.5, 3.2],\n",
       "       [4.9, 3.1],\n",
       "       [4. , 2.3],\n",
       "       [4.6, 2.8],\n",
       "       [4.5, 2.8],\n",
       "       [4.7, 3.3],\n",
       "       [3.3, 2.4],\n",
       "       [4.6, 2.9],\n",
       "       [3.9, 2.7],\n",
       "       [3.5, 2. ],\n",
       "       [4.2, 3. ],\n",
       "       [4. , 2.2],\n",
       "       [4.7, 2.9],\n",
       "       [3.6, 2.9],\n",
       "       [4.4, 3.1],\n",
       "       [4.5, 3. ],\n",
       "       [4.1, 2.7],\n",
       "       [4.5, 2.2],\n",
       "       [3.9, 2.5],\n",
       "       [4.8, 3.2],\n",
       "       [4. , 2.8],\n",
       "       [4.9, 2.5],\n",
       "       [4.7, 2.8],\n",
       "       [4.3, 2.9],\n",
       "       [4.4, 3. ],\n",
       "       [4.8, 2.8],\n",
       "       [5. , 3. ],\n",
       "       [4.5, 2.9],\n",
       "       [3.5, 2.6],\n",
       "       [3.8, 2.4],\n",
       "       [3.7, 2.4],\n",
       "       [3.9, 2.7],\n",
       "       [5.1, 2.7],\n",
       "       [4.5, 3. ],\n",
       "       [4.5, 3.4],\n",
       "       [4.7, 3.1],\n",
       "       [4.4, 2.3],\n",
       "       [4.1, 3. ],\n",
       "       [4. , 2.5],\n",
       "       [4.4, 2.6],\n",
       "       [4.6, 3. ],\n",
       "       [4. , 2.6],\n",
       "       [3.3, 2.3],\n",
       "       [4.2, 2.7],\n",
       "       [4.2, 3. ],\n",
       "       [4.2, 2.9],\n",
       "       [4.3, 2.9],\n",
       "       [3. , 2.5],\n",
       "       [4.1, 2.8],\n",
       "       [6. , 3.3],\n",
       "       [5.1, 2.7],\n",
       "       [5.9, 3. ],\n",
       "       [5.6, 2.9],\n",
       "       [5.8, 3. ],\n",
       "       [6.6, 3. ],\n",
       "       [4.5, 2.5],\n",
       "       [6.3, 2.9],\n",
       "       [5.8, 2.5],\n",
       "       [6.1, 3.6],\n",
       "       [5.1, 3.2],\n",
       "       [5.3, 2.7],\n",
       "       [5.5, 3. ],\n",
       "       [5. , 2.5],\n",
       "       [5.1, 2.8],\n",
       "       [5.3, 3.2],\n",
       "       [5.5, 3. ],\n",
       "       [6.7, 3.8],\n",
       "       [6.9, 2.6],\n",
       "       [5. , 2.2],\n",
       "       [5.7, 3.2],\n",
       "       [4.9, 2.8],\n",
       "       [6.7, 2.8],\n",
       "       [4.9, 2.7],\n",
       "       [5.7, 3.3],\n",
       "       [6. , 3.2],\n",
       "       [4.8, 2.8],\n",
       "       [4.9, 3. ],\n",
       "       [5.6, 2.8],\n",
       "       [5.8, 3. ],\n",
       "       [6.1, 2.8],\n",
       "       [6.4, 3.8],\n",
       "       [5.6, 2.8],\n",
       "       [5.1, 2.8],\n",
       "       [5.6, 2.6],\n",
       "       [6.1, 3. ],\n",
       "       [5.6, 3.4],\n",
       "       [5.5, 3.1],\n",
       "       [4.8, 3. ],\n",
       "       [5.4, 3.1],\n",
       "       [5.6, 3.1],\n",
       "       [5.1, 3.1],\n",
       "       [5.1, 2.7],\n",
       "       [5.9, 3.2],\n",
       "       [5.7, 3.3],\n",
       "       [5.2, 3. ],\n",
       "       [5. , 2.5],\n",
       "       [5.2, 3. ],\n",
       "       [5.4, 3.4],\n",
       "       [5.1, 3. ]])"
      ]
     },
     "execution_count": 71,
     "metadata": {},
     "output_type": "execute_result"
    }
   ],
   "source": [
    "botdata"
   ]
  },
  {
   "cell_type": "code",
   "execution_count": 72,
   "metadata": {},
   "outputs": [
    {
     "data": {
      "text/plain": [
       "array([[1.4, 3.5],\n",
       "       [1.4, 3. ],\n",
       "       [1.3, 3.2],\n",
       "       [1.5, 3.1],\n",
       "       [1.4, 3.6],\n",
       "       [1.7, 3.9],\n",
       "       [1.4, 3.4],\n",
       "       [1.5, 3.4],\n",
       "       [1.4, 2.9],\n",
       "       [1.5, 3.1],\n",
       "       [1.5, 3.7],\n",
       "       [1.6, 3.4],\n",
       "       [1.4, 3. ],\n",
       "       [1.1, 3. ],\n",
       "       [1.2, 4. ],\n",
       "       [1.5, 4.4],\n",
       "       [1.3, 3.9],\n",
       "       [1.4, 3.5],\n",
       "       [1.7, 3.8],\n",
       "       [1.5, 3.8],\n",
       "       [1.7, 3.4],\n",
       "       [1.5, 3.7],\n",
       "       [1. , 3.6],\n",
       "       [1.7, 3.3],\n",
       "       [1.9, 3.4],\n",
       "       [1.6, 3. ],\n",
       "       [1.6, 3.4],\n",
       "       [1.5, 3.5],\n",
       "       [1.4, 3.4],\n",
       "       [1.6, 3.2],\n",
       "       [1.6, 3.1],\n",
       "       [1.5, 3.4],\n",
       "       [1.5, 4.1],\n",
       "       [1.4, 4.2],\n",
       "       [1.5, 3.1],\n",
       "       [1.2, 3.2],\n",
       "       [1.3, 3.5],\n",
       "       [1.4, 3.6],\n",
       "       [1.3, 3. ],\n",
       "       [1.5, 3.4],\n",
       "       [1.3, 3.5],\n",
       "       [1.3, 2.3],\n",
       "       [1.3, 3.2],\n",
       "       [1.6, 3.5],\n",
       "       [1.9, 3.8],\n",
       "       [1.4, 3. ],\n",
       "       [1.6, 3.8],\n",
       "       [1.4, 3.2],\n",
       "       [1.5, 3.7],\n",
       "       [1.4, 3.3],\n",
       "       [4.7, 3.2],\n",
       "       [4.5, 3.2],\n",
       "       [4.9, 3.1],\n",
       "       [4. , 2.3],\n",
       "       [4.6, 2.8],\n",
       "       [4.5, 2.8],\n",
       "       [4.7, 3.3],\n",
       "       [3.3, 2.4],\n",
       "       [4.6, 2.9],\n",
       "       [3.9, 2.7],\n",
       "       [3.5, 2. ],\n",
       "       [4.2, 3. ],\n",
       "       [4. , 2.2],\n",
       "       [4.7, 2.9],\n",
       "       [3.6, 2.9],\n",
       "       [4.4, 3.1],\n",
       "       [4.5, 3. ],\n",
       "       [4.1, 2.7],\n",
       "       [4.5, 2.2],\n",
       "       [3.9, 2.5],\n",
       "       [4.8, 3.2],\n",
       "       [4. , 2.8],\n",
       "       [4.9, 2.5],\n",
       "       [4.7, 2.8],\n",
       "       [4.3, 2.9],\n",
       "       [4.4, 3. ],\n",
       "       [4.8, 2.8],\n",
       "       [5. , 3. ],\n",
       "       [4.5, 2.9],\n",
       "       [3.5, 2.6],\n",
       "       [3.8, 2.4],\n",
       "       [3.7, 2.4],\n",
       "       [3.9, 2.7],\n",
       "       [5.1, 2.7],\n",
       "       [4.5, 3. ],\n",
       "       [4.5, 3.4],\n",
       "       [4.7, 3.1],\n",
       "       [4.4, 2.3],\n",
       "       [4.1, 3. ],\n",
       "       [4. , 2.5],\n",
       "       [4.4, 2.6],\n",
       "       [4.6, 3. ],\n",
       "       [4. , 2.6],\n",
       "       [3.3, 2.3],\n",
       "       [4.2, 2.7],\n",
       "       [4.2, 3. ],\n",
       "       [4.2, 2.9],\n",
       "       [4.3, 2.9],\n",
       "       [3. , 2.5],\n",
       "       [4.1, 2.8]])"
      ]
     },
     "execution_count": 72,
     "metadata": {},
     "output_type": "execute_result"
    }
   ],
   "source": [
    "np.delete(botdata,result_dex,axis = 0)"
   ]
  },
  {
   "cell_type": "code",
   "execution_count": null,
   "metadata": {},
   "outputs": [],
   "source": []
  },
  {
   "cell_type": "code",
   "execution_count": null,
   "metadata": {},
   "outputs": [],
   "source": []
  },
  {
   "cell_type": "code",
   "execution_count": null,
   "metadata": {},
   "outputs": [],
   "source": []
  },
  {
   "cell_type": "code",
   "execution_count": null,
   "metadata": {},
   "outputs": [],
   "source": []
  },
  {
   "cell_type": "code",
   "execution_count": null,
   "metadata": {},
   "outputs": [],
   "source": []
  },
  {
   "cell_type": "code",
   "execution_count": null,
   "metadata": {},
   "outputs": [],
   "source": []
  },
  {
   "cell_type": "code",
   "execution_count": null,
   "metadata": {},
   "outputs": [],
   "source": []
  },
  {
   "cell_type": "code",
   "execution_count": null,
   "metadata": {},
   "outputs": [],
   "source": []
  },
  {
   "cell_type": "code",
   "execution_count": null,
   "metadata": {},
   "outputs": [],
   "source": []
  },
  {
   "cell_type": "code",
   "execution_count": null,
   "metadata": {},
   "outputs": [],
   "source": []
  },
  {
   "cell_type": "code",
   "execution_count": null,
   "metadata": {},
   "outputs": [],
   "source": []
  },
  {
   "cell_type": "code",
   "execution_count": null,
   "metadata": {},
   "outputs": [],
   "source": []
  },
  {
   "cell_type": "code",
   "execution_count": null,
   "metadata": {},
   "outputs": [],
   "source": []
  },
  {
   "cell_type": "code",
   "execution_count": null,
   "metadata": {},
   "outputs": [],
   "source": []
  },
  {
   "cell_type": "code",
   "execution_count": null,
   "metadata": {},
   "outputs": [],
   "source": []
  },
  {
   "cell_type": "code",
   "execution_count": null,
   "metadata": {},
   "outputs": [],
   "source": []
  },
  {
   "cell_type": "code",
   "execution_count": null,
   "metadata": {},
   "outputs": [],
   "source": []
  },
  {
   "cell_type": "code",
   "execution_count": null,
   "metadata": {},
   "outputs": [],
   "source": []
  },
  {
   "cell_type": "code",
   "execution_count": null,
   "metadata": {},
   "outputs": [],
   "source": []
  },
  {
   "cell_type": "code",
   "execution_count": null,
   "metadata": {},
   "outputs": [],
   "source": []
  },
  {
   "cell_type": "code",
   "execution_count": null,
   "metadata": {},
   "outputs": [],
   "source": []
  },
  {
   "cell_type": "code",
   "execution_count": null,
   "metadata": {},
   "outputs": [],
   "source": []
  },
  {
   "cell_type": "code",
   "execution_count": null,
   "metadata": {},
   "outputs": [],
   "source": []
  },
  {
   "cell_type": "code",
   "execution_count": null,
   "metadata": {},
   "outputs": [],
   "source": []
  },
  {
   "cell_type": "code",
   "execution_count": null,
   "metadata": {},
   "outputs": [],
   "source": []
  },
  {
   "cell_type": "code",
   "execution_count": null,
   "metadata": {},
   "outputs": [],
   "source": []
  },
  {
   "cell_type": "code",
   "execution_count": null,
   "metadata": {},
   "outputs": [],
   "source": []
  },
  {
   "cell_type": "code",
   "execution_count": null,
   "metadata": {},
   "outputs": [],
   "source": []
  },
  {
   "cell_type": "code",
   "execution_count": null,
   "metadata": {},
   "outputs": [],
   "source": []
  },
  {
   "cell_type": "code",
   "execution_count": null,
   "metadata": {},
   "outputs": [],
   "source": []
  },
  {
   "cell_type": "code",
   "execution_count": null,
   "metadata": {},
   "outputs": [],
   "source": []
  },
  {
   "cell_type": "code",
   "execution_count": null,
   "metadata": {},
   "outputs": [],
   "source": []
  },
  {
   "cell_type": "code",
   "execution_count": null,
   "metadata": {},
   "outputs": [],
   "source": []
  },
  {
   "cell_type": "code",
   "execution_count": null,
   "metadata": {},
   "outputs": [],
   "source": []
  },
  {
   "cell_type": "code",
   "execution_count": null,
   "metadata": {},
   "outputs": [],
   "source": []
  },
  {
   "cell_type": "code",
   "execution_count": null,
   "metadata": {},
   "outputs": [],
   "source": []
  },
  {
   "cell_type": "code",
   "execution_count": null,
   "metadata": {},
   "outputs": [],
   "source": []
  },
  {
   "cell_type": "code",
   "execution_count": null,
   "metadata": {},
   "outputs": [],
   "source": []
  },
  {
   "cell_type": "code",
   "execution_count": null,
   "metadata": {},
   "outputs": [],
   "source": []
  },
  {
   "cell_type": "code",
   "execution_count": null,
   "metadata": {},
   "outputs": [],
   "source": []
  },
  {
   "cell_type": "code",
   "execution_count": null,
   "metadata": {},
   "outputs": [],
   "source": []
  },
  {
   "cell_type": "code",
   "execution_count": null,
   "metadata": {},
   "outputs": [],
   "source": []
  },
  {
   "cell_type": "code",
   "execution_count": null,
   "metadata": {},
   "outputs": [],
   "source": []
  },
  {
   "cell_type": "code",
   "execution_count": null,
   "metadata": {},
   "outputs": [],
   "source": []
  },
  {
   "cell_type": "code",
   "execution_count": null,
   "metadata": {},
   "outputs": [],
   "source": []
  },
  {
   "cell_type": "code",
   "execution_count": null,
   "metadata": {},
   "outputs": [],
   "source": []
  },
  {
   "cell_type": "code",
   "execution_count": null,
   "metadata": {},
   "outputs": [],
   "source": []
  },
  {
   "cell_type": "code",
   "execution_count": null,
   "metadata": {},
   "outputs": [],
   "source": []
  },
  {
   "cell_type": "code",
   "execution_count": null,
   "metadata": {},
   "outputs": [],
   "source": []
  }
 ],
 "metadata": {
  "kernelspec": {
   "display_name": "Python 3",
   "language": "python",
   "name": "python3"
  },
  "language_info": {
   "codemirror_mode": {
    "name": "ipython",
    "version": 3
   },
   "file_extension": ".py",
   "mimetype": "text/x-python",
   "name": "python",
   "nbconvert_exporter": "python",
   "pygments_lexer": "ipython3",
   "version": "3.7.7"
  }
 },
 "nbformat": 4,
 "nbformat_minor": 4
}
