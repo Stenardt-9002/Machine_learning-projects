{
 "cells": [
  {
   "cell_type": "markdown",
   "metadata": {},
   "source": [
    "<h1>Stochastic Gradient Descent</h1>"
   ]
  },
  {
   "cell_type": "code",
   "execution_count": 2,
   "metadata": {},
   "outputs": [],
   "source": [
    "\t\n",
    "# w = w + learning_rate * (expected - predicted) * x\n",
    "\n",
    "# w = w + learning_rate * (expected - predicted) * x\n",
    "# 1\n",
    "# w = w + learning_rate * (expected - predicted) * x"
   ]
  },
  {
   "cell_type": "code",
   "execution_count": 3,
   "metadata": {},
   "outputs": [],
   "source": [
    "def predict(row,weights):\n",
    "    activation  = weights[0]\n",
    "    for i in range(len(row)-1):\n",
    "        activation += weights[i+1]*row[i]\n",
    "        \n",
    "    return 1.0 if activation>=0 else 0.0\n",
    "    pass "
   ]
  },
  {
   "cell_type": "code",
   "execution_count": 4,
   "metadata": {},
   "outputs": [
    {
     "name": "stdout",
     "output_type": "stream",
     "text": [
      "Expected=0, Predicted=0\n",
      "Expected=0, Predicted=0\n",
      "Expected=0, Predicted=0\n",
      "Expected=0, Predicted=0\n",
      "Expected=0, Predicted=0\n",
      "Expected=1, Predicted=1\n",
      "Expected=1, Predicted=1\n",
      "Expected=1, Predicted=1\n",
      "Expected=1, Predicted=1\n",
      "Expected=1, Predicted=1\n"
     ]
    }
   ],
   "source": [
    "dataset = [[2.7810836,2.550537003,0],\n",
    "[1.465489372,2.362125076,0],\n",
    "[3.396561688,4.400293529,0],\n",
    "[1.38807019,1.850220317,0],\n",
    "[3.06407232,3.005305973,0],[7.627531214,2.759262235,1],\n",
    "[5.332441248,2.088626775,1],\n",
    "[6.922596716,1.77106367,1],\n",
    "[8.675418651,-0.242068655,1],\n",
    "[7.673756466,3.508563011,1]]\n",
    "weights = [-0.1, 0.20653640140000007, -0.23418117710000003]\n",
    "for row in dataset:\n",
    "\tprediction = predict(row, weights)\n",
    "\tprint(\"Expected=%d, Predicted=%d\" % (row[-1], prediction))"
   ]
  },
  {
   "cell_type": "code",
   "execution_count": null,
   "metadata": {},
   "outputs": [],
   "source": []
  },
  {
   "cell_type": "markdown",
   "metadata": {},
   "source": [
    "<h1> Training Network Weights</h1>"
   ]
  },
  {
   "cell_type": "code",
   "execution_count": null,
   "metadata": {},
   "outputs": [],
   "source": [
    "# w(t+1)= w(t) + learning_rate * (expected(t) - predicted(t)) * x(t)\n",
    "# bias(t+1) = bias(t) + learning_rate * (expected(t) - predicted(t))"
   ]
  },
  {
   "cell_type": "code",
   "execution_count": 6,
   "metadata": {},
   "outputs": [],
   "source": [
    "def train_weights(train,l_rate,n_epoch):\n",
    "    intial_weight = 0.0\n",
    "    weights = [intial_weight for i in range(len(train[0]))]\n",
    "    for epocvar in range(n_epoch):\n",
    "        sum_error_var =  0.0\n",
    "        for row in train:\n",
    "            prediction = predict(row,weights)\n",
    "            error_pre = row[-1]-prediction\n",
    "            sum_error_var+=error_pre**2\n",
    "            weights[0] = weights[0] + l_rate*error_pre\n",
    "            for ivar in range(len(row)-1):\n",
    "                weights[ivar+1] = weights[ivar+1] +(l_rate*error_pre*row[ivar])\n",
    "                \n",
    "                \n",
    "        print(\"->Epoch = {:d},learning_rate = {:.3f},error = {:.3f}\".format(epocvar,l_rate,sum_error_var))\n",
    "    return weights \n",
    "    pass "
   ]
  },
  {
   "cell_type": "code",
   "execution_count": 7,
   "metadata": {},
   "outputs": [
    {
     "name": "stdout",
     "output_type": "stream",
     "text": [
      "->Epoch = 0,learning_rate = 0.100,error = 2.000\n",
      "->Epoch = 1,learning_rate = 0.100,error = 1.000\n",
      "->Epoch = 2,learning_rate = 0.100,error = 0.000\n",
      "->Epoch = 3,learning_rate = 0.100,error = 0.000\n",
      "->Epoch = 4,learning_rate = 0.100,error = 0.000\n"
     ]
    }
   ],
   "source": [
    "aplha_l = 0.1\n",
    "epoch_n = 5\n",
    "weights1 = train_weights(dataset,aplha_l,epoch_n)"
   ]
  },
  {
   "cell_type": "code",
   "execution_count": 8,
   "metadata": {},
   "outputs": [
    {
     "data": {
      "text/plain": [
       "[-0.1, 0.20653640140000007, -0.23418117710000003]"
      ]
     },
     "execution_count": 8,
     "metadata": {},
     "output_type": "execute_result"
    }
   ],
   "source": [
    "weights1"
   ]
  },
  {
   "cell_type": "code",
   "execution_count": null,
   "metadata": {},
   "outputs": [],
   "source": []
  },
  {
   "cell_type": "code",
   "execution_count": 9,
   "metadata": {},
   "outputs": [
    {
     "name": "stdout",
     "output_type": "stream",
     "text": [
      "->Epoch = 0,learning_rate = 0.010,error = 2.000\n",
      "->Epoch = 1,learning_rate = 0.010,error = 3.000\n",
      "->Epoch = 2,learning_rate = 0.010,error = 3.000\n",
      "->Epoch = 3,learning_rate = 0.010,error = 2.000\n",
      "->Epoch = 4,learning_rate = 0.010,error = 1.000\n",
      "->Epoch = 5,learning_rate = 0.010,error = 0.000\n",
      "->Epoch = 6,learning_rate = 0.010,error = 0.000\n",
      "->Epoch = 7,learning_rate = 0.010,error = 0.000\n",
      "->Epoch = 8,learning_rate = 0.010,error = 0.000\n",
      "Expected=0, Predicted=0\n",
      "Expected=0, Predicted=0\n",
      "Expected=0, Predicted=0\n",
      "Expected=1, Predicted=1\n"
     ]
    }
   ],
   "source": [
    "# dataset = [[2.7810836,2.550537003,0],\n",
    "# [1.465489372,2.362125076,0],\n",
    "# [3.396561688,4.400293529,0],\n",
    "# [1.38807019,1.850220317,0],\n",
    "# [3.06407232,3.005305973,0],[7.627531214,2.759262235,1],\n",
    "# [5.332441248,2.088626775,1],\n",
    "# [6.922596716,1.77106367,1],\n",
    "# [8.675418651,-0.242068655,1],\n",
    "# [7.673756466,3.508563011,1]]\n",
    "\n",
    "dataset = [[0.0,0.0,0],[1.0,0.0,0],[0.0,1.0,0],[1.0,1.0,1]]\n",
    "# \n",
    "# weights = [-0.1, 0.20653640140000007, -0.23418117710000003]\n",
    "alpha_l = 0.01\n",
    "epoch_n1 = 9\n",
    "weights2 = train_weights(dataset,alpha_l,epoch_n1)\n",
    "for row in dataset:\n",
    "    prediction = predict(row, weights2)\n",
    "    print(\"Expected=%d, Predicted=%d\" % (row[-1], prediction))"
   ]
  },
  {
   "cell_type": "code",
   "execution_count": 10,
   "metadata": {},
   "outputs": [],
   "source": [
    "dataset12 = [[2.0,2.0,1],[-1.0,-3.0,0],[-1.0,2.0,1],[0.0,-1.0,0],\n",
    "           [1.0,3.0,1],[-1.0,-2.0,0],[1.0,-2.0,0],[-1.0,-1.0,1]]"
   ]
  },
  {
   "cell_type": "code",
   "execution_count": 13,
   "metadata": {},
   "outputs": [
    {
     "name": "stdout",
     "output_type": "stream",
     "text": [
      "->Epoch = 0,learning_rate = 0.010,error = 2.000\n",
      "->Epoch = 1,learning_rate = 0.010,error = 1.000\n",
      "->Epoch = 2,learning_rate = 0.010,error = 2.000\n",
      "->Epoch = 3,learning_rate = 0.010,error = 2.000\n",
      "->Epoch = 4,learning_rate = 0.010,error = 1.000\n",
      "->Epoch = 5,learning_rate = 0.010,error = 0.000\n",
      "->Epoch = 6,learning_rate = 0.010,error = 0.000\n",
      "->Epoch = 7,learning_rate = 0.010,error = 0.000\n",
      "->Epoch = 8,learning_rate = 0.010,error = 0.000\n",
      "->Epoch = 9,learning_rate = 0.010,error = 0.000\n",
      "->Epoch = 10,learning_rate = 0.010,error = 0.000\n",
      "->Epoch = 11,learning_rate = 0.010,error = 0.000\n",
      "->Epoch = 12,learning_rate = 0.010,error = 0.000\n",
      "->Epoch = 13,learning_rate = 0.010,error = 0.000\n",
      "->Epoch = 14,learning_rate = 0.010,error = 0.000\n",
      "->Epoch = 15,learning_rate = 0.010,error = 0.000\n",
      "->Epoch = 16,learning_rate = 0.010,error = 0.000\n",
      "->Epoch = 17,learning_rate = 0.010,error = 0.000\n",
      "->Epoch = 18,learning_rate = 0.010,error = 0.000\n",
      "Expected=1, Predicted=1\n",
      "Expected=0, Predicted=0\n",
      "Expected=1, Predicted=1\n",
      "Expected=0, Predicted=0\n",
      "Expected=1, Predicted=1\n",
      "Expected=0, Predicted=0\n",
      "Expected=0, Predicted=0\n",
      "Expected=1, Predicted=1\n"
     ]
    }
   ],
   "source": [
    "alpha_l = 0.01\n",
    "epoch_n1 = 19\n",
    "weights2 = train_weights(dataset12,alpha_l,epoch_n1)\n",
    "for row in dataset12:\n",
    "    prediction = predict(row, weights2)\n",
    "    print(\"Expected=%d, Predicted=%d\" % (row[-1], prediction))"
   ]
  },
  {
   "cell_type": "code",
   "execution_count": null,
   "metadata": {},
   "outputs": [],
   "source": []
  },
  {
   "cell_type": "code",
   "execution_count": null,
   "metadata": {},
   "outputs": [],
   "source": []
  },
  {
   "cell_type": "code",
   "execution_count": null,
   "metadata": {},
   "outputs": [],
   "source": []
  },
  {
   "cell_type": "code",
   "execution_count": null,
   "metadata": {},
   "outputs": [],
   "source": []
  },
  {
   "cell_type": "code",
   "execution_count": null,
   "metadata": {},
   "outputs": [],
   "source": []
  },
  {
   "cell_type": "code",
   "execution_count": null,
   "metadata": {},
   "outputs": [],
   "source": []
  },
  {
   "cell_type": "code",
   "execution_count": null,
   "metadata": {},
   "outputs": [],
   "source": []
  },
  {
   "cell_type": "code",
   "execution_count": null,
   "metadata": {},
   "outputs": [],
   "source": []
  },
  {
   "cell_type": "code",
   "execution_count": null,
   "metadata": {},
   "outputs": [],
   "source": []
  },
  {
   "cell_type": "code",
   "execution_count": null,
   "metadata": {},
   "outputs": [],
   "source": []
  },
  {
   "cell_type": "code",
   "execution_count": null,
   "metadata": {},
   "outputs": [],
   "source": []
  },
  {
   "cell_type": "code",
   "execution_count": null,
   "metadata": {},
   "outputs": [],
   "source": []
  },
  {
   "cell_type": "code",
   "execution_count": null,
   "metadata": {},
   "outputs": [],
   "source": []
  },
  {
   "cell_type": "code",
   "execution_count": null,
   "metadata": {},
   "outputs": [],
   "source": []
  },
  {
   "cell_type": "code",
   "execution_count": null,
   "metadata": {},
   "outputs": [],
   "source": []
  },
  {
   "cell_type": "code",
   "execution_count": null,
   "metadata": {},
   "outputs": [],
   "source": []
  },
  {
   "cell_type": "code",
   "execution_count": null,
   "metadata": {},
   "outputs": [],
   "source": []
  },
  {
   "cell_type": "code",
   "execution_count": null,
   "metadata": {},
   "outputs": [],
   "source": []
  },
  {
   "cell_type": "code",
   "execution_count": null,
   "metadata": {},
   "outputs": [],
   "source": []
  },
  {
   "cell_type": "code",
   "execution_count": null,
   "metadata": {},
   "outputs": [],
   "source": []
  },
  {
   "cell_type": "code",
   "execution_count": null,
   "metadata": {},
   "outputs": [],
   "source": []
  },
  {
   "cell_type": "code",
   "execution_count": null,
   "metadata": {},
   "outputs": [],
   "source": []
  },
  {
   "cell_type": "code",
   "execution_count": null,
   "metadata": {},
   "outputs": [],
   "source": []
  },
  {
   "cell_type": "code",
   "execution_count": null,
   "metadata": {},
   "outputs": [],
   "source": []
  },
  {
   "cell_type": "code",
   "execution_count": null,
   "metadata": {},
   "outputs": [],
   "source": []
  },
  {
   "cell_type": "code",
   "execution_count": null,
   "metadata": {},
   "outputs": [],
   "source": []
  },
  {
   "cell_type": "code",
   "execution_count": null,
   "metadata": {},
   "outputs": [],
   "source": []
  }
 ],
 "metadata": {
  "kernelspec": {
   "display_name": "Python 3",
   "language": "python",
   "name": "python3"
  },
  "language_info": {
   "codemirror_mode": {
    "name": "ipython",
    "version": 3
   },
   "file_extension": ".py",
   "mimetype": "text/x-python",
   "name": "python",
   "nbconvert_exporter": "python",
   "pygments_lexer": "ipython3",
   "version": "3.7.7"
  }
 },
 "nbformat": 4,
 "nbformat_minor": 4
}
