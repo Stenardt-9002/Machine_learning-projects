{
  "nbformat": 4,
  "nbformat_minor": 0,
  "metadata": {
    "colab": {
      "name": "finalprproject1.ipynb",
      "provenance": [],
      "collapsed_sections": []
    },
    "kernelspec": {
      "name": "python3",
      "display_name": "Python 3"
    },
    "accelerator": "GPU"
  },
  "cells": [
    {
      "cell_type": "code",
      "metadata": {
        "id": "Fwp8QKP_SnWz",
        "colab_type": "code",
        "colab": {}
      },
      "source": [
        "# USE HARDWARE ACCELERATION (edit=> runtime setting->gpu) for better result"
      ],
      "execution_count": 32,
      "outputs": []
    },
    {
      "cell_type": "markdown",
      "metadata": {
        "id": "HlSEtutaPlr5",
        "colab_type": "text"
      },
      "source": [
        "<h1> THE CODE IS FOR 'GUESSING THE CORRELATION OF IMAGES' </h1>\n",
        "using  https://www.kaggle.com/athosdamiani/guess-the-correlation data set\n",
        "<h2> By Group 8 (COE17B020 ,CED17I047,COE17B031)</h2>"
      ]
    },
    {
      "cell_type": "markdown",
      "metadata": {
        "id": "5VVlkxmzQL4y",
        "colab_type": "text"
      },
      "source": [
        "Execute each cell one by one<br>\n",
        "FOR data upload to google colab ,<br>\n",
        "UPLOAD csv file (execute cell below)\n",
        "UPLOAD entrire zip and extract using !unzip"
      ]
    },
    {
      "cell_type": "code",
      "metadata": {
        "id": "hHeviKoXe-CU",
        "colab_type": "code",
        "colab": {}
      },
      "source": [
        "%tensorflow_version 2.x\n",
        "import tensorflow as tf\n",
        "# go to edit ,runtime settings and set hardware accleration to gpu\n",
        "from tensorflow.keras import datasets, layers, models\n",
        "import matplotlib.pyplot as plt\n",
        "import numpy as np # linear algebra\n",
        "import pandas as pd # data processing, CSV file I/O (e.g. pd.read_csv)\n",
        "import matplotlib.pyplot as plt\n",
        "import matplotlib.image as mpimg\n",
        "import cv2\n",
        "import random\n",
        "import time\n",
        "import os"
      ],
      "execution_count": 67,
      "outputs": []
    },
    {
      "cell_type": "code",
      "metadata": {
        "id": "JXCi_JC_e-Gp",
        "colab_type": "code",
        "colab": {}
      },
      "source": [
        ""
      ],
      "execution_count": null,
      "outputs": []
    },
    {
      "cell_type": "markdown",
      "metadata": {
        "id": "CQEJSYbuWsgW",
        "colab_type": "text"
      },
      "source": [
        "<h3> Upload csv in local session</h3>\n"
      ]
    },
    {
      "cell_type": "code",
      "metadata": {
        "id": "PkxTal49SqrY",
        "colab_type": "code",
        "colab": {
          "resources": {
            "http://localhost:8080/nbextensions/google.colab/files.js": {
              "data": "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",
              "ok": true,
              "headers": [
                [
                  "content-type",
                  "application/javascript"
                ]
              ],
              "status": 200,
              "status_text": ""
            }
          },
          "base_uri": "https://localhost:8080/",
          "height": 72
        },
        "outputId": "c42201c8-56b9-4967-cc36-dd638a4663ab"
      },
      "source": [
        "# //upload csv\n",
        "\n",
        "from google.colab import files\n",
        "path_to_csv_file = list(files.upload().keys())[0]  #//upload csv train_response.csv"
      ],
      "execution_count": 49,
      "outputs": [
        {
          "output_type": "display_data",
          "data": {
            "text/html": [
              "\n",
              "     <input type=\"file\" id=\"files-55ed12ce-ec3d-45c9-b20e-21b5af9455c2\" name=\"files[]\" multiple disabled\n",
              "        style=\"border:none\" />\n",
              "     <output id=\"result-55ed12ce-ec3d-45c9-b20e-21b5af9455c2\">\n",
              "      Upload widget is only available when the cell has been executed in the\n",
              "      current browser session. Please rerun this cell to enable.\n",
              "      </output>\n",
              "      <script src=\"/nbextensions/google.colab/files.js\"></script> "
            ],
            "text/plain": [
              "<IPython.core.display.HTML object>"
            ]
          },
          "metadata": {
            "tags": []
          }
        },
        {
          "output_type": "stream",
          "text": [
            "Saving train_responses.csv to train_responses (1).csv\n"
          ],
          "name": "stdout"
        }
      ]
    },
    {
      "cell_type": "markdown",
      "metadata": {
        "id": "R_UUfPfuWyyv",
        "colab_type": "text"
      },
      "source": [
        "<h3> Upload entire zip in local session</h3>\n",
        "Note :upload all FILES  ELSE THE CODE WILL NOT CORRECTLY EVALUATE\n",
        "\n",
        "\n",
        "\n",
        "\n"
      ]
    },
    {
      "cell_type": "code",
      "metadata": {
        "id": "OpsVJbpgRIj3",
        "colab_type": "code",
        "colab": {}
      },
      "source": [
        "# //extract zip using\n",
        "#drop entire zip in local session on left side of page if running on google colab\n",
        "#  upload zip to local session by drag and drop and run the below command \n",
        "!unzip 19003_24748_upload_train_imgs.zip\n"
      ],
      "execution_count": null,
      "outputs": []
    },
    {
      "cell_type": "code",
      "metadata": {
        "id": "NkTxN9rUSqt8",
        "colab_type": "code",
        "colab": {}
      },
      "source": [
        "# //upload images\n",
        "# from google.colab import files\n",
        "# path_to_file = list(files.upload().keys())\n",
        "\n",
        "\n"
      ],
      "execution_count": 34,
      "outputs": []
    },
    {
      "cell_type": "code",
      "metadata": {
        "id": "fW3NFqsR_id8",
        "colab_type": "code",
        "colab": {}
      },
      "source": [
        "# plt.imshow(img1,cmap = plt.cm.binary)\n",
        "# len(img1[0][0]) #colour integrity maintained"
      ],
      "execution_count": 51,
      "outputs": []
    },
    {
      "cell_type": "code",
      "metadata": {
        "id": "H0nlTcpC-sJL",
        "colab_type": "code",
        "colab": {}
      },
      "source": [
        ""
      ],
      "execution_count": null,
      "outputs": []
    },
    {
      "cell_type": "markdown",
      "metadata": {
        "id": "Mj3QBzTnFLVD",
        "colab_type": "text"
      },
      "source": [
        "<h2>Dataframe containing C.S.V.</h2>\n"
      ]
    },
    {
      "cell_type": "code",
      "metadata": {
        "id": "FSMyycVVSqwi",
        "colab_type": "code",
        "colab": {}
      },
      "source": [
        "# csv dataframe\n",
        "df = pd.read_csv('train_responses.csv') \n",
        "\n",
        "# df = pd.read_csv(path_to_csv_file) "
      ],
      "execution_count": 68,
      "outputs": []
    },
    {
      "cell_type": "markdown",
      "metadata": {
        "id": "4lMcFVZtFR_t",
        "colab_type": "text"
      },
      "source": [
        "<h2>Function processing Images and labels</h2><br> this section will take time and ram according to number of data you want to train on\n"
      ]
    },
    {
      "cell_type": "code",
      "metadata": {
        "id": "ds6JXhGxSqy6",
        "colab_type": "code",
        "colab": {}
      },
      "source": [
        "def getfiles(no_of_images,dataframe):\n",
        "  list1 = random.sample(range(0,150000),no_of_images)\n",
        "  label = dataframe.iloc[list1,1].tolist()\n",
        "  fielname = dataframe.iloc[list1,0].tolist()\n",
        "  return label,fielname\n",
        "\n",
        "\n",
        "def images_to_matr(filelists,dtaframe,size = (130,130),path = False):\n",
        "    #specify size to resize and path for directory stored in\n",
        "    matrm = []\n",
        "    \n",
        "    for filename in filelists:\n",
        "        if path ==False:\n",
        "            str1 = filename+\".png\"\n",
        "            img = cv2.imread(str1)\n",
        "            #remoe all axis part\n",
        "            img = img[:130,20:,:]\n",
        "            if size!=(130,130):\n",
        "                img = cv2.resize(img,size)\n",
        "            img = img/255.0 # maintain matrix data in range 0 to 1\n",
        "            img = img.tolist()\n",
        "        else:\n",
        "            str1 = filename+\".png\"\n",
        "            new_pat = os.path.join(path,str1)\n",
        "            img = cv2.imread(new_pat)\n",
        "            img = img[:130,20:,:]\n",
        "            if size!=(130,130):\n",
        "                img = cv2.resize(img,size)\n",
        "            img = img/255.0 # maintain matrix data in range 0 to 1\n",
        "            img = img.tolist()\n",
        "        matrm.append(img)\n",
        "\n",
        "    return matrm\n",
        "\n",
        "\n",
        "\n",
        "# matrm = images_to_matr(fielname,df)  \n",
        "# matrm = images_to_matr(fielname,df,path = 'train_imgs')  \n",
        "\n",
        "\n"
      ],
      "execution_count": 70,
      "outputs": []
    },
    {
      "cell_type": "code",
      "metadata": {
        "id": "BLHk-NrqSAux",
        "colab_type": "code",
        "colab": {}
      },
      "source": [
        "#below will take 4000 random files and its corelation for training and testing\n",
        "label,fielname = getfiles(4000,df) #note vary the images according to ram available \n",
        "#NOTE temper the size1 variable according to above no of files\n",
        "\n",
        "size1 = (80,80)\n",
        "matrm = images_to_matr(fielname,df,size = size1,path = 'train_imgs')  \n",
        "input_size1 = (size1[0],size1[1],3)\n",
        "\n",
        "#note the above code assumed that file name is same as given in csV AND ALL FILES ARE AVIALABLE"
      ],
      "execution_count": 71,
      "outputs": []
    },
    {
      "cell_type": "markdown",
      "metadata": {
        "id": "s6YMT1TsGTZE",
        "colab_type": "text"
      },
      "source": [
        "<h3>Combining label and matrix in pandas dataframe</h3>"
      ]
    },
    {
      "cell_type": "code",
      "metadata": {
        "id": "Spq4VCYoSq1N",
        "colab_type": "code",
        "colab": {}
      },
      "source": [
        "combinelist = list(zip(label,matrm))\n",
        "pdsdata = pd.DataFrame(combinelist,columns = [\"Score\",\"Matrix\"]) #create pandas dataframe with both columns combined\n",
        "labelsdata = pdsdata.iloc[0,:]"
      ],
      "execution_count": 72,
      "outputs": []
    },
    {
      "cell_type": "code",
      "metadata": {
        "id": "dC3ROHkTLOjy",
        "colab_type": "code",
        "colab": {
          "base_uri": "https://localhost:8080/",
          "height": 34
        },
        "outputId": "70bfb004-f532-4336-af29-ca939614e203"
      },
      "source": [
        "len(matrm[0][0]) #size of image selected"
      ],
      "execution_count": 73,
      "outputs": [
        {
          "output_type": "execute_result",
          "data": {
            "text/plain": [
              "80"
            ]
          },
          "metadata": {
            "tags": []
          },
          "execution_count": 73
        }
      ]
    },
    {
      "cell_type": "code",
      "metadata": {
        "id": "oz9JWJlZSq3m",
        "colab_type": "code",
        "colab": {
          "base_uri": "https://localhost:8080/",
          "height": 285
        },
        "outputId": "41adb838-11c4-451e-c52c-f0d0b1949514"
      },
      "source": [
        "#tune below param to seee different images\n",
        "SEE_IMAGE = 3\n",
        "plt.imshow(matrm[SEE_IMAGE],cmap = plt.cm.binary)"
      ],
      "execution_count": 74,
      "outputs": [
        {
          "output_type": "execute_result",
          "data": {
            "text/plain": [
              "<matplotlib.image.AxesImage at 0x7f896048b240>"
            ]
          },
          "metadata": {
            "tags": []
          },
          "execution_count": 74
        },
        {
          "output_type": "display_data",
          "data": {
            "image/png": "[encoded data removed]",
            "text/plain": [
              "<Figure size 432x288 with 1 Axes>"
            ]
          },
          "metadata": {
            "tags": [],
            "needs_background": "light"
          }
        }
      ]
    },
    {
      "cell_type": "markdown",
      "metadata": {
        "id": "XqMSzKnQGdY8",
        "colab_type": "text"
      },
      "source": [
        "<h1> Model <h4>Input Pooling <br> CNN layer<br>Pooling <br>CNN layer <br></h4></h1>\n"
      ]
    },
    {
      "cell_type": "code",
      "metadata": {
        "id": "jDqI163mSq8e",
        "colab_type": "code",
        "colab": {}
      },
      "source": [
        ""
      ],
      "execution_count": null,
      "outputs": []
    },
    {
      "cell_type": "code",
      "metadata": {
        "id": "VeXX3R-GSq-t",
        "colab_type": "code",
        "colab": {}
      },
      "source": [
        "new_label = []\n",
        "for i in label:\n",
        "  new_label.append(i)\n",
        "model1 = models.Sequential()\n",
        "# model1.add(layers.Conv2D(150, (3, 3), activation='relu', input_shape=(130,130,3)))\n",
        "# model1.add(layers.Conv2D(150, (3, 3), activation='relu', input_shape=(80,80,3)))\n",
        "model1.add(layers.Conv2D(150, (3, 3), activation='relu', input_shape=input_size1))\n",
        "model1.add(layers.MaxPooling2D((2, 2)))\n",
        "model1.add(layers.Conv2D(64, (3, 3), activation='relu'))\n",
        "model1.add(layers.MaxPooling2D((2, 2)))\n",
        "model1.add(layers.Conv2D(64, (3, 3), activation='relu'))"
      ],
      "execution_count": 75,
      "outputs": []
    },
    {
      "cell_type": "markdown",
      "metadata": {
        "id": "WewPD1zTHNJ_",
        "colab_type": "text"
      },
      "source": [
        "<h2> Flattening ,64 nodes layer ,1 output layer</h2>\n"
      ]
    },
    {
      "cell_type": "code",
      "metadata": {
        "id": "NafbR3kASrBB",
        "colab_type": "code",
        "colab": {}
      },
      "source": [
        "model1.add(layers.Flatten())\n",
        "model1.add(layers.Dense(64, activation='relu'))\n",
        "# model1.add(layers.Dense(2))\n",
        "model1.add(layers.Dense(1,activation='linear'))"
      ],
      "execution_count": 76,
      "outputs": []
    },
    {
      "cell_type": "markdown",
      "metadata": {
        "id": "SBZFhgRpHW0K",
        "colab_type": "text"
      },
      "source": [
        "<h5>Splitting into test and train data</h5>"
      ]
    },
    {
      "cell_type": "code",
      "metadata": {
        "id": "6_Hsct8kbAdT",
        "colab_type": "code",
        "colab": {}
      },
      "source": [
        "#conversion to numpy ,test_train_split and model.fit only work on numpy array\n",
        "matrm2 = np.array(matrm)\n",
        "new_label2 = np.array(new_label)\n",
        "\n",
        "from sklearn.model_selection import train_test_split \n",
        "X_train,X_test,y_train,y_test = train_test_split(matrm2,new_label2,test_size = 0.2,shuffle = True)"
      ],
      "execution_count": 77,
      "outputs": []
    },
    {
      "cell_type": "markdown",
      "metadata": {
        "id": "mWKILwOHSiX-",
        "colab_type": "text"
      },
      "source": [
        "Compiling model ,Optimiser adam used"
      ]
    },
    {
      "cell_type": "code",
      "metadata": {
        "id": "P6Ye4bPAbAgL",
        "colab_type": "code",
        "colab": {}
      },
      "source": [
        "model1.compile(optimizer='adam',\n",
        "              loss='mean_squared_error',metrics=['accuracy'])"
      ],
      "execution_count": 78,
      "outputs": []
    },
    {
      "cell_type": "code",
      "metadata": {
        "id": "mL7kGNNHX-Rw",
        "colab_type": "code",
        "colab": {
          "base_uri": "https://localhost:8080/",
          "height": 425
        },
        "outputId": "b1bd2c3e-e0ca-49b3-db6b-868aaeff9298"
      },
      "source": [
        "model1.summary()"
      ],
      "execution_count": 80,
      "outputs": [
        {
          "output_type": "stream",
          "text": [
            "Model: \"sequential_4\"\n",
            "_________________________________________________________________\n",
            "Layer (type)                 Output Shape              Param #   \n",
            "=================================================================\n",
            "conv2d_12 (Conv2D)           (None, 78, 78, 150)       4200      \n",
            "_________________________________________________________________\n",
            "max_pooling2d_8 (MaxPooling2 (None, 39, 39, 150)       0         \n",
            "_________________________________________________________________\n",
            "conv2d_13 (Conv2D)           (None, 37, 37, 64)        86464     \n",
            "_________________________________________________________________\n",
            "max_pooling2d_9 (MaxPooling2 (None, 18, 18, 64)        0         \n",
            "_________________________________________________________________\n",
            "conv2d_14 (Conv2D)           (None, 16, 16, 64)        36928     \n",
            "_________________________________________________________________\n",
            "flatten_4 (Flatten)          (None, 16384)             0         \n",
            "_________________________________________________________________\n",
            "dense_8 (Dense)              (None, 64)                1048640   \n",
            "_________________________________________________________________\n",
            "dense_9 (Dense)              (None, 1)                 65        \n",
            "=================================================================\n",
            "Total params: 1,176,297\n",
            "Trainable params: 1,176,297\n",
            "Non-trainable params: 0\n",
            "_________________________________________________________________\n"
          ],
          "name": "stdout"
        }
      ]
    },
    {
      "cell_type": "markdown",
      "metadata": {
        "id": "P5SWZnr9SogD",
        "colab_type": "text"
      },
      "source": [
        "Training"
      ]
    },
    {
      "cell_type": "code",
      "metadata": {
        "id": "zpndiawrbAix",
        "colab_type": "code",
        "colab": {
          "base_uri": "https://localhost:8080/",
          "height": 1000
        },
        "outputId": "fd7fcaa6-d47f-45cb-f249-690fe62e1e31"
      },
      "source": [
        "history = model1.fit(X_train, y_train, batch_size = 120 ,epochs=154,verbose = 1 ,\n",
        "                    validation_data=(X_test, y_test))"
      ],
      "execution_count": 79,
      "outputs": [
        {
          "output_type": "stream",
          "text": [
            "Epoch 1/154\n",
            "27/27 [==============================] - 4s 150ms/step - loss: 0.2098 - accuracy: 0.0000e+00 - val_loss: 0.1307 - val_accuracy: 0.0000e+00\n",
            "Epoch 2/154\n",
            "27/27 [==============================] - 4s 143ms/step - loss: 0.0544 - accuracy: 0.0000e+00 - val_loss: 0.0345 - val_accuracy: 0.0000e+00\n",
            "Epoch 3/154\n",
            "27/27 [==============================] - 4s 141ms/step - loss: 0.0282 - accuracy: 0.0000e+00 - val_loss: 0.0266 - val_accuracy: 0.0000e+00\n",
            "Epoch 4/154\n",
            "27/27 [==============================] - 4s 143ms/step - loss: 0.0220 - accuracy: 0.0000e+00 - val_loss: 0.0214 - val_accuracy: 0.0000e+00\n",
            "Epoch 5/154\n",
            "27/27 [==============================] - 4s 142ms/step - loss: 0.0174 - accuracy: 0.0000e+00 - val_loss: 0.0176 - val_accuracy: 0.0000e+00\n",
            "Epoch 6/154\n",
            "27/27 [==============================] - 4s 142ms/step - loss: 0.0115 - accuracy: 0.0000e+00 - val_loss: 0.0109 - val_accuracy: 0.0000e+00\n",
            "Epoch 7/154\n",
            "27/27 [==============================] - 4s 143ms/step - loss: 0.0082 - accuracy: 0.0000e+00 - val_loss: 0.0102 - val_accuracy: 0.0000e+00\n",
            "Epoch 8/154\n",
            "27/27 [==============================] - 4s 143ms/step - loss: 0.0067 - accuracy: 0.0000e+00 - val_loss: 0.0072 - val_accuracy: 0.0000e+00\n",
            "Epoch 9/154\n",
            "27/27 [==============================] - 4s 142ms/step - loss: 0.0052 - accuracy: 0.0000e+00 - val_loss: 0.0059 - val_accuracy: 0.0000e+00\n",
            "Epoch 10/154\n",
            "27/27 [==============================] - 4s 142ms/step - loss: 0.0041 - accuracy: 0.0000e+00 - val_loss: 0.0055 - val_accuracy: 0.0000e+00\n",
            "Epoch 11/154\n",
            "27/27 [==============================] - 4s 142ms/step - loss: 0.0033 - accuracy: 0.0000e+00 - val_loss: 0.0054 - val_accuracy: 0.0000e+00\n",
            "Epoch 12/154\n",
            "27/27 [==============================] - 4s 143ms/step - loss: 0.0028 - accuracy: 0.0000e+00 - val_loss: 0.0047 - val_accuracy: 0.0000e+00\n",
            "Epoch 13/154\n",
            "27/27 [==============================] - 4s 142ms/step - loss: 0.0023 - accuracy: 0.0000e+00 - val_loss: 0.0044 - val_accuracy: 0.0000e+00\n",
            "Epoch 14/154\n",
            "27/27 [==============================] - 4s 142ms/step - loss: 0.0019 - accuracy: 0.0000e+00 - val_loss: 0.0045 - val_accuracy: 0.0000e+00\n",
            "Epoch 15/154\n",
            "27/27 [==============================] - 4s 142ms/step - loss: 0.0016 - accuracy: 0.0000e+00 - val_loss: 0.0044 - val_accuracy: 0.0000e+00\n",
            "Epoch 16/154\n",
            "27/27 [==============================] - 4s 141ms/step - loss: 0.0015 - accuracy: 0.0000e+00 - val_loss: 0.0044 - val_accuracy: 0.0000e+00\n",
            "Epoch 17/154\n",
            "27/27 [==============================] - 4s 142ms/step - loss: 0.0012 - accuracy: 0.0000e+00 - val_loss: 0.0043 - val_accuracy: 0.0000e+00\n",
            "Epoch 18/154\n",
            "27/27 [==============================] - 4s 142ms/step - loss: 9.3186e-04 - accuracy: 0.0000e+00 - val_loss: 0.0041 - val_accuracy: 0.0000e+00\n",
            "Epoch 19/154\n",
            "27/27 [==============================] - 4s 143ms/step - loss: 7.8841e-04 - accuracy: 0.0000e+00 - val_loss: 0.0042 - val_accuracy: 0.0000e+00\n",
            "Epoch 20/154\n",
            "27/27 [==============================] - 4s 142ms/step - loss: 5.8687e-04 - accuracy: 0.0000e+00 - val_loss: 0.0044 - val_accuracy: 0.0000e+00\n",
            "Epoch 21/154\n",
            "27/27 [==============================] - 4s 144ms/step - loss: 5.9914e-04 - accuracy: 0.0000e+00 - val_loss: 0.0044 - val_accuracy: 0.0000e+00\n",
            "Epoch 22/154\n",
            "27/27 [==============================] - 4s 143ms/step - loss: 5.1997e-04 - accuracy: 0.0000e+00 - val_loss: 0.0045 - val_accuracy: 0.0000e+00\n",
            "Epoch 23/154\n",
            "27/27 [==============================] - 4s 142ms/step - loss: 4.1277e-04 - accuracy: 0.0000e+00 - val_loss: 0.0045 - val_accuracy: 0.0000e+00\n",
            "Epoch 24/154\n",
            "27/27 [==============================] - 4s 143ms/step - loss: 3.6658e-04 - accuracy: 0.0000e+00 - val_loss: 0.0046 - val_accuracy: 0.0000e+00\n",
            "Epoch 25/154\n",
            "27/27 [==============================] - 4s 143ms/step - loss: 2.8043e-04 - accuracy: 0.0000e+00 - val_loss: 0.0047 - val_accuracy: 0.0000e+00\n",
            "Epoch 26/154\n",
            "27/27 [==============================] - 4s 143ms/step - loss: 2.3352e-04 - accuracy: 0.0000e+00 - val_loss: 0.0046 - val_accuracy: 0.0000e+00\n",
            "Epoch 27/154\n",
            "27/27 [==============================] - 4s 144ms/step - loss: 1.9329e-04 - accuracy: 0.0000e+00 - val_loss: 0.0046 - val_accuracy: 0.0000e+00\n",
            "Epoch 28/154\n",
            "27/27 [==============================] - 4s 142ms/step - loss: 1.8847e-04 - accuracy: 0.0000e+00 - val_loss: 0.0047 - val_accuracy: 0.0000e+00\n",
            "Epoch 29/154\n",
            "27/27 [==============================] - 4s 143ms/step - loss: 1.9679e-04 - accuracy: 0.0000e+00 - val_loss: 0.0048 - val_accuracy: 0.0000e+00\n",
            "Epoch 30/154\n",
            "27/27 [==============================] - 4s 143ms/step - loss: 1.6266e-04 - accuracy: 0.0000e+00 - val_loss: 0.0047 - val_accuracy: 0.0000e+00\n",
            "Epoch 31/154\n",
            "27/27 [==============================] - 4s 143ms/step - loss: 1.3315e-04 - accuracy: 0.0000e+00 - val_loss: 0.0048 - val_accuracy: 0.0000e+00\n",
            "Epoch 32/154\n",
            "27/27 [==============================] - 4s 144ms/step - loss: 1.3656e-04 - accuracy: 0.0000e+00 - val_loss: 0.0047 - val_accuracy: 0.0000e+00\n",
            "Epoch 33/154\n",
            "27/27 [==============================] - 4s 143ms/step - loss: 9.7607e-05 - accuracy: 0.0000e+00 - val_loss: 0.0048 - val_accuracy: 0.0000e+00\n",
            "Epoch 34/154\n",
            "27/27 [==============================] - 4s 143ms/step - loss: 9.3243e-05 - accuracy: 0.0000e+00 - val_loss: 0.0047 - val_accuracy: 0.0000e+00\n",
            "Epoch 35/154\n",
            "27/27 [==============================] - 4s 143ms/step - loss: 8.5876e-05 - accuracy: 0.0000e+00 - val_loss: 0.0047 - val_accuracy: 0.0000e+00\n",
            "Epoch 36/154\n",
            "27/27 [==============================] - 4s 142ms/step - loss: 6.5158e-05 - accuracy: 0.0000e+00 - val_loss: 0.0047 - val_accuracy: 0.0000e+00\n",
            "Epoch 37/154\n",
            "27/27 [==============================] - 4s 144ms/step - loss: 5.1244e-05 - accuracy: 0.0000e+00 - val_loss: 0.0047 - val_accuracy: 0.0000e+00\n",
            "Epoch 38/154\n",
            "27/27 [==============================] - 4s 143ms/step - loss: 3.9281e-05 - accuracy: 0.0000e+00 - val_loss: 0.0048 - val_accuracy: 0.0000e+00\n",
            "Epoch 39/154\n",
            "27/27 [==============================] - 4s 143ms/step - loss: 3.5216e-05 - accuracy: 0.0000e+00 - val_loss: 0.0048 - val_accuracy: 0.0000e+00\n",
            "Epoch 40/154\n",
            "27/27 [==============================] - 4s 144ms/step - loss: 2.8436e-05 - accuracy: 0.0000e+00 - val_loss: 0.0048 - val_accuracy: 0.0000e+00\n",
            "Epoch 41/154\n",
            "27/27 [==============================] - 4s 143ms/step - loss: 2.3676e-05 - accuracy: 0.0000e+00 - val_loss: 0.0048 - val_accuracy: 0.0000e+00\n",
            "Epoch 42/154\n",
            "27/27 [==============================] - 4s 144ms/step - loss: 2.3874e-05 - accuracy: 0.0000e+00 - val_loss: 0.0048 - val_accuracy: 0.0000e+00\n",
            "Epoch 43/154\n",
            "27/27 [==============================] - 4s 143ms/step - loss: 3.0899e-05 - accuracy: 0.0000e+00 - val_loss: 0.0048 - val_accuracy: 0.0000e+00\n",
            "Epoch 44/154\n",
            "27/27 [==============================] - 4s 144ms/step - loss: 2.3323e-05 - accuracy: 0.0000e+00 - val_loss: 0.0048 - val_accuracy: 0.0000e+00\n",
            "Epoch 45/154\n",
            "27/27 [==============================] - 4s 143ms/step - loss: 1.5085e-05 - accuracy: 0.0000e+00 - val_loss: 0.0048 - val_accuracy: 0.0000e+00\n",
            "Epoch 46/154\n",
            "27/27 [==============================] - 4s 142ms/step - loss: 1.5143e-05 - accuracy: 0.0000e+00 - val_loss: 0.0048 - val_accuracy: 0.0000e+00\n",
            "Epoch 47/154\n",
            "27/27 [==============================] - 4s 143ms/step - loss: 1.7276e-05 - accuracy: 0.0000e+00 - val_loss: 0.0048 - val_accuracy: 0.0000e+00\n",
            "Epoch 48/154\n",
            "27/27 [==============================] - 4s 144ms/step - loss: 2.0203e-05 - accuracy: 0.0000e+00 - val_loss: 0.0048 - val_accuracy: 0.0000e+00\n",
            "Epoch 49/154\n",
            "27/27 [==============================] - 4s 144ms/step - loss: 1.7841e-05 - accuracy: 0.0000e+00 - val_loss: 0.0048 - val_accuracy: 0.0000e+00\n",
            "Epoch 50/154\n",
            "27/27 [==============================] - 4s 145ms/step - loss: 1.4878e-05 - accuracy: 0.0000e+00 - val_loss: 0.0048 - val_accuracy: 0.0000e+00\n",
            "Epoch 51/154\n",
            "27/27 [==============================] - 4s 144ms/step - loss: 1.9792e-05 - accuracy: 0.0000e+00 - val_loss: 0.0048 - val_accuracy: 0.0000e+00\n",
            "Epoch 52/154\n",
            "27/27 [==============================] - 4s 145ms/step - loss: 2.0072e-05 - accuracy: 0.0000e+00 - val_loss: 0.0048 - val_accuracy: 0.0000e+00\n",
            "Epoch 53/154\n",
            "27/27 [==============================] - 4s 146ms/step - loss: 2.0343e-05 - accuracy: 0.0000e+00 - val_loss: 0.0048 - val_accuracy: 0.0000e+00\n",
            "Epoch 54/154\n",
            "27/27 [==============================] - 4s 145ms/step - loss: 1.8126e-05 - accuracy: 0.0000e+00 - val_loss: 0.0048 - val_accuracy: 0.0000e+00\n",
            "Epoch 55/154\n",
            "27/27 [==============================] - 4s 142ms/step - loss: 2.3592e-05 - accuracy: 0.0000e+00 - val_loss: 0.0048 - val_accuracy: 0.0000e+00\n",
            "Epoch 56/154\n",
            "27/27 [==============================] - 4s 142ms/step - loss: 2.1371e-05 - accuracy: 0.0000e+00 - val_loss: 0.0048 - val_accuracy: 0.0000e+00\n",
            "Epoch 57/154\n",
            "27/27 [==============================] - 4s 142ms/step - loss: 2.1010e-05 - accuracy: 0.0000e+00 - val_loss: 0.0048 - val_accuracy: 0.0000e+00\n",
            "Epoch 58/154\n",
            "27/27 [==============================] - 4s 142ms/step - loss: 2.5603e-05 - accuracy: 0.0000e+00 - val_loss: 0.0048 - val_accuracy: 0.0000e+00\n",
            "Epoch 59/154\n",
            "27/27 [==============================] - 4s 141ms/step - loss: 4.5229e-05 - accuracy: 0.0000e+00 - val_loss: 0.0049 - val_accuracy: 0.0000e+00\n",
            "Epoch 60/154\n",
            "27/27 [==============================] - 4s 142ms/step - loss: 7.7502e-05 - accuracy: 0.0000e+00 - val_loss: 0.0048 - val_accuracy: 0.0000e+00\n",
            "Epoch 61/154\n",
            "27/27 [==============================] - 4s 142ms/step - loss: 8.5285e-05 - accuracy: 0.0000e+00 - val_loss: 0.0048 - val_accuracy: 0.0000e+00\n",
            "Epoch 62/154\n",
            "27/27 [==============================] - 4s 142ms/step - loss: 7.6934e-05 - accuracy: 0.0000e+00 - val_loss: 0.0048 - val_accuracy: 0.0000e+00\n",
            "Epoch 63/154\n",
            "27/27 [==============================] - 4s 142ms/step - loss: 6.5489e-05 - accuracy: 0.0000e+00 - val_loss: 0.0047 - val_accuracy: 0.0000e+00\n",
            "Epoch 64/154\n",
            "27/27 [==============================] - 4s 141ms/step - loss: 7.8758e-05 - accuracy: 0.0000e+00 - val_loss: 0.0047 - val_accuracy: 0.0000e+00\n",
            "Epoch 65/154\n",
            "27/27 [==============================] - 4s 142ms/step - loss: 8.3197e-05 - accuracy: 0.0000e+00 - val_loss: 0.0048 - val_accuracy: 0.0000e+00\n",
            "Epoch 66/154\n",
            "27/27 [==============================] - 4s 142ms/step - loss: 1.0282e-04 - accuracy: 0.0000e+00 - val_loss: 0.0048 - val_accuracy: 0.0000e+00\n",
            "Epoch 67/154\n",
            "27/27 [==============================] - 4s 141ms/step - loss: 2.0363e-04 - accuracy: 0.0000e+00 - val_loss: 0.0049 - val_accuracy: 0.0000e+00\n",
            "Epoch 68/154\n",
            "27/27 [==============================] - 4s 142ms/step - loss: 5.3643e-04 - accuracy: 0.0000e+00 - val_loss: 0.0052 - val_accuracy: 0.0000e+00\n",
            "Epoch 69/154\n",
            "27/27 [==============================] - 4s 142ms/step - loss: 4.5128e-04 - accuracy: 0.0000e+00 - val_loss: 0.0049 - val_accuracy: 0.0000e+00\n",
            "Epoch 70/154\n",
            "27/27 [==============================] - 4s 142ms/step - loss: 2.9837e-04 - accuracy: 0.0000e+00 - val_loss: 0.0048 - val_accuracy: 0.0000e+00\n",
            "Epoch 71/154\n",
            "27/27 [==============================] - 4s 142ms/step - loss: 1.7123e-04 - accuracy: 0.0000e+00 - val_loss: 0.0046 - val_accuracy: 0.0000e+00\n",
            "Epoch 72/154\n",
            "27/27 [==============================] - 4s 142ms/step - loss: 1.0657e-04 - accuracy: 0.0000e+00 - val_loss: 0.0048 - val_accuracy: 0.0000e+00\n",
            "Epoch 73/154\n",
            "27/27 [==============================] - 4s 142ms/step - loss: 8.0531e-05 - accuracy: 0.0000e+00 - val_loss: 0.0046 - val_accuracy: 0.0000e+00\n",
            "Epoch 74/154\n",
            "27/27 [==============================] - 4s 143ms/step - loss: 4.9339e-05 - accuracy: 0.0000e+00 - val_loss: 0.0046 - val_accuracy: 0.0000e+00\n",
            "Epoch 75/154\n",
            "27/27 [==============================] - 4s 142ms/step - loss: 3.3622e-05 - accuracy: 0.0000e+00 - val_loss: 0.0047 - val_accuracy: 0.0000e+00\n",
            "Epoch 76/154\n",
            "27/27 [==============================] - 4s 141ms/step - loss: 2.8880e-05 - accuracy: 0.0000e+00 - val_loss: 0.0047 - val_accuracy: 0.0000e+00\n",
            "Epoch 77/154\n",
            "27/27 [==============================] - 4s 142ms/step - loss: 2.0220e-05 - accuracy: 0.0000e+00 - val_loss: 0.0046 - val_accuracy: 0.0000e+00\n",
            "Epoch 78/154\n",
            "27/27 [==============================] - 4s 142ms/step - loss: 1.9708e-05 - accuracy: 0.0000e+00 - val_loss: 0.0046 - val_accuracy: 0.0000e+00\n",
            "Epoch 79/154\n",
            "27/27 [==============================] - 4s 141ms/step - loss: 1.5825e-05 - accuracy: 0.0000e+00 - val_loss: 0.0047 - val_accuracy: 0.0000e+00\n",
            "Epoch 80/154\n",
            "27/27 [==============================] - 4s 142ms/step - loss: 1.0683e-05 - accuracy: 0.0000e+00 - val_loss: 0.0046 - val_accuracy: 0.0000e+00\n",
            "Epoch 81/154\n",
            "27/27 [==============================] - 4s 142ms/step - loss: 9.3559e-06 - accuracy: 0.0000e+00 - val_loss: 0.0047 - val_accuracy: 0.0000e+00\n",
            "Epoch 82/154\n",
            "27/27 [==============================] - 4s 141ms/step - loss: 8.7886e-06 - accuracy: 0.0000e+00 - val_loss: 0.0047 - val_accuracy: 0.0000e+00\n",
            "Epoch 83/154\n",
            "27/27 [==============================] - 4s 142ms/step - loss: 7.6490e-06 - accuracy: 0.0000e+00 - val_loss: 0.0047 - val_accuracy: 0.0000e+00\n",
            "Epoch 84/154\n",
            "27/27 [==============================] - 4s 142ms/step - loss: 6.5350e-06 - accuracy: 0.0000e+00 - val_loss: 0.0047 - val_accuracy: 0.0000e+00\n",
            "Epoch 85/154\n",
            "27/27 [==============================] - 4s 141ms/step - loss: 7.4779e-06 - accuracy: 0.0000e+00 - val_loss: 0.0047 - val_accuracy: 0.0000e+00\n",
            "Epoch 86/154\n",
            "27/27 [==============================] - 4s 141ms/step - loss: 7.8839e-06 - accuracy: 0.0000e+00 - val_loss: 0.0047 - val_accuracy: 0.0000e+00\n",
            "Epoch 87/154\n",
            "27/27 [==============================] - 4s 141ms/step - loss: 7.5777e-06 - accuracy: 0.0000e+00 - val_loss: 0.0047 - val_accuracy: 0.0000e+00\n",
            "Epoch 88/154\n",
            "27/27 [==============================] - 4s 142ms/step - loss: 7.2833e-06 - accuracy: 0.0000e+00 - val_loss: 0.0047 - val_accuracy: 0.0000e+00\n",
            "Epoch 89/154\n",
            "27/27 [==============================] - 4s 142ms/step - loss: 1.6893e-05 - accuracy: 0.0000e+00 - val_loss: 0.0047 - val_accuracy: 0.0000e+00\n",
            "Epoch 90/154\n",
            "27/27 [==============================] - 4s 142ms/step - loss: 2.8798e-05 - accuracy: 0.0000e+00 - val_loss: 0.0047 - val_accuracy: 0.0000e+00\n",
            "Epoch 91/154\n",
            "27/27 [==============================] - 4s 141ms/step - loss: 3.5941e-05 - accuracy: 0.0000e+00 - val_loss: 0.0047 - val_accuracy: 0.0000e+00\n",
            "Epoch 92/154\n",
            "27/27 [==============================] - 4s 141ms/step - loss: 6.5236e-05 - accuracy: 0.0000e+00 - val_loss: 0.0047 - val_accuracy: 0.0000e+00\n",
            "Epoch 93/154\n",
            "27/27 [==============================] - 4s 141ms/step - loss: 6.2100e-05 - accuracy: 0.0000e+00 - val_loss: 0.0047 - val_accuracy: 0.0000e+00\n",
            "Epoch 94/154\n",
            "27/27 [==============================] - 4s 141ms/step - loss: 6.9143e-05 - accuracy: 0.0000e+00 - val_loss: 0.0046 - val_accuracy: 0.0000e+00\n",
            "Epoch 95/154\n",
            "27/27 [==============================] - 4s 141ms/step - loss: 1.0867e-04 - accuracy: 0.0000e+00 - val_loss: 0.0048 - val_accuracy: 0.0000e+00\n",
            "Epoch 96/154\n",
            "27/27 [==============================] - 4s 141ms/step - loss: 2.0179e-04 - accuracy: 0.0000e+00 - val_loss: 0.0046 - val_accuracy: 0.0000e+00\n",
            "Epoch 97/154\n",
            "27/27 [==============================] - 4s 141ms/step - loss: 4.3754e-04 - accuracy: 0.0000e+00 - val_loss: 0.0051 - val_accuracy: 0.0000e+00\n",
            "Epoch 98/154\n",
            "27/27 [==============================] - 4s 142ms/step - loss: 0.0010 - accuracy: 0.0000e+00 - val_loss: 0.0050 - val_accuracy: 0.0000e+00\n",
            "Epoch 99/154\n",
            "27/27 [==============================] - 4s 142ms/step - loss: 6.8191e-04 - accuracy: 0.0000e+00 - val_loss: 0.0049 - val_accuracy: 0.0000e+00\n",
            "Epoch 100/154\n",
            "27/27 [==============================] - 4s 141ms/step - loss: 5.7453e-04 - accuracy: 0.0000e+00 - val_loss: 0.0045 - val_accuracy: 0.0000e+00\n",
            "Epoch 101/154\n",
            "27/27 [==============================] - 4s 141ms/step - loss: 2.3370e-04 - accuracy: 0.0000e+00 - val_loss: 0.0044 - val_accuracy: 0.0000e+00\n",
            "Epoch 102/154\n",
            "27/27 [==============================] - 4s 141ms/step - loss: 1.3891e-04 - accuracy: 0.0000e+00 - val_loss: 0.0044 - val_accuracy: 0.0000e+00\n",
            "Epoch 103/154\n",
            "27/27 [==============================] - 4s 142ms/step - loss: 8.7653e-05 - accuracy: 0.0000e+00 - val_loss: 0.0044 - val_accuracy: 0.0000e+00\n",
            "Epoch 104/154\n",
            "27/27 [==============================] - 4s 141ms/step - loss: 6.4660e-05 - accuracy: 0.0000e+00 - val_loss: 0.0045 - val_accuracy: 0.0000e+00\n",
            "Epoch 105/154\n",
            "27/27 [==============================] - 4s 141ms/step - loss: 4.4906e-05 - accuracy: 0.0000e+00 - val_loss: 0.0045 - val_accuracy: 0.0000e+00\n",
            "Epoch 106/154\n",
            "27/27 [==============================] - 4s 142ms/step - loss: 3.4189e-05 - accuracy: 0.0000e+00 - val_loss: 0.0045 - val_accuracy: 0.0000e+00\n",
            "Epoch 107/154\n",
            "27/27 [==============================] - 4s 141ms/step - loss: 2.5803e-05 - accuracy: 0.0000e+00 - val_loss: 0.0045 - val_accuracy: 0.0000e+00\n",
            "Epoch 108/154\n",
            "27/27 [==============================] - 4s 141ms/step - loss: 1.9020e-05 - accuracy: 0.0000e+00 - val_loss: 0.0045 - val_accuracy: 0.0000e+00\n",
            "Epoch 109/154\n",
            "27/27 [==============================] - 4s 143ms/step - loss: 1.1202e-05 - accuracy: 0.0000e+00 - val_loss: 0.0045 - val_accuracy: 0.0000e+00\n",
            "Epoch 110/154\n",
            "27/27 [==============================] - 4s 142ms/step - loss: 8.5227e-06 - accuracy: 0.0000e+00 - val_loss: 0.0045 - val_accuracy: 0.0000e+00\n",
            "Epoch 111/154\n",
            "27/27 [==============================] - 4s 142ms/step - loss: 6.2295e-06 - accuracy: 0.0000e+00 - val_loss: 0.0045 - val_accuracy: 0.0000e+00\n",
            "Epoch 112/154\n",
            "27/27 [==============================] - 4s 142ms/step - loss: 7.7548e-06 - accuracy: 0.0000e+00 - val_loss: 0.0045 - val_accuracy: 0.0000e+00\n",
            "Epoch 113/154\n",
            "27/27 [==============================] - 4s 141ms/step - loss: 4.1644e-06 - accuracy: 0.0000e+00 - val_loss: 0.0045 - val_accuracy: 0.0000e+00\n",
            "Epoch 114/154\n",
            "27/27 [==============================] - 4s 141ms/step - loss: 3.2688e-06 - accuracy: 0.0000e+00 - val_loss: 0.0045 - val_accuracy: 0.0000e+00\n",
            "Epoch 115/154\n",
            "27/27 [==============================] - 4s 142ms/step - loss: 2.3283e-06 - accuracy: 0.0000e+00 - val_loss: 0.0045 - val_accuracy: 0.0000e+00\n",
            "Epoch 116/154\n",
            "27/27 [==============================] - 4s 141ms/step - loss: 2.4943e-06 - accuracy: 0.0000e+00 - val_loss: 0.0045 - val_accuracy: 0.0000e+00\n",
            "Epoch 117/154\n",
            "27/27 [==============================] - 4s 141ms/step - loss: 2.6476e-06 - accuracy: 0.0000e+00 - val_loss: 0.0045 - val_accuracy: 0.0000e+00\n",
            "Epoch 118/154\n",
            "27/27 [==============================] - 4s 141ms/step - loss: 2.7354e-06 - accuracy: 0.0000e+00 - val_loss: 0.0045 - val_accuracy: 0.0000e+00\n",
            "Epoch 119/154\n",
            "27/27 [==============================] - 4s 142ms/step - loss: 3.0966e-06 - accuracy: 0.0000e+00 - val_loss: 0.0045 - val_accuracy: 0.0000e+00\n",
            "Epoch 120/154\n",
            "27/27 [==============================] - 4s 142ms/step - loss: 1.9676e-06 - accuracy: 0.0000e+00 - val_loss: 0.0045 - val_accuracy: 0.0000e+00\n",
            "Epoch 121/154\n",
            "27/27 [==============================] - 4s 141ms/step - loss: 1.8701e-06 - accuracy: 0.0000e+00 - val_loss: 0.0045 - val_accuracy: 0.0000e+00\n",
            "Epoch 122/154\n",
            "27/27 [==============================] - 4s 141ms/step - loss: 1.4011e-06 - accuracy: 0.0000e+00 - val_loss: 0.0045 - val_accuracy: 0.0000e+00\n",
            "Epoch 123/154\n",
            "27/27 [==============================] - 4s 142ms/step - loss: 1.1739e-06 - accuracy: 0.0000e+00 - val_loss: 0.0045 - val_accuracy: 0.0000e+00\n",
            "Epoch 124/154\n",
            "27/27 [==============================] - 4s 141ms/step - loss: 1.5191e-06 - accuracy: 0.0000e+00 - val_loss: 0.0045 - val_accuracy: 0.0000e+00\n",
            "Epoch 125/154\n",
            "27/27 [==============================] - 4s 142ms/step - loss: 1.9584e-06 - accuracy: 0.0000e+00 - val_loss: 0.0045 - val_accuracy: 0.0000e+00\n",
            "Epoch 126/154\n",
            "27/27 [==============================] - 4s 141ms/step - loss: 1.6674e-06 - accuracy: 0.0000e+00 - val_loss: 0.0045 - val_accuracy: 0.0000e+00\n",
            "Epoch 127/154\n",
            "27/27 [==============================] - 4s 142ms/step - loss: 2.0124e-06 - accuracy: 0.0000e+00 - val_loss: 0.0045 - val_accuracy: 0.0000e+00\n",
            "Epoch 128/154\n",
            "27/27 [==============================] - 4s 141ms/step - loss: 1.6033e-06 - accuracy: 0.0000e+00 - val_loss: 0.0045 - val_accuracy: 0.0000e+00\n",
            "Epoch 129/154\n",
            "27/27 [==============================] - 4s 141ms/step - loss: 2.5059e-06 - accuracy: 0.0000e+00 - val_loss: 0.0045 - val_accuracy: 0.0000e+00\n",
            "Epoch 130/154\n",
            "27/27 [==============================] - 4s 141ms/step - loss: 2.7789e-06 - accuracy: 0.0000e+00 - val_loss: 0.0045 - val_accuracy: 0.0000e+00\n",
            "Epoch 131/154\n",
            "27/27 [==============================] - 4s 141ms/step - loss: 6.5240e-06 - accuracy: 0.0000e+00 - val_loss: 0.0045 - val_accuracy: 0.0000e+00\n",
            "Epoch 132/154\n",
            "27/27 [==============================] - 4s 142ms/step - loss: 1.2270e-05 - accuracy: 0.0000e+00 - val_loss: 0.0045 - val_accuracy: 0.0000e+00\n",
            "Epoch 133/154\n",
            "27/27 [==============================] - 4s 141ms/step - loss: 1.5630e-05 - accuracy: 0.0000e+00 - val_loss: 0.0045 - val_accuracy: 0.0000e+00\n",
            "Epoch 134/154\n",
            "27/27 [==============================] - 4s 142ms/step - loss: 2.0167e-05 - accuracy: 0.0000e+00 - val_loss: 0.0045 - val_accuracy: 0.0000e+00\n",
            "Epoch 135/154\n",
            "27/27 [==============================] - 4s 142ms/step - loss: 3.1496e-05 - accuracy: 0.0000e+00 - val_loss: 0.0045 - val_accuracy: 0.0000e+00\n",
            "Epoch 136/154\n",
            "27/27 [==============================] - 4s 142ms/step - loss: 7.3609e-05 - accuracy: 0.0000e+00 - val_loss: 0.0045 - val_accuracy: 0.0000e+00\n",
            "Epoch 137/154\n",
            "27/27 [==============================] - 4s 143ms/step - loss: 1.0085e-04 - accuracy: 0.0000e+00 - val_loss: 0.0045 - val_accuracy: 0.0000e+00\n",
            "Epoch 138/154\n",
            "27/27 [==============================] - 4s 143ms/step - loss: 9.2924e-05 - accuracy: 0.0000e+00 - val_loss: 0.0046 - val_accuracy: 0.0000e+00\n",
            "Epoch 139/154\n",
            "27/27 [==============================] - 4s 144ms/step - loss: 9.1034e-05 - accuracy: 0.0000e+00 - val_loss: 0.0045 - val_accuracy: 0.0000e+00\n",
            "Epoch 140/154\n",
            "27/27 [==============================] - 4s 144ms/step - loss: 1.8379e-04 - accuracy: 0.0000e+00 - val_loss: 0.0049 - val_accuracy: 0.0000e+00\n",
            "Epoch 141/154\n",
            "27/27 [==============================] - 4s 143ms/step - loss: 4.9871e-04 - accuracy: 0.0000e+00 - val_loss: 0.0048 - val_accuracy: 0.0000e+00\n",
            "Epoch 142/154\n",
            "27/27 [==============================] - 4s 144ms/step - loss: 7.0078e-04 - accuracy: 0.0000e+00 - val_loss: 0.0049 - val_accuracy: 0.0000e+00\n",
            "Epoch 143/154\n",
            "27/27 [==============================] - 4s 144ms/step - loss: 6.4737e-04 - accuracy: 0.0000e+00 - val_loss: 0.0049 - val_accuracy: 0.0000e+00\n",
            "Epoch 144/154\n",
            "27/27 [==============================] - 4s 144ms/step - loss: 5.3148e-04 - accuracy: 0.0000e+00 - val_loss: 0.0046 - val_accuracy: 0.0000e+00\n",
            "Epoch 145/154\n",
            "27/27 [==============================] - 4s 143ms/step - loss: 2.7765e-04 - accuracy: 0.0000e+00 - val_loss: 0.0044 - val_accuracy: 0.0000e+00\n",
            "Epoch 146/154\n",
            "27/27 [==============================] - 4s 143ms/step - loss: 1.8545e-04 - accuracy: 0.0000e+00 - val_loss: 0.0043 - val_accuracy: 0.0000e+00\n",
            "Epoch 147/154\n",
            "27/27 [==============================] - 4s 142ms/step - loss: 1.7056e-04 - accuracy: 0.0000e+00 - val_loss: 0.0044 - val_accuracy: 0.0000e+00\n",
            "Epoch 148/154\n",
            "27/27 [==============================] - 4s 143ms/step - loss: 9.8691e-05 - accuracy: 0.0000e+00 - val_loss: 0.0043 - val_accuracy: 0.0000e+00\n",
            "Epoch 149/154\n",
            "27/27 [==============================] - 4s 142ms/step - loss: 8.6009e-05 - accuracy: 0.0000e+00 - val_loss: 0.0043 - val_accuracy: 0.0000e+00\n",
            "Epoch 150/154\n",
            "27/27 [==============================] - 4s 144ms/step - loss: 7.6093e-05 - accuracy: 0.0000e+00 - val_loss: 0.0044 - val_accuracy: 0.0000e+00\n",
            "Epoch 151/154\n",
            "27/27 [==============================] - 4s 142ms/step - loss: 6.8801e-05 - accuracy: 0.0000e+00 - val_loss: 0.0043 - val_accuracy: 0.0000e+00\n",
            "Epoch 152/154\n",
            "27/27 [==============================] - 4s 144ms/step - loss: 4.5394e-05 - accuracy: 0.0000e+00 - val_loss: 0.0044 - val_accuracy: 0.0000e+00\n",
            "Epoch 153/154\n",
            "27/27 [==============================] - 4s 144ms/step - loss: 3.2506e-05 - accuracy: 0.0000e+00 - val_loss: 0.0043 - val_accuracy: 0.0000e+00\n",
            "Epoch 154/154\n",
            "27/27 [==============================] - 4s 143ms/step - loss: 3.7885e-05 - accuracy: 0.0000e+00 - val_loss: 0.0043 - val_accuracy: 0.0000e+00\n"
          ],
          "name": "stdout"
        }
      ]
    },
    {
      "cell_type": "code",
      "metadata": {
        "id": "F4z0I4t5bAlR",
        "colab_type": "code",
        "colab": {}
      },
      "source": [
        "model1.save_weights('bkupmain.h5', overwrite=True)\n",
        "#next time no need to train, load weights from stored data"
      ],
      "execution_count": 81,
      "outputs": []
    },
    {
      "cell_type": "code",
      "metadata": {
        "id": "Sr5foa7MbAn0",
        "colab_type": "code",
        "colab": {
          "base_uri": "https://localhost:8080/",
          "height": 34
        },
        "outputId": "c6f489c6-2998-4530-efe0-09da729e24c1"
      },
      "source": [
        "test_loss, test_acc = model1.evaluate(X_test, y_test,verbose = 1)\n",
        "#evaluated on test data loss <=0.04"
      ],
      "execution_count": 82,
      "outputs": [
        {
          "output_type": "stream",
          "text": [
            "25/25 [==============================] - 0s 19ms/step - loss: 0.0043 - accuracy: 0.0000e+00\n"
          ],
          "name": "stdout"
        }
      ]
    },
    {
      "cell_type": "markdown",
      "metadata": {
        "id": "ks27ICcyS3eA",
        "colab_type": "text"
      },
      "source": [
        "<h2>Below is comparision of correlation predicted vs actual</h2>\n",
        "change TEST_ON_INDEX variable or different comparision\n"
      ]
    },
    {
      "cell_type": "code",
      "metadata": {
        "id": "dOFd1ZeUbAqb",
        "colab_type": "code",
        "colab": {
          "base_uri": "https://localhost:8080/",
          "height": 34
        },
        "outputId": "b5a072ae-b4ce-4f60-aeb2-4104fa937030"
      },
      "source": [
        "from tensorflow.keras import backend as K\n",
        "\n",
        "TEST_ON_INDEX = 107\n",
        "def test_for_ind_val(index,model1):\n",
        "    \n",
        "  inp = model1.input                                           # input placeholder\n",
        "  outputs = [layer.output for layer in model1.layers]          # all layer outputs\n",
        "  functors = [K.function([inp], [out]) for out in outputs] \n",
        "\n",
        "  x1 = np.array(matrm[index])[np.newaxis,...]\n",
        "  layer_outs = [func([x1, 1.]) for func in functors]\n",
        "  # print(layer_outs[-1])\n",
        "  print(\" Predicted = {},Expected = {} , \".format(layer_outs[-1][0],new_label[index]))\n",
        "  # print(new_label[index])\n",
        "  pass\n",
        "\n",
        "\n",
        "\n",
        "test_for_ind_val(TEST_ON_INDEX,model1)"
      ],
      "execution_count": 84,
      "outputs": [
        {
          "output_type": "stream",
          "text": [
            " Predicted = [[-0.11774082]],Expected = -0.11626079570479747 , \n"
          ],
          "name": "stdout"
        }
      ]
    },
    {
      "cell_type": "code",
      "metadata": {
        "id": "fXOvIfOkbAtU",
        "colab_type": "code",
        "colab": {}
      },
      "source": [
        ""
      ],
      "execution_count": null,
      "outputs": []
    },
    {
      "cell_type": "code",
      "metadata": {
        "id": "ercSZQAebAwL",
        "colab_type": "code",
        "colab": {}
      },
      "source": [
        ""
      ],
      "execution_count": null,
      "outputs": []
    },
    {
      "cell_type": "code",
      "metadata": {
        "id": "Af45xAonbAzW",
        "colab_type": "code",
        "colab": {}
      },
      "source": [
        ""
      ],
      "execution_count": null,
      "outputs": []
    },
    {
      "cell_type": "code",
      "metadata": {
        "id": "jGElW1dQbA1z",
        "colab_type": "code",
        "colab": {}
      },
      "source": [
        ""
      ],
      "execution_count": null,
      "outputs": []
    },
    {
      "cell_type": "code",
      "metadata": {
        "id": "xFyQM1bHSrDW",
        "colab_type": "code",
        "colab": {}
      },
      "source": [
        ""
      ],
      "execution_count": null,
      "outputs": []
    },
    {
      "cell_type": "code",
      "metadata": {
        "id": "RQI03yrISrFm",
        "colab_type": "code",
        "colab": {}
      },
      "source": [
        ""
      ],
      "execution_count": null,
      "outputs": []
    },
    {
      "cell_type": "code",
      "metadata": {
        "id": "wFVnEBhYSrIH",
        "colab_type": "code",
        "colab": {}
      },
      "source": [
        ""
      ],
      "execution_count": null,
      "outputs": []
    },
    {
      "cell_type": "code",
      "metadata": {
        "id": "KfR2TdyCSrLY",
        "colab_type": "code",
        "colab": {}
      },
      "source": [
        ""
      ],
      "execution_count": null,
      "outputs": []
    }
  ]
}