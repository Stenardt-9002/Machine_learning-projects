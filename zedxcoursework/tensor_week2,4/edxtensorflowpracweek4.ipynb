{
  "nbformat": 4,
  "nbformat_minor": 0,
  "metadata": {
    "colab": {
      "name": "edxtensorflowpracweek4.ipynb",
      "provenance": [],
      "collapsed_sections": []
    },
    "kernelspec": {
      "name": "python3",
      "display_name": "Python 3"
    },
    "accelerator": "GPU"
  },
  "cells": [
    {
      "cell_type": "code",
      "metadata": {
        "id": "5x9ipN0mf2LT",
        "colab_type": "code",
        "colab": {}
      },
      "source": [
        "import urllib.request\n",
        "with urllib.request.urlopen(\"http://deeplearning.net/tutorial/code/utils.py\") as url:\n",
        "    response = url.read()\n",
        "target = open('utils.py', 'w')\n",
        "target.write(response.decode('utf-8'))\n",
        "\n",
        "target.close()"
      ],
      "execution_count": null,
      "outputs": []
    },
    {
      "cell_type": "code",
      "metadata": {
        "id": "8Pb1oeqcgdtN",
        "colab_type": "code",
        "colab": {
          "base_uri": "https://localhost:8080/",
          "height": 34
        },
        "outputId": "a2e30c0e-4473-42e1-d018-8e5cc0029d02"
      },
      "source": [
        "%tensorflow_version 1.x"
      ],
      "execution_count": null,
      "outputs": [
        {
          "output_type": "stream",
          "text": [
            "TensorFlow 1.x selected.\n"
          ],
          "name": "stdout"
        }
      ]
    },
    {
      "cell_type": "code",
      "metadata": {
        "id": "ka4KKNJzf4-s",
        "colab_type": "code",
        "colab": {
          "base_uri": "https://localhost:8080/",
          "height": 34
        },
        "outputId": "84b49b7c-9491-4a82-8658-b4ea6fe8cbe5"
      },
      "source": [
        "import tensorflow as tf\n",
        "import numpy as np\n",
        "from tensorflow.examples.tutorials.mnist import input_data\n",
        "!pip install pillow\n",
        "from PIL import Image\n",
        "from utils import tile_raster_images\n",
        "import matplotlib.pyplot as plt\n",
        "%matplotlib inline\n"
      ],
      "execution_count": null,
      "outputs": [
        {
          "output_type": "stream",
          "text": [
            "Requirement already satisfied: pillow in /usr/local/lib/python3.6/dist-packages (7.0.0)\n"
          ],
          "name": "stdout"
        }
      ]
    },
    {
      "cell_type": "code",
      "metadata": {
        "id": "0UN6uCmaf5A3",
        "colab_type": "code",
        "colab": {}
      },
      "source": [
        "import time \n",
        "for i in range(100):\n",
        "  time.sleep(2)"
      ],
      "execution_count": null,
      "outputs": []
    },
    {
      "cell_type": "code",
      "metadata": {
        "id": "ZHv2gePBh6ef",
        "colab_type": "code",
        "colab": {}
      },
      "source": [
        "v_bias = tf.placeholder(\"float\", [7])\n",
        "h_bias = tf.placeholder(\"float\", [2])"
      ],
      "execution_count": null,
      "outputs": []
    },
    {
      "cell_type": "code",
      "metadata": {
        "id": "sjqQUp76h6g4",
        "colab_type": "code",
        "colab": {}
      },
      "source": [
        "W = tf.constant(np.random.normal(loc=0.0, scale=1.0, size=(7, 2)).astype(np.float32))"
      ],
      "execution_count": null,
      "outputs": []
    },
    {
      "cell_type": "code",
      "metadata": {
        "id": "O1vF1VEWh6kP",
        "colab_type": "code",
        "colab": {
          "base_uri": "https://localhost:8080/",
          "height": 34
        },
        "outputId": "f4e7a850-5c59-4622-e612-74b385ce7637"
      },
      "source": [
        "W"
      ],
      "execution_count": null,
      "outputs": [
        {
          "output_type": "execute_result",
          "data": {
            "text/plain": [
              "<tf.Tensor 'Const:0' shape=(7, 2) dtype=float32>"
            ]
          },
          "metadata": {
            "tags": []
          },
          "execution_count": 8
        }
      ]
    },
    {
      "cell_type": "code",
      "metadata": {
        "id": "irRg0bVDh6m1",
        "colab_type": "code",
        "colab": {
          "base_uri": "https://localhost:8080/",
          "height": 208
        },
        "outputId": "1821ac6f-49e6-4f1a-e71f-847374065504"
      },
      "source": [
        "sess = tf.Session()\n",
        "X = tf.constant([[1.0, 0.0, 0.0, 1.0, 0.0, 0.0, 0.0]])\n",
        "v_state = X\n",
        "print (\"Input: \", sess.run(v_state))\n",
        "\n",
        "h_bias = tf.constant([0.1, 0.1])\n",
        "print (\"hb: \", sess.run(h_bias))\n",
        "print (\"w: \", sess.run(W))\n",
        "\n",
        "# Calculate the probabilities of turning the hidden units on:\n",
        "h_prob = tf.nn.sigmoid(tf.matmul(v_state, W) + h_bias)  #probabilities of the hidden units\n",
        "print (\"p(h|v): \", sess.run(h_prob))\n",
        "\n",
        "# Draw samples from the distribution:\n",
        "h_state = tf.nn.relu(tf.sign(h_prob - tf.random_uniform(tf.shape(h_prob)))) #states\n",
        "print (\"h0 states:\", sess.run(h_state))"
      ],
      "execution_count": null,
      "outputs": [
        {
          "output_type": "stream",
          "text": [
            "Input:  [[1. 0. 0. 1. 0. 0. 0.]]\n",
            "hb:  [0.1 0.1]\n",
            "w:  [[ 0.8484803  -0.17321126]\n",
            " [-0.45932633 -1.2371159 ]\n",
            " [-0.818947    0.28896198]\n",
            " [ 0.17592518 -1.2025214 ]\n",
            " [ 0.47691372 -0.4723026 ]\n",
            " [ 0.12630965 -2.5517485 ]\n",
            " [-0.8948597  -0.5185993 ]]\n",
            "p(h|v):  [[0.75480497 0.21827748]]\n",
            "h0 states: [[0. 0.]]\n"
          ],
          "name": "stdout"
        }
      ]
    },
    {
      "cell_type": "code",
      "metadata": {
        "id": "VWn1G1zQ5pDG",
        "colab_type": "code",
        "colab": {
          "base_uri": "https://localhost:8080/",
          "height": 34
        },
        "outputId": "e14af3f2-9f67-4c68-d1d3-e3691ded4c7e"
      },
      "source": [
        "h_prob"
      ],
      "execution_count": null,
      "outputs": [
        {
          "output_type": "execute_result",
          "data": {
            "text/plain": [
              "<tf.Tensor 'Sigmoid:0' shape=(1, 2) dtype=float32>"
            ]
          },
          "metadata": {
            "tags": []
          },
          "execution_count": 9
        }
      ]
    },
    {
      "cell_type": "code",
      "metadata": {
        "id": "xjQG89CMh6pZ",
        "colab_type": "code",
        "colab": {
          "base_uri": "https://localhost:8080/",
          "height": 86
        },
        "outputId": "004b5039-3e62-45d1-ab73-6a3ce8872aa9"
      },
      "source": [
        "vb = tf.constant([0.1, 0.2, 0.1, 0.1, 0.1, 0.2, 0.1])\n",
        "print (\"b: \", sess.run(vb))\n",
        "v_prob = sess.run(tf.nn.sigmoid(tf.matmul(h_state, tf.transpose(W)) + vb))\n",
        "print (\"p(vi∣h): \", v_prob)\n",
        "v_state = tf.nn.relu(tf.sign(v_prob - tf.random_uniform(tf.shape(v_prob))))\n",
        "print (\"v probability states: \", sess.run(v_state))"
      ],
      "execution_count": null,
      "outputs": [
        {
          "output_type": "stream",
          "text": [
            "b:  [0.1 0.2 0.1 0.1 0.1 0.2 0.1]\n",
            "p(vi∣h):  [[0.5249792  0.549834   0.5249792  0.5249792  0.5249792  0.54983395\n",
            "  0.5249792 ]]\n",
            "v probability states:  [[0. 1. 1. 1. 1. 0. 1.]]\n"
          ],
          "name": "stdout"
        }
      ]
    },
    {
      "cell_type": "code",
      "metadata": {
        "id": "PNaYL5F56KPH",
        "colab_type": "code",
        "colab": {
          "base_uri": "https://localhost:8080/",
          "height": 34
        },
        "outputId": "339036f4-cd07-41f7-b7a2-10870686c337"
      },
      "source": [
        "X"
      ],
      "execution_count": null,
      "outputs": [
        {
          "output_type": "execute_result",
          "data": {
            "text/plain": [
              "<tf.Tensor 'Const_1:0' shape=(1, 7) dtype=float32>"
            ]
          },
          "metadata": {
            "tags": []
          },
          "execution_count": 12
        }
      ]
    },
    {
      "cell_type": "code",
      "metadata": {
        "id": "CiZQZqBV6Kbt",
        "colab_type": "code",
        "colab": {
          "base_uri": "https://localhost:8080/",
          "height": 86
        },
        "outputId": "8f6ef2d4-0b7f-4d53-c42f-cfea21e28874"
      },
      "source": [
        "inp = sess.run(X)\n",
        "print(inp)\n",
        "print(v_prob[0])\n",
        "v_probability = 1\n",
        "for elm, p in zip(inp[0],v_prob[0]) :\n",
        "    if elm ==1:\n",
        "        v_probability *= p\n",
        "    else:\n",
        "        v_probability *= (1-p)\n",
        "v_probability"
      ],
      "execution_count": null,
      "outputs": [
        {
          "output_type": "stream",
          "text": [
            "[[1. 0. 0. 1. 0. 0. 0.]]\n",
            "[0.5249792  0.549834   0.5249792  0.5249792  0.5249792  0.54983395\n",
            " 0.5249792 ]\n"
          ],
          "name": "stdout"
        },
        {
          "output_type": "execute_result",
          "data": {
            "text/plain": [
              "0.005986424581851926"
            ]
          },
          "metadata": {
            "tags": []
          },
          "execution_count": 11
        }
      ]
    },
    {
      "cell_type": "code",
      "metadata": {
        "id": "PqwOVb0D6KhG",
        "colab_type": "code",
        "colab": {}
      },
      "source": [
        ""
      ],
      "execution_count": null,
      "outputs": []
    },
    {
      "cell_type": "markdown",
      "metadata": {
        "id": "9yI0gIoq6mPR",
        "colab_type": "text"
      },
      "source": [
        "<h2>MNIST</h2>"
      ]
    },
    {
      "cell_type": "code",
      "metadata": {
        "id": "Xbr9d7zG6lJs",
        "colab_type": "code",
        "colab": {
          "base_uri": "https://localhost:8080/",
          "height": 541
        },
        "outputId": "9ee79e2b-bb18-407a-dacc-f23d838f5f18"
      },
      "source": [
        "mnist = input_data.read_data_sets(\"MNIST_data/\", one_hot=True)\n",
        "trX, trY, teX, teY = mnist.train.images, mnist.train.labels, mnist.test.images, mnist.test.labels"
      ],
      "execution_count": null,
      "outputs": [
        {
          "output_type": "stream",
          "text": [
            "WARNING:tensorflow:From <ipython-input-13-a0c1bc5755ed>:1: read_data_sets (from tensorflow.contrib.learn.python.learn.datasets.mnist) is deprecated and will be removed in a future version.\n",
            "Instructions for updating:\n",
            "Please use alternatives such as official/mnist/dataset.py from tensorflow/models.\n",
            "WARNING:tensorflow:From /tensorflow-1.15.2/python3.6/tensorflow_core/contrib/learn/python/learn/datasets/mnist.py:260: maybe_download (from tensorflow.contrib.learn.python.learn.datasets.base) is deprecated and will be removed in a future version.\n",
            "Instructions for updating:\n",
            "Please write your own downloading logic.\n",
            "WARNING:tensorflow:From /tensorflow-1.15.2/python3.6/tensorflow_core/contrib/learn/python/learn/datasets/base.py:252: _internal_retry.<locals>.wrap.<locals>.wrapped_fn (from tensorflow.contrib.learn.python.learn.datasets.base) is deprecated and will be removed in a future version.\n",
            "Instructions for updating:\n",
            "Please use urllib or similar directly.\n",
            "Successfully downloaded train-images-idx3-ubyte.gz 9912422 bytes.\n",
            "WARNING:tensorflow:From /tensorflow-1.15.2/python3.6/tensorflow_core/contrib/learn/python/learn/datasets/mnist.py:262: extract_images (from tensorflow.contrib.learn.python.learn.datasets.mnist) is deprecated and will be removed in a future version.\n",
            "Instructions for updating:\n",
            "Please use tf.data to implement this functionality.\n",
            "Extracting MNIST_data/train-images-idx3-ubyte.gz\n",
            "Successfully downloaded train-labels-idx1-ubyte.gz 28881 bytes.\n",
            "WARNING:tensorflow:From /tensorflow-1.15.2/python3.6/tensorflow_core/contrib/learn/python/learn/datasets/mnist.py:267: extract_labels (from tensorflow.contrib.learn.python.learn.datasets.mnist) is deprecated and will be removed in a future version.\n",
            "Instructions for updating:\n",
            "Please use tf.data to implement this functionality.\n",
            "Extracting MNIST_data/train-labels-idx1-ubyte.gz\n",
            "WARNING:tensorflow:From /tensorflow-1.15.2/python3.6/tensorflow_core/contrib/learn/python/learn/datasets/mnist.py:110: dense_to_one_hot (from tensorflow.contrib.learn.python.learn.datasets.mnist) is deprecated and will be removed in a future version.\n",
            "Instructions for updating:\n",
            "Please use tf.one_hot on tensors.\n",
            "Successfully downloaded t10k-images-idx3-ubyte.gz 1648877 bytes.\n",
            "Extracting MNIST_data/t10k-images-idx3-ubyte.gz\n",
            "Successfully downloaded t10k-labels-idx1-ubyte.gz 4542 bytes.\n",
            "Extracting MNIST_data/t10k-labels-idx1-ubyte.gz\n",
            "WARNING:tensorflow:From /tensorflow-1.15.2/python3.6/tensorflow_core/contrib/learn/python/learn/datasets/mnist.py:290: DataSet.__init__ (from tensorflow.contrib.learn.python.learn.datasets.mnist) is deprecated and will be removed in a future version.\n",
            "Instructions for updating:\n",
            "Please use alternatives such as official/mnist/dataset.py from tensorflow/models.\n"
          ],
          "name": "stdout"
        }
      ]
    },
    {
      "cell_type": "code",
      "metadata": {
        "id": "4Za_YRCO6lM6",
        "colab_type": "code",
        "colab": {
          "base_uri": "https://localhost:8080/",
          "height": 86
        },
        "outputId": "d34c83fe-3698-4367-cffb-11da6c2cfa60"
      },
      "source": [
        "# type(trX)\n",
        "# type(trY)\n",
        "# type(teX)\n",
        "# type(teY)\n",
        "print(trX.shape)\n",
        "print(trY.shape)\n",
        "print(teX.shape)\n",
        "print(teY.shape)\n",
        "\n"
      ],
      "execution_count": null,
      "outputs": [
        {
          "output_type": "stream",
          "text": [
            "(55000, 784)\n",
            "(55000, 10)\n",
            "(10000, 784)\n",
            "(10000, 10)\n"
          ],
          "name": "stdout"
        }
      ]
    },
    {
      "cell_type": "code",
      "metadata": {
        "id": "B1da1IjT6lR1",
        "colab_type": "code",
        "colab": {}
      },
      "source": [
        ""
      ],
      "execution_count": null,
      "outputs": []
    },
    {
      "cell_type": "code",
      "metadata": {
        "id": "Hu3KXu216lZJ",
        "colab_type": "code",
        "colab": {}
      },
      "source": [
        "vb = tf.placeholder(\"float\", [784])\n",
        "hb = tf.placeholder(\"float\", [50])\n",
        "# 50 node hidden"
      ],
      "execution_count": null,
      "outputs": []
    },
    {
      "cell_type": "code",
      "metadata": {
        "id": "PVfV-e-Y6lel",
        "colab_type": "code",
        "colab": {}
      },
      "source": [
        "W = tf.placeholder(\"float\", [784, 50])\n",
        "# multiply visible"
      ],
      "execution_count": null,
      "outputs": []
    },
    {
      "cell_type": "code",
      "metadata": {
        "id": "gbWCCfv86lc-",
        "colab_type": "code",
        "colab": {}
      },
      "source": [
        "v0_state = tf.placeholder(\"float\", [None, 784])\n",
        "#visible layer orig"
      ],
      "execution_count": null,
      "outputs": []
    },
    {
      "cell_type": "code",
      "metadata": {
        "id": "JmRF8d0N6lWl",
        "colab_type": "code",
        "colab": {}
      },
      "source": [
        "h0_prob = tf.nn.sigmoid(tf.matmul(v0_state, W) + hb)  #probabilities of the hidden units\n",
        "h0_state = tf.nn.relu(tf.sign(h0_prob - tf.random_uniform(tf.shape(h0_prob)))) #sample_h_given_X"
      ],
      "execution_count": null,
      "outputs": []
    },
    {
      "cell_type": "code",
      "metadata": {
        "id": "RAavS1Nw722l",
        "colab_type": "code",
        "colab": {}
      },
      "source": [
        "v1_prob = tf.nn.sigmoid(tf.matmul(h0_state, tf.transpose(W)) + vb) \n",
        "v1_state = tf.nn.relu(tf.sign(v1_prob - tf.random_uniform(tf.shape(v1_prob)))) #sample_v_given_h\n",
        "#reconstructed"
      ],
      "execution_count": null,
      "outputs": []
    },
    {
      "cell_type": "code",
      "metadata": {
        "id": "drMKSrjY6lVH",
        "colab_type": "code",
        "colab": {
          "base_uri": "https://localhost:8080/",
          "height": 34
        },
        "outputId": "03a37cb2-2abe-4cd0-e071-927fcb91535d"
      },
      "source": [
        "h0_state"
      ],
      "execution_count": null,
      "outputs": [
        {
          "output_type": "execute_result",
          "data": {
            "text/plain": [
              "<tf.Tensor 'Relu_2:0' shape=(?, 50) dtype=float32>"
            ]
          },
          "metadata": {
            "tags": []
          },
          "execution_count": 25
        }
      ]
    },
    {
      "cell_type": "code",
      "metadata": {
        "id": "laOol9BZ6lQL",
        "colab_type": "code",
        "colab": {}
      },
      "source": [
        "err = tf.reduce_mean(tf.square(v0_state - v1_state))"
      ],
      "execution_count": null,
      "outputs": []
    },
    {
      "cell_type": "code",
      "metadata": {
        "id": "scsB4rVT6Kqt",
        "colab_type": "code",
        "colab": {}
      },
      "source": [
        "h1_prob = tf.nn.sigmoid(tf.matmul(v1_state, W) + hb)\n",
        "h1_state = tf.nn.relu(tf.sign(h1_prob - tf.random_uniform(tf.shape(h1_prob)))) #sample_h_given_X\n",
        "alpha = 0.01\n",
        "W_Delta = tf.matmul(tf.transpose(v0_state), h0_prob) - tf.matmul(tf.transpose(v1_state), h1_prob)\n",
        "update_w = W + alpha * W_Delta\n",
        "update_vb = vb + alpha * tf.reduce_mean(v0_state - v1_state, 0)\n",
        "update_hb = hb + alpha * tf.reduce_mean(h0_state - h1_state, 0)\n",
        "\n",
        "\n"
      ],
      "execution_count": null,
      "outputs": []
    },
    {
      "cell_type": "code",
      "metadata": {
        "id": "fGJQDPvd6Kxv",
        "colab_type": "code",
        "colab": {}
      },
      "source": [
        ""
      ],
      "execution_count": null,
      "outputs": []
    },
    {
      "cell_type": "code",
      "metadata": {
        "id": "_4ovopUp8hVf",
        "colab_type": "code",
        "colab": {}
      },
      "source": [
        "cur_w = np.zeros([784, 50], np.float32)\n",
        "cur_vb = np.zeros([784], np.float32)\n",
        "cur_hb = np.zeros([50], np.float32)\n",
        "prv_w = np.zeros([784, 50], np.float32)\n",
        "prv_vb = np.zeros([784], np.float32)\n",
        "prv_hb = np.zeros([50], np.float32)\n",
        "sess = tf.Session()\n",
        "init = tf.global_variables_initializer()\n",
        "sess.run(init)"
      ],
      "execution_count": null,
      "outputs": []
    },
    {
      "cell_type": "code",
      "metadata": {
        "id": "e7t6leNj8hbd",
        "colab_type": "code",
        "colab": {
          "base_uri": "https://localhost:8080/",
          "height": 34
        },
        "outputId": "67fe4836-0b9d-402e-dcdf-b202ffce8d8b"
      },
      "source": [
        "sess.run(err, feed_dict={v0_state: trX, W: prv_w, vb: prv_vb, hb: prv_hb})\n"
      ],
      "execution_count": null,
      "outputs": [
        {
          "output_type": "execute_result",
          "data": {
            "text/plain": [
              "0.48136258"
            ]
          },
          "metadata": {
            "tags": []
          },
          "execution_count": 31
        }
      ]
    },
    {
      "cell_type": "code",
      "metadata": {
        "id": "OHa_c1kz8hjY",
        "colab_type": "code",
        "colab": {}
      },
      "source": [
        ""
      ],
      "execution_count": null,
      "outputs": []
    },
    {
      "cell_type": "code",
      "metadata": {
        "id": "ZKQ9eozH8hma",
        "colab_type": "code",
        "colab": {
          "base_uri": "https://localhost:8080/",
          "height": 435
        },
        "outputId": "ba7d2c52-f359-4b10-ca13-e1e4624861e6"
      },
      "source": [
        "#Parameters\n",
        "epochs = 9\n",
        "batchsize = 100\n",
        "weights = []\n",
        "errors = []\n",
        "\n",
        "for epoch in range(epochs):\n",
        "    for start, end in zip( range(0, len(trX), batchsize), range(batchsize, len(trX), batchsize)):\n",
        "        batch = trX[start:end]\n",
        "        cur_w = sess.run(update_w, feed_dict={ v0_state: batch, W: prv_w, vb: prv_vb, hb: prv_hb})\n",
        "        cur_vb = sess.run(update_vb, feed_dict={v0_state: batch, W: prv_w, vb: prv_vb, hb: prv_hb})\n",
        "        cur_hb = sess.run(update_hb, feed_dict={ v0_state: batch, W: prv_w, vb: prv_vb, hb: prv_hb})\n",
        "        prv_w = cur_w\n",
        "        prv_vb = cur_vb\n",
        "        prv_hb = cur_hb\n",
        "        if start % 10000 == 0:\n",
        "            errors.append(sess.run(err, feed_dict={v0_state: trX, W: cur_w, vb: cur_vb, hb: cur_hb}))\n",
        "            weights.append(cur_w)\n",
        "    print ('Epoch: %d' % epoch,'reconstruction error: %f' % errors[-1])\n",
        "plt.plot(errors)\n",
        "plt.xlabel(\"Batch Number\")\n",
        "plt.ylabel(\"Error\")\n",
        "plt.show()"
      ],
      "execution_count": null,
      "outputs": [
        {
          "output_type": "stream",
          "text": [
            "Epoch: 0 reconstruction error: 0.089879\n",
            "Epoch: 1 reconstruction error: 0.088481\n",
            "Epoch: 2 reconstruction error: 0.087124\n",
            "Epoch: 3 reconstruction error: 0.086404\n",
            "Epoch: 4 reconstruction error: 0.085379\n",
            "Epoch: 5 reconstruction error: 0.084911\n",
            "Epoch: 6 reconstruction error: 0.085612\n",
            "Epoch: 7 reconstruction error: 0.084502\n",
            "Epoch: 8 reconstruction error: 0.084797\n"
          ],
          "name": "stdout"
        },
        {
          "output_type": "display_data",
          "data": {
            "image/png": "[encoded data removed]",
            "text/plain": [
              "<Figure size 432x288 with 1 Axes>"
            ]
          },
          "metadata": {
            "tags": [],
            "needs_background": "light"
          }
        }
      ]
    },
    {
      "cell_type": "code",
      "metadata": {
        "id": "wbgoiDjU8hrW",
        "colab_type": "code",
        "colab": {
          "base_uri": "https://localhost:8080/",
          "height": 243
        },
        "outputId": "f9ca9c0b-e4b9-4376-b566-a727a8cc7a17"
      },
      "source": [
        "uw = weights[-1].T\n",
        "print (uw) # a weight matrix of shape (50,784)"
      ],
      "execution_count": null,
      "outputs": [
        {
          "output_type": "stream",
          "text": [
            "[[-0.35018033 -0.30250487 -0.28985    ... -0.27909622 -0.28927174\n",
            "  -0.3089401 ]\n",
            " [-0.35025883 -0.30342585 -0.28997132 ... -0.2807828  -0.29018828\n",
            "  -0.30979702]\n",
            " [-1.8164114  -1.7529963  -1.8032845  ... -1.845813   -1.6933239\n",
            "  -1.7306635 ]\n",
            " ...\n",
            " [-0.8248992  -0.7929462  -0.77842355 ... -0.7521794  -0.7405053\n",
            "  -0.7520382 ]\n",
            " [-1.5741543  -1.5562626  -1.531595   ... -1.5989878  -1.4707847\n",
            "  -1.5601193 ]\n",
            " [-1.8090936  -1.7823415  -1.7213905  ... -1.7355373  -1.8845778\n",
            "  -1.7338359 ]]\n"
          ],
          "name": "stdout"
        }
      ]
    },
    {
      "cell_type": "code",
      "metadata": {
        "id": "GgkJpeRi8hg4",
        "colab_type": "code",
        "colab": {
          "base_uri": "https://localhost:8080/",
          "height": 139
        },
        "outputId": "15695b00-1ed1-4c7c-e22c-821fc75db10a"
      },
      "source": [
        "tile_raster_images(X=cur_w.T, img_shape=(28, 28), tile_shape=(5, 10), tile_spacing=(1, 1))"
      ],
      "execution_count": null,
      "outputs": [
        {
          "output_type": "execute_result",
          "data": {
            "text/plain": [
              "array([[ 30,  49,  54, ...,  70,  70,  71],\n",
              "       [ 64,  38,  62, ...,  69,  69,  70],\n",
              "       [ 40,  25,  44, ...,  69,  70,  71],\n",
              "       ...,\n",
              "       [ 73,  57,  53, ...,  98,  99,  98],\n",
              "       [ 74,  78,  79, ...,  95,  98,  98],\n",
              "       [ 72,  67,  69, ...,  99,  94, 100]], dtype=uint8)"
            ]
          },
          "metadata": {
            "tags": []
          },
          "execution_count": 35
        }
      ]
    },
    {
      "cell_type": "code",
      "metadata": {
        "id": "NWk1qS9S8hek",
        "colab_type": "code",
        "colab": {
          "base_uri": "https://localhost:8080/",
          "height": 551
        },
        "outputId": "9455c1c2-185c-4e89-e74a-8d10d42c8fe6"
      },
      "source": [
        "\n",
        "import matplotlib.pyplot as plt\n",
        "from PIL import Image\n",
        "%matplotlib inline\n",
        "image = Image.fromarray(tile_raster_images(X=cur_w.T, img_shape=(28, 28) ,tile_shape=(5, 10), tile_spacing=(1, 1)))\n",
        "### Plot image\n",
        "plt.rcParams['figure.figsize'] = (18.0, 18.0)\n",
        "imgplot = plt.imshow(image)\n",
        "imgplot.set_cmap('gray') "
      ],
      "execution_count": null,
      "outputs": [
        {
          "output_type": "display_data",
          "data": {
            "image/png": "[encoded data removed]",
            "text/plain": [
              "<Figure size 1296x1296 with 1 Axes>"
            ]
          },
          "metadata": {
            "tags": [],
            "needs_background": "light"
          }
        }
      ]
    },
    {
      "cell_type": "code",
      "metadata": {
        "id": "rQPp7jyZ8hZM",
        "colab_type": "code",
        "colab": {}
      },
      "source": [
        ""
      ],
      "execution_count": null,
      "outputs": []
    },
    {
      "cell_type": "code",
      "metadata": {
        "id": "xNsgrQjx6Kvc",
        "colab_type": "code",
        "colab": {}
      },
      "source": [
        ""
      ],
      "execution_count": null,
      "outputs": []
    },
    {
      "cell_type": "code",
      "metadata": {
        "id": "7YTkp3qa6Ktm",
        "colab_type": "code",
        "colab": {}
      },
      "source": [
        ""
      ],
      "execution_count": null,
      "outputs": []
    },
    {
      "cell_type": "code",
      "metadata": {
        "id": "yjceaZQz6Kn-",
        "colab_type": "code",
        "colab": {}
      },
      "source": [
        ""
      ],
      "execution_count": null,
      "outputs": []
    },
    {
      "cell_type": "code",
      "metadata": {
        "id": "QwPZfEnW6Klp",
        "colab_type": "code",
        "colab": {}
      },
      "source": [
        ""
      ],
      "execution_count": null,
      "outputs": []
    },
    {
      "cell_type": "code",
      "metadata": {
        "id": "QfiUH7DQ6Keo",
        "colab_type": "code",
        "colab": {}
      },
      "source": [
        ""
      ],
      "execution_count": null,
      "outputs": []
    },
    {
      "cell_type": "code",
      "metadata": {
        "id": "sG1GuB2V6KZC",
        "colab_type": "code",
        "colab": {}
      },
      "source": [
        ""
      ],
      "execution_count": null,
      "outputs": []
    },
    {
      "cell_type": "code",
      "metadata": {
        "id": "-nPavleo6KXB",
        "colab_type": "code",
        "colab": {}
      },
      "source": [
        ""
      ],
      "execution_count": null,
      "outputs": []
    },
    {
      "cell_type": "code",
      "metadata": {
        "id": "ZySfUKQl6KUa",
        "colab_type": "code",
        "colab": {}
      },
      "source": [
        ""
      ],
      "execution_count": null,
      "outputs": []
    },
    {
      "cell_type": "code",
      "metadata": {
        "id": "k7VP3U6b6KSI",
        "colab_type": "code",
        "colab": {}
      },
      "source": [
        ""
      ],
      "execution_count": null,
      "outputs": []
    },
    {
      "cell_type": "code",
      "metadata": {
        "id": "G5VXBtO4h6uq",
        "colab_type": "code",
        "colab": {}
      },
      "source": [
        ""
      ],
      "execution_count": null,
      "outputs": []
    },
    {
      "cell_type": "code",
      "metadata": {
        "id": "-VwhJkNKh6zq",
        "colab_type": "code",
        "colab": {}
      },
      "source": [
        "import numpy as np\n",
        "x1 = np.random.rand(100000000,1)\n",
        "x1*345678\n",
        "a_file = open(\"test.txt\",\"w\")\n",
        "for row in x1:\n",
        "  np.savetxt(a_file,row)\n",
        "a_file.close()"
      ],
      "execution_count": null,
      "outputs": []
    },
    {
      "cell_type": "code",
      "metadata": {
        "id": "JrDbr7LDh63C",
        "colab_type": "code",
        "colab": {}
      },
      "source": [
        "import numpy as np\n",
        "c1 = np.random.rand(100000000,1)*567\n",
        "a_file = open(\"test.txt\",\"w\")\n",
        "for row in c1:\n",
        "  np.savetxt(a_file,row)\n",
        "a_file.close()"
      ],
      "execution_count": null,
      "outputs": []
    },
    {
      "cell_type": "code",
      "metadata": {
        "id": "xD1ByHn5h6xf",
        "colab_type": "code",
        "colab": {}
      },
      "source": [
        ""
      ],
      "execution_count": null,
      "outputs": []
    },
    {
      "cell_type": "code",
      "metadata": {
        "id": "9taOY5glh6sT",
        "colab_type": "code",
        "colab": {}
      },
      "source": [
        ""
      ],
      "execution_count": null,
      "outputs": []
    },
    {
      "cell_type": "code",
      "metadata": {
        "id": "9b01xoXbf5Da",
        "colab_type": "code",
        "colab": {}
      },
      "source": [
        ""
      ],
      "execution_count": null,
      "outputs": []
    },
    {
      "cell_type": "code",
      "metadata": {
        "id": "vaxa-tRVf5GF",
        "colab_type": "code",
        "colab": {}
      },
      "source": [
        ""
      ],
      "execution_count": null,
      "outputs": []
    },
    {
      "cell_type": "code",
      "metadata": {
        "id": "_uL2h5oCf5IX",
        "colab_type": "code",
        "colab": {}
      },
      "source": [
        ""
      ],
      "execution_count": null,
      "outputs": []
    },
    {
      "cell_type": "code",
      "metadata": {
        "id": "YXsAYF3cf5LE",
        "colab_type": "code",
        "colab": {}
      },
      "source": [
        ""
      ],
      "execution_count": null,
      "outputs": []
    }
  ]
}