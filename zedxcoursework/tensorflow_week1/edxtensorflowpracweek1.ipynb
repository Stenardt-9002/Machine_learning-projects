{
  "nbformat": 4,
  "nbformat_minor": 0,
  "metadata": {
    "colab": {
      "name": "edxtensorflowpracweek1.ipynb",
      "provenance": [],
      "collapsed_sections": []
    },
    "kernelspec": {
      "name": "python3",
      "display_name": "Python 3"
    },
    "accelerator": "GPU"
  },
  "cells": [
    {
      "cell_type": "code",
      "metadata": {
        "id": "5S4K71DNPzhQ",
        "colab_type": "code",
        "colab": {
          "base_uri": "https://localhost:8080/",
          "height": 972
        },
        "outputId": "6850e6de-7695-4cdf-945c-cdbd449b251e"
      },
      "source": [
        "!pip install grpcio==1.24.3\n",
        "!pip install tensorflow==2.2.0"
      ],
      "execution_count": null,
      "outputs": [
        {
          "output_type": "stream",
          "text": [
            "Collecting grpcio==1.24.3\n",
            "\u001b[?25l  Downloading https://files.pythonhosted.org/packages/30/54/c9810421e41ec0bca2228c6f06b1b1189b196b69533cbcac9f71b44727f8/grpcio-1.24.3-cp36-cp36m-manylinux2010_x86_64.whl (2.2MB)\n",
            "\r\u001b[K     |▏                               | 10kB 23.1MB/s eta 0:00:01\r\u001b[K     |▎                               | 20kB 31.4MB/s eta 0:00:01\r\u001b[K     |▌                               | 30kB 37.1MB/s eta 0:00:01\r\u001b[K     |▋                               | 40kB 37.8MB/s eta 0:00:01\r\u001b[K     |▊                               | 51kB 17.6MB/s eta 0:00:01\r\u001b[K     |█                               | 61kB 17.1MB/s eta 0:00:01\r\u001b[K     |█                               | 71kB 14.9MB/s eta 0:00:01\r\u001b[K     |█▏                              | 81kB 16.2MB/s eta 0:00:01\r\u001b[K     |█▍                              | 92kB 14.3MB/s eta 0:00:01\r\u001b[K     |█▌                              | 102kB 14.1MB/s eta 0:00:01\r\u001b[K     |█▋                              | 112kB 14.1MB/s eta 0:00:01\r\u001b[K     |█▉                              | 122kB 14.1MB/s eta 0:00:01\r\u001b[K     |██                              | 133kB 14.1MB/s eta 0:00:01\r\u001b[K     |██                              | 143kB 14.1MB/s eta 0:00:01\r\u001b[K     |██▎                             | 153kB 14.1MB/s eta 0:00:01\r\u001b[K     |██▍                             | 163kB 14.1MB/s eta 0:00:01\r\u001b[K     |██▌                             | 174kB 14.1MB/s eta 0:00:01\r\u001b[K     |██▊                             | 184kB 14.1MB/s eta 0:00:01\r\u001b[K     |██▉                             | 194kB 14.1MB/s eta 0:00:01\r\u001b[K     |███                             | 204kB 14.1MB/s eta 0:00:01\r\u001b[K     |███▏                            | 215kB 14.1MB/s eta 0:00:01\r\u001b[K     |███▎                            | 225kB 14.1MB/s eta 0:00:01\r\u001b[K     |███▍                            | 235kB 14.1MB/s eta 0:00:01\r\u001b[K     |███▋                            | 245kB 14.1MB/s eta 0:00:01\r\u001b[K     |███▊                            | 256kB 14.1MB/s eta 0:00:01\r\u001b[K     |███▉                            | 266kB 14.1MB/s eta 0:00:01\r\u001b[K     |████                            | 276kB 14.1MB/s eta 0:00:01\r\u001b[K     |████▏                           | 286kB 14.1MB/s eta 0:00:01\r\u001b[K     |████▎                           | 296kB 14.1MB/s eta 0:00:01\r\u001b[K     |████▌                           | 307kB 14.1MB/s eta 0:00:01\r\u001b[K     |████▋                           | 317kB 14.1MB/s eta 0:00:01\r\u001b[K     |████▊                           | 327kB 14.1MB/s eta 0:00:01\r\u001b[K     |█████                           | 337kB 14.1MB/s eta 0:00:01\r\u001b[K     |█████                           | 348kB 14.1MB/s eta 0:00:01\r\u001b[K     |█████▏                          | 358kB 14.1MB/s eta 0:00:01\r\u001b[K     |█████▍                          | 368kB 14.1MB/s eta 0:00:01\r\u001b[K     |█████▌                          | 378kB 14.1MB/s eta 0:00:01\r\u001b[K     |█████▋                          | 389kB 14.1MB/s eta 0:00:01\r\u001b[K     |█████▉                          | 399kB 14.1MB/s eta 0:00:01\r\u001b[K     |██████                          | 409kB 14.1MB/s eta 0:00:01\r\u001b[K     |██████                          | 419kB 14.1MB/s eta 0:00:01\r\u001b[K     |██████▎                         | 430kB 14.1MB/s eta 0:00:01\r\u001b[K     |██████▍                         | 440kB 14.1MB/s eta 0:00:01\r\u001b[K     |██████▌                         | 450kB 14.1MB/s eta 0:00:01\r\u001b[K     |██████▊                         | 460kB 14.1MB/s eta 0:00:01\r\u001b[K     |██████▉                         | 471kB 14.1MB/s eta 0:00:01\r\u001b[K     |███████                         | 481kB 14.1MB/s eta 0:00:01\r\u001b[K     |███████▏                        | 491kB 14.1MB/s eta 0:00:01\r\u001b[K     |███████▎                        | 501kB 14.1MB/s eta 0:00:01\r\u001b[K     |███████▍                        | 512kB 14.1MB/s eta 0:00:01\r\u001b[K     |███████▋                        | 522kB 14.1MB/s eta 0:00:01\r\u001b[K     |███████▊                        | 532kB 14.1MB/s eta 0:00:01\r\u001b[K     |███████▉                        | 542kB 14.1MB/s eta 0:00:01\r\u001b[K     |████████                        | 552kB 14.1MB/s eta 0:00:01\r\u001b[K     |████████▏                       | 563kB 14.1MB/s eta 0:00:01\r\u001b[K     |████████▎                       | 573kB 14.1MB/s eta 0:00:01\r\u001b[K     |████████▌                       | 583kB 14.1MB/s eta 0:00:01\r\u001b[K     |████████▋                       | 593kB 14.1MB/s eta 0:00:01\r\u001b[K     |████████▊                       | 604kB 14.1MB/s eta 0:00:01\r\u001b[K     |█████████                       | 614kB 14.1MB/s eta 0:00:01\r\u001b[K     |█████████                       | 624kB 14.1MB/s eta 0:00:01\r\u001b[K     |█████████▏                      | 634kB 14.1MB/s eta 0:00:01\r\u001b[K     |█████████▍                      | 645kB 14.1MB/s eta 0:00:01\r\u001b[K     |█████████▌                      | 655kB 14.1MB/s eta 0:00:01\r\u001b[K     |█████████▋                      | 665kB 14.1MB/s eta 0:00:01\r\u001b[K     |█████████▉                      | 675kB 14.1MB/s eta 0:00:01\r\u001b[K     |██████████                      | 686kB 14.1MB/s eta 0:00:01\r\u001b[K     |██████████                      | 696kB 14.1MB/s eta 0:00:01\r\u001b[K     |██████████▎                     | 706kB 14.1MB/s eta 0:00:01\r\u001b[K     |██████████▍                     | 716kB 14.1MB/s eta 0:00:01\r\u001b[K     |██████████▌                     | 727kB 14.1MB/s eta 0:00:01\r\u001b[K     |██████████▊                     | 737kB 14.1MB/s eta 0:00:01\r\u001b[K     |██████████▉                     | 747kB 14.1MB/s eta 0:00:01\r\u001b[K     |███████████                     | 757kB 14.1MB/s eta 0:00:01\r\u001b[K     |███████████▏                    | 768kB 14.1MB/s eta 0:00:01\r\u001b[K     |███████████▎                    | 778kB 14.1MB/s eta 0:00:01\r\u001b[K     |███████████▌                    | 788kB 14.1MB/s eta 0:00:01\r\u001b[K     |███████████▋                    | 798kB 14.1MB/s eta 0:00:01\r\u001b[K     |███████████▊                    | 808kB 14.1MB/s eta 0:00:01\r\u001b[K     |████████████                    | 819kB 14.1MB/s eta 0:00:01\r\u001b[K     |████████████                    | 829kB 14.1MB/s eta 0:00:01\r\u001b[K     |████████████▏                   | 839kB 14.1MB/s eta 0:00:01\r\u001b[K     |████████████▍                   | 849kB 14.1MB/s eta 0:00:01\r\u001b[K     |████████████▌                   | 860kB 14.1MB/s eta 0:00:01\r\u001b[K     |████████████▋                   | 870kB 14.1MB/s eta 0:00:01\r\u001b[K     |████████████▉                   | 880kB 14.1MB/s eta 0:00:01\r\u001b[K     |█████████████                   | 890kB 14.1MB/s eta 0:00:01\r\u001b[K     |█████████████                   | 901kB 14.1MB/s eta 0:00:01\r\u001b[K     |█████████████▎                  | 911kB 14.1MB/s eta 0:00:01\r\u001b[K     |█████████████▍                  | 921kB 14.1MB/s eta 0:00:01\r\u001b[K     |█████████████▌                  | 931kB 14.1MB/s eta 0:00:01\r\u001b[K     |█████████████▊                  | 942kB 14.1MB/s eta 0:00:01\r\u001b[K     |█████████████▉                  | 952kB 14.1MB/s eta 0:00:01\r\u001b[K     |██████████████                  | 962kB 14.1MB/s eta 0:00:01\r\u001b[K     |██████████████▏                 | 972kB 14.1MB/s eta 0:00:01\r\u001b[K     |██████████████▎                 | 983kB 14.1MB/s eta 0:00:01\r\u001b[K     |██████████████▍                 | 993kB 14.1MB/s eta 0:00:01\r\u001b[K     |██████████████▋                 | 1.0MB 14.1MB/s eta 0:00:01\r\u001b[K     |██████████████▊                 | 1.0MB 14.1MB/s eta 0:00:01\r\u001b[K     |██████████████▉                 | 1.0MB 14.1MB/s eta 0:00:01\r\u001b[K     |███████████████                 | 1.0MB 14.1MB/s eta 0:00:01\r\u001b[K     |███████████████▏                | 1.0MB 14.1MB/s eta 0:00:01\r\u001b[K     |███████████████▎                | 1.1MB 14.1MB/s eta 0:00:01\r\u001b[K     |███████████████▌                | 1.1MB 14.1MB/s eta 0:00:01\r\u001b[K     |███████████████▋                | 1.1MB 14.1MB/s eta 0:00:01\r\u001b[K     |███████████████▊                | 1.1MB 14.1MB/s eta 0:00:01\r\u001b[K     |████████████████                | 1.1MB 14.1MB/s eta 0:00:01\r\u001b[K     |████████████████                | 1.1MB 14.1MB/s eta 0:00:01\r\u001b[K     |████████████████▏               | 1.1MB 14.1MB/s eta 0:00:01\r\u001b[K     |████████████████▍               | 1.1MB 14.1MB/s eta 0:00:01\r\u001b[K     |████████████████▌               | 1.1MB 14.1MB/s eta 0:00:01\r\u001b[K     |████████████████▋               | 1.1MB 14.1MB/s eta 0:00:01\r\u001b[K     |████████████████▉               | 1.2MB 14.1MB/s eta 0:00:01\r\u001b[K     |█████████████████               | 1.2MB 14.1MB/s eta 0:00:01\r\u001b[K     |█████████████████               | 1.2MB 14.1MB/s eta 0:00:01\r\u001b[K     |█████████████████▎              | 1.2MB 14.1MB/s eta 0:00:01\r\u001b[K     |█████████████████▍              | 1.2MB 14.1MB/s eta 0:00:01\r\u001b[K     |█████████████████▌              | 1.2MB 14.1MB/s eta 0:00:01\r\u001b[K     |█████████████████▊              | 1.2MB 14.1MB/s eta 0:00:01\r\u001b[K     |█████████████████▉              | 1.2MB 14.1MB/s eta 0:00:01\r\u001b[K     |██████████████████              | 1.2MB 14.1MB/s eta 0:00:01\r\u001b[K     |██████████████████▏             | 1.2MB 14.1MB/s eta 0:00:01\r\u001b[K     |██████████████████▎             | 1.3MB 14.1MB/s eta 0:00:01\r\u001b[K     |██████████████████▍             | 1.3MB 14.1MB/s eta 0:00:01\r\u001b[K     |██████████████████▋             | 1.3MB 14.1MB/s eta 0:00:01\r\u001b[K     |██████████████████▊             | 1.3MB 14.1MB/s eta 0:00:01\r\u001b[K     |██████████████████▉             | 1.3MB 14.1MB/s eta 0:00:01\r\u001b[K     |███████████████████             | 1.3MB 14.1MB/s eta 0:00:01\r\u001b[K     |███████████████████▏            | 1.3MB 14.1MB/s eta 0:00:01\r\u001b[K     |███████████████████▎            | 1.3MB 14.1MB/s eta 0:00:01\r\u001b[K     |███████████████████▌            | 1.3MB 14.1MB/s eta 0:00:01\r\u001b[K     |███████████████████▋            | 1.4MB 14.1MB/s eta 0:00:01\r\u001b[K     |███████████████████▊            | 1.4MB 14.1MB/s eta 0:00:01\r\u001b[K     |████████████████████            | 1.4MB 14.1MB/s eta 0:00:01\r\u001b[K     |████████████████████            | 1.4MB 14.1MB/s eta 0:00:01\r\u001b[K     |████████████████████▏           | 1.4MB 14.1MB/s eta 0:00:01\r\u001b[K     |████████████████████▍           | 1.4MB 14.1MB/s eta 0:00:01\r\u001b[K     |████████████████████▌           | 1.4MB 14.1MB/s eta 0:00:01\r\u001b[K     |████████████████████▋           | 1.4MB 14.1MB/s eta 0:00:01\r\u001b[K     |████████████████████▉           | 1.4MB 14.1MB/s eta 0:00:01\r\u001b[K     |█████████████████████           | 1.4MB 14.1MB/s eta 0:00:01\r\u001b[K     |█████████████████████           | 1.5MB 14.1MB/s eta 0:00:01\r\u001b[K     |█████████████████████▎          | 1.5MB 14.1MB/s eta 0:00:01\r\u001b[K     |█████████████████████▍          | 1.5MB 14.1MB/s eta 0:00:01\r\u001b[K     |█████████████████████▌          | 1.5MB 14.1MB/s eta 0:00:01\r\u001b[K     |█████████████████████▊          | 1.5MB 14.1MB/s eta 0:00:01\r\u001b[K     |█████████████████████▉          | 1.5MB 14.1MB/s eta 0:00:01\r\u001b[K     |██████████████████████          | 1.5MB 14.1MB/s eta 0:00:01\r\u001b[K     |██████████████████████▏         | 1.5MB 14.1MB/s eta 0:00:01\r\u001b[K     |██████████████████████▎         | 1.5MB 14.1MB/s eta 0:00:01\r\u001b[K     |██████████████████████▌         | 1.5MB 14.1MB/s eta 0:00:01\r\u001b[K     |██████████████████████▋         | 1.6MB 14.1MB/s eta 0:00:01\r\u001b[K     |██████████████████████▊         | 1.6MB 14.1MB/s eta 0:00:01\r\u001b[K     |███████████████████████         | 1.6MB 14.1MB/s eta 0:00:01\r\u001b[K     |███████████████████████         | 1.6MB 14.1MB/s eta 0:00:01\r\u001b[K     |███████████████████████▏        | 1.6MB 14.1MB/s eta 0:00:01\r\u001b[K     |███████████████████████▍        | 1.6MB 14.1MB/s eta 0:00:01\r\u001b[K     |███████████████████████▌        | 1.6MB 14.1MB/s eta 0:00:01\r\u001b[K     |███████████████████████▋        | 1.6MB 14.1MB/s eta 0:00:01\r\u001b[K     |███████████████████████▉        | 1.6MB 14.1MB/s eta 0:00:01\r\u001b[K     |████████████████████████        | 1.6MB 14.1MB/s eta 0:00:01\r\u001b[K     |████████████████████████        | 1.7MB 14.1MB/s eta 0:00:01\r\u001b[K     |████████████████████████▎       | 1.7MB 14.1MB/s eta 0:00:01\r\u001b[K     |████████████████████████▍       | 1.7MB 14.1MB/s eta 0:00:01\r\u001b[K     |████████████████████████▌       | 1.7MB 14.1MB/s eta 0:00:01\r\u001b[K     |████████████████████████▊       | 1.7MB 14.1MB/s eta 0:00:01\r\u001b[K     |████████████████████████▉       | 1.7MB 14.1MB/s eta 0:00:01\r\u001b[K     |█████████████████████████       | 1.7MB 14.1MB/s eta 0:00:01\r\u001b[K     |█████████████████████████▏      | 1.7MB 14.1MB/s eta 0:00:01\r\u001b[K     |█████████████████████████▎      | 1.7MB 14.1MB/s eta 0:00:01\r\u001b[K     |█████████████████████████▍      | 1.8MB 14.1MB/s eta 0:00:01\r\u001b[K     |█████████████████████████▋      | 1.8MB 14.1MB/s eta 0:00:01\r\u001b[K     |█████████████████████████▊      | 1.8MB 14.1MB/s eta 0:00:01\r\u001b[K     |█████████████████████████▉      | 1.8MB 14.1MB/s eta 0:00:01\r\u001b[K     |██████████████████████████      | 1.8MB 14.1MB/s eta 0:00:01\r\u001b[K     |██████████████████████████▏     | 1.8MB 14.1MB/s eta 0:00:01\r\u001b[K     |██████████████████████████▎     | 1.8MB 14.1MB/s eta 0:00:01\r\u001b[K     |██████████████████████████▌     | 1.8MB 14.1MB/s eta 0:00:01\r\u001b[K     |██████████████████████████▋     | 1.8MB 14.1MB/s eta 0:00:01\r\u001b[K     |██████████████████████████▊     | 1.8MB 14.1MB/s eta 0:00:01\r\u001b[K     |███████████████████████████     | 1.9MB 14.1MB/s eta 0:00:01\r\u001b[K     |███████████████████████████     | 1.9MB 14.1MB/s eta 0:00:01\r\u001b[K     |███████████████████████████▏    | 1.9MB 14.1MB/s eta 0:00:01\r\u001b[K     |███████████████████████████▍    | 1.9MB 14.1MB/s eta 0:00:01\r\u001b[K     |███████████████████████████▌    | 1.9MB 14.1MB/s eta 0:00:01\r\u001b[K     |███████████████████████████▋    | 1.9MB 14.1MB/s eta 0:00:01\r\u001b[K     |███████████████████████████▉    | 1.9MB 14.1MB/s eta 0:00:01\r\u001b[K     |████████████████████████████    | 1.9MB 14.1MB/s eta 0:00:01\r\u001b[K     |████████████████████████████    | 1.9MB 14.1MB/s eta 0:00:01\r\u001b[K     |████████████████████████████▎   | 1.9MB 14.1MB/s eta 0:00:01\r\u001b[K     |████████████████████████████▍   | 2.0MB 14.1MB/s eta 0:00:01\r\u001b[K     |████████████████████████████▌   | 2.0MB 14.1MB/s eta 0:00:01\r\u001b[K     |████████████████████████████▊   | 2.0MB 14.1MB/s eta 0:00:01\r\u001b[K     |████████████████████████████▉   | 2.0MB 14.1MB/s eta 0:00:01\r\u001b[K     |█████████████████████████████   | 2.0MB 14.1MB/s eta 0:00:01\r\u001b[K     |█████████████████████████████▏  | 2.0MB 14.1MB/s eta 0:00:01\r\u001b[K     |█████████████████████████████▎  | 2.0MB 14.1MB/s eta 0:00:01\r\u001b[K     |█████████████████████████████▍  | 2.0MB 14.1MB/s eta 0:00:01\r\u001b[K     |█████████████████████████████▋  | 2.0MB 14.1MB/s eta 0:00:01\r\u001b[K     |█████████████████████████████▊  | 2.0MB 14.1MB/s eta 0:00:01\r\u001b[K     |█████████████████████████████▉  | 2.1MB 14.1MB/s eta 0:00:01\r\u001b[K     |██████████████████████████████  | 2.1MB 14.1MB/s eta 0:00:01\r\u001b[K     |██████████████████████████████▏ | 2.1MB 14.1MB/s eta 0:00:01\r\u001b[K     |██████████████████████████████▎ | 2.1MB 14.1MB/s eta 0:00:01\r\u001b[K     |██████████████████████████████▌ | 2.1MB 14.1MB/s eta 0:00:01\r\u001b[K     |██████████████████████████████▋ | 2.1MB 14.1MB/s eta 0:00:01\r\u001b[K     |██████████████████████████████▊ | 2.1MB 14.1MB/s eta 0:00:01\r\u001b[K     |███████████████████████████████ | 2.1MB 14.1MB/s eta 0:00:01\r\u001b[K     |███████████████████████████████ | 2.1MB 14.1MB/s eta 0:00:01\r\u001b[K     |███████████████████████████████▏| 2.2MB 14.1MB/s eta 0:00:01\r\u001b[K     |███████████████████████████████▍| 2.2MB 14.1MB/s eta 0:00:01\r\u001b[K     |███████████████████████████████▌| 2.2MB 14.1MB/s eta 0:00:01\r\u001b[K     |███████████████████████████████▋| 2.2MB 14.1MB/s eta 0:00:01\r\u001b[K     |███████████████████████████████▉| 2.2MB 14.1MB/s eta 0:00:01\r\u001b[K     |████████████████████████████████| 2.2MB 14.1MB/s eta 0:00:01\r\u001b[K     |████████████████████████████████| 2.2MB 14.1MB/s \n",
            "\u001b[?25hRequirement already satisfied: six>=1.5.2 in /usr/local/lib/python3.6/dist-packages (from grpcio==1.24.3) (1.12.0)\n",
            "Installing collected packages: grpcio\n",
            "  Found existing installation: grpcio 1.30.0\n",
            "    Uninstalling grpcio-1.30.0:\n",
            "      Successfully uninstalled grpcio-1.30.0\n",
            "Successfully installed grpcio-1.24.3\n"
          ],
          "name": "stdout"
        },
        {
          "output_type": "display_data",
          "data": {
            "application/vnd.colab-display-data+json": {
              "pip_warning": {
                "packages": [
                  "grpc"
                ]
              }
            }
          },
          "metadata": {
            "tags": []
          }
        },
        {
          "output_type": "stream",
          "text": [
            "Requirement already satisfied: tensorflow==2.2.0 in /usr/local/lib/python3.6/dist-packages (2.2.0)\n",
            "Requirement already satisfied: scipy==1.4.1; python_version >= \"3\" in /usr/local/lib/python3.6/dist-packages (from tensorflow==2.2.0) (1.4.1)\n",
            "Requirement already satisfied: opt-einsum>=2.3.2 in /usr/local/lib/python3.6/dist-packages (from tensorflow==2.2.0) (3.2.1)\n",
            "Requirement already satisfied: google-pasta>=0.1.8 in /usr/local/lib/python3.6/dist-packages (from tensorflow==2.2.0) (0.2.0)\n",
            "Requirement already satisfied: h5py<2.11.0,>=2.10.0 in /usr/local/lib/python3.6/dist-packages (from tensorflow==2.2.0) (2.10.0)\n",
            "Requirement already satisfied: protobuf>=3.8.0 in /usr/local/lib/python3.6/dist-packages (from tensorflow==2.2.0) (3.12.2)\n",
            "Requirement already satisfied: tensorboard<2.3.0,>=2.2.0 in /usr/local/lib/python3.6/dist-packages (from tensorflow==2.2.0) (2.2.2)\n",
            "Requirement already satisfied: grpcio>=1.8.6 in /usr/local/lib/python3.6/dist-packages (from tensorflow==2.2.0) (1.24.3)\n",
            "Requirement already satisfied: tensorflow-estimator<2.3.0,>=2.2.0 in /usr/local/lib/python3.6/dist-packages (from tensorflow==2.2.0) (2.2.0)\n",
            "Requirement already satisfied: keras-preprocessing>=1.1.0 in /usr/local/lib/python3.6/dist-packages (from tensorflow==2.2.0) (1.1.2)\n",
            "Requirement already satisfied: wrapt>=1.11.1 in /usr/local/lib/python3.6/dist-packages (from tensorflow==2.2.0) (1.12.1)\n",
            "Requirement already satisfied: astunparse==1.6.3 in /usr/local/lib/python3.6/dist-packages (from tensorflow==2.2.0) (1.6.3)\n",
            "Requirement already satisfied: termcolor>=1.1.0 in /usr/local/lib/python3.6/dist-packages (from tensorflow==2.2.0) (1.1.0)\n",
            "Requirement already satisfied: six>=1.12.0 in /usr/local/lib/python3.6/dist-packages (from tensorflow==2.2.0) (1.12.0)\n",
            "Requirement already satisfied: numpy<2.0,>=1.16.0 in /usr/local/lib/python3.6/dist-packages (from tensorflow==2.2.0) (1.18.5)\n",
            "Requirement already satisfied: absl-py>=0.7.0 in /usr/local/lib/python3.6/dist-packages (from tensorflow==2.2.0) (0.9.0)\n",
            "Requirement already satisfied: gast==0.3.3 in /usr/local/lib/python3.6/dist-packages (from tensorflow==2.2.0) (0.3.3)\n",
            "Requirement already satisfied: wheel>=0.26; python_version >= \"3\" in /usr/local/lib/python3.6/dist-packages (from tensorflow==2.2.0) (0.34.2)\n",
            "Requirement already satisfied: setuptools in /usr/local/lib/python3.6/dist-packages (from protobuf>=3.8.0->tensorflow==2.2.0) (49.1.0)\n",
            "Requirement already satisfied: google-auth<2,>=1.6.3 in /usr/local/lib/python3.6/dist-packages (from tensorboard<2.3.0,>=2.2.0->tensorflow==2.2.0) (1.17.2)\n",
            "Requirement already satisfied: tensorboard-plugin-wit>=1.6.0 in /usr/local/lib/python3.6/dist-packages (from tensorboard<2.3.0,>=2.2.0->tensorflow==2.2.0) (1.7.0)\n",
            "Requirement already satisfied: google-auth-oauthlib<0.5,>=0.4.1 in /usr/local/lib/python3.6/dist-packages (from tensorboard<2.3.0,>=2.2.0->tensorflow==2.2.0) (0.4.1)\n",
            "Requirement already satisfied: markdown>=2.6.8 in /usr/local/lib/python3.6/dist-packages (from tensorboard<2.3.0,>=2.2.0->tensorflow==2.2.0) (3.2.2)\n",
            "Requirement already satisfied: requests<3,>=2.21.0 in /usr/local/lib/python3.6/dist-packages (from tensorboard<2.3.0,>=2.2.0->tensorflow==2.2.0) (2.23.0)\n",
            "Requirement already satisfied: werkzeug>=0.11.15 in /usr/local/lib/python3.6/dist-packages (from tensorboard<2.3.0,>=2.2.0->tensorflow==2.2.0) (1.0.1)\n",
            "Requirement already satisfied: rsa<5,>=3.1.4; python_version >= \"3\" in /usr/local/lib/python3.6/dist-packages (from google-auth<2,>=1.6.3->tensorboard<2.3.0,>=2.2.0->tensorflow==2.2.0) (4.6)\n",
            "Requirement already satisfied: pyasn1-modules>=0.2.1 in /usr/local/lib/python3.6/dist-packages (from google-auth<2,>=1.6.3->tensorboard<2.3.0,>=2.2.0->tensorflow==2.2.0) (0.2.8)\n",
            "Requirement already satisfied: cachetools<5.0,>=2.0.0 in /usr/local/lib/python3.6/dist-packages (from google-auth<2,>=1.6.3->tensorboard<2.3.0,>=2.2.0->tensorflow==2.2.0) (4.1.1)\n",
            "Requirement already satisfied: requests-oauthlib>=0.7.0 in /usr/local/lib/python3.6/dist-packages (from google-auth-oauthlib<0.5,>=0.4.1->tensorboard<2.3.0,>=2.2.0->tensorflow==2.2.0) (1.3.0)\n",
            "Requirement already satisfied: importlib-metadata; python_version < \"3.8\" in /usr/local/lib/python3.6/dist-packages (from markdown>=2.6.8->tensorboard<2.3.0,>=2.2.0->tensorflow==2.2.0) (1.7.0)\n",
            "Requirement already satisfied: certifi>=2017.4.17 in /usr/local/lib/python3.6/dist-packages (from requests<3,>=2.21.0->tensorboard<2.3.0,>=2.2.0->tensorflow==2.2.0) (2020.6.20)\n",
            "Requirement already satisfied: urllib3!=1.25.0,!=1.25.1,<1.26,>=1.21.1 in /usr/local/lib/python3.6/dist-packages (from requests<3,>=2.21.0->tensorboard<2.3.0,>=2.2.0->tensorflow==2.2.0) (1.24.3)\n",
            "Requirement already satisfied: chardet<4,>=3.0.2 in /usr/local/lib/python3.6/dist-packages (from requests<3,>=2.21.0->tensorboard<2.3.0,>=2.2.0->tensorflow==2.2.0) (3.0.4)\n",
            "Requirement already satisfied: idna<3,>=2.5 in /usr/local/lib/python3.6/dist-packages (from requests<3,>=2.21.0->tensorboard<2.3.0,>=2.2.0->tensorflow==2.2.0) (2.10)\n",
            "Requirement already satisfied: pyasn1>=0.1.3 in /usr/local/lib/python3.6/dist-packages (from rsa<5,>=3.1.4; python_version >= \"3\"->google-auth<2,>=1.6.3->tensorboard<2.3.0,>=2.2.0->tensorflow==2.2.0) (0.4.8)\n",
            "Requirement already satisfied: oauthlib>=3.0.0 in /usr/local/lib/python3.6/dist-packages (from requests-oauthlib>=0.7.0->google-auth-oauthlib<0.5,>=0.4.1->tensorboard<2.3.0,>=2.2.0->tensorflow==2.2.0) (3.1.0)\n",
            "Requirement already satisfied: zipp>=0.5 in /usr/local/lib/python3.6/dist-packages (from importlib-metadata; python_version < \"3.8\"->markdown>=2.6.8->tensorboard<2.3.0,>=2.2.0->tensorflow==2.2.0) (3.1.0)\n"
          ],
          "name": "stdout"
        }
      ]
    },
    {
      "cell_type": "code",
      "metadata": {
        "id": "LeXyPg6kP_pU",
        "colab_type": "code",
        "colab": {}
      },
      "source": [
        "import tensorflow as tf"
      ],
      "execution_count": null,
      "outputs": []
    },
    {
      "cell_type": "code",
      "metadata": {
        "id": "nEu5NFwRP_sA",
        "colab_type": "code",
        "colab": {
          "base_uri": "https://localhost:8080/",
          "height": 35
        },
        "outputId": "c3542671-5666-4e82-f6cc-323db51fffd8"
      },
      "source": [
        "print(tf.__version__)"
      ],
      "execution_count": null,
      "outputs": [
        {
          "output_type": "stream",
          "text": [
            "2.2.0\n"
          ],
          "name": "stdout"
        }
      ]
    },
    {
      "cell_type": "code",
      "metadata": {
        "id": "gxgQcSc_QI_K",
        "colab_type": "code",
        "colab": {
          "base_uri": "https://localhost:8080/",
          "height": 201
        },
        "outputId": "9d902684-9e4b-49f1-8822-a55d0a890585"
      },
      "source": [
        "\n",
        "Matrix_one = tf.constant([[1,2,3],[2,3,4],[3,4,5]])\n",
        "Matrix_two = tf.constant([[2,2,2],[2,2,2],[2,2,2]])\n",
        "\n",
        "@tf.function\n",
        "def add():\n",
        "    add_1_operation = tf.add(Matrix_one, Matrix_two)\n",
        "    return add_1_operation\n",
        "\n",
        "\n",
        "\n",
        "print (\"Defined using tensorflow function :\")\n",
        "add_1_operation = add()\n",
        "print(add_1_operation)\n",
        "print (\"Defined using normal expressions :\")\n",
        "add_2_operation = Matrix_one + Matrix_two\n",
        "print(add_2_operation)"
      ],
      "execution_count": null,
      "outputs": [
        {
          "output_type": "stream",
          "text": [
            "Defined using tensorflow function :\n",
            "tf.Tensor(\n",
            "[[3 4 5]\n",
            " [4 5 6]\n",
            " [5 6 7]], shape=(3, 3), dtype=int32)\n",
            "Defined using normal expressions :\n",
            "tf.Tensor(\n",
            "[[3 4 5]\n",
            " [4 5 6]\n",
            " [5 6 7]], shape=(3, 3), dtype=int32)\n"
          ],
          "name": "stdout"
        }
      ]
    },
    {
      "cell_type": "code",
      "metadata": {
        "id": "IUcx28blQJCS",
        "colab_type": "code",
        "colab": {
          "base_uri": "https://localhost:8080/",
          "height": 90
        },
        "outputId": "23164246-57e1-4679-b735-a235816b64b9"
      },
      "source": [
        "\n",
        "Matrix_one = tf.constant([[2,3],[3,4]])\n",
        "Matrix_two = tf.constant([[2,3],[3,4]])\n",
        "\n",
        "@tf.function\n",
        "def mathmul():\n",
        "  return tf.matmul(Matrix_one, Matrix_two)\n",
        "\n",
        "\n",
        "mul_operation = mathmul()\n",
        "\n",
        "print (\"Defined using tensorflow function :\")\n",
        "print(mul_operation)\n",
        "\n"
      ],
      "execution_count": null,
      "outputs": [
        {
          "output_type": "stream",
          "text": [
            "Defined using tensorflow function :\n",
            "tf.Tensor(\n",
            "[[13 18]\n",
            " [18 25]], shape=(2, 2), dtype=int32)\n"
          ],
          "name": "stdout"
        }
      ]
    },
    {
      "cell_type": "code",
      "metadata": {
        "id": "XTFQ5hJWQJJd",
        "colab_type": "code",
        "colab": {
          "base_uri": "https://localhost:8080/",
          "height": 72
        },
        "outputId": "84fad6e2-1c1b-4f3d-e5e3-142925ef9476"
      },
      "source": [
        "v = tf.Variable(0)\n",
        "@tf.function\n",
        "def increment_by_one(v):\n",
        "        v = tf.add(v,1)\n",
        "        return v\n",
        "for i in range(3):\n",
        "    v = increment_by_one(v)\n",
        "    print(v)"
      ],
      "execution_count": null,
      "outputs": [
        {
          "output_type": "stream",
          "text": [
            "tf.Tensor(1, shape=(), dtype=int32)\n",
            "tf.Tensor(2, shape=(), dtype=int32)\n",
            "tf.Tensor(3, shape=(), dtype=int32)\n"
          ],
          "name": "stdout"
        }
      ]
    },
    {
      "cell_type": "code",
      "metadata": {
        "id": "G6yUija-QJME",
        "colab_type": "code",
        "colab": {
          "base_uri": "https://localhost:8080/",
          "height": 54
        },
        "outputId": "a5e67982-1355-4123-f480-e9cd010bdb16"
      },
      "source": [
        "a = tf.constant([5])\n",
        "b = tf.constant([2])\n",
        "c = tf.add(a,b)\n",
        "d = tf.subtract(a,b)\n",
        "\n",
        "\n",
        "print ('c =: %s' % c)\n",
        "    \n",
        "print ('d =: %s' % d)"
      ],
      "execution_count": null,
      "outputs": [
        {
          "output_type": "stream",
          "text": [
            "c =: tf.Tensor([7], shape=(1,), dtype=int32)\n",
            "d =: tf.Tensor([3], shape=(1,), dtype=int32)\n"
          ],
          "name": "stdout"
        }
      ]
    },
    {
      "cell_type": "markdown",
      "metadata": {
        "id": "cOVF1KxiRZbz",
        "colab_type": "text"
      },
      "source": [
        "<h1>Linear Regression </h1>"
      ]
    },
    {
      "cell_type": "code",
      "metadata": {
        "id": "4hZq7gKWQJOZ",
        "colab_type": "code",
        "colab": {
          "base_uri": "https://localhost:8080/",
          "height": 54
        },
        "outputId": "31b86896-4edc-4a7f-b937-e16fceb8d015"
      },
      "source": [
        "!pip install grpcio==1.24.3"
      ],
      "execution_count": null,
      "outputs": [
        {
          "output_type": "stream",
          "text": [
            "Requirement already satisfied: grpcio==1.24.3 in /usr/local/lib/python3.6/dist-packages (1.24.3)\n",
            "Requirement already satisfied: six>=1.5.2 in /usr/local/lib/python3.6/dist-packages (from grpcio==1.24.3) (1.12.0)\n"
          ],
          "name": "stdout"
        }
      ]
    },
    {
      "cell_type": "code",
      "metadata": {
        "id": "PGYoUE06QJQ-",
        "colab_type": "code",
        "colab": {}
      },
      "source": [
        "import matplotlib.pyplot as plt\n",
        "import pandas as pd\n",
        "import pylab as pl\n",
        "import numpy as np\n",
        "import tensorflow as tf\n",
        "import matplotlib.patches as mpatches\n",
        "import matplotlib.pyplot as plt\n",
        "%matplotlib inline\n",
        "plt.rcParams['figure.figsize'] = (10, 6)"
      ],
      "execution_count": null,
      "outputs": []
    },
    {
      "cell_type": "code",
      "metadata": {
        "id": "RKDYFBl2Sqpg",
        "colab_type": "code",
        "colab": {}
      },
      "source": [
        "X = np.arange(0.0, 5.0, 0.1)"
      ],
      "execution_count": null,
      "outputs": []
    },
    {
      "cell_type": "code",
      "metadata": {
        "id": "GhR-uIDiSqsf",
        "colab_type": "code",
        "colab": {
          "base_uri": "https://localhost:8080/",
          "height": 388
        },
        "outputId": "083065fc-c2bd-457c-9938-f78eb1437d46"
      },
      "source": [
        "a = 1\n",
        "b = 0\n",
        "\n",
        "Y= a * X + b \n",
        "\n",
        "plt.plot(X, Y) \n",
        "plt.ylabel('Dependent Variable')\n",
        "plt.xlabel('Indepdendent Variable')\n",
        "plt.show()"
      ],
      "execution_count": null,
      "outputs": [
        {
          "output_type": "display_data",
          "data": {
            "image/png": "[encoded data removed]",
            "text/plain": [
              "<Figure size 720x432 with 1 Axes>"
            ]
          },
          "metadata": {
            "tags": [],
            "needs_background": "light"
          }
        }
      ]
    },
    {
      "cell_type": "code",
      "metadata": {
        "id": "GczNmr0PSqu0",
        "colab_type": "code",
        "colab": {
          "base_uri": "https://localhost:8080/",
          "height": 219
        },
        "outputId": "0c4dca6c-e24d-4ef1-b66b-50d0372e8e23"
      },
      "source": [
        "!wget -O FuelConsumption.csv https://s3-api.us-geo.objectstorage.softlayer.net/cf-courses-data/CognitiveClass/ML0101ENv3/labs/FuelConsumptionCo2.csv"
      ],
      "execution_count": null,
      "outputs": [
        {
          "output_type": "stream",
          "text": [
            "--2020-07-19 22:58:07--  https://s3-api.us-geo.objectstorage.softlayer.net/cf-courses-data/CognitiveClass/ML0101ENv3/labs/FuelConsumptionCo2.csv\n",
            "Resolving s3-api.us-geo.objectstorage.softlayer.net (s3-api.us-geo.objectstorage.softlayer.net)... 67.228.254.196\n",
            "Connecting to s3-api.us-geo.objectstorage.softlayer.net (s3-api.us-geo.objectstorage.softlayer.net)|67.228.254.196|:443... connected.\n",
            "HTTP request sent, awaiting response... 200 OK\n",
            "Length: 72629 (71K) [text/csv]\n",
            "Saving to: ‘FuelConsumption.csv’\n",
            "\n",
            "\rFuelConsumption.csv   0%[                    ]       0  --.-KB/s               \rFuelConsumption.csv  56%[==========>         ]  40.00K   119KB/s               \rFuelConsumption.csv 100%[===================>]  70.93K   211KB/s    in 0.3s    \n",
            "\n",
            "2020-07-19 22:58:08 (211 KB/s) - ‘FuelConsumption.csv’ saved [72629/72629]\n",
            "\n"
          ],
          "name": "stdout"
        }
      ]
    },
    {
      "cell_type": "code",
      "metadata": {
        "id": "1tfJL2wxSqxt",
        "colab_type": "code",
        "colab": {
          "base_uri": "https://localhost:8080/",
          "height": 278
        },
        "outputId": "5cd39830-dfdf-4148-ddb8-e96c1c738a1e"
      },
      "source": [
        "df = pd.read_csv(\"FuelConsumption.csv\")\n",
        "\n",
        "# take a look at the dataset\n",
        "df.head()"
      ],
      "execution_count": null,
      "outputs": [
        {
          "output_type": "execute_result",
          "data": {
            "text/html": [
              "<div>\n",
              "<style scoped>\n",
              "    .dataframe tbody tr th:only-of-type {\n",
              "        vertical-align: middle;\n",
              "    }\n",
              "\n",
              "    .dataframe tbody tr th {\n",
              "        vertical-align: top;\n",
              "    }\n",
              "\n",
              "    .dataframe thead th {\n",
              "        text-align: right;\n",
              "    }\n",
              "</style>\n",
              "<table border=\"1\" class=\"dataframe\">\n",
              "  <thead>\n",
              "    <tr style=\"text-align: right;\">\n",
              "      <th></th>\n",
              "      <th>MODELYEAR</th>\n",
              "      <th>MAKE</th>\n",
              "      <th>MODEL</th>\n",
              "      <th>VEHICLECLASS</th>\n",
              "      <th>ENGINESIZE</th>\n",
              "      <th>CYLINDERS</th>\n",
              "      <th>TRANSMISSION</th>\n",
              "      <th>FUELTYPE</th>\n",
              "      <th>FUELCONSUMPTION_CITY</th>\n",
              "      <th>FUELCONSUMPTION_HWY</th>\n",
              "      <th>FUELCONSUMPTION_COMB</th>\n",
              "      <th>FUELCONSUMPTION_COMB_MPG</th>\n",
              "      <th>CO2EMISSIONS</th>\n",
              "    </tr>\n",
              "  </thead>\n",
              "  <tbody>\n",
              "    <tr>\n",
              "      <th>0</th>\n",
              "      <td>2014</td>\n",
              "      <td>ACURA</td>\n",
              "      <td>ILX</td>\n",
              "      <td>COMPACT</td>\n",
              "      <td>2.0</td>\n",
              "      <td>4</td>\n",
              "      <td>AS5</td>\n",
              "      <td>Z</td>\n",
              "      <td>9.9</td>\n",
              "      <td>6.7</td>\n",
              "      <td>8.5</td>\n",
              "      <td>33</td>\n",
              "      <td>196</td>\n",
              "    </tr>\n",
              "    <tr>\n",
              "      <th>1</th>\n",
              "      <td>2014</td>\n",
              "      <td>ACURA</td>\n",
              "      <td>ILX</td>\n",
              "      <td>COMPACT</td>\n",
              "      <td>2.4</td>\n",
              "      <td>4</td>\n",
              "      <td>M6</td>\n",
              "      <td>Z</td>\n",
              "      <td>11.2</td>\n",
              "      <td>7.7</td>\n",
              "      <td>9.6</td>\n",
              "      <td>29</td>\n",
              "      <td>221</td>\n",
              "    </tr>\n",
              "    <tr>\n",
              "      <th>2</th>\n",
              "      <td>2014</td>\n",
              "      <td>ACURA</td>\n",
              "      <td>ILX HYBRID</td>\n",
              "      <td>COMPACT</td>\n",
              "      <td>1.5</td>\n",
              "      <td>4</td>\n",
              "      <td>AV7</td>\n",
              "      <td>Z</td>\n",
              "      <td>6.0</td>\n",
              "      <td>5.8</td>\n",
              "      <td>5.9</td>\n",
              "      <td>48</td>\n",
              "      <td>136</td>\n",
              "    </tr>\n",
              "    <tr>\n",
              "      <th>3</th>\n",
              "      <td>2014</td>\n",
              "      <td>ACURA</td>\n",
              "      <td>MDX 4WD</td>\n",
              "      <td>SUV - SMALL</td>\n",
              "      <td>3.5</td>\n",
              "      <td>6</td>\n",
              "      <td>AS6</td>\n",
              "      <td>Z</td>\n",
              "      <td>12.7</td>\n",
              "      <td>9.1</td>\n",
              "      <td>11.1</td>\n",
              "      <td>25</td>\n",
              "      <td>255</td>\n",
              "    </tr>\n",
              "    <tr>\n",
              "      <th>4</th>\n",
              "      <td>2014</td>\n",
              "      <td>ACURA</td>\n",
              "      <td>RDX AWD</td>\n",
              "      <td>SUV - SMALL</td>\n",
              "      <td>3.5</td>\n",
              "      <td>6</td>\n",
              "      <td>AS6</td>\n",
              "      <td>Z</td>\n",
              "      <td>12.1</td>\n",
              "      <td>8.7</td>\n",
              "      <td>10.6</td>\n",
              "      <td>27</td>\n",
              "      <td>244</td>\n",
              "    </tr>\n",
              "  </tbody>\n",
              "</table>\n",
              "</div>"
            ],
            "text/plain": [
              "   MODELYEAR   MAKE  ... FUELCONSUMPTION_COMB_MPG CO2EMISSIONS\n",
              "0       2014  ACURA  ...                       33          196\n",
              "1       2014  ACURA  ...                       29          221\n",
              "2       2014  ACURA  ...                       48          136\n",
              "3       2014  ACURA  ...                       25          255\n",
              "4       2014  ACURA  ...                       27          244\n",
              "\n",
              "[5 rows x 13 columns]"
            ]
          },
          "metadata": {
            "tags": []
          },
          "execution_count": 13
        }
      ]
    },
    {
      "cell_type": "markdown",
      "metadata": {
        "id": "9LHEIdVVVb_X",
        "colab_type": "text"
      },
      "source": [
        "<h1>Linear Regreesion between engine size and CO2 emission</h1>"
      ]
    },
    {
      "cell_type": "code",
      "metadata": {
        "id": "0PqOjW1ESq0H",
        "colab_type": "code",
        "colab": {}
      },
      "source": [
        "train_x = np.asanyarray(df[['ENGINESIZE']])\n",
        "train_y = np.asanyarray(df[['CO2EMISSIONS']])"
      ],
      "execution_count": null,
      "outputs": []
    },
    {
      "cell_type": "code",
      "metadata": {
        "id": "NWv04BonSq2-",
        "colab_type": "code",
        "colab": {}
      },
      "source": [
        "a = tf.Variable(20.0)\n",
        "b = tf.Variable(30.2)\n",
        "\n",
        "\n",
        "def h(x):\n",
        "   y = a*x + b\n",
        "   return y"
      ],
      "execution_count": null,
      "outputs": []
    },
    {
      "cell_type": "code",
      "metadata": {
        "id": "BQPjw1WuSq5q",
        "colab_type": "code",
        "colab": {}
      },
      "source": [
        "def loss_object(y,train_y) :\n",
        "    return tf.reduce_mean(tf.square(y - train_y))\n",
        "    # Below is a predefined method offered by TensorFlow to calculate loss function\n",
        "    #loss_object = tf.keras.losses.MeanSquaredLogarithmicError()"
      ],
      "execution_count": null,
      "outputs": []
    },
    {
      "cell_type": "code",
      "metadata": {
        "id": "9wJbQiGPSq8L",
        "colab_type": "code",
        "colab": {}
      },
      "source": [
        "learning_rate = 0.01\n",
        "train_data = []\n",
        "loss_values =[]\n",
        "# steps of looping through all your data to update the parameters\n",
        "training_epochs = 200\n",
        "\n",
        "# train model\n",
        "for epoch in range(training_epochs):\n",
        "    with tf.GradientTape() as tape:\n",
        "        y_predicted = h(train_x)\n",
        "        loss_value = loss_object(train_y,y_predicted)\n",
        "        loss_values.append(loss_value)\n",
        "\n",
        "        # get gradients\n",
        "        gradients = tape.gradient(loss_value, [b,a])\n",
        "        \n",
        "        # compute and adjust weights\n",
        "        b.assign_sub(gradients[0]*learning_rate)\n",
        "        a.assign_sub(gradients[1]*learning_rate)\n",
        "        if epoch % 5 == 0:\n",
        "            train_data.append([a, b])\n"
      ],
      "execution_count": null,
      "outputs": []
    },
    {
      "cell_type": "code",
      "metadata": {
        "id": "4-aL2LczVBew",
        "colab_type": "code",
        "colab": {
          "base_uri": "https://localhost:8080/",
          "height": 35
        },
        "outputId": "a56a0b80-3c4b-4239-e8dd-8efdedc0fd8c"
      },
      "source": [
        "len(train_data)\n",
        "len(loss_values)"
      ],
      "execution_count": null,
      "outputs": [
        {
          "output_type": "execute_result",
          "data": {
            "text/plain": [
              "200"
            ]
          },
          "metadata": {
            "tags": []
          },
          "execution_count": 24
        }
      ]
    },
    {
      "cell_type": "code",
      "metadata": {
        "id": "KgpRG3MpSq-v",
        "colab_type": "code",
        "colab": {
          "base_uri": "https://localhost:8080/",
          "height": 392
        },
        "outputId": "760a87f5-3bee-4fc3-a1f6-51f35baa92a4"
      },
      "source": [
        "plt.plot(loss_values, 'ro')"
      ],
      "execution_count": null,
      "outputs": [
        {
          "output_type": "execute_result",
          "data": {
            "text/plain": [
              "[<matplotlib.lines.Line2D at 0x7f111530a710>]"
            ]
          },
          "metadata": {
            "tags": []
          },
          "execution_count": 18
        },
        {
          "output_type": "display_data",
          "data": {
            "image/png": "[encoded data removed]",
            "text/plain": [
              "<Figure size 720x432 with 1 Axes>"
            ]
          },
          "metadata": {
            "tags": [],
            "needs_background": "light"
          }
        }
      ]
    },
    {
      "cell_type": "markdown",
      "metadata": {
        "id": "iFDc95eST4cg",
        "colab_type": "text"
      },
      "source": [
        "intercept change"
      ]
    },
    {
      "cell_type": "code",
      "metadata": {
        "id": "LrD-YESrSrBr",
        "colab_type": "code",
        "colab": {
          "base_uri": "https://localhost:8080/",
          "height": 374
        },
        "outputId": "6c08f1e4-d360-4630-e876-20f94d5d072a"
      },
      "source": [
        "cr, cg, cb = (1.0, 1.0, 0.0)\n",
        "for f in train_data:\n",
        "    cb += 1.0 / len(train_data)\n",
        "    cg -= 1.0 / len(train_data)\n",
        "    if cb > 1.0: cb = 1.0\n",
        "    if cg < 0.0: cg = 0.0\n",
        "    [a, b] = f\n",
        "    f_y = np.vectorize(lambda x: a*x + b)(train_x)\n",
        "    line = plt.plot(train_x, f_y)\n",
        "    plt.setp(line, color=(cr,cg,cb))\n",
        "\n",
        "plt.plot(train_x, train_y, 'ro')\n",
        "green_line = mpatches.Patch(color='red', label='Data Points')\n",
        "\n",
        "plt.legend(handles=[green_line])\n",
        "\n",
        "plt.show()"
      ],
      "execution_count": null,
      "outputs": [
        {
          "output_type": "display_data",
          "data": {
            "image/png": "[encoded data removed]",
            "text/plain": [
              "<Figure size 720x432 with 1 Axes>"
            ]
          },
          "metadata": {
            "tags": [],
            "needs_background": "light"
          }
        }
      ]
    },
    {
      "cell_type": "code",
      "metadata": {
        "id": "vyoCdHDaSrD6",
        "colab_type": "code",
        "colab": {}
      },
      "source": [
        ""
      ],
      "execution_count": null,
      "outputs": []
    },
    {
      "cell_type": "markdown",
      "metadata": {
        "id": "d7gDqGECWuSu",
        "colab_type": "text"
      },
      "source": [
        "<h2> Logistic Regression </h2>"
      ]
    },
    {
      "cell_type": "code",
      "metadata": {
        "id": "OsTFd7GLWtlU",
        "colab_type": "code",
        "colab": {
          "base_uri": "https://localhost:8080/",
          "height": 952
        },
        "outputId": "1ae5b0a1-8290-43f7-b10c-55d0c654d8c7"
      },
      "source": [
        "!pip install grpcio==1.24.3\n",
        "!pip install tensorflow==2.2.0"
      ],
      "execution_count": null,
      "outputs": [
        {
          "output_type": "stream",
          "text": [
            "Collecting grpcio==1.24.3\n",
            "\u001b[?25l  Downloading https://files.pythonhosted.org/packages/30/54/c9810421e41ec0bca2228c6f06b1b1189b196b69533cbcac9f71b44727f8/grpcio-1.24.3-cp36-cp36m-manylinux2010_x86_64.whl (2.2MB)\n",
            "\u001b[K     |████████████████████████████████| 2.2MB 8.0MB/s \n",
            "\u001b[?25hRequirement already satisfied: six>=1.5.2 in /usr/local/lib/python3.6/dist-packages (from grpcio==1.24.3) (1.12.0)\n",
            "Installing collected packages: grpcio\n",
            "  Found existing installation: grpcio 1.30.0\n",
            "    Uninstalling grpcio-1.30.0:\n",
            "      Successfully uninstalled grpcio-1.30.0\n",
            "Successfully installed grpcio-1.24.3\n"
          ],
          "name": "stdout"
        },
        {
          "output_type": "display_data",
          "data": {
            "application/vnd.colab-display-data+json": {
              "pip_warning": {
                "packages": [
                  "grpc"
                ]
              }
            }
          },
          "metadata": {
            "tags": []
          }
        },
        {
          "output_type": "stream",
          "text": [
            "Requirement already satisfied: tensorflow==2.2.0 in /usr/local/lib/python3.6/dist-packages (2.2.0)\n",
            "Requirement already satisfied: keras-preprocessing>=1.1.0 in /usr/local/lib/python3.6/dist-packages (from tensorflow==2.2.0) (1.1.2)\n",
            "Requirement already satisfied: gast==0.3.3 in /usr/local/lib/python3.6/dist-packages (from tensorflow==2.2.0) (0.3.3)\n",
            "Requirement already satisfied: termcolor>=1.1.0 in /usr/local/lib/python3.6/dist-packages (from tensorflow==2.2.0) (1.1.0)\n",
            "Requirement already satisfied: h5py<2.11.0,>=2.10.0 in /usr/local/lib/python3.6/dist-packages (from tensorflow==2.2.0) (2.10.0)\n",
            "Requirement already satisfied: tensorflow-estimator<2.3.0,>=2.2.0 in /usr/local/lib/python3.6/dist-packages (from tensorflow==2.2.0) (2.2.0)\n",
            "Requirement already satisfied: protobuf>=3.8.0 in /usr/local/lib/python3.6/dist-packages (from tensorflow==2.2.0) (3.12.2)\n",
            "Requirement already satisfied: wheel>=0.26; python_version >= \"3\" in /usr/local/lib/python3.6/dist-packages (from tensorflow==2.2.0) (0.34.2)\n",
            "Requirement already satisfied: absl-py>=0.7.0 in /usr/local/lib/python3.6/dist-packages (from tensorflow==2.2.0) (0.9.0)\n",
            "Requirement already satisfied: astunparse==1.6.3 in /usr/local/lib/python3.6/dist-packages (from tensorflow==2.2.0) (1.6.3)\n",
            "Requirement already satisfied: opt-einsum>=2.3.2 in /usr/local/lib/python3.6/dist-packages (from tensorflow==2.2.0) (3.2.1)\n",
            "Requirement already satisfied: numpy<2.0,>=1.16.0 in /usr/local/lib/python3.6/dist-packages (from tensorflow==2.2.0) (1.18.5)\n",
            "Requirement already satisfied: tensorboard<2.3.0,>=2.2.0 in /usr/local/lib/python3.6/dist-packages (from tensorflow==2.2.0) (2.2.2)\n",
            "Requirement already satisfied: scipy==1.4.1; python_version >= \"3\" in /usr/local/lib/python3.6/dist-packages (from tensorflow==2.2.0) (1.4.1)\n",
            "Requirement already satisfied: six>=1.12.0 in /usr/local/lib/python3.6/dist-packages (from tensorflow==2.2.0) (1.12.0)\n",
            "Requirement already satisfied: grpcio>=1.8.6 in /usr/local/lib/python3.6/dist-packages (from tensorflow==2.2.0) (1.24.3)\n",
            "Requirement already satisfied: google-pasta>=0.1.8 in /usr/local/lib/python3.6/dist-packages (from tensorflow==2.2.0) (0.2.0)\n",
            "Requirement already satisfied: wrapt>=1.11.1 in /usr/local/lib/python3.6/dist-packages (from tensorflow==2.2.0) (1.12.1)\n",
            "Requirement already satisfied: setuptools in /usr/local/lib/python3.6/dist-packages (from protobuf>=3.8.0->tensorflow==2.2.0) (49.1.0)\n",
            "Requirement already satisfied: google-auth<2,>=1.6.3 in /usr/local/lib/python3.6/dist-packages (from tensorboard<2.3.0,>=2.2.0->tensorflow==2.2.0) (1.17.2)\n",
            "Requirement already satisfied: requests<3,>=2.21.0 in /usr/local/lib/python3.6/dist-packages (from tensorboard<2.3.0,>=2.2.0->tensorflow==2.2.0) (2.23.0)\n",
            "Requirement already satisfied: tensorboard-plugin-wit>=1.6.0 in /usr/local/lib/python3.6/dist-packages (from tensorboard<2.3.0,>=2.2.0->tensorflow==2.2.0) (1.7.0)\n",
            "Requirement already satisfied: werkzeug>=0.11.15 in /usr/local/lib/python3.6/dist-packages (from tensorboard<2.3.0,>=2.2.0->tensorflow==2.2.0) (1.0.1)\n",
            "Requirement already satisfied: google-auth-oauthlib<0.5,>=0.4.1 in /usr/local/lib/python3.6/dist-packages (from tensorboard<2.3.0,>=2.2.0->tensorflow==2.2.0) (0.4.1)\n",
            "Requirement already satisfied: markdown>=2.6.8 in /usr/local/lib/python3.6/dist-packages (from tensorboard<2.3.0,>=2.2.0->tensorflow==2.2.0) (3.2.2)\n",
            "Requirement already satisfied: cachetools<5.0,>=2.0.0 in /usr/local/lib/python3.6/dist-packages (from google-auth<2,>=1.6.3->tensorboard<2.3.0,>=2.2.0->tensorflow==2.2.0) (4.1.1)\n",
            "Requirement already satisfied: pyasn1-modules>=0.2.1 in /usr/local/lib/python3.6/dist-packages (from google-auth<2,>=1.6.3->tensorboard<2.3.0,>=2.2.0->tensorflow==2.2.0) (0.2.8)\n",
            "Requirement already satisfied: rsa<5,>=3.1.4; python_version >= \"3\" in /usr/local/lib/python3.6/dist-packages (from google-auth<2,>=1.6.3->tensorboard<2.3.0,>=2.2.0->tensorflow==2.2.0) (4.6)\n",
            "Requirement already satisfied: idna<3,>=2.5 in /usr/local/lib/python3.6/dist-packages (from requests<3,>=2.21.0->tensorboard<2.3.0,>=2.2.0->tensorflow==2.2.0) (2.10)\n",
            "Requirement already satisfied: certifi>=2017.4.17 in /usr/local/lib/python3.6/dist-packages (from requests<3,>=2.21.0->tensorboard<2.3.0,>=2.2.0->tensorflow==2.2.0) (2020.6.20)\n",
            "Requirement already satisfied: chardet<4,>=3.0.2 in /usr/local/lib/python3.6/dist-packages (from requests<3,>=2.21.0->tensorboard<2.3.0,>=2.2.0->tensorflow==2.2.0) (3.0.4)\n",
            "Requirement already satisfied: urllib3!=1.25.0,!=1.25.1,<1.26,>=1.21.1 in /usr/local/lib/python3.6/dist-packages (from requests<3,>=2.21.0->tensorboard<2.3.0,>=2.2.0->tensorflow==2.2.0) (1.24.3)\n",
            "Requirement already satisfied: requests-oauthlib>=0.7.0 in /usr/local/lib/python3.6/dist-packages (from google-auth-oauthlib<0.5,>=0.4.1->tensorboard<2.3.0,>=2.2.0->tensorflow==2.2.0) (1.3.0)\n",
            "Requirement already satisfied: importlib-metadata; python_version < \"3.8\" in /usr/local/lib/python3.6/dist-packages (from markdown>=2.6.8->tensorboard<2.3.0,>=2.2.0->tensorflow==2.2.0) (1.7.0)\n",
            "Requirement already satisfied: pyasn1<0.5.0,>=0.4.6 in /usr/local/lib/python3.6/dist-packages (from pyasn1-modules>=0.2.1->google-auth<2,>=1.6.3->tensorboard<2.3.0,>=2.2.0->tensorflow==2.2.0) (0.4.8)\n",
            "Requirement already satisfied: oauthlib>=3.0.0 in /usr/local/lib/python3.6/dist-packages (from requests-oauthlib>=0.7.0->google-auth-oauthlib<0.5,>=0.4.1->tensorboard<2.3.0,>=2.2.0->tensorflow==2.2.0) (3.1.0)\n",
            "Requirement already satisfied: zipp>=0.5 in /usr/local/lib/python3.6/dist-packages (from importlib-metadata; python_version < \"3.8\"->markdown>=2.6.8->tensorboard<2.3.0,>=2.2.0->tensorflow==2.2.0) (3.1.0)\n"
          ],
          "name": "stdout"
        }
      ]
    },
    {
      "cell_type": "code",
      "metadata": {
        "id": "nIjIRGy52nQp",
        "colab_type": "code",
        "colab": {}
      },
      "source": [
        "import tensorflow as tf\n",
        "import pandas as pd\n",
        "import numpy as np\n",
        "import time\n",
        "from sklearn.datasets import load_iris\n",
        "from sklearn.model_selection import train_test_split\n",
        "import matplotlib.pyplot as plt"
      ],
      "execution_count": null,
      "outputs": []
    },
    {
      "cell_type": "code",
      "metadata": {
        "id": "btx5qQGO2nTF",
        "colab_type": "code",
        "colab": {}
      },
      "source": [
        "iris = load_iris()\n",
        "iris_X, iris_y = iris.data[:-1,:], iris.target[:-1]\n",
        "iris_y= pd.get_dummies(iris_y).values\n",
        "trainX, testX, trainY, testY = train_test_split(iris_X, iris_y, test_size=0.33, random_state=42)"
      ],
      "execution_count": null,
      "outputs": []
    },
    {
      "cell_type": "code",
      "metadata": {
        "id": "ZX4BCn9J2nVe",
        "colab_type": "code",
        "colab": {
          "base_uri": "https://localhost:8080/",
          "height": 1000
        },
        "outputId": "e5e03887-b1be-4f1e-d529-4c706d38bdc4"
      },
      "source": [
        "iris_y"
      ],
      "execution_count": null,
      "outputs": [
        {
          "output_type": "execute_result",
          "data": {
            "text/plain": [
              "array([[1, 0, 0],\n",
              "       [1, 0, 0],\n",
              "       [1, 0, 0],\n",
              "       [1, 0, 0],\n",
              "       [1, 0, 0],\n",
              "       [1, 0, 0],\n",
              "       [1, 0, 0],\n",
              "       [1, 0, 0],\n",
              "       [1, 0, 0],\n",
              "       [1, 0, 0],\n",
              "       [1, 0, 0],\n",
              "       [1, 0, 0],\n",
              "       [1, 0, 0],\n",
              "       [1, 0, 0],\n",
              "       [1, 0, 0],\n",
              "       [1, 0, 0],\n",
              "       [1, 0, 0],\n",
              "       [1, 0, 0],\n",
              "       [1, 0, 0],\n",
              "       [1, 0, 0],\n",
              "       [1, 0, 0],\n",
              "       [1, 0, 0],\n",
              "       [1, 0, 0],\n",
              "       [1, 0, 0],\n",
              "       [1, 0, 0],\n",
              "       [1, 0, 0],\n",
              "       [1, 0, 0],\n",
              "       [1, 0, 0],\n",
              "       [1, 0, 0],\n",
              "       [1, 0, 0],\n",
              "       [1, 0, 0],\n",
              "       [1, 0, 0],\n",
              "       [1, 0, 0],\n",
              "       [1, 0, 0],\n",
              "       [1, 0, 0],\n",
              "       [1, 0, 0],\n",
              "       [1, 0, 0],\n",
              "       [1, 0, 0],\n",
              "       [1, 0, 0],\n",
              "       [1, 0, 0],\n",
              "       [1, 0, 0],\n",
              "       [1, 0, 0],\n",
              "       [1, 0, 0],\n",
              "       [1, 0, 0],\n",
              "       [1, 0, 0],\n",
              "       [1, 0, 0],\n",
              "       [1, 0, 0],\n",
              "       [1, 0, 0],\n",
              "       [1, 0, 0],\n",
              "       [1, 0, 0],\n",
              "       [0, 1, 0],\n",
              "       [0, 1, 0],\n",
              "       [0, 1, 0],\n",
              "       [0, 1, 0],\n",
              "       [0, 1, 0],\n",
              "       [0, 1, 0],\n",
              "       [0, 1, 0],\n",
              "       [0, 1, 0],\n",
              "       [0, 1, 0],\n",
              "       [0, 1, 0],\n",
              "       [0, 1, 0],\n",
              "       [0, 1, 0],\n",
              "       [0, 1, 0],\n",
              "       [0, 1, 0],\n",
              "       [0, 1, 0],\n",
              "       [0, 1, 0],\n",
              "       [0, 1, 0],\n",
              "       [0, 1, 0],\n",
              "       [0, 1, 0],\n",
              "       [0, 1, 0],\n",
              "       [0, 1, 0],\n",
              "       [0, 1, 0],\n",
              "       [0, 1, 0],\n",
              "       [0, 1, 0],\n",
              "       [0, 1, 0],\n",
              "       [0, 1, 0],\n",
              "       [0, 1, 0],\n",
              "       [0, 1, 0],\n",
              "       [0, 1, 0],\n",
              "       [0, 1, 0],\n",
              "       [0, 1, 0],\n",
              "       [0, 1, 0],\n",
              "       [0, 1, 0],\n",
              "       [0, 1, 0],\n",
              "       [0, 1, 0],\n",
              "       [0, 1, 0],\n",
              "       [0, 1, 0],\n",
              "       [0, 1, 0],\n",
              "       [0, 1, 0],\n",
              "       [0, 1, 0],\n",
              "       [0, 1, 0],\n",
              "       [0, 1, 0],\n",
              "       [0, 1, 0],\n",
              "       [0, 1, 0],\n",
              "       [0, 1, 0],\n",
              "       [0, 1, 0],\n",
              "       [0, 1, 0],\n",
              "       [0, 1, 0],\n",
              "       [0, 1, 0],\n",
              "       [0, 1, 0],\n",
              "       [0, 0, 1],\n",
              "       [0, 0, 1],\n",
              "       [0, 0, 1],\n",
              "       [0, 0, 1],\n",
              "       [0, 0, 1],\n",
              "       [0, 0, 1],\n",
              "       [0, 0, 1],\n",
              "       [0, 0, 1],\n",
              "       [0, 0, 1],\n",
              "       [0, 0, 1],\n",
              "       [0, 0, 1],\n",
              "       [0, 0, 1],\n",
              "       [0, 0, 1],\n",
              "       [0, 0, 1],\n",
              "       [0, 0, 1],\n",
              "       [0, 0, 1],\n",
              "       [0, 0, 1],\n",
              "       [0, 0, 1],\n",
              "       [0, 0, 1],\n",
              "       [0, 0, 1],\n",
              "       [0, 0, 1],\n",
              "       [0, 0, 1],\n",
              "       [0, 0, 1],\n",
              "       [0, 0, 1],\n",
              "       [0, 0, 1],\n",
              "       [0, 0, 1],\n",
              "       [0, 0, 1],\n",
              "       [0, 0, 1],\n",
              "       [0, 0, 1],\n",
              "       [0, 0, 1],\n",
              "       [0, 0, 1],\n",
              "       [0, 0, 1],\n",
              "       [0, 0, 1],\n",
              "       [0, 0, 1],\n",
              "       [0, 0, 1],\n",
              "       [0, 0, 1],\n",
              "       [0, 0, 1],\n",
              "       [0, 0, 1],\n",
              "       [0, 0, 1],\n",
              "       [0, 0, 1],\n",
              "       [0, 0, 1],\n",
              "       [0, 0, 1],\n",
              "       [0, 0, 1],\n",
              "       [0, 0, 1],\n",
              "       [0, 0, 1],\n",
              "       [0, 0, 1],\n",
              "       [0, 0, 1],\n",
              "       [0, 0, 1],\n",
              "       [0, 0, 1]], dtype=uint8)"
            ]
          },
          "metadata": {
            "tags": []
          },
          "execution_count": 8
        }
      ]
    },
    {
      "cell_type": "code",
      "metadata": {
        "id": "bVx8-Agr2nXz",
        "colab_type": "code",
        "colab": {
          "base_uri": "https://localhost:8080/",
          "height": 54
        },
        "outputId": "3ebb72e7-d776-44fa-e081-afae25f9ce6f"
      },
      "source": [
        "numFeatures = trainX.shape[1]\n",
        "print('numFeatures is : ', numFeatures )\n",
        "# numLabels is the number of classes our data points can be in.\n",
        "# In the iris dataset, this number is '3'.\n",
        "numLabels = trainY.shape[1]\n",
        "print('numLabels is : ', numLabels )\n",
        "\n",
        "X = tf.Variable( np.identity(numFeatures), tf.TensorShape(numFeatures),dtype='float32') # Iris has 4 features, so X is a tensor to hold our data.\n",
        "yGold = tf.Variable(np.array([1,1,1]),shape=tf.TensorShape(numLabels),dtype='float32') # This will be our correct answers matrix for 3 classes."
      ],
      "execution_count": null,
      "outputs": [
        {
          "output_type": "stream",
          "text": [
            "numFeatures is :  4\n",
            "numLabels is :  3\n"
          ],
          "name": "stdout"
        }
      ]
    },
    {
      "cell_type": "code",
      "metadata": {
        "id": "dqm8f_ku2nZ4",
        "colab_type": "code",
        "colab": {
          "base_uri": "https://localhost:8080/",
          "height": 35
        },
        "outputId": "9e9cff0e-da39-42a3-87d6-8999c970e705"
      },
      "source": [
        "# X\n",
        "yGold"
      ],
      "execution_count": null,
      "outputs": [
        {
          "output_type": "execute_result",
          "data": {
            "text/plain": [
              "<tf.Variable 'Variable:0' shape=(3,) dtype=float32, numpy=array([1., 1., 1.], dtype=float32)>"
            ]
          },
          "metadata": {
            "tags": []
          },
          "execution_count": 11
        }
      ]
    },
    {
      "cell_type": "code",
      "metadata": {
        "id": "FndK7RPd2nb-",
        "colab_type": "code",
        "colab": {}
      },
      "source": [
        "W = tf.Variable(tf.zeros([4, 3]))  # 4-dimensional input and  3 classes\n",
        "b = tf.Variable(tf.zeros([3])) # 3-dimensional output [0,0,1],[0,1,0],[1,0,0]"
      ],
      "execution_count": null,
      "outputs": []
    },
    {
      "cell_type": "code",
      "metadata": {
        "id": "nNdtS_Mw2nd0",
        "colab_type": "code",
        "colab": {
          "base_uri": "https://localhost:8080/",
          "height": 35
        },
        "outputId": "ddbf5247-4738-4d3c-e1e6-94311d37999c"
      },
      "source": [
        "#random initialisation\n",
        "# W\n",
        "# b\n",
        "weights = tf.Variable(tf.random.normal([numFeatures,numLabels],\n",
        "                                       mean=0.,\n",
        "                                       stddev=0.01,\n",
        "                                       name=\"weights\"),dtype='float32')\n",
        "\n",
        "\n",
        "bias = tf.Variable(tf.random.normal([1,numLabels],\n",
        "                                    mean=0.,\n",
        "                                    stddev=0.01,\n",
        "                                    name=\"bias\"))\n",
        "# weights\n",
        "bias"
      ],
      "execution_count": null,
      "outputs": [
        {
          "output_type": "execute_result",
          "data": {
            "text/plain": [
              "<tf.Variable 'Variable:0' shape=(1, 3) dtype=float32, numpy=array([[ 0.01081024,  0.00489297, -0.00639092]], dtype=float32)>"
            ]
          },
          "metadata": {
            "tags": []
          },
          "execution_count": 16
        }
      ]
    },
    {
      "cell_type": "code",
      "metadata": {
        "id": "8BYH1PYY2ngF",
        "colab_type": "code",
        "colab": {}
      },
      "source": [
        "def logistic_regression(x):\n",
        "  # '''\n",
        "  #   takes all wights multiplies to X \n",
        "  #   add to bias\n",
        "  #   apply sigmoid \n",
        "  #   returns matrix\n",
        "  # '''\n",
        "    apply_weights_OP = tf.matmul(X, weights, name=\"apply_weights\")\n",
        "    add_bias_OP = tf.add(apply_weights_OP, bias, name=\"add_bias\")\n",
        "    # print(\"\\n\\n\\nFaggo Fggot\\n\\n\\n\")\n",
        "    # print(add_bias_OP) \n",
        "    # print(\"\\n\\n\\nFaggot\\n\\n\\n\")\n",
        "    activation_OP = tf.nn.sigmoid(add_bias_OP, name=\"activation\")\n",
        "    # print(activation_OP)\n",
        "    # print(\"\\n\\n\\n\\n\\nJesuus\")\n",
        "    return activation_OP"
      ],
      "execution_count": 42,
      "outputs": []
    },
    {
      "cell_type": "markdown",
      "metadata": {
        "id": "IyEpGgAHBsYr",
        "colab_type": "text"
      },
      "source": [
        "<h1>As we have seen before, the function we are going to use is the logistic function (11+𝑒−𝑊𝑥), which is fed the input data after applying weights and bias. In TensorFlow, this function is implemented as the nn.sigmoid function. Effectively, this fits the weighted input with bias into a 0-100 percent curve, which is the probability function we want.</h1>"
      ]
    },
    {
      "cell_type": "code",
      "metadata": {
        "id": "vd_cxlTl2nic",
        "colab_type": "code",
        "colab": {}
      },
      "source": [
        ""
      ],
      "execution_count": null,
      "outputs": []
    },
    {
      "cell_type": "code",
      "metadata": {
        "id": "_1iSdexQ2nkH",
        "colab_type": "code",
        "colab": {}
      },
      "source": [
        "numEpochs = 700\n",
        "\n",
        "# Defining our learning rate iterations (decay)\n",
        "learningRate = tf.keras.optimizers.schedules.ExponentialDecay(initial_learning_rate=0.0008, decay_steps=trainX.shape[0], decay_rate= 0.95,staircase=True)"
      ],
      "execution_count": null,
      "outputs": []
    },
    {
      "cell_type": "code",
      "metadata": {
        "id": "-TX0YRGI2nmZ",
        "colab_type": "code",
        "colab": {}
      },
      "source": [
        "loss_object = tf.keras.losses.MeanSquaredLogarithmicError()\n",
        "optimizer = tf.keras.optimizers.SGD(learningRate)"
      ],
      "execution_count": null,
      "outputs": []
    },
    {
      "cell_type": "code",
      "metadata": {
        "id": "8fs1OeKf2nox",
        "colab_type": "code",
        "colab": {}
      },
      "source": [
        "# import time\n",
        "# for i in range(1000):\n",
        "#   time.sleep(1)"
      ],
      "execution_count": 32,
      "outputs": []
    },
    {
      "cell_type": "code",
      "metadata": {
        "id": "_cGbnFLW2nq3",
        "colab_type": "code",
        "colab": {}
      },
      "source": [
        "# Accuracy metric.\n",
        "def accuracy(y_pred, y_true):\n",
        "# Predicted class is the index of the highest score in prediction vector (i.e. argmax).\n",
        "    print('y_pred : ',y_pred)\n",
        "    print('y_true : ',y_true)\n",
        "    correct_prediction = tf.equal(tf.argmax(y_pred, -1), tf.argmax(y_true, -1))\n",
        "\n",
        "    return tf.reduce_mean(tf.cast(correct_prediction, tf.float32))\n",
        "\n",
        "def run_optimization(x, y):\n",
        "    with tf.GradientTape() as g:\n",
        "        pred = logistic_regression(x)\n",
        "        loss = loss_object(pred, y)\n",
        "    gradients = g.gradient(loss, [weights, bias])\n",
        "    optimizer.apply_gradients(zip(gradients, [weights, bias]))\n",
        "\n",
        "\n"
      ],
      "execution_count": null,
      "outputs": []
    },
    {
      "cell_type": "code",
      "metadata": {
        "id": "Mt5zWNipdyRY",
        "colab_type": "code",
        "colab": {
          "base_uri": "https://localhost:8080/",
          "height": 35
        },
        "outputId": "b309f42a-5188-47de-b9c3-d051e254ca84"
      },
      "source": [
        "X.shape"
      ],
      "execution_count": 38,
      "outputs": [
        {
          "output_type": "execute_result",
          "data": {
            "text/plain": [
              "TensorShape([4, 4])"
            ]
          },
          "metadata": {
            "tags": []
          },
          "execution_count": 38
        }
      ]
    },
    {
      "cell_type": "code",
      "metadata": {
        "id": "26aE_2Ap2ntM",
        "colab_type": "code",
        "colab": {
          "base_uri": "https://localhost:8080/",
          "height": 1000
        },
        "outputId": "2ec12f5f-6760-4a29-aad7-cef1ff0f648f"
      },
      "source": [
        "display_step = 10\n",
        "# these variable are saved at distance of 10 for graphs visualisation\n",
        "epoch_values = []\n",
        "accuracy_values = []\n",
        "loss_values = []\n",
        "loss = 0\n",
        "diff = 1\n",
        "# Training epochs\n",
        "for i in range(numEpochs):\n",
        "# for i in range(10):\n",
        "    # print(\"\\n\\n\\n Prd \\n\\n\\n\");\n",
        "\n",
        "    if i > 1 and diff < .000001:\n",
        "        print(\"change in loss %g; convergence.\"%diff)\n",
        "        break\n",
        "    else:\n",
        "        # Run training step\n",
        "        run_optimization(X, yGold)\n",
        "        \n",
        "        # Report occasional stats\n",
        "        if i % display_step == 0:\n",
        "            # Add epoch to epoch_values\n",
        "            epoch_values.append(i)\n",
        "            \n",
        "            pred = logistic_regression(X)\n",
        "\n",
        "            newLoss = loss_object(pred, yGold)\n",
        "            # Add loss to live graphing variable\n",
        "            loss_values.append(newLoss)\n",
        "            \n",
        "            # Generate accuracy stats on test data\n",
        "            acc = accuracy(pred, yGold)\n",
        "            accuracy_values.append(acc)\n",
        "            \n",
        "    \n",
        "            # Re-assign values for variables\n",
        "            diff = abs(newLoss - loss)\n",
        "            loss = newLoss\n",
        "\n",
        "            #generate print statements\n",
        "            print(\"step %d, training accuracy %g, loss %g, change in loss %g\"%(i, acc, newLoss, diff))\n",
        "\n",
        "        \n",
        "\n",
        "          \n",
        "\n",
        "# How well do we perform on held-out test data?\n",
        "print(\"final accuracy on test set: %s\" %str(acc))\n"
      ],
      "execution_count": 43,
      "outputs": [
        {
          "output_type": "stream",
          "text": [
            "y_pred :  tf.Tensor(\n",
            "[[0.50587845 0.5121936  0.50709933]\n",
            " [0.51292044 0.51014936 0.5100338 ]\n",
            " [0.51261926 0.5097181  0.5076862 ]\n",
            " [0.51290774 0.5139411  0.50735134]], shape=(4, 3), dtype=float32)\n",
            "y_true :  <tf.Variable 'Variable:0' shape=(3,) dtype=float32, numpy=array([1., 1., 1.], dtype=float32)>\n",
            "step 0, training accuracy 0.5, loss 0.0789084, change in loss 0.0789084\n",
            "y_pred :  tf.Tensor(\n",
            "[[0.50591624 0.5122312  0.50713736]\n",
            " [0.51295805 0.51018703 0.51007175]\n",
            " [0.51265687 0.50975573 0.5077242 ]\n",
            " [0.5129453  0.5139786  0.5073893 ]], shape=(4, 3), dtype=float32)\n",
            "y_true :  <tf.Variable 'Variable:0' shape=(3,) dtype=float32, numpy=array([1., 1., 1.], dtype=float32)>\n",
            "step 10, training accuracy 0.5, loss 0.0788944, change in loss 1.40369e-05\n",
            "y_pred :  tf.Tensor(\n",
            "[[0.505954   0.5122688  0.5071754 ]\n",
            " [0.51299566 0.51022464 0.5101097 ]\n",
            " [0.5126944  0.50979334 0.50776225]\n",
            " [0.51298296 0.51401615 0.5074274 ]], shape=(4, 3), dtype=float32)\n",
            "y_true :  <tf.Variable 'Variable:0' shape=(3,) dtype=float32, numpy=array([1., 1., 1.], dtype=float32)>\n",
            "step 20, training accuracy 0.5, loss 0.0788803, change in loss 1.40443e-05\n",
            "y_pred :  tf.Tensor(\n",
            "[[0.50599176 0.51230633 0.5072135 ]\n",
            " [0.5130333  0.51026225 0.5101477 ]\n",
            " [0.5127321  0.509831   0.5078003 ]\n",
            " [0.5130205  0.5140537  0.5074654 ]], shape=(4, 3), dtype=float32)\n",
            "y_true :  <tf.Variable 'Variable:0' shape=(3,) dtype=float32, numpy=array([1., 1., 1.], dtype=float32)>\n",
            "step 30, training accuracy 0.5, loss 0.0788663, change in loss 1.40369e-05\n",
            "y_pred :  tf.Tensor(\n",
            "[[0.5060284  0.5123428  0.50725037]\n",
            " [0.5130697  0.5102987  0.51018447]\n",
            " [0.5127685  0.50986755 0.5078372 ]\n",
            " [0.513057   0.5140901  0.5075023 ]], shape=(4, 3), dtype=float32)\n",
            "y_true :  <tf.Variable 'Variable:0' shape=(3,) dtype=float32, numpy=array([1., 1., 1.], dtype=float32)>\n",
            "step 40, training accuracy 0.5, loss 0.0788527, change in loss 1.36197e-05\n",
            "y_pred :  tf.Tensor(\n",
            "[[0.5060643  0.51237845 0.5072865 ]\n",
            " [0.5131054  0.5103345  0.5102205 ]\n",
            " [0.51280427 0.5099033  0.5078733 ]\n",
            " [0.5130927  0.5141257  0.5075384 ]], shape=(4, 3), dtype=float32)\n",
            "y_true :  <tf.Variable 'Variable:0' shape=(3,) dtype=float32, numpy=array([1., 1., 1.], dtype=float32)>\n",
            "step 50, training accuracy 0.5, loss 0.0788394, change in loss 1.33216e-05\n",
            "y_pred :  tf.Tensor(\n",
            "[[0.50610024 0.51241416 0.50732255]\n",
            " [0.51314116 0.51037025 0.5102566 ]\n",
            " [0.51284    0.5099391  0.50790936]\n",
            " [0.5131284  0.5141614  0.50757456]], shape=(4, 3), dtype=float32)\n",
            "y_true :  <tf.Variable 'Variable:0' shape=(3,) dtype=float32, numpy=array([1., 1., 1.], dtype=float32)>\n",
            "step 60, training accuracy 0.5, loss 0.078826, change in loss 1.33365e-05\n",
            "y_pred :  tf.Tensor(\n",
            "[[0.50613606 0.51244986 0.50735873]\n",
            " [0.5131768  0.51040596 0.51029265]\n",
            " [0.5128757  0.5099748  0.5079455 ]\n",
            " [0.5131641  0.514197   0.5076106 ]], shape=(4, 3), dtype=float32)\n",
            "y_true :  <tf.Variable 'Variable:0' shape=(3,) dtype=float32, numpy=array([1., 1., 1.], dtype=float32)>\n",
            "step 70, training accuracy 0.5, loss 0.0788127, change in loss 1.33216e-05\n",
            "y_pred :  tf.Tensor(\n",
            "[[0.50617194 0.5124855  0.50739485]\n",
            " [0.5132125  0.5104417  0.5103287 ]\n",
            " [0.5129114  0.51001054 0.5079816 ]\n",
            " [0.5131998  0.51423264 0.50764674]], shape=(4, 3), dtype=float32)\n",
            "y_true :  <tf.Variable 'Variable:0' shape=(3,) dtype=float32, numpy=array([1., 1., 1.], dtype=float32)>\n",
            "step 80, training accuracy 0.5, loss 0.0787994, change in loss 1.33216e-05\n",
            "y_pred :  tf.Tensor(\n",
            "[[0.5062078  0.5125212  0.5074309 ]\n",
            " [0.5132482  0.5104774  0.5103647 ]\n",
            " [0.5129471  0.51004624 0.50801766]\n",
            " [0.5132355  0.5142683  0.50768286]], shape=(4, 3), dtype=float32)\n",
            "y_true :  <tf.Variable 'Variable:0' shape=(3,) dtype=float32, numpy=array([1., 1., 1.], dtype=float32)>\n",
            "step 90, training accuracy 0.5, loss 0.078786, change in loss 1.33365e-05\n",
            "y_pred :  tf.Tensor(\n",
            "[[0.50624365 0.5125569  0.50746703]\n",
            " [0.5132839  0.5105131  0.5104008 ]\n",
            " [0.5129828  0.510082   0.5080538 ]\n",
            " [0.51327115 0.51430386 0.5077189 ]], shape=(4, 3), dtype=float32)\n",
            "y_true :  <tf.Variable 'Variable:0' shape=(3,) dtype=float32, numpy=array([1., 1., 1.], dtype=float32)>\n",
            "step 100, training accuracy 0.5, loss 0.0787727, change in loss 1.33067e-05\n",
            "y_pred :  tf.Tensor(\n",
            "[[0.5062796  0.51259255 0.50750315]\n",
            " [0.51331955 0.5105489  0.5104368 ]\n",
            " [0.5130185  0.5101177  0.50808984]\n",
            " [0.5133069  0.5143395  0.50775504]], shape=(4, 3), dtype=float32)\n",
            "y_true :  <tf.Variable 'Variable:0' shape=(3,) dtype=float32, numpy=array([1., 1., 1.], dtype=float32)>\n",
            "step 110, training accuracy 0.5, loss 0.0787594, change in loss 1.33067e-05\n",
            "y_pred :  tf.Tensor(\n",
            "[[0.5063154  0.5126282  0.5075392 ]\n",
            " [0.51335526 0.5105846  0.51047283]\n",
            " [0.5130542  0.5101535  0.50812596]\n",
            " [0.51334256 0.51437515 0.50779116]], shape=(4, 3), dtype=float32)\n",
            "y_true :  <tf.Variable 'Variable:0' shape=(3,) dtype=float32, numpy=array([1., 1., 1.], dtype=float32)>\n",
            "step 120, training accuracy 0.5, loss 0.0787461, change in loss 1.33365e-05\n",
            "y_pred :  tf.Tensor(\n",
            "[[0.5063513  0.51266384 0.50757533]\n",
            " [0.5133909  0.5106203  0.51050884]\n",
            " [0.51308984 0.5101892  0.508162  ]\n",
            " [0.5133782  0.51441073 0.5078272 ]], shape=(4, 3), dtype=float32)\n",
            "y_true :  <tf.Variable 'Variable:0' shape=(3,) dtype=float32, numpy=array([1., 1., 1.], dtype=float32)>\n",
            "step 130, training accuracy 0.5, loss 0.0787328, change in loss 1.32918e-05\n",
            "y_pred :  tf.Tensor(\n",
            "[[0.50638586 0.5126983  0.50761014]\n",
            " [0.51342535 0.51065475 0.5105436 ]\n",
            " [0.5131243  0.5102236  0.50819683]\n",
            " [0.51341265 0.5144451  0.50786203]], shape=(4, 3), dtype=float32)\n",
            "y_true :  <tf.Variable 'Variable:0' shape=(3,) dtype=float32, numpy=array([1., 1., 1.], dtype=float32)>\n",
            "step 140, training accuracy 0.5, loss 0.07872, change in loss 1.28374e-05\n",
            "y_pred :  tf.Tensor(\n",
            "[[0.5064199  0.51273215 0.5076444 ]\n",
            " [0.5134592  0.51068866 0.5105778 ]\n",
            " [0.5131582  0.5102576  0.5082311 ]\n",
            " [0.5134465  0.5144789  0.50789636]], shape=(4, 3), dtype=float32)\n",
            "y_true :  <tf.Variable 'Variable:0' shape=(3,) dtype=float32, numpy=array([1., 1., 1.], dtype=float32)>\n",
            "step 150, training accuracy 0.5, loss 0.0787073, change in loss 1.26436e-05\n",
            "y_pred :  tf.Tensor(\n",
            "[[0.50645393 0.512766   0.50767875]\n",
            " [0.5134931  0.5107226  0.510612  ]\n",
            " [0.51319206 0.5102915  0.5082654 ]\n",
            " [0.51348037 0.5145128  0.5079306 ]], shape=(4, 3), dtype=float32)\n",
            "y_true :  <tf.Variable 'Variable:0' shape=(3,) dtype=float32, numpy=array([1., 1., 1.], dtype=float32)>\n",
            "step 160, training accuracy 0.5, loss 0.0786947, change in loss 1.26362e-05\n",
            "y_pred :  tf.Tensor(\n",
            "[[0.50648797 0.51279986 0.50771296]\n",
            " [0.513527   0.5107565  0.5106462 ]\n",
            " [0.5132259  0.5103254  0.50829965]\n",
            " [0.5135143  0.5145466  0.50796485]], shape=(4, 3), dtype=float32)\n",
            "y_true :  <tf.Variable 'Variable:0' shape=(3,) dtype=float32, numpy=array([1., 1., 1.], dtype=float32)>\n",
            "step 170, training accuracy 0.5, loss 0.0786821, change in loss 1.26213e-05\n",
            "y_pred :  tf.Tensor(\n",
            "[[0.50652206 0.5128337  0.50774723]\n",
            " [0.5135609  0.5107904  0.51068044]\n",
            " [0.5132598  0.51035935 0.50833386]\n",
            " [0.5135482  0.51458037 0.5079991 ]], shape=(4, 3), dtype=float32)\n",
            "y_true :  <tf.Variable 'Variable:0' shape=(3,) dtype=float32, numpy=array([1., 1., 1.], dtype=float32)>\n",
            "step 180, training accuracy 0.5, loss 0.0786694, change in loss 1.26362e-05\n",
            "y_pred :  tf.Tensor(\n",
            "[[0.5065561  0.51286757 0.50778157]\n",
            " [0.51359475 0.5108243  0.5107146 ]\n",
            " [0.5132937  0.51039326 0.50836813]\n",
            " [0.51358205 0.5146142  0.5080334 ]], shape=(4, 3), dtype=float32)\n",
            "y_true :  <tf.Variable 'Variable:0' shape=(3,) dtype=float32, numpy=array([1., 1., 1.], dtype=float32)>\n",
            "step 190, training accuracy 0.5, loss 0.0786568, change in loss 1.26213e-05\n",
            "y_pred :  tf.Tensor(\n",
            "[[0.5065901  0.5129014  0.5078158 ]\n",
            " [0.5136286  0.5108582  0.5107488 ]\n",
            " [0.51332754 0.5104272  0.50840235]\n",
            " [0.5136159  0.514648   0.5080676 ]], shape=(4, 3), dtype=float32)\n",
            "y_true :  <tf.Variable 'Variable:0' shape=(3,) dtype=float32, numpy=array([1., 1., 1.], dtype=float32)>\n",
            "step 200, training accuracy 0.5, loss 0.0786442, change in loss 1.26287e-05\n",
            "y_pred :  tf.Tensor(\n",
            "[[0.5066241  0.5129353  0.50785005]\n",
            " [0.51366246 0.5108921  0.510783  ]\n",
            " [0.5133614  0.5104611  0.5084366 ]\n",
            " [0.51364976 0.51468176 0.5081019 ]], shape=(4, 3), dtype=float32)\n",
            "y_true :  <tf.Variable 'Variable:0' shape=(3,) dtype=float32, numpy=array([1., 1., 1.], dtype=float32)>\n",
            "step 210, training accuracy 0.5, loss 0.0786316, change in loss 1.26213e-05\n",
            "y_pred :  tf.Tensor(\n",
            "[[0.50665814 0.51296914 0.50788426]\n",
            " [0.5136964  0.51092595 0.51081717]\n",
            " [0.5133953  0.51049495 0.5084709 ]\n",
            " [0.5136836  0.51471555 0.50813615]], shape=(4, 3), dtype=float32)\n",
            "y_true :  <tf.Variable 'Variable:0' shape=(3,) dtype=float32, numpy=array([1., 1., 1.], dtype=float32)>\n",
            "step 220, training accuracy 0.5, loss 0.0786189, change in loss 1.26213e-05\n",
            "y_pred :  tf.Tensor(\n",
            "[[0.5066922  0.51300293 0.50791854]\n",
            " [0.5137302  0.51095986 0.5108513 ]\n",
            " [0.51342916 0.51052886 0.5085051 ]\n",
            " [0.5137175  0.51474935 0.50817037]], shape=(4, 3), dtype=float32)\n",
            "y_true :  <tf.Variable 'Variable:0' shape=(3,) dtype=float32, numpy=array([1., 1., 1.], dtype=float32)>\n",
            "step 230, training accuracy 0.5, loss 0.0786063, change in loss 1.26138e-05\n",
            "y_pred :  tf.Tensor(\n",
            "[[0.50672483 0.5130354  0.50795144]\n",
            " [0.51376265 0.5109924  0.51088417]\n",
            " [0.51346165 0.5105614  0.50853795]\n",
            " [0.51374996 0.51478183 0.50820327]], shape=(4, 3), dtype=float32)\n",
            "y_true :  <tf.Variable 'Variable:0' shape=(3,) dtype=float32, numpy=array([1., 1., 1.], dtype=float32)>\n",
            "step 240, training accuracy 0.5, loss 0.0785942, change in loss 1.21146e-05\n",
            "y_pred :  tf.Tensor(\n",
            "[[0.5067572  0.5130676  0.5079839 ]\n",
            " [0.51379484 0.5110246  0.51091665]\n",
            " [0.51349384 0.5105936  0.5085705 ]\n",
            " [0.51378214 0.51481396 0.5082358 ]], shape=(4, 3), dtype=float32)\n",
            "y_true :  <tf.Variable 'Variable:0' shape=(3,) dtype=float32, numpy=array([1., 1., 1.], dtype=float32)>\n",
            "step 250, training accuracy 0.5, loss 0.0785822, change in loss 1.1988e-05\n",
            "y_pred :  tf.Tensor(\n",
            "[[0.5067895  0.51309973 0.50801647]\n",
            " [0.513827   0.5110568  0.5109491 ]\n",
            " [0.51352596 0.5106258  0.508603  ]\n",
            " [0.5138143  0.514846   0.50826836]], shape=(4, 3), dtype=float32)\n",
            "y_true :  <tf.Variable 'Variable:0' shape=(3,) dtype=float32, numpy=array([1., 1., 1.], dtype=float32)>\n",
            "step 260, training accuracy 0.5, loss 0.0785703, change in loss 1.19656e-05\n",
            "y_pred :  tf.Tensor(\n",
            "[[0.50682175 0.51313186 0.508049  ]\n",
            " [0.51385915 0.5110889  0.51098156]\n",
            " [0.51355815 0.51065797 0.5086355 ]\n",
            " [0.51384646 0.5148781  0.50830084]], shape=(4, 3), dtype=float32)\n",
            "y_true :  <tf.Variable 'Variable:0' shape=(3,) dtype=float32, numpy=array([1., 1., 1.], dtype=float32)>\n",
            "step 270, training accuracy 0.5, loss 0.0785583, change in loss 1.19731e-05\n",
            "y_pred :  tf.Tensor(\n",
            "[[0.5068541  0.5131639  0.50808156]\n",
            " [0.5138913  0.51112115 0.51101404]\n",
            " [0.5135903  0.51069015 0.508668  ]\n",
            " [0.5138786  0.5149102  0.5083333 ]], shape=(4, 3), dtype=float32)\n",
            "y_true :  <tf.Variable 'Variable:0' shape=(3,) dtype=float32, numpy=array([1., 1., 1.], dtype=float32)>\n",
            "step 280, training accuracy 0.5, loss 0.0785463, change in loss 1.19731e-05\n",
            "y_pred :  tf.Tensor(\n",
            "[[0.5068864  0.5131961  0.50811404]\n",
            " [0.5139234  0.5111533  0.51104647]\n",
            " [0.51362246 0.51072234 0.50870055]\n",
            " [0.5139107  0.5149423  0.50836587]], shape=(4, 3), dtype=float32)\n",
            "y_true :  <tf.Variable 'Variable:0' shape=(3,) dtype=float32, numpy=array([1., 1., 1.], dtype=float32)>\n",
            "step 290, training accuracy 0.5, loss 0.0785343, change in loss 1.1988e-05\n",
            "y_pred :  tf.Tensor(\n",
            "[[0.50691867 0.51322824 0.5081466 ]\n",
            " [0.5139556  0.51118547 0.5110789 ]\n",
            " [0.5136546  0.5107545  0.50873303]\n",
            " [0.51394284 0.51497436 0.5083984 ]], shape=(4, 3), dtype=float32)\n",
            "y_true :  <tf.Variable 'Variable:0' shape=(3,) dtype=float32, numpy=array([1., 1., 1.], dtype=float32)>\n",
            "step 300, training accuracy 0.5, loss 0.0785224, change in loss 1.19507e-05\n",
            "y_pred :  tf.Tensor(\n",
            "[[0.506951   0.5132603  0.50817907]\n",
            " [0.51398766 0.51121765 0.5111114 ]\n",
            " [0.5136867  0.5107867  0.5087655 ]\n",
            " [0.513975   0.5150064  0.50843084]], shape=(4, 3), dtype=float32)\n",
            "y_true :  <tf.Variable 'Variable:0' shape=(3,) dtype=float32, numpy=array([1., 1., 1.], dtype=float32)>\n",
            "step 310, training accuracy 0.5, loss 0.0785104, change in loss 1.19656e-05\n",
            "y_pred :  tf.Tensor(\n",
            "[[0.5069833  0.51329243 0.5082116 ]\n",
            " [0.51401985 0.5112498  0.5111438 ]\n",
            " [0.5137189  0.51081884 0.508798  ]\n",
            " [0.5140071  0.5150385  0.5084634 ]], shape=(4, 3), dtype=float32)\n",
            "y_true :  <tf.Variable 'Variable:0' shape=(3,) dtype=float32, numpy=array([1., 1., 1.], dtype=float32)>\n",
            "step 320, training accuracy 0.5, loss 0.0784984, change in loss 1.19656e-05\n",
            "y_pred :  tf.Tensor(\n",
            "[[0.5070156  0.51332456 0.5082441 ]\n",
            " [0.5140519  0.51128197 0.5111762 ]\n",
            " [0.51375103 0.510851   0.5088305 ]\n",
            " [0.5140393  0.51507056 0.50849587]], shape=(4, 3), dtype=float32)\n",
            "y_true :  <tf.Variable 'Variable:0' shape=(3,) dtype=float32, numpy=array([1., 1., 1.], dtype=float32)>\n",
            "step 330, training accuracy 0.5, loss 0.0784865, change in loss 1.19507e-05\n",
            "y_pred :  tf.Tensor(\n",
            "[[0.5070464  0.5133552  0.5082751 ]\n",
            " [0.5140826  0.51131266 0.5112072 ]\n",
            " [0.51378167 0.5108818  0.50886154]\n",
            " [0.5140699  0.51510125 0.5085269 ]], shape=(4, 3), dtype=float32)\n",
            "y_true :  <tf.Variable 'Variable:0' shape=(3,) dtype=float32, numpy=array([1., 1., 1.], dtype=float32)>\n",
            "step 340, training accuracy 0.5, loss 0.0784751, change in loss 1.14292e-05\n",
            "y_pred :  tf.Tensor(\n",
            "[[0.50707704 0.5133857  0.508306  ]\n",
            " [0.5141131  0.51134324 0.51123804]\n",
            " [0.5138122  0.5109123  0.50889236]\n",
            " [0.51410043 0.51513165 0.5085578 ]], shape=(4, 3), dtype=float32)\n",
            "y_true :  <tf.Variable 'Variable:0' shape=(3,) dtype=float32, numpy=array([1., 1., 1.], dtype=float32)>\n",
            "step 350, training accuracy 0.5, loss 0.0784637, change in loss 1.13621e-05\n",
            "y_pred :  tf.Tensor(\n",
            "[[0.50710773 0.51341623 0.5083369 ]\n",
            " [0.51414365 0.51137376 0.51126885]\n",
            " [0.51384276 0.5109429  0.50892323]\n",
            " [0.51413095 0.51516217 0.5085887 ]], shape=(4, 3), dtype=float32)\n",
            "y_true :  <tf.Variable 'Variable:0' shape=(3,) dtype=float32, numpy=array([1., 1., 1.], dtype=float32)>\n",
            "step 360, training accuracy 0.5, loss 0.0784523, change in loss 1.13696e-05\n",
            "y_pred :  tf.Tensor(\n",
            "[[0.50713843 0.5134467  0.5083678 ]\n",
            " [0.51417416 0.51140434 0.51129967]\n",
            " [0.5138733  0.51097345 0.5089541 ]\n",
            " [0.51416147 0.51519257 0.50861955]], shape=(4, 3), dtype=float32)\n",
            "y_true :  <tf.Variable 'Variable:0' shape=(3,) dtype=float32, numpy=array([1., 1., 1.], dtype=float32)>\n",
            "step 370, training accuracy 0.5, loss 0.078441, change in loss 1.13472e-05\n",
            "y_pred :  tf.Tensor(\n",
            "[[0.50716907 0.5134772  0.5083986 ]\n",
            " [0.5142047  0.5114348  0.5113304 ]\n",
            " [0.5139038  0.511004   0.508985  ]\n",
            " [0.514192   0.515223   0.50865036]], shape=(4, 3), dtype=float32)\n",
            "y_true :  <tf.Variable 'Variable:0' shape=(3,) dtype=float32, numpy=array([1., 1., 1.], dtype=float32)>\n",
            "step 380, training accuracy 0.5, loss 0.0784296, change in loss 1.13398e-05\n",
            "y_pred :  tf.Tensor(\n",
            "[[0.5071997  0.51350766 0.50842947]\n",
            " [0.5142352  0.5114654  0.51136124]\n",
            " [0.51393425 0.5110345  0.5090158 ]\n",
            " [0.5142225  0.5152535  0.50868124]], shape=(4, 3), dtype=float32)\n",
            "y_true :  <tf.Variable 'Variable:0' shape=(3,) dtype=float32, numpy=array([1., 1., 1.], dtype=float32)>\n",
            "step 390, training accuracy 0.5, loss 0.0784183, change in loss 1.13547e-05\n",
            "y_pred :  tf.Tensor(\n",
            "[[0.50723034 0.5135382  0.50846034]\n",
            " [0.51426566 0.5114959  0.51139206]\n",
            " [0.5139648  0.51106507 0.5090466 ]\n",
            " [0.514253   0.51528394 0.5087121 ]], shape=(4, 3), dtype=float32)\n",
            "y_true :  <tf.Variable 'Variable:0' shape=(3,) dtype=float32, numpy=array([1., 1., 1.], dtype=float32)>\n",
            "step 400, training accuracy 0.5, loss 0.0784069, change in loss 1.13398e-05\n",
            "y_pred :  tf.Tensor(\n",
            "[[0.50726104 0.51356864 0.50849116]\n",
            " [0.5142962  0.51152647 0.5114228 ]\n",
            " [0.5139953  0.5110956  0.5090775 ]\n",
            " [0.5142835  0.5153144  0.5087429 ]], shape=(4, 3), dtype=float32)\n",
            "y_true :  <tf.Variable 'Variable:0' shape=(3,) dtype=float32, numpy=array([1., 1., 1.], dtype=float32)>\n",
            "step 410, training accuracy 0.5, loss 0.0783956, change in loss 1.13547e-05\n",
            "y_pred :  tf.Tensor(\n",
            "[[0.5072917  0.51359916 0.50852203]\n",
            " [0.5143267  0.5115569  0.5114536 ]\n",
            " [0.5140258  0.5111261  0.5091083 ]\n",
            " [0.514314   0.51534486 0.50877374]], shape=(4, 3), dtype=float32)\n",
            "y_true :  <tf.Variable 'Variable:0' shape=(3,) dtype=float32, numpy=array([1., 1., 1.], dtype=float32)>\n",
            "step 420, training accuracy 0.5, loss 0.0783843, change in loss 1.13398e-05\n",
            "y_pred :  tf.Tensor(\n",
            "[[0.5073223  0.5136296  0.50855285]\n",
            " [0.51435715 0.51158744 0.5114844 ]\n",
            " [0.51405627 0.5111566  0.5091392 ]\n",
            " [0.51434445 0.51537526 0.5088046 ]], shape=(4, 3), dtype=float32)\n",
            "y_true :  <tf.Variable 'Variable:0' shape=(3,) dtype=float32, numpy=array([1., 1., 1.], dtype=float32)>\n",
            "step 430, training accuracy 0.5, loss 0.0783729, change in loss 1.13249e-05\n",
            "y_pred :  tf.Tensor(\n",
            "[[0.5073514  0.5136586  0.5085822 ]\n",
            " [0.5143861  0.51161647 0.51151365]\n",
            " [0.5140853  0.51118565 0.50916845]\n",
            " [0.5143735  0.51540416 0.50883394]], shape=(4, 3), dtype=float32)\n",
            "y_true :  <tf.Variable 'Variable:0' shape=(3,) dtype=float32, numpy=array([1., 1., 1.], dtype=float32)>\n",
            "step 440, training accuracy 0.5, loss 0.0783621, change in loss 1.07959e-05\n",
            "y_pred :  tf.Tensor(\n",
            "[[0.50738055 0.5136875  0.5086115 ]\n",
            " [0.5144151  0.51164544 0.51154286]\n",
            " [0.5141142  0.5112147  0.5091977 ]\n",
            " [0.5144024  0.5154331  0.5088632 ]], shape=(4, 3), dtype=float32)\n",
            "y_true :  <tf.Variable 'Variable:0' shape=(3,) dtype=float32, numpy=array([1., 1., 1.], dtype=float32)>\n",
            "step 450, training accuracy 0.5, loss 0.0783514, change in loss 1.07512e-05\n",
            "y_pred :  tf.Tensor(\n",
            "[[0.50740963 0.51371646 0.5086408 ]\n",
            " [0.51444405 0.51167446 0.5115721 ]\n",
            " [0.51414317 0.51124364 0.50922704]\n",
            " [0.51443136 0.515462   0.50889254]], shape=(4, 3), dtype=float32)\n",
            "y_true :  <tf.Variable 'Variable:0' shape=(3,) dtype=float32, numpy=array([1., 1., 1.], dtype=float32)>\n",
            "step 460, training accuracy 0.5, loss 0.0783406, change in loss 1.0781e-05\n",
            "y_pred :  tf.Tensor(\n",
            "[[0.5074388  0.5137454  0.5086701 ]\n",
            " [0.514473   0.51170343 0.5116014 ]\n",
            " [0.51417214 0.51127267 0.50925636]\n",
            " [0.5144603  0.5154909  0.5089218 ]], shape=(4, 3), dtype=float32)\n",
            "y_true :  <tf.Variable 'Variable:0' shape=(3,) dtype=float32, numpy=array([1., 1., 1.], dtype=float32)>\n",
            "step 470, training accuracy 0.5, loss 0.0783298, change in loss 1.07735e-05\n",
            "y_pred :  tf.Tensor(\n",
            "[[0.50746787 0.51377434 0.50869936]\n",
            " [0.514502   0.5117324  0.5116306 ]\n",
            " [0.5142011  0.51130164 0.5092856 ]\n",
            " [0.51448923 0.5155198  0.5089511 ]], shape=(4, 3), dtype=float32)\n",
            "y_true :  <tf.Variable 'Variable:0' shape=(3,) dtype=float32, numpy=array([1., 1., 1.], dtype=float32)>\n",
            "step 480, training accuracy 0.5, loss 0.0783191, change in loss 1.07661e-05\n",
            "y_pred :  tf.Tensor(\n",
            "[[0.50749695 0.5138033  0.5087287 ]\n",
            " [0.5145309  0.51176137 0.5116598 ]\n",
            " [0.5142301  0.5113306  0.5093149 ]\n",
            " [0.5145182  0.5155487  0.5089804 ]], shape=(4, 3), dtype=float32)\n",
            "y_true :  <tf.Variable 'Variable:0' shape=(3,) dtype=float32, numpy=array([1., 1., 1.], dtype=float32)>\n",
            "step 490, training accuracy 0.5, loss 0.0783083, change in loss 1.07586e-05\n",
            "y_pred :  tf.Tensor(\n",
            "[[0.507526   0.5138322  0.50875795]\n",
            " [0.51455986 0.5117904  0.51168907]\n",
            " [0.51425904 0.51135963 0.50934416]\n",
            " [0.51454717 0.51557755 0.50900966]], shape=(4, 3), dtype=float32)\n",
            "y_true :  <tf.Variable 'Variable:0' shape=(3,) dtype=float32, numpy=array([1., 1., 1.], dtype=float32)>\n",
            "step 500, training accuracy 0.5, loss 0.0782975, change in loss 1.07586e-05\n",
            "y_pred :  tf.Tensor(\n",
            "[[0.5075551  0.5138611  0.5087873 ]\n",
            " [0.51458883 0.5118193  0.5117183 ]\n",
            " [0.514288   0.5113886  0.5093734 ]\n",
            " [0.51457614 0.51560646 0.5090389 ]], shape=(4, 3), dtype=float32)\n",
            "y_true :  <tf.Variable 'Variable:0' shape=(3,) dtype=float32, numpy=array([1., 1., 1.], dtype=float32)>\n",
            "step 510, training accuracy 0.5, loss 0.0782868, change in loss 1.07586e-05\n",
            "y_pred :  tf.Tensor(\n",
            "[[0.5075842  0.5138901  0.50881654]\n",
            " [0.51461774 0.5118483  0.5117475 ]\n",
            " [0.5143169  0.51141757 0.50940275]\n",
            " [0.51460505 0.5156354  0.5090682 ]], shape=(4, 3), dtype=float32)\n",
            "y_true :  <tf.Variable 'Variable:0' shape=(3,) dtype=float32, numpy=array([1., 1., 1.], dtype=float32)>\n",
            "step 520, training accuracy 0.5, loss 0.078276, change in loss 1.07437e-05\n",
            "y_pred :  tf.Tensor(\n",
            "[[0.5076131  0.5139189  0.5088457 ]\n",
            " [0.51464653 0.5118771  0.5117766 ]\n",
            " [0.5143457  0.5114464  0.50943184]\n",
            " [0.51463383 0.5156641  0.50909734]], shape=(4, 3), dtype=float32)\n",
            "y_true :  <tf.Variable 'Variable:0' shape=(3,) dtype=float32, numpy=array([1., 1., 1.], dtype=float32)>\n",
            "step 530, training accuracy 0.5, loss 0.0782653, change in loss 1.07214e-05\n",
            "y_pred :  tf.Tensor(\n",
            "[[0.5076407  0.51394635 0.50887346]\n",
            " [0.514674   0.51190466 0.51180434]\n",
            " [0.51437324 0.5114739  0.5094596 ]\n",
            " [0.5146613  0.5156916  0.5091252 ]], shape=(4, 3), dtype=float32)\n",
            "y_true :  <tf.Variable 'Variable:0' shape=(3,) dtype=float32, numpy=array([1., 1., 1.], dtype=float32)>\n",
            "step 540, training accuracy 0.5, loss 0.0782551, change in loss 1.02073e-05\n",
            "y_pred :  tf.Tensor(\n",
            "[[0.5076684  0.51397383 0.5089013 ]\n",
            " [0.51470155 0.5119322  0.5118321 ]\n",
            " [0.5144007  0.51150143 0.50948745]\n",
            " [0.5146888  0.515719   0.509153  ]], shape=(4, 3), dtype=float32)\n",
            "y_true :  <tf.Variable 'Variable:0' shape=(3,) dtype=float32, numpy=array([1., 1., 1.], dtype=float32)>\n",
            "step 550, training accuracy 0.5, loss 0.0782449, change in loss 1.02147e-05\n",
            "y_pred :  tf.Tensor(\n",
            "[[0.50769603 0.5140013  0.5089291 ]\n",
            " [0.514729   0.5119597  0.51185983]\n",
            " [0.5144282  0.51152897 0.5095152 ]\n",
            " [0.5147163  0.5157464  0.5091808 ]], shape=(4, 3), dtype=float32)\n",
            "y_true :  <tf.Variable 'Variable:0' shape=(3,) dtype=float32, numpy=array([1., 1., 1.], dtype=float32)>\n",
            "step 560, training accuracy 0.5, loss 0.0782347, change in loss 1.02222e-05\n",
            "y_pred :  tf.Tensor(\n",
            "[[0.5077236  0.5140287  0.5089569 ]\n",
            " [0.5147565  0.5119872  0.5118876 ]\n",
            " [0.51445574 0.5115565  0.50954306]\n",
            " [0.5147438  0.5157739  0.50920856]], shape=(4, 3), dtype=float32)\n",
            "y_true :  <tf.Variable 'Variable:0' shape=(3,) dtype=float32, numpy=array([1., 1., 1.], dtype=float32)>\n",
            "step 570, training accuracy 0.5, loss 0.0782245, change in loss 1.01998e-05\n",
            "y_pred :  tf.Tensor(\n",
            "[[0.5077512  0.5140562  0.5089847 ]\n",
            " [0.514784   0.5120147  0.5119153 ]\n",
            " [0.51448315 0.51158404 0.50957084]\n",
            " [0.5147713  0.5158013  0.5092364 ]], shape=(4, 3), dtype=float32)\n",
            "y_true :  <tf.Variable 'Variable:0' shape=(3,) dtype=float32, numpy=array([1., 1., 1.], dtype=float32)>\n",
            "step 580, training accuracy 0.5, loss 0.0782143, change in loss 1.01998e-05\n",
            "y_pred :  tf.Tensor(\n",
            "[[0.5077788  0.5140837  0.5090125 ]\n",
            " [0.51481146 0.51204216 0.51194304]\n",
            " [0.5145107  0.5116115  0.5095986 ]\n",
            " [0.51479876 0.5158287  0.5092642 ]], shape=(4, 3), dtype=float32)\n",
            "y_true :  <tf.Variable 'Variable:0' shape=(3,) dtype=float32, numpy=array([1., 1., 1.], dtype=float32)>\n",
            "step 590, training accuracy 0.5, loss 0.0782041, change in loss 1.02147e-05\n",
            "y_pred :  tf.Tensor(\n",
            "[[0.5078065  0.51411116 0.50904036]\n",
            " [0.51483893 0.5120697  0.5119708 ]\n",
            " [0.51453817 0.51163906 0.50962645]\n",
            " [0.5148262  0.51585615 0.50929195]], shape=(4, 3), dtype=float32)\n",
            "y_true :  <tf.Variable 'Variable:0' shape=(3,) dtype=float32, numpy=array([1., 1., 1.], dtype=float32)>\n",
            "step 600, training accuracy 0.5, loss 0.0781939, change in loss 1.01998e-05\n",
            "y_pred :  tf.Tensor(\n",
            "[[0.50783414 0.5141386  0.50906813]\n",
            " [0.5148664  0.5120972  0.51199853]\n",
            " [0.51456565 0.51166654 0.50965416]\n",
            " [0.5148537  0.51588356 0.5093198 ]], shape=(4, 3), dtype=float32)\n",
            "y_true :  <tf.Variable 'Variable:0' shape=(3,) dtype=float32, numpy=array([1., 1., 1.], dtype=float32)>\n",
            "step 610, training accuracy 0.5, loss 0.0781837, change in loss 1.02073e-05\n",
            "y_pred :  tf.Tensor(\n",
            "[[0.50786173 0.51416606 0.5090959 ]\n",
            " [0.51489383 0.5121247  0.5120263 ]\n",
            " [0.5145931  0.5116941  0.509682  ]\n",
            " [0.5148812  0.515911   0.50934756]], shape=(4, 3), dtype=float32)\n",
            "y_true :  <tf.Variable 'Variable:0' shape=(3,) dtype=float32, numpy=array([1., 1., 1.], dtype=float32)>\n",
            "step 620, training accuracy 0.5, loss 0.0781734, change in loss 1.02073e-05\n",
            "y_pred :  tf.Tensor(\n",
            "[[0.50788903 0.51419324 0.5091234 ]\n",
            " [0.51492107 0.5121519  0.5120537 ]\n",
            " [0.5146203  0.51172125 0.5097095 ]\n",
            " [0.5149084  0.5159381  0.50937504]], shape=(4, 3), dtype=float32)\n",
            "y_true :  <tf.Variable 'Variable:0' shape=(3,) dtype=float32, numpy=array([1., 1., 1.], dtype=float32)>\n",
            "step 630, training accuracy 0.5, loss 0.0781634, change in loss 1.00881e-05\n",
            "y_pred :  tf.Tensor(\n",
            "[[0.50791526 0.51421934 0.50914985]\n",
            " [0.5149472  0.512178   0.51208013]\n",
            " [0.5146464  0.5117474  0.5097359 ]\n",
            " [0.5149345  0.51596415 0.50940144]], shape=(4, 3), dtype=float32)\n",
            "y_true :  <tf.Variable 'Variable:0' shape=(3,) dtype=float32, numpy=array([1., 1., 1.], dtype=float32)>\n",
            "step 640, training accuracy 0.5, loss 0.0781537, change in loss 9.68575e-06\n",
            "y_pred :  tf.Tensor(\n",
            "[[0.5079415  0.5142454  0.5091762 ]\n",
            " [0.5149732  0.5122042  0.5121065 ]\n",
            " [0.5146725  0.5117735  0.5097623 ]\n",
            " [0.5149605  0.51599026 0.50942785]], shape=(4, 3), dtype=float32)\n",
            "y_true :  <tf.Variable 'Variable:0' shape=(3,) dtype=float32, numpy=array([1., 1., 1.], dtype=float32)>\n",
            "step 650, training accuracy 0.5, loss 0.078144, change in loss 9.68575e-06\n",
            "y_pred :  tf.Tensor(\n",
            "[[0.5079677  0.5142715  0.5092026 ]\n",
            " [0.51499933 0.5122303  0.51213276]\n",
            " [0.51469857 0.51179963 0.50978863]\n",
            " [0.51498663 0.51601624 0.50945425]], shape=(4, 3), dtype=float32)\n",
            "y_true :  <tf.Variable 'Variable:0' shape=(3,) dtype=float32, numpy=array([1., 1., 1.], dtype=float32)>\n",
            "step 660, training accuracy 0.5, loss 0.0781343, change in loss 9.68575e-06\n",
            "y_pred :  tf.Tensor(\n",
            "[[0.5079939  0.5142975  0.509229  ]\n",
            " [0.5150254  0.5122564  0.5121591 ]\n",
            " [0.5147247  0.5118258  0.50981504]\n",
            " [0.51501274 0.5160423  0.5094806 ]], shape=(4, 3), dtype=float32)\n",
            "y_true :  <tf.Variable 'Variable:0' shape=(3,) dtype=float32, numpy=array([1., 1., 1.], dtype=float32)>\n",
            "step 670, training accuracy 0.5, loss 0.0781246, change in loss 9.6783e-06\n",
            "y_pred :  tf.Tensor(\n",
            "[[0.5080201  0.51432365 0.5092554 ]\n",
            " [0.51505154 0.5122825  0.51218545]\n",
            " [0.5147508  0.5118519  0.5098414 ]\n",
            " [0.5150388  0.51606834 0.509507  ]], shape=(4, 3), dtype=float32)\n",
            "y_true :  <tf.Variable 'Variable:0' shape=(3,) dtype=float32, numpy=array([1., 1., 1.], dtype=float32)>\n",
            "step 680, training accuracy 0.5, loss 0.0781149, change in loss 9.69321e-06\n",
            "y_pred :  tf.Tensor(\n",
            "[[0.5080463  0.5143497  0.50928175]\n",
            " [0.5150776  0.5123086  0.5122118 ]\n",
            " [0.5147768  0.511878   0.5098678 ]\n",
            " [0.51506484 0.5160944  0.5095334 ]], shape=(4, 3), dtype=float32)\n",
            "y_true :  <tf.Variable 'Variable:0' shape=(3,) dtype=float32, numpy=array([1., 1., 1.], dtype=float32)>\n",
            "step 690, training accuracy 0.5, loss 0.0781052, change in loss 9.6783e-06\n",
            "final accuracy on test set: tf.Tensor(0.5, shape=(), dtype=float32)\n"
          ],
          "name": "stdout"
        }
      ]
    },
    {
      "cell_type": "code",
      "metadata": {
        "id": "nSfPwetm2nwC",
        "colab_type": "code",
        "colab": {
          "base_uri": "https://localhost:8080/",
          "height": 339
        },
        "outputId": "90963b31-4378-4006-98c3-f1c0fb342cd1"
      },
      "source": [
        "%matplotlib inline\n",
        "import numpy as np\n",
        "import matplotlib.pyplot as plt\n",
        "plt.plot([np.mean(loss_values[i-50:i]) for i in range(len(loss_values))])\n",
        "plt.show()"
      ],
      "execution_count": 44,
      "outputs": [
        {
          "output_type": "stream",
          "text": [
            "/usr/local/lib/python3.6/dist-packages/numpy/core/fromnumeric.py:3335: RuntimeWarning: Mean of empty slice.\n",
            "  out=out, **kwargs)\n",
            "/usr/local/lib/python3.6/dist-packages/numpy/core/_methods.py:161: RuntimeWarning: invalid value encountered in double_scalars\n",
            "  ret = ret.dtype.type(ret / rcount)\n"
          ],
          "name": "stderr"
        },
        {
          "output_type": "display_data",
          "data": {
            "image/png": "[encoded data removed]",
            "text/plain": [
              "<Figure size 432x288 with 1 Axes>"
            ]
          },
          "metadata": {
            "tags": [],
            "needs_background": "light"
          }
        }
      ]
    },
    {
      "cell_type": "code",
      "metadata": {
        "id": "ROKgq9gD2nx3",
        "colab_type": "code",
        "colab": {}
      },
      "source": [
        ""
      ],
      "execution_count": null,
      "outputs": []
    },
    {
      "cell_type": "code",
      "metadata": {
        "id": "PDODtITCWtoS",
        "colab_type": "code",
        "colab": {}
      },
      "source": [
        ""
      ],
      "execution_count": null,
      "outputs": []
    },
    {
      "cell_type": "code",
      "metadata": {
        "id": "z6vw5z3MWtrU",
        "colab_type": "code",
        "colab": {}
      },
      "source": [
        ""
      ],
      "execution_count": null,
      "outputs": []
    },
    {
      "cell_type": "code",
      "metadata": {
        "id": "IuyLzydFWtty",
        "colab_type": "code",
        "colab": {}
      },
      "source": [
        ""
      ],
      "execution_count": null,
      "outputs": []
    },
    {
      "cell_type": "code",
      "metadata": {
        "id": "1iOEeNZPWtx2",
        "colab_type": "code",
        "colab": {}
      },
      "source": [
        ""
      ],
      "execution_count": null,
      "outputs": []
    },
    {
      "cell_type": "code",
      "metadata": {
        "id": "G_Y3kmmLWt0y",
        "colab_type": "code",
        "colab": {}
      },
      "source": [
        ""
      ],
      "execution_count": null,
      "outputs": []
    },
    {
      "cell_type": "code",
      "metadata": {
        "id": "oLJbBomMWtwm",
        "colab_type": "code",
        "colab": {}
      },
      "source": [
        ""
      ],
      "execution_count": null,
      "outputs": []
    },
    {
      "cell_type": "code",
      "metadata": {
        "id": "YZyQr9H-SrGg",
        "colab_type": "code",
        "colab": {}
      },
      "source": [
        ""
      ],
      "execution_count": null,
      "outputs": []
    },
    {
      "cell_type": "code",
      "metadata": {
        "id": "32KtbP9sSrJH",
        "colab_type": "code",
        "colab": {}
      },
      "source": [
        ""
      ],
      "execution_count": null,
      "outputs": []
    },
    {
      "cell_type": "code",
      "metadata": {
        "id": "PQ6INJA9QJTm",
        "colab_type": "code",
        "colab": {}
      },
      "source": [
        ""
      ],
      "execution_count": null,
      "outputs": []
    },
    {
      "cell_type": "code",
      "metadata": {
        "id": "YGNLVchDQJWA",
        "colab_type": "code",
        "colab": {}
      },
      "source": [
        ""
      ],
      "execution_count": null,
      "outputs": []
    },
    {
      "cell_type": "code",
      "metadata": {
        "id": "H7GRbMEXQJY3",
        "colab_type": "code",
        "colab": {}
      },
      "source": [
        ""
      ],
      "execution_count": null,
      "outputs": []
    },
    {
      "cell_type": "code",
      "metadata": {
        "id": "NLjUVtP5QJG7",
        "colab_type": "code",
        "colab": {}
      },
      "source": [
        ""
      ],
      "execution_count": null,
      "outputs": []
    },
    {
      "cell_type": "code",
      "metadata": {
        "id": "BB63m1vDQJFR",
        "colab_type": "code",
        "colab": {}
      },
      "source": [
        ""
      ],
      "execution_count": null,
      "outputs": []
    },
    {
      "cell_type": "code",
      "metadata": {
        "id": "X1y_9_lmP_ul",
        "colab_type": "code",
        "colab": {}
      },
      "source": [
        ""
      ],
      "execution_count": null,
      "outputs": []
    }
  ]
}