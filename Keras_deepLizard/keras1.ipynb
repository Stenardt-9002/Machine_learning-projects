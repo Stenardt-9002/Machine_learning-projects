{
  "nbformat": 4,
  "nbformat_minor": 0,
  "metadata": {
    "colab": {
      "name": "keras1.ipynb",
      "provenance": [],
      "collapsed_sections": []
    },
    "kernelspec": {
      "name": "python3",
      "display_name": "Python 3"
    },
    "accelerator": "GPU"
  },
  "cells": [
    {
      "cell_type": "code",
      "metadata": {
        "id": "WWsw-a8WbUoh",
        "colab_type": "code",
        "colab": {
          "base_uri": "https://localhost:8080/",
          "height": 129
        },
        "outputId": "be04eb8b-a5a3-481d-f7dc-987c9afd628a"
      },
      "source": [
        ""
      ],
      "execution_count": 1,
      "outputs": [
        {
          "output_type": "error",
          "ename": "SyntaxError",
          "evalue": "ignored",
          "traceback": [
            "\u001b[0;36m  File \u001b[0;32m\"<ipython-input-1-865a0015f733>\"\u001b[0;36m, line \u001b[0;32m1\u001b[0m\n\u001b[0;31m    <h4>Import DAta and process</h4>\u001b[0m\n\u001b[0m    ^\u001b[0m\n\u001b[0;31mSyntaxError\u001b[0m\u001b[0;31m:\u001b[0m invalid syntax\n"
          ]
        }
      ]
    },
    {
      "cell_type": "markdown",
      "metadata": {
        "id": "_R3oVlTo3Mfh",
        "colab_type": "text"
      },
      "source": [
        "<h4>Import Data and process</h4>\n"
      ]
    },
    {
      "cell_type": "code",
      "metadata": {
        "id": "kVeOP_Sgz6hQ",
        "colab_type": "code",
        "colab": {}
      },
      "source": [
        "import numpy as np\n",
        "from random import randint \n",
        "from sklearn.utils import shuffle \n",
        "from sklearn.preprocessing import MinMaxScaler "
      ],
      "execution_count": 2,
      "outputs": []
    },
    {
      "cell_type": "code",
      "metadata": {
        "id": "trfnGaFlz6kd",
        "colab_type": "code",
        "colab": {}
      },
      "source": [
        "train_labels = []\n",
        "train_samples = []"
      ],
      "execution_count": 3,
      "outputs": []
    },
    {
      "cell_type": "code",
      "metadata": {
        "id": "-BHi-j2_z6nR",
        "colab_type": "code",
        "colab": {}
      },
      "source": [
        "def hide(tiem1):\n",
        "  for i in range(tiem1):\n",
        "    time.sleep(2)"
      ],
      "execution_count": 19,
      "outputs": []
    },
    {
      "cell_type": "code",
      "metadata": {
        "id": "jxmz8P0j_FdL",
        "colab_type": "code",
        "colab": {}
      },
      "source": [
        "import time"
      ],
      "execution_count": 18,
      "outputs": []
    },
    {
      "cell_type": "code",
      "metadata": {
        "id": "G3fw61Jkz6qB",
        "colab_type": "code",
        "colab": {}
      },
      "source": [
        "# Data\n",
        "for i in range(50):\n",
        "  random_younger = randint(13,64)\n",
        "  train_samples.append(random_younger)\n",
        "  train_labels.append(1)\n",
        "\n",
        "  random_older = randint(65,110)\n",
        "  train_samples.append(random_older)\n",
        "  train_labels.append(0)\n",
        "  pass\n",
        "#85 percent\n",
        "for i in range(1000):\n",
        "  random_younger = randint(13,64)\n",
        "  train_samples.append(random_younger)\n",
        "  train_labels.append(1)\n",
        "\n",
        "  random_older = randint(65,110)\n",
        "  train_samples.append(random_older)\n",
        "  train_labels.append(0)\n",
        "  pass\n",
        "\n"
      ],
      "execution_count": 6,
      "outputs": []
    },
    {
      "cell_type": "code",
      "metadata": {
        "id": "XZvXnnfCz6tH",
        "colab_type": "code",
        "colab": {}
      },
      "source": [
        "train_labels = np.array(train_labels)\n",
        "train_samples = np.array(train_samples)\n",
        "train_labels,train_samples = shuffle(train_labels,train_samples)\n",
        "scaler = MinMaxScaler(feature_range=(0,1))\n",
        "scaled_train_samples = scaler.fit_transform(train_samples.reshape(-1,1))"
      ],
      "execution_count": 7,
      "outputs": []
    },
    {
      "cell_type": "code",
      "metadata": {
        "id": "5eR3hF6hz6xB",
        "colab_type": "code",
        "colab": {
          "base_uri": "https://localhost:8080/",
          "height": 136
        },
        "outputId": "51a79374-bd69-4e6f-dcf8-ee3c82417aac"
      },
      "source": [
        "print(train_samples.reshape(-1,1))"
      ],
      "execution_count": 8,
      "outputs": [
        {
          "output_type": "stream",
          "text": [
            "[[ 43]\n",
            " [ 98]\n",
            " [ 96]\n",
            " ...\n",
            " [ 21]\n",
            " [104]\n",
            " [ 24]]\n"
          ],
          "name": "stdout"
        }
      ]
    },
    {
      "cell_type": "code",
      "metadata": {
        "id": "PyMYMdtmz61q",
        "colab_type": "code",
        "colab": {
          "base_uri": "https://localhost:8080/",
          "height": 136
        },
        "outputId": "f37fddbf-8e9f-47ee-f30e-345109ad97fb"
      },
      "source": [
        "scaled_train_samples"
      ],
      "execution_count": 9,
      "outputs": [
        {
          "output_type": "execute_result",
          "data": {
            "text/plain": [
              "array([[0.30927835],\n",
              "       [0.87628866],\n",
              "       [0.8556701 ],\n",
              "       ...,\n",
              "       [0.08247423],\n",
              "       [0.93814433],\n",
              "       [0.11340206]])"
            ]
          },
          "metadata": {
            "tags": []
          },
          "execution_count": 9
        }
      ]
    },
    {
      "cell_type": "code",
      "metadata": {
        "id": "SBph-MNmbW9J",
        "colab_type": "code",
        "colab": {}
      },
      "source": [
        ""
      ],
      "execution_count": null,
      "outputs": []
    },
    {
      "cell_type": "code",
      "metadata": {
        "id": "80lfgQQ8bW_g",
        "colab_type": "code",
        "colab": {}
      },
      "source": [
        "#Model"
      ],
      "execution_count": null,
      "outputs": []
    },
    {
      "cell_type": "code",
      "metadata": {
        "id": "77WCnuxjbXCI",
        "colab_type": "code",
        "colab": {}
      },
      "source": [
        "import tensorflow as tf \n",
        "from tensorflow import keras\n",
        "from tensorflow.keras.models import Sequential \n",
        "from tensorflow.keras.layers import Activation,Dense \n",
        "from tensorflow.keras.optimizers import Adam \n",
        "from tensorflow.keras.metrics import categorical_crossentropy"
      ],
      "execution_count": 11,
      "outputs": []
    },
    {
      "cell_type": "code",
      "metadata": {
        "id": "95fvDggCbXEe",
        "colab_type": "code",
        "colab": {}
      },
      "source": [
        ""
      ],
      "execution_count": null,
      "outputs": []
    },
    {
      "cell_type": "code",
      "metadata": {
        "id": "dXBjcnOVbXG_",
        "colab_type": "code",
        "colab": {
          "base_uri": "https://localhost:8080/",
          "height": 51
        },
        "outputId": "4d0f2543-b09c-4562-defe-2678e4e4dfd5"
      },
      "source": [
        "devices_1 = tf.config.experimental.list_physical_devices('GPU')\n",
        "print(\"Num GPU's Available :\" ,len(devices_1))\n",
        "print(devices_1)\n",
        "tf.config.experimental.set_memory_growth(devices_1[0],True)"
      ],
      "execution_count": 15,
      "outputs": [
        {
          "output_type": "stream",
          "text": [
            "Num GPU's Available : 1\n",
            "[PhysicalDevice(name='/physical_device:GPU:0', device_type='GPU')]\n"
          ],
          "name": "stdout"
        }
      ]
    },
    {
      "cell_type": "code",
      "metadata": {
        "id": "HfMCL9MrbXJw",
        "colab_type": "code",
        "colab": {
          "base_uri": "https://localhost:8080/",
          "height": 34
        },
        "outputId": "49998b7f-a2d5-49c2-8756-dc373c0c689a"
      },
      "source": [
        "gpus = tf.config.experimental.list_physical_devices('GPU')\n",
        "if gpus:\n",
        "  # Restrict TensorFlow to only allocate 8GB of memory on the first GPU\n",
        "  try:\n",
        "    tf.config.experimental.set_virtual_device_configuration(\n",
        "        gpus[0],\n",
        "        [tf.config.experimental.VirtualDeviceConfiguration(memory_limit=8192)])\n",
        "    logical_gpus = tf.config.experimental.list_logical_devices('GPU')\n",
        "    print(len(gpus), \"Physical GPUs,\", len(logical_gpus), \"Logical GPUs\")\n",
        "  except RuntimeError as e:\n",
        "    # Virtual devices must be set before GPUs have been initialized\n",
        "    print(e)\n"
      ],
      "execution_count": 17,
      "outputs": [
        {
          "output_type": "stream",
          "text": [
            "1 Physical GPUs, 1 Logical GPUs\n"
          ],
          "name": "stdout"
        }
      ]
    },
    {
      "cell_type": "code",
      "metadata": {
        "id": "9ipavMv_-chT",
        "colab_type": "code",
        "colab": {}
      },
      "source": [
        ""
      ],
      "execution_count": null,
      "outputs": []
    },
    {
      "cell_type": "code",
      "metadata": {
        "id": "J1zbv7xY-cmi",
        "colab_type": "code",
        "colab": {}
      },
      "source": [
        "model = Sequential([\n",
        "                    Dense(units = 16,input_shape = (1,),activation = 'relu'),\n",
        "                    Dense(units = 32,activation = 'relu'),\n",
        "                    Dense(units = 2,activation = 'softmax'),\n",
        "] )"
      ],
      "execution_count": 20,
      "outputs": []
    },
    {
      "cell_type": "code",
      "metadata": {
        "id": "T63bvL75-cts",
        "colab_type": "code",
        "colab": {}
      },
      "source": [
        "hide(200)"
      ],
      "execution_count": 26,
      "outputs": []
    },
    {
      "cell_type": "code",
      "metadata": {
        "id": "CG7INNac-c1f",
        "colab_type": "code",
        "colab": {
          "base_uri": "https://localhost:8080/",
          "height": 255
        },
        "outputId": "c3a17efa-c75f-4361-8b1f-81a7234c0574"
      },
      "source": [
        "model.summary()"
      ],
      "execution_count": 24,
      "outputs": [
        {
          "output_type": "stream",
          "text": [
            "Model: \"sequential\"\n",
            "_________________________________________________________________\n",
            "Layer (type)                 Output Shape              Param #   \n",
            "=================================================================\n",
            "dense (Dense)                (None, 16)                32        \n",
            "_________________________________________________________________\n",
            "dense_1 (Dense)              (None, 32)                544       \n",
            "_________________________________________________________________\n",
            "dense_2 (Dense)              (None, 2)                 66        \n",
            "=================================================================\n",
            "Total params: 642\n",
            "Trainable params: 642\n",
            "Non-trainable params: 0\n",
            "_________________________________________________________________\n"
          ],
          "name": "stdout"
        }
      ]
    },
    {
      "cell_type": "code",
      "metadata": {
        "id": "YwW4-HFq-c87",
        "colab_type": "code",
        "colab": {
          "base_uri": "https://localhost:8080/",
          "height": 1000
        },
        "outputId": "e5b5c26a-496a-4b7d-8f54-9129fbf10da6"
      },
      "source": [
        "model.compile(optimizer = Adam(learning_rate = 0.0001),loss = 'sparse_categorical_crossentropy',metrics = ['accuracy'])\n",
        "model.fit(x = scaled_train_samples,y = train_labels , validation_split = 0.1,batch_size = 10,epochs = 30,shuffle = True , verbose = 2)"
      ],
      "execution_count": 25,
      "outputs": [
        {
          "output_type": "stream",
          "text": [
            "Epoch 1/30\n",
            "189/189 - 0s - loss: 0.6914 - accuracy: 0.5646 - val_loss: 0.6702 - val_accuracy: 0.6190\n",
            "Epoch 2/30\n",
            "189/189 - 0s - loss: 0.6574 - accuracy: 0.6212 - val_loss: 0.6310 - val_accuracy: 0.7143\n",
            "Epoch 3/30\n",
            "189/189 - 0s - loss: 0.6169 - accuracy: 0.7222 - val_loss: 0.5841 - val_accuracy: 0.7952\n",
            "Epoch 4/30\n",
            "189/189 - 0s - loss: 0.5712 - accuracy: 0.7884 - val_loss: 0.5362 - val_accuracy: 0.8429\n",
            "Epoch 5/30\n",
            "189/189 - 0s - loss: 0.5290 - accuracy: 0.8360 - val_loss: 0.4957 - val_accuracy: 0.8714\n",
            "Epoch 6/30\n",
            "189/189 - 0s - loss: 0.4898 - accuracy: 0.8619 - val_loss: 0.4561 - val_accuracy: 0.8857\n",
            "Epoch 7/30\n",
            "189/189 - 0s - loss: 0.4506 - accuracy: 0.8905 - val_loss: 0.4172 - val_accuracy: 0.9190\n",
            "Epoch 8/30\n",
            "189/189 - 0s - loss: 0.4121 - accuracy: 0.9079 - val_loss: 0.3799 - val_accuracy: 0.9238\n",
            "Epoch 9/30\n",
            "189/189 - 0s - loss: 0.3752 - accuracy: 0.9275 - val_loss: 0.3446 - val_accuracy: 0.9429\n",
            "Epoch 10/30\n",
            "189/189 - 0s - loss: 0.3410 - accuracy: 0.9381 - val_loss: 0.3124 - val_accuracy: 0.9476\n",
            "Epoch 11/30\n",
            "189/189 - 0s - loss: 0.3093 - accuracy: 0.9508 - val_loss: 0.2834 - val_accuracy: 0.9571\n",
            "Epoch 12/30\n",
            "189/189 - 0s - loss: 0.2807 - accuracy: 0.9571 - val_loss: 0.2570 - val_accuracy: 0.9619\n",
            "Epoch 13/30\n",
            "189/189 - 0s - loss: 0.2552 - accuracy: 0.9640 - val_loss: 0.2340 - val_accuracy: 0.9667\n",
            "Epoch 14/30\n",
            "189/189 - 0s - loss: 0.2327 - accuracy: 0.9677 - val_loss: 0.2138 - val_accuracy: 0.9905\n",
            "Epoch 15/30\n",
            "189/189 - 0s - loss: 0.2131 - accuracy: 0.9735 - val_loss: 0.1949 - val_accuracy: 0.9667\n",
            "Epoch 16/30\n",
            "189/189 - 0s - loss: 0.1958 - accuracy: 0.9741 - val_loss: 0.1801 - val_accuracy: 0.9905\n",
            "Epoch 17/30\n",
            "189/189 - 0s - loss: 0.1807 - accuracy: 0.9772 - val_loss: 0.1660 - val_accuracy: 0.9905\n",
            "Epoch 18/30\n",
            "189/189 - 0s - loss: 0.1674 - accuracy: 0.9772 - val_loss: 0.1552 - val_accuracy: 0.9952\n",
            "Epoch 19/30\n",
            "189/189 - 0s - loss: 0.1561 - accuracy: 0.9831 - val_loss: 0.1436 - val_accuracy: 0.9952\n",
            "Epoch 20/30\n",
            "189/189 - 0s - loss: 0.1460 - accuracy: 0.9825 - val_loss: 0.1345 - val_accuracy: 0.9952\n",
            "Epoch 21/30\n",
            "189/189 - 0s - loss: 0.1371 - accuracy: 0.9831 - val_loss: 0.1253 - val_accuracy: 0.9952\n",
            "Epoch 22/30\n",
            "189/189 - 0s - loss: 0.1292 - accuracy: 0.9831 - val_loss: 0.1184 - val_accuracy: 0.9952\n",
            "Epoch 23/30\n",
            "189/189 - 0s - loss: 0.1221 - accuracy: 0.9841 - val_loss: 0.1115 - val_accuracy: 0.9952\n",
            "Epoch 24/30\n",
            "189/189 - 0s - loss: 0.1159 - accuracy: 0.9852 - val_loss: 0.1055 - val_accuracy: 0.9952\n",
            "Epoch 25/30\n",
            "189/189 - 0s - loss: 0.1101 - accuracy: 0.9847 - val_loss: 0.1007 - val_accuracy: 1.0000\n",
            "Epoch 26/30\n",
            "189/189 - 0s - loss: 0.1051 - accuracy: 0.9905 - val_loss: 0.0955 - val_accuracy: 1.0000\n",
            "Epoch 27/30\n",
            "189/189 - 0s - loss: 0.1004 - accuracy: 0.9868 - val_loss: 0.0918 - val_accuracy: 1.0000\n",
            "Epoch 28/30\n",
            "189/189 - 0s - loss: 0.0963 - accuracy: 0.9905 - val_loss: 0.0873 - val_accuracy: 1.0000\n",
            "Epoch 29/30\n",
            "189/189 - 0s - loss: 0.0926 - accuracy: 0.9878 - val_loss: 0.0840 - val_accuracy: 1.0000\n",
            "Epoch 30/30\n",
            "189/189 - 0s - loss: 0.0891 - accuracy: 0.9905 - val_loss: 0.0805 - val_accuracy: 1.0000\n"
          ],
          "name": "stdout"
        },
        {
          "output_type": "execute_result",
          "data": {
            "text/plain": [
              "<tensorflow.python.keras.callbacks.History at 0x7fb150283828>"
            ]
          },
          "metadata": {
            "tags": []
          },
          "execution_count": 25
        }
      ]
    },
    {
      "cell_type": "code",
      "metadata": {
        "id": "mRm525b1-dCB",
        "colab_type": "code",
        "colab": {}
      },
      "source": [
        ""
      ],
      "execution_count": null,
      "outputs": []
    },
    {
      "cell_type": "code",
      "metadata": {
        "id": "Eq4x0saw-dKX",
        "colab_type": "code",
        "colab": {}
      },
      "source": [
        ""
      ],
      "execution_count": null,
      "outputs": []
    },
    {
      "cell_type": "code",
      "metadata": {
        "id": "ERus6luO-dUH",
        "colab_type": "code",
        "colab": {}
      },
      "source": [
        ""
      ],
      "execution_count": null,
      "outputs": []
    },
    {
      "cell_type": "code",
      "metadata": {
        "id": "VRPnn4Xr-dbz",
        "colab_type": "code",
        "colab": {}
      },
      "source": [
        ""
      ],
      "execution_count": null,
      "outputs": []
    },
    {
      "cell_type": "code",
      "metadata": {
        "id": "7WRWsx9w-dZx",
        "colab_type": "code",
        "colab": {}
      },
      "source": [
        ""
      ],
      "execution_count": null,
      "outputs": []
    },
    {
      "cell_type": "code",
      "metadata": {
        "id": "jCgRsSDJ-dXw",
        "colab_type": "code",
        "colab": {}
      },
      "source": [
        ""
      ],
      "execution_count": null,
      "outputs": []
    },
    {
      "cell_type": "code",
      "metadata": {
        "id": "zrv3NVbj-dRf",
        "colab_type": "code",
        "colab": {}
      },
      "source": [
        ""
      ],
      "execution_count": null,
      "outputs": []
    },
    {
      "cell_type": "code",
      "metadata": {
        "id": "Jr3ADnla-dPU",
        "colab_type": "code",
        "colab": {}
      },
      "source": [
        ""
      ],
      "execution_count": null,
      "outputs": []
    },
    {
      "cell_type": "code",
      "metadata": {
        "id": "atLbVGp6-dNg",
        "colab_type": "code",
        "colab": {}
      },
      "source": [
        ""
      ],
      "execution_count": null,
      "outputs": []
    },
    {
      "cell_type": "code",
      "metadata": {
        "id": "_1aqsGWC-dHB",
        "colab_type": "code",
        "colab": {}
      },
      "source": [
        ""
      ],
      "execution_count": null,
      "outputs": []
    },
    {
      "cell_type": "code",
      "metadata": {
        "id": "HcFQcb0F-dE0",
        "colab_type": "code",
        "colab": {}
      },
      "source": [
        ""
      ],
      "execution_count": null,
      "outputs": []
    },
    {
      "cell_type": "code",
      "metadata": {
        "id": "_iZaiSp8-dAO",
        "colab_type": "code",
        "colab": {}
      },
      "source": [
        ""
      ],
      "execution_count": null,
      "outputs": []
    },
    {
      "cell_type": "code",
      "metadata": {
        "id": "5Wbq_6IA-c6J",
        "colab_type": "code",
        "colab": {}
      },
      "source": [
        ""
      ],
      "execution_count": null,
      "outputs": []
    },
    {
      "cell_type": "code",
      "metadata": {
        "id": "zPw2feyU-c4l",
        "colab_type": "code",
        "colab": {}
      },
      "source": [
        ""
      ],
      "execution_count": null,
      "outputs": []
    },
    {
      "cell_type": "code",
      "metadata": {
        "id": "BQYdZI3K-cy3",
        "colab_type": "code",
        "colab": {}
      },
      "source": [
        ""
      ],
      "execution_count": null,
      "outputs": []
    },
    {
      "cell_type": "code",
      "metadata": {
        "id": "W3cxyJ6v-cxg",
        "colab_type": "code",
        "colab": {}
      },
      "source": [
        ""
      ],
      "execution_count": null,
      "outputs": []
    },
    {
      "cell_type": "code",
      "metadata": {
        "id": "_MNmaM4Z-csH",
        "colab_type": "code",
        "colab": {}
      },
      "source": [
        ""
      ],
      "execution_count": null,
      "outputs": []
    },
    {
      "cell_type": "code",
      "metadata": {
        "id": "CzXULFQn-ckb",
        "colab_type": "code",
        "colab": {}
      },
      "source": [
        ""
      ],
      "execution_count": null,
      "outputs": []
    },
    {
      "cell_type": "code",
      "metadata": {
        "id": "abSZR_GdbXMf",
        "colab_type": "code",
        "colab": {}
      },
      "source": [
        ""
      ],
      "execution_count": null,
      "outputs": []
    }
  ]
}